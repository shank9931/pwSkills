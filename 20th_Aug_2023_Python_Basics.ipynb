{
 "cells": [
  {
   "cell_type": "code",
   "execution_count": 1,
   "id": "0c953353-a0f0-4d6f-bc1a-44c17d3e3d86",
   "metadata": {},
   "outputs": [],
   "source": [
    "# Topic 1: String Based"
   ]
  },
  {
   "cell_type": "code",
   "execution_count": 4,
   "id": "b0096137-0c09-4060-acc0-4ce45a8cca19",
   "metadata": {},
   "outputs": [
    {
     "name": "stdout",
     "output_type": "stream",
     "text": [
      "write your string:  sapan\n"
     ]
    },
    {
     "name": "stdout",
     "output_type": "stream",
     "text": [
      "napas\n"
     ]
    }
   ],
   "source": [
    "# Question 1\n",
    "\n",
    "# take input string\n",
    "text = \"\"\n",
    "text = input(\"write your string: \")\n",
    "\n",
    "# reverse string\n",
    "reversed_string = text[::-1]\n",
    "\n",
    "# print the reversed string\n",
    "print(reversed_string)"
   ]
  },
  {
   "cell_type": "code",
   "execution_count": 6,
   "id": "285b7f33-b887-497f-a9d1-3abce39b15e1",
   "metadata": {},
   "outputs": [
    {
     "name": "stdout",
     "output_type": "stream",
     "text": [
      "write your string here:  malayalam\n"
     ]
    },
    {
     "name": "stdout",
     "output_type": "stream",
     "text": [
      "this is a pallindrome\n"
     ]
    }
   ],
   "source": [
    "# Question 2\n",
    "\n",
    "# take input string\n",
    "text = \"\"\n",
    "text = input(\"write your string here: \")\n",
    "\n",
    "# reverse the string\n",
    "reversed_string = text[::-1]\n",
    "\n",
    "# check for pallindrome and print the result\n",
    "if text == reversed_string:\n",
    "    print(\"this is a pallindrome\")\n",
    "else:\n",
    "    print(\"this is not a pallindrome\")"
   ]
  },
  {
   "cell_type": "code",
   "execution_count": 7,
   "id": "948bf7de-cbb1-4960-8838-51c8432de15e",
   "metadata": {},
   "outputs": [
    {
     "name": "stdout",
     "output_type": "stream",
     "text": [
      "write your string here:  sapan\n"
     ]
    },
    {
     "name": "stdout",
     "output_type": "stream",
     "text": [
      "SAPAN\n"
     ]
    }
   ],
   "source": [
    "# Question 3\n",
    "\n",
    "# take input string\n",
    "text = \"\"\n",
    "text = input(\"write your string here: \")\n",
    "\n",
    "# print the desired result\n",
    "print(text.upper())\n"
   ]
  },
  {
   "cell_type": "code",
   "execution_count": 8,
   "id": "ddbf2266-f9b2-470c-aed1-34623bb75eb9",
   "metadata": {},
   "outputs": [
    {
     "name": "stdout",
     "output_type": "stream",
     "text": [
      "write your string here:  FooBar\n"
     ]
    },
    {
     "name": "stdout",
     "output_type": "stream",
     "text": [
      "foobar\n"
     ]
    }
   ],
   "source": [
    "# Question 4\n",
    "\n",
    "# take input string\n",
    "text = \"\"\n",
    "text = input(\"write your string here: \")\n",
    "\n",
    "# print the desired result\n",
    "print(text.lower())"
   ]
  },
  {
   "cell_type": "code",
   "execution_count": 9,
   "id": "87b20a3a-c454-4132-ba25-32e30b4fe9d5",
   "metadata": {},
   "outputs": [
    {
     "name": "stdout",
     "output_type": "stream",
     "text": [
      "write your string here:  sapan is awesome\n"
     ]
    },
    {
     "name": "stdout",
     "output_type": "stream",
     "text": [
      "the number of vowels is:  7\n"
     ]
    }
   ],
   "source": [
    "# Question 5\n",
    "\n",
    "# take input string\n",
    "text = \"\"\n",
    "text = input(\"write your string here: \")\n",
    "\n",
    "# define the vowels \n",
    "vowels = \"aeiouAEIOU\"\n",
    "\n",
    "# define a counter for vowels\n",
    "vowel_counter = 0\n",
    "\n",
    "# check if the input has any vowels\n",
    "for i in text:\n",
    "    if i in vowels:\n",
    "        vowel_counter+=1\n",
    "\n",
    "# print the output\n",
    "print(\"the number of vowels is: \", vowel_counter)"
   ]
  },
  {
   "cell_type": "code",
   "execution_count": 10,
   "id": "49aeb8b5-786b-4282-8fed-a72b4238102a",
   "metadata": {},
   "outputs": [
    {
     "name": "stdout",
     "output_type": "stream",
     "text": [
      "write your string here:  sapan is awesome\n"
     ]
    },
    {
     "name": "stdout",
     "output_type": "stream",
     "text": [
      "the number of consonants is:  9\n"
     ]
    }
   ],
   "source": [
    "# Question 6\n",
    "\n",
    "# take input string\n",
    "text = \"\"\n",
    "text = input(\"write your string here: \")\n",
    "\n",
    "# define the vowels \n",
    "vowels = \"aeiouAEIOU\"\n",
    "\n",
    "# define a counter for vowels\n",
    "vowel_counter = 0\n",
    "\n",
    "# check if the input has any vowels\n",
    "for i in text:\n",
    "    if i in vowels:\n",
    "        vowel_counter+=1\n",
    "\n",
    "# print the output\n",
    "print(\"the number of consonants is: \", len(text)-vowel_counter)"
   ]
  },
  {
   "cell_type": "code",
   "execution_count": 15,
   "id": "91443146-9501-4002-92aa-280815cfb8ff",
   "metadata": {},
   "outputs": [
    {
     "name": "stdout",
     "output_type": "stream",
     "text": [
      "write your string here:   g r e e k \n"
     ]
    },
    {
     "name": "stdout",
     "output_type": "stream",
     "text": [
      "greek\n"
     ]
    }
   ],
   "source": [
    "# Question 7\n",
    "\n",
    "# take input string\n",
    "text = \"\"\n",
    "text = input(\"write your string here: \")\n",
    "\n",
    "# remove the whitespaces\n",
    "text.replace(\" \",\"\")\n",
    "\n",
    "# print the output\n",
    "print(text.replace(\" \",\"\"))"
   ]
  },
  {
   "cell_type": "code",
   "execution_count": 1,
   "id": "eafdeecf-fab8-4b91-a832-597fb19cc9be",
   "metadata": {},
   "outputs": [
    {
     "name": "stdout",
     "output_type": "stream",
     "text": [
      "write your string here:  my name is sapan\n"
     ]
    },
    {
     "name": "stdout",
     "output_type": "stream",
     "text": [
      "the length of your text is:  16\n"
     ]
    }
   ],
   "source": [
    "# Question 8\n",
    "\n",
    "# take input string\n",
    "text = \"\"\n",
    "text = input(\"write your string here: \")\n",
    "\n",
    "# find the length and print the output\n",
    "print(\"the length of your text is: \", len(text))"
   ]
  },
  {
   "cell_type": "code",
   "execution_count": 2,
   "id": "214a7776-6e85-458b-8a89-2cdabcce4c73",
   "metadata": {},
   "outputs": [
    {
     "name": "stdout",
     "output_type": "stream",
     "text": [
      "write your string here:  this random person crossing the street is very cautious of the mistakes he could end up making\n",
      "the word you want to check for:  the\n"
     ]
    },
    {
     "name": "stdout",
     "output_type": "stream",
     "text": [
      "your word has been found in the given text\n"
     ]
    }
   ],
   "source": [
    "# Question 9\n",
    "\n",
    "# take input string\n",
    "text = \"\"\n",
    "text = input(\"write your string here: \")\n",
    "\n",
    "# taking the word to check for as input\n",
    "word = \"\"\n",
    "word = input(\"the word you want to check for: \")\n",
    "\n",
    "# checking for the word \n",
    "if word in text:\n",
    "    print(\"your word has been found in the given text\")"
   ]
  },
  {
   "cell_type": "code",
   "execution_count": 3,
   "id": "f8a9368b-f318-4e7d-afbd-878d9bd332a1",
   "metadata": {},
   "outputs": [
    {
     "name": "stdout",
     "output_type": "stream",
     "text": [
      "write your string here:  my name is sapan\n",
      "which word in the given string do you want to replace:  sapan\n",
      "what is the word to replace with:  sashank\n"
     ]
    },
    {
     "name": "stdout",
     "output_type": "stream",
     "text": [
      "your new string is:  my name is sashank\n"
     ]
    }
   ],
   "source": [
    "# Question 10\n",
    "\n",
    "# take input string\n",
    "text = \"\"\n",
    "text = input(\"write your string here: \")\n",
    "\n",
    "# taking the words to replace with\n",
    "word_to_replace = \"\"\n",
    "word_to_replace_with = \"\"\n",
    "word_to_replace = input(\"which word in the given string do you want to replace: \")\n",
    "word_to_replace_with = input(\"what is the word to replace with: \")\n",
    "\n",
    "# performing the replacement\n",
    "if word_to_replace in text:\n",
    "    new_text = text.replace(word_to_replace,word_to_replace_with)\n",
    "\n",
    "# displaying the output\n",
    "print(\"your new string is: \", new_text)"
   ]
  },
  {
   "cell_type": "code",
   "execution_count": 9,
   "id": "2676304b-c747-4211-be54-d079d2e28d6a",
   "metadata": {},
   "outputs": [
    {
     "name": "stdout",
     "output_type": "stream",
     "text": [
      "write your string here:  what is your name sir?\n",
      "which word in the given string do you want to count:  madam\n"
     ]
    },
    {
     "name": "stdout",
     "output_type": "stream",
     "text": [
      "the word 'madam' is present '0' times in the given string\n"
     ]
    }
   ],
   "source": [
    "# Question 11\n",
    "\n",
    "# take input string\n",
    "text = \"\"\n",
    "text = input(\"write your string here: \")\n",
    "\n",
    "# taking the word to count as input\n",
    "word_to_count = \"\"\n",
    "word_to_count = input(\"which word in the given string do you want to count: \")\n",
    "\n",
    "# split the input string into words\n",
    "words = text.split()\n",
    "\n",
    "# initializing a counter\n",
    "counter = 0\n",
    "\n",
    "# counting the word and displaying the output\n",
    "for i in words:\n",
    "    if i == word_to_count:\n",
    "        counter+=1\n",
    "print(f\"the word '{word_to_count}' is present '{counter}' times in the given string\")\n",
    "    \n"
   ]
  },
  {
   "cell_type": "code",
   "execution_count": 12,
   "id": "fbd302cf-a9c3-47cc-b61c-78c670f54f68",
   "metadata": {},
   "outputs": [
    {
     "name": "stdout",
     "output_type": "stream",
     "text": [
      "write your string here:  what is your name son? where are you from?\n",
      "which word in the given string do you want to check:  son\n"
     ]
    },
    {
     "name": "stdout",
     "output_type": "stream",
     "text": [
      "the first occurrence of 'son' is found at 18\n"
     ]
    }
   ],
   "source": [
    "# Question 12\n",
    "\n",
    "# take input string\n",
    "text = \"\"\n",
    "text = input(\"write your string here: \")\n",
    "\n",
    "# taking the word to check as input\n",
    "word_to_check = \"\"\n",
    "word_to_check = input(\"which word in the given string do you want to check: \")\n",
    "\n",
    "# Find the first occurrence of the word\n",
    "index = text.find(word_to_check)\n",
    "\n",
    "# displaying the result\n",
    "if index != -1:\n",
    "    print(f\"the first occurrence of '{word_to_check}' is found at {index}\")\n",
    "else:\n",
    "    print(f\"the word '{word_to_check}' was not found in the given string.\")\n",
    "        "
   ]
  },
  {
   "cell_type": "code",
   "execution_count": 8,
   "id": "b6171e22",
   "metadata": {},
   "outputs": [
    {
     "name": "stdout",
     "output_type": "stream",
     "text": [
      "72\n"
     ]
    }
   ],
   "source": [
    "# question 13\n",
    "\n",
    "# defining a string\n",
    "string = \"this is a test string which we are going to perform our operation from, this\"\n",
    "\n",
    "# ask the user for the word to test for\n",
    "word = input(\"which word do you want to look for\")\n",
    "\n",
    "# finding the last index\n",
    "position = string.rfind(word)\n",
    "\n",
    "# displaying the result\n",
    "print(position)"
   ]
  },
  {
   "cell_type": "code",
   "execution_count": 9,
   "id": "3bcf7b32",
   "metadata": {},
   "outputs": [
    {
     "name": "stdout",
     "output_type": "stream",
     "text": [
      "['hello', 'my', 'name', 'is', 'sapan', 'and', 'you', 'are', 'now', 'at', 'the', 'checkpoint', 'of', 'your', 'journey', 'that', 'matters', 'the', 'most']\n"
     ]
    }
   ],
   "source": [
    "# question 14\n",
    "\n",
    "# take the user input and split it into a list\n",
    "user_input = list(input(\"enter your string here: \").split())\n",
    "\n",
    "# display the result\n",
    "print(user_input)"
   ]
  },
  {
   "cell_type": "code",
   "execution_count": 11,
   "id": "458c797b",
   "metadata": {},
   "outputs": [
    {
     "name": "stdout",
     "output_type": "stream",
     "text": [
      "hi this is your favourite programmer shank and he is here\n"
     ]
    }
   ],
   "source": [
    "# question 15\n",
    "\n",
    "# defining a list of words\n",
    "list_of_words = [\"hi\",\"this\",\"is\",\"your\",\"favourite\",\"programmer\",\"shank\",\"and\",\"he\",\"is\",\"here\"]\n",
    "\n",
    "# coverting the list into a string and displaying the result\n",
    "string = \" \".join(list_of_words)\n",
    "print(string)"
   ]
  },
  {
   "cell_type": "code",
   "execution_count": 13,
   "id": "b1631a16",
   "metadata": {},
   "outputs": [
    {
     "name": "stdout",
     "output_type": "stream",
     "text": [
      "hey_there_mr._texas!_how_do_you_do?_what_brings_you_to_this_part_of_the_country?\n"
     ]
    }
   ],
   "source": [
    "# question 16\n",
    "\n",
    "# defining a string\n",
    "a_string = \"hey there mr. texas! how do you do? what brings you to this part of the country?\"\n",
    "\n",
    "# performing the replace function\n",
    "new_string = a_string.replace(\" \",\"_\")\n",
    "\n",
    "# displaying the result\n",
    "print(new_string)"
   ]
  },
  {
   "cell_type": "code",
   "execution_count": 14,
   "id": "808b4f33",
   "metadata": {},
   "outputs": [
    {
     "name": "stdout",
     "output_type": "stream",
     "text": [
      "yes the string starts with the particular word you have given\n"
     ]
    }
   ],
   "source": [
    "# question 17\n",
    "\n",
    "# defining a string\n",
    "a_string = \"hey hi mr. yankee! howdy?\"\n",
    "\n",
    "# take user input for the word or phrase\n",
    "user_input = input(\"enter the word you want to check for: \")\n",
    "\n",
    "# checking\n",
    "pos = a_string.find(user_input)\n",
    "\n",
    "if pos == 0:\n",
    "    print(\"yes the string starts with the particular word you have given\")\n",
    "else:\n",
    "    print(\"no the string doesn't start with that particular word\")"
   ]
  },
  {
   "cell_type": "code",
   "execution_count": 16,
   "id": "9df4ebd9",
   "metadata": {},
   "outputs": [
    {
     "name": "stdout",
     "output_type": "stream",
     "text": [
      "no the string doesn't end with the word that you have given\n"
     ]
    }
   ],
   "source": [
    "# question 18\n",
    "\n",
    "# defining a string\n",
    "a_string = \"hey what is the name of your pet? do you know that they respond to it\"\n",
    "\n",
    "# ask the user for the word to check with\n",
    "user_input = input(\"what is the word you want to check for: \")\n",
    "\n",
    "# check\n",
    "if a_string.endswith(user_input):\n",
    "    print(\"yes the string ends with the particular word that you have given\")\n",
    "else:\n",
    "    print(\"no the string doesn't end with the word that you have given\")"
   ]
  },
  {
   "cell_type": "code",
   "execution_count": 17,
   "id": "e7c350b8",
   "metadata": {},
   "outputs": [
    {
     "name": "stdout",
     "output_type": "stream",
     "text": [
      "Welcome To The World Of Non Binaries\n"
     ]
    }
   ],
   "source": [
    "# question 19\n",
    "\n",
    "# defining a string\n",
    "a_string = \"welcome to the world of non binaries\"\n",
    "\n",
    "# displaying the result\n",
    "print(a_string.title())"
   ]
  },
  {
   "cell_type": "code",
   "execution_count": 20,
   "id": "a1973b9c",
   "metadata": {},
   "outputs": [
    {
     "name": "stdout",
     "output_type": "stream",
     "text": [
      "binaries\n"
     ]
    }
   ],
   "source": [
    "# question 20\n",
    "\n",
    "# defining a string\n",
    "a_string = \"welcome to the world of non binaries\"\n",
    "\n",
    "# creating a list of words from the string\n",
    "words = a_string.split()\n",
    "\n",
    "# finding the longest word\n",
    "longest_word = max(words,key=len)\n",
    "\n",
    "# displaying the outpout\n",
    "print(longest_word)"
   ]
  },
  {
   "cell_type": "code",
   "execution_count": 21,
   "id": "e8294f9f",
   "metadata": {},
   "outputs": [
    {
     "name": "stdout",
     "output_type": "stream",
     "text": [
      "to\n"
     ]
    }
   ],
   "source": [
    "# question 21\n",
    "\n",
    "# defining a string\n",
    "a_string = \"welcome to the world of non binaries\"\n",
    "\n",
    "# creating a list of words from the string\n",
    "words = a_string.split()\n",
    "\n",
    "# finding the shortest word\n",
    "longest_word = min(words,key=len)\n",
    "\n",
    "# displaying the outpout\n",
    "print(longest_word)"
   ]
  },
  {
   "cell_type": "code",
   "execution_count": 24,
   "id": "7bc0e948",
   "metadata": {},
   "outputs": [
    {
     "name": "stdout",
     "output_type": "stream",
     "text": [
      "binaries non of world the to welcome\n"
     ]
    }
   ],
   "source": [
    "# question 22\n",
    "\n",
    "# defining a string\n",
    "a_string = \"welcome to the world of non binaries\"\n",
    "\n",
    "# creating a list of words from the string\n",
    "words = a_string.split()\n",
    "\n",
    "# reverse the list of words\n",
    "words.reverse()\n",
    "\n",
    "# joining the words to make a string\n",
    "new_string = \" \".join(words)\n",
    "\n",
    "# displaying the output\n",
    "print(new_string)\n",
    "\n"
   ]
  },
  {
   "cell_type": "code",
   "execution_count": 28,
   "id": "1425f3b0",
   "metadata": {},
   "outputs": [
    {
     "name": "stdout",
     "output_type": "stream",
     "text": [
      "True\n"
     ]
    }
   ],
   "source": [
    "# question 23\n",
    "\n",
    "# define a string\n",
    "a_string = \"welcome123\"\n",
    "\n",
    "# displaying the result\n",
    "print(a_string.isalnum())"
   ]
  },
  {
   "cell_type": "code",
   "execution_count": 30,
   "id": "e7c4e56a",
   "metadata": {},
   "outputs": [
    {
     "name": "stdout",
     "output_type": "stream",
     "text": [
      "['1', '2']\n"
     ]
    }
   ],
   "source": [
    "# question 24\n",
    "\n",
    "# define a string\n",
    "a_string = \"welcome1 please2\"\n",
    "\n",
    "extracted_string = list()\n",
    "\n",
    "# extraction of numerics\n",
    "for i in a_string:\n",
    "    if i.isnumeric():\n",
    "        extracted_string.append(i)\n",
    "\n",
    "# displaying the output\n",
    "print(str(extracted_string))\n"
   ]
  },
  {
   "cell_type": "code",
   "execution_count": 31,
   "id": "e9083439",
   "metadata": {},
   "outputs": [
    {
     "name": "stdout",
     "output_type": "stream",
     "text": [
      "['w', 'e', 'l', 'c', 'o', 'm', 'e', 'p', 'l', 'e', 'a', 's', 'e']\n"
     ]
    }
   ],
   "source": [
    "# question 25\n",
    "\n",
    "# define a string\n",
    "a_string = \"welcome1 please2\"\n",
    "\n",
    "# extraction of alphabets\n",
    "alphabets = [i for i in a_string if i.isalpha()]\n",
    "\n",
    "# displaying the outputs\n",
    "print(alphabets)"
   ]
  },
  {
   "cell_type": "code",
   "execution_count": 33,
   "id": "86482c04",
   "metadata": {},
   "outputs": [
    {
     "name": "stdout",
     "output_type": "stream",
     "text": [
      "4\n"
     ]
    }
   ],
   "source": [
    "# question 26\n",
    "\n",
    "#defining a string\n",
    "s1 = \"Hello Everyone This is your host Mayanak\"\n",
    "\n",
    "# checking\n",
    "upcase_sum = sum([1 for i in s1 if i.isupper()])\n",
    "\n",
    "# display the output\n",
    "print(upcase_sum)"
   ]
  },
  {
   "cell_type": "code",
   "execution_count": 34,
   "id": "213528b7",
   "metadata": {},
   "outputs": [
    {
     "name": "stdout",
     "output_type": "stream",
     "text": [
      "30\n"
     ]
    }
   ],
   "source": [
    "# question 27\n",
    "\n",
    "#defining a string\n",
    "s1 = \"Hello Everyone This is your host Mayanak\"\n",
    "\n",
    "# checking\n",
    "lowercase_sum = sum([1 for i in s1 if i.islower()])\n",
    "\n",
    "# display the output\n",
    "print(lowercase_sum)"
   ]
  },
  {
   "cell_type": "code",
   "execution_count": 35,
   "id": "cf677724",
   "metadata": {},
   "outputs": [
    {
     "name": "stdout",
     "output_type": "stream",
     "text": [
      "hELLO eVERYONE tHIS IS YOUR HOST mAYANAK\n"
     ]
    }
   ],
   "source": [
    "# question 28\n",
    "\n",
    "#defining a string\n",
    "s1 = \"Hello Everyone This is your host Mayanak\"\n",
    "\n",
    "# swapping the case\n",
    "swapped_string = s1.swapcase()\n",
    "\n",
    "# displaying the output\n",
    "print(swapped_string)"
   ]
  },
  {
   "cell_type": "code",
   "execution_count": 37,
   "id": "2d6333fa",
   "metadata": {},
   "outputs": [
    {
     "name": "stdout",
     "output_type": "stream",
     "text": [
      "Hello everyone welcome to the world of  gen artistic expression\n"
     ]
    }
   ],
   "source": [
    "# question 29\n",
    "\n",
    "# defining a string\n",
    "s1 = \"Hello everyone welcome to the world of next gen artistic expression\"\n",
    "\n",
    "# Removing a specific word and displaying the result\n",
    "print(s1.replace(\"next\",\"\"))"
   ]
  },
  {
   "cell_type": "code",
   "execution_count": 40,
   "id": "15060278",
   "metadata": {},
   "outputs": [
    {
     "name": "stdout",
     "output_type": "stream",
     "text": [
      "False\n"
     ]
    }
   ],
   "source": [
    "# question 30\n",
    "\n",
    "def is_valid_mail(email):\n",
    "    \n",
    "    if \"@\" not in email: \n",
    "        return False\n",
    "    username, domain = email.split(\"@\")\n",
    "    if \".\" not in domain:\n",
    "        return False\n",
    "    return True\n",
    "\n",
    "email = \"test.1@gmail.com\"\n",
    "print(is_valid_mail(email))"
   ]
  },
  {
   "cell_type": "code",
   "execution_count": 41,
   "id": "591c427d",
   "metadata": {},
   "outputs": [
    {
     "name": "stdout",
     "output_type": "stream",
     "text": [
      "test2\n"
     ]
    }
   ],
   "source": [
    "# question 31\n",
    "\n",
    "def user_name_extractor(email):\n",
    "    if\"@\"not in email:\n",
    "        return \"Please enter a valid email id\"\n",
    "    username,domain = email.split(\"@\")\n",
    "\n",
    "    return username\n",
    "\n",
    "email = \"test2@yahoo.com\"\n",
    "print(user_name_extractor(email))"
   ]
  },
  {
   "cell_type": "code",
   "execution_count": 42,
   "id": "73809cb3",
   "metadata": {},
   "outputs": [
    {
     "name": "stdout",
     "output_type": "stream",
     "text": [
      "outlook.com\n"
     ]
    }
   ],
   "source": [
    "# question 32\n",
    "\n",
    "# define an email address\n",
    "email = \"test3@outlook.com\"\n",
    "\n",
    "# split at @ \n",
    "domain = email.split(\"@\")\n",
    "\n",
    "# display\n",
    "print(domain[1])\n"
   ]
  },
  {
   "cell_type": "code",
   "execution_count": 43,
   "id": "f055cd93",
   "metadata": {},
   "outputs": [
    {
     "name": "stdout",
     "output_type": "stream",
     "text": [
      "this is a test string to test the below code\n"
     ]
    }
   ],
   "source": [
    "# question 33\n",
    "\n",
    "# define a string\n",
    "s1 = \"this is a  test  string to test the below  code\"\n",
    "\n",
    "print(s1.replace(\"  \",\" \"))"
   ]
  },
  {
   "cell_type": "code",
   "execution_count": 44,
   "id": "0cdd2f87",
   "metadata": {},
   "outputs": [
    {
     "name": "stdout",
     "output_type": "stream",
     "text": [
      "True\n"
     ]
    }
   ],
   "source": [
    "# question 34\n",
    "\n",
    "def url_verifier (url):\n",
    "    if \"www.\" in url and url.startswith((\"http://\",\"https://\")):\n",
    "        return True\n",
    "    return False\n",
    "\n",
    "url = \"https://www.facebook.com\"\n",
    "print(url_verifier(url))"
   ]
  },
  {
   "cell_type": "code",
   "execution_count": 46,
   "id": "ecf89931",
   "metadata": {},
   "outputs": [
    {
     "name": "stdout",
     "output_type": "stream",
     "text": [
      "https\n"
     ]
    }
   ],
   "source": [
    "# question 35\n",
    "\n",
    "# defining a url\n",
    "url = \"https://www.tadbook.com\"\n",
    "\n",
    "# split\n",
    "protocol, domain = url.split(\"://\")\n",
    "\n",
    "print(protocol)\n"
   ]
  },
  {
   "cell_type": "code",
   "execution_count": 47,
   "id": "b1ab1e33",
   "metadata": {},
   "outputs": [
    {
     "name": "stdout",
     "output_type": "stream",
     "text": [
      "{'w': 2, 'h': 4, 'e': 4, 'r': 4, ' ': 8, 'i': 2, 's': 1, 't': 5, 'p': 1, 'a': 2, 'y': 1, 'o': 3, 'n': 2, 'g': 1, '?': 1, 'A': 1, 'l': 3, 'u': 1, 'd': 2, '!': 1}\n"
     ]
    }
   ],
   "source": [
    "# question 36\n",
    "\n",
    "def char_frequency (st1):\n",
    "    dict = {}\n",
    "    for i in st1:\n",
    "        keys= dict.keys()\n",
    "        if i in keys:\n",
    "            dict[i] +=1\n",
    "        else:\n",
    "            dict[i] = 1\n",
    "    return dict\n",
    "\n",
    "print(char_frequency(\"where is the party tonight? All around the world!\"))"
   ]
  },
  {
   "cell_type": "code",
   "execution_count": 53,
   "id": "d534bfb8",
   "metadata": {},
   "outputs": [
    {
     "name": "stdout",
     "output_type": "stream",
     "text": [
      "Hey Mr Sapan Where are you going To the moon\n"
     ]
    }
   ],
   "source": [
    "# question 37\n",
    "\n",
    "# define a string\n",
    "s1 = \"Hey! Mr. Sapan. Where are you going? To the moon?!\"\n",
    "\n",
    "# removing punctuations\n",
    "s2 = \"\".join(i for i in s1 if i.isalnum() or i.isspace())\n",
    "\n",
    "print(s2)\n"
   ]
  },
  {
   "cell_type": "code",
   "execution_count": 55,
   "id": "0e554bce",
   "metadata": {},
   "outputs": [
    {
     "name": "stdout",
     "output_type": "stream",
     "text": [
      "the string doesn't contain only digits\n"
     ]
    }
   ],
   "source": [
    "# question 38\n",
    "\n",
    "# define a string\n",
    "s1 = \"str123sejsdkjoi64535\"\n",
    "\n",
    "# check\n",
    "if all (\"0\"<= i<=\"9\" for i in s1):\n",
    "    print(\"the string contains only digits\")\n",
    "else:\n",
    "    print(\"the string doesn't contain only digits\")"
   ]
  },
  {
   "cell_type": "code",
   "execution_count": 56,
   "id": "38e11a3b",
   "metadata": {},
   "outputs": [
    {
     "name": "stdout",
     "output_type": "stream",
     "text": [
      "the string doesn't contain only alphabets\n"
     ]
    }
   ],
   "source": [
    "# question 39\n",
    "\n",
    "# define a string\n",
    "s1 = \"str123sejsdkjoi64535\"\n",
    "\n",
    "# check\n",
    "if all (\"a\"<= i<=\"z\" for i in s1):\n",
    "    print(\"the string contains only alphabets\")\n",
    "else:\n",
    "    print(\"the string doesn't contain only alphabets\")"
   ]
  },
  {
   "cell_type": "code",
   "execution_count": 57,
   "id": "58df6320",
   "metadata": {},
   "outputs": [
    {
     "name": "stdout",
     "output_type": "stream",
     "text": [
      "['s', 't', 'r', '1', '2', '3', 's', 'e', 'j', 's', 'd', 'k', 'j', 'o', 'i', '6', '4', '5', '3', '5']\n"
     ]
    }
   ],
   "source": [
    "# question 40\n",
    "\n",
    "# define a string\n",
    "s1 = \"str123sejsdkjoi64535\"\n",
    "\n",
    "# convert\n",
    "list = [i for i in s1]\n",
    "print(list)"
   ]
  },
  {
   "cell_type": "code",
   "execution_count": 62,
   "id": "c7c01320",
   "metadata": {},
   "outputs": [
    {
     "name": "stdout",
     "output_type": "stream",
     "text": [
      "both are anagrams\n"
     ]
    }
   ],
   "source": [
    "# question 41\n",
    "\n",
    "# ask user input\n",
    "s1 = input(\"give me your first string: \")\n",
    "s2 = input(\"give me your second string: \")\n",
    "\n",
    "# check\n",
    "if sorted(s1) == sorted(s2):\n",
    "    print(\"both are anagrams\")\n",
    "else:\n",
    "    print(\"both are not anagrams\")"
   ]
  },
  {
   "cell_type": "code",
   "execution_count": 63,
   "id": "881b33e5",
   "metadata": {},
   "outputs": [
    {
     "name": "stdout",
     "output_type": "stream",
     "text": [
      "PSVHMWKVIEX\n"
     ]
    }
   ],
   "source": [
    "# question 42\n",
    "\n",
    "def caesar_cipher(text, shift):\n",
    "    result = \"\"\n",
    "\n",
    "    # traverse text\n",
    "    for i in range(len(text)):\n",
    "        char = text[i]\n",
    "\n",
    "        # Encrypt uppercase characters\n",
    "        if (char.isupper()):\n",
    "            result += chr((ord(char) + shift - 65) % 26 + 65)\n",
    "\n",
    "        # Encrypt lowercase characters\n",
    "        else:\n",
    "            result += chr((ord(char) + shift - 97) % 26 + 97)\n",
    "\n",
    "    return result\n",
    "\n",
    "# check the above function\n",
    "print(caesar_cipher(\"LORDISGREAT\", 4))"
   ]
  },
  {
   "cell_type": "code",
   "execution_count": 64,
   "id": "070791b5",
   "metadata": {},
   "outputs": [
    {
     "name": "stdout",
     "output_type": "stream",
     "text": [
      "MHEOLBKTBH\n"
     ]
    }
   ],
   "source": [
    "# question 43\n",
    "\n",
    "def caesar_decipher(text, shift):\n",
    "    result = \"\"\n",
    "\n",
    "    # traverse text\n",
    "    for i in range(len(text)):\n",
    "        char = text[i]\n",
    "\n",
    "        # Decrypt uppercase characters\n",
    "        if (char.isupper()):\n",
    "            result += chr((ord(char) - shift - 65) % 26 + 65)\n",
    "\n",
    "        # Decrypt lowercase characters\n",
    "        else:\n",
    "            result += chr((ord(char) - shift - 97) % 26 + 97)\n",
    "\n",
    "    return result\n",
    "\n",
    "# check the above function\n",
    "print(caesar_decipher(\"PKHROENWEK\", 3))"
   ]
  },
  {
   "cell_type": "code",
   "execution_count": 79,
   "id": "8fa78168",
   "metadata": {},
   "outputs": [
    {
     "name": "stdout",
     "output_type": "stream",
     "text": [
      "the max frequent char:  ('a', 7)\n"
     ]
    }
   ],
   "source": [
    "# question 44\n",
    "\n",
    "# define a string\n",
    "s1 = \"whataksjklasjtujoigkanjgklafgja;gasdfs\"\n",
    "s2 = {}\n",
    "\n",
    "# splitting the individual chars into key and their frequenices to values\n",
    "for i in s1:\n",
    "    keys=s2.keys()\n",
    "    if i in keys:\n",
    "        s2[i] +=1\n",
    "    else:\n",
    "        s2[i] = 1\n",
    "\n",
    "sorted_s2 = sorted(s2.items(),key=lambda x:x[1],reverse=True)\n",
    "\n",
    "print(\"the max frequent char: \",sorted_s2[0])\n",
    "        "
   ]
  },
  {
   "cell_type": "code",
   "execution_count": 83,
   "id": "34e5f8ea",
   "metadata": {},
   "outputs": [
    {
     "name": "stdout",
     "output_type": "stream",
     "text": [
      "{'name', 'ramesh', 'is', 'and', 'am', 'i', 'mathmatician.', 'very', 'a', 'my', 'carpenter', 'good'}\n"
     ]
    }
   ],
   "source": [
    "# question 45\n",
    "\n",
    "# define a string\n",
    "s1 = \"my name is ramesh and i am a very good carpenter and a very good mathmatician.\"\n",
    "\n",
    "chars = s1.split()\n",
    "unique_words = set(chars)\n",
    "\n",
    "print(unique_words)"
   ]
  },
  {
   "cell_type": "code",
   "execution_count": 84,
   "id": "863abad6",
   "metadata": {},
   "outputs": [
    {
     "name": "stdout",
     "output_type": "stream",
     "text": [
      "3\n"
     ]
    }
   ],
   "source": [
    "# question 46\n",
    "\n",
    "def count_syllables(text):\n",
    "    count = 0\n",
    "    vowels = \"aeiouy\"\n",
    "    text = text.lower().strip(\".:;?!\")\n",
    "    if text[0] in vowels:\n",
    "        count +=1\n",
    "    for index in range(1,len(text)):\n",
    "        if text[index] in vowels and text[index-1] not in vowels:\n",
    "            count +=1\n",
    "    if text.endswith('e'):\n",
    "        count -= 1\n",
    "    if text.endswith('le'):\n",
    "        count+=1\n",
    "    if count == 0:\n",
    "        count +=1\n",
    "    return count\n",
    "\n",
    "print(count_syllables(\"hello world\"))"
   ]
  },
  {
   "cell_type": "code",
   "execution_count": 87,
   "id": "c7b4d59e",
   "metadata": {},
   "outputs": [
    {
     "name": "stdout",
     "output_type": "stream",
     "text": [
      "the string has special characters\n"
     ]
    }
   ],
   "source": [
    "# question 47\n",
    "\n",
    "s1 = \"klsadjfauiou34^&*\"\n",
    "\n",
    "special_char = \"!@#$%^&*()_+=-{}[]|:\"\n",
    "\n",
    "for i in special_char:\n",
    "    if i in s1:\n",
    "        print(\"the string has special characters\")\n",
    "        break"
   ]
  },
  {
   "cell_type": "code",
   "execution_count": 91,
   "id": "d8214271",
   "metadata": {},
   "outputs": [
    {
     "name": "stdout",
     "output_type": "stream",
     "text": [
      "Hello world, I am AI\n"
     ]
    }
   ],
   "source": [
    "# question 48\n",
    "\n",
    "def remove_nth_word(text, n):\n",
    "    words = text.split()\n",
    "    if n > 0 and n <= len(words):\n",
    "        del words[n-1]\n",
    "    return ' '.join(words)\n",
    "\n",
    "print(remove_nth_word(\"Hello world, I am an AI\", 5))"
   ]
  },
  {
   "cell_type": "code",
   "execution_count": 95,
   "id": "ad5be0b1",
   "metadata": {},
   "outputs": [
    {
     "name": "stdout",
     "output_type": "stream",
     "text": [
      "awesome Hello world, I am an AI\n"
     ]
    }
   ],
   "source": [
    "# question 49\n",
    "\n",
    "def insert_nth_word(text, n, word):\n",
    "    words = text.split()\n",
    "    if n > 0 and n <= len(words) + 1:\n",
    "        words.insert(n-1, word)\n",
    "    return ' '.join(words)\n",
    "\n",
    "print(insert_nth_word(\"Hello world, I am an AI\", 1, \"awesome\"))"
   ]
  },
  {
   "cell_type": "code",
   "execution_count": 98,
   "id": "0e3733cc",
   "metadata": {},
   "outputs": [
    {
     "name": "stdout",
     "output_type": "stream",
     "text": [
      "[['name', 'age'], ['Alice', '20'], ['Bob', '25']]\n"
     ]
    }
   ],
   "source": [
    "# question 50\n",
    "\n",
    "def csv_to_list(csv_string):\n",
    "    \n",
    "    lines = csv_string.split('\\n')\n",
    "   \n",
    "    data = [i.split(',') for i in lines]\n",
    "    return data\n",
    "\n",
    "csv_string = \"name,age\\nAlice,20\\nBob,25\"\n",
    "print(csv_to_list(csv_string))"
   ]
  },
  {
   "cell_type": "code",
   "execution_count": null,
   "id": "dd4e4326-f530-4ce4-afeb-15ee84edeebb",
   "metadata": {},
   "outputs": [],
   "source": [
    "# Topic 2: List Based"
   ]
  },
  {
   "cell_type": "code",
   "execution_count": 20,
   "id": "c5343c84-ea57-4927-bd2a-9b7f3d95aeed",
   "metadata": {},
   "outputs": [
    {
     "name": "stdout",
     "output_type": "stream",
     "text": [
      "[1, 2, 3, 4, 5, 6, 7, 8, 9, 10]\n"
     ]
    }
   ],
   "source": [
    "# Question 1\n",
    "\n",
    "my_list = [1,2,3,4,5,6,7,8,9,10]\n",
    "print(my_list)\n"
   ]
  },
  {
   "cell_type": "code",
   "execution_count": 21,
   "id": "81428ba0-4450-4695-9412-20ea25b9bfcb",
   "metadata": {},
   "outputs": [
    {
     "name": "stdout",
     "output_type": "stream",
     "text": [
      "the length of the list is:  10\n"
     ]
    }
   ],
   "source": [
    "# Question 2\n",
    "\n",
    "my_list = [1,2,3,4,5,6,7,8,9,10]\n",
    "\n",
    "# initialize a counter:\n",
    "length = 0\n",
    "\n",
    "# counting the elements\n",
    "for i in my_list:\n",
    "    length += 1\n",
    "\n",
    "# displaying the result\n",
    "print(\"the length of the list is: \", length)\n"
   ]
  },
  {
   "cell_type": "code",
   "execution_count": 1,
   "id": "5bed5dca",
   "metadata": {},
   "outputs": [
    {
     "name": "stdout",
     "output_type": "stream",
     "text": [
      "[1, 2, 3, 4, 5, 6, 7, 8, 9, 10, 94]\n"
     ]
    }
   ],
   "source": [
    "# question 3\n",
    "my_list = [1,2,3,4,5,6,7,8,9,10]\n",
    "\n",
    "my_list.append(94)\n",
    "\n",
    "print(my_list)"
   ]
  },
  {
   "cell_type": "code",
   "execution_count": 3,
   "id": "02d75da6",
   "metadata": {},
   "outputs": [
    {
     "name": "stdout",
     "output_type": "stream",
     "text": [
      "[1, 2, 3, 45, 4, 5, 6, 7, 8, 9, 10]\n"
     ]
    }
   ],
   "source": [
    "# question 4\n",
    "\n",
    "my_list = [1,2,3,4,5,6,7,8,9,10]\n",
    "\n",
    "my_list.insert(3,45)\n",
    "\n",
    "print(my_list)"
   ]
  },
  {
   "cell_type": "code",
   "execution_count": 4,
   "id": "b1db2677",
   "metadata": {},
   "outputs": [
    {
     "name": "stdout",
     "output_type": "stream",
     "text": [
      "[1, 2, 3, 4, 5, 6, 7, 8, 10]\n"
     ]
    }
   ],
   "source": [
    "# question 5\n",
    "\n",
    "my_list = [1,2,3,4,5,6,7,8,9,10]\n",
    "\n",
    "my_list.remove(9)\n",
    "\n",
    "print(my_list)\n"
   ]
  },
  {
   "cell_type": "code",
   "execution_count": 1,
   "id": "2879edba",
   "metadata": {},
   "outputs": [
    {
     "name": "stdout",
     "output_type": "stream",
     "text": [
      "[1, 2, 3, 4, 5, 6, 8, 9, 10]\n"
     ]
    }
   ],
   "source": [
    "# question 6\n",
    "\n",
    "my_list = [1,2,3,4,5,6,7,8,9,10]\n",
    "\n",
    "my_list.pop(6)\n",
    "\n",
    "print(my_list)"
   ]
  },
  {
   "cell_type": "code",
   "execution_count": 4,
   "id": "ee19bf7b",
   "metadata": {},
   "outputs": [
    {
     "name": "stdout",
     "output_type": "stream",
     "text": [
      "True\n"
     ]
    }
   ],
   "source": [
    "# question 7\n",
    "\n",
    "my_list = [1,2,3,4,5,6,7,8,9,10]\n",
    "\n",
    "if 3 in my_list:\n",
    "    print(\"True\")\n",
    "else:\n",
    "    print(\"False\")"
   ]
  },
  {
   "cell_type": "code",
   "execution_count": 145,
   "id": "50664851",
   "metadata": {},
   "outputs": [
    {
     "name": "stdout",
     "output_type": "stream",
     "text": [
      "1\n"
     ]
    }
   ],
   "source": [
    "# question 8\n",
    "my_list = [35,52,48,17,45,32,35,100,956]\n",
    "print(my_list.index(52))\n"
   ]
  },
  {
   "cell_type": "code",
   "execution_count": 144,
   "id": "b058e983",
   "metadata": {},
   "outputs": [
    {
     "name": "stdout",
     "output_type": "stream",
     "text": [
      "2\n"
     ]
    }
   ],
   "source": [
    "# question 9\n",
    "my_list = [35,52,48,17,45,32,35,100,956]\n",
    "print(my_list.count(35))\n",
    "\n"
   ]
  },
  {
   "cell_type": "code",
   "execution_count": 142,
   "id": "301bf5b7",
   "metadata": {},
   "outputs": [
    {
     "name": "stdout",
     "output_type": "stream",
     "text": [
      "[956, 100, 3, 32, 45, 17, 48, 52, 35]\n"
     ]
    }
   ],
   "source": [
    "# question 10\n",
    "my_list = [35,52,48,17,45,32,3,100,956]\n",
    "my_list.reverse()\n",
    "print(my_list)"
   ]
  },
  {
   "cell_type": "code",
   "execution_count": 141,
   "id": "cd8d39f9",
   "metadata": {},
   "outputs": [
    {
     "name": "stdout",
     "output_type": "stream",
     "text": [
      "[3, 17, 32, 35, 45, 48, 52, 100, 956]\n"
     ]
    }
   ],
   "source": [
    "# question 11\n",
    "my_list = [35,52,48,17,45,32,3,100,956]\n",
    "my_list.sort()\n",
    "print(my_list)"
   ]
  },
  {
   "cell_type": "code",
   "execution_count": 140,
   "id": "c93dabf4",
   "metadata": {},
   "outputs": [
    {
     "name": "stdout",
     "output_type": "stream",
     "text": [
      "[956, 100, 52, 48, 45, 35, 32, 17, 3]\n"
     ]
    }
   ],
   "source": [
    "# question 12\n",
    "my_list = [35,52,48,17,45,32,3,100,956]\n",
    "my_list.sort(reverse=True)\n",
    "print(my_list)"
   ]
  },
  {
   "cell_type": "code",
   "execution_count": 138,
   "id": "48d14879",
   "metadata": {},
   "outputs": [
    {
     "name": "stdout",
     "output_type": "stream",
     "text": [
      "[2, 4, 6, 8, 10, 12, 14, 16, 18]\n"
     ]
    }
   ],
   "source": [
    "# question 13\n",
    "list1 = [i for i in range(1,20) if i%2==0]\n",
    "print(list1)"
   ]
  },
  {
   "cell_type": "code",
   "execution_count": 137,
   "id": "363ffaf1",
   "metadata": {},
   "outputs": [
    {
     "name": "stdout",
     "output_type": "stream",
     "text": [
      "[1, 3, 5, 7, 9, 11, 13, 15, 17, 19]\n"
     ]
    }
   ],
   "source": [
    "# question 14\n",
    "\n",
    "list1 = [i for i in range(1,20) if i%2!=0]\n",
    "print(list1)"
   ]
  },
  {
   "cell_type": "code",
   "execution_count": 134,
   "id": "9613506b",
   "metadata": {},
   "outputs": [
    {
     "name": "stdout",
     "output_type": "stream",
     "text": [
      "1288\n"
     ]
    }
   ],
   "source": [
    "# question 15\n",
    "\n",
    "my_list = [35,52,48,17,45,32,3,100,956]\n",
    "print(sum(my_list))"
   ]
  },
  {
   "cell_type": "code",
   "execution_count": 133,
   "id": "6f56efa9",
   "metadata": {},
   "outputs": [
    {
     "name": "stdout",
     "output_type": "stream",
     "text": [
      "956\n"
     ]
    }
   ],
   "source": [
    "# question 16\n",
    "my_list = [35,52,48,17,45,32,3,100,956]\n",
    "print(max(my_list))"
   ]
  },
  {
   "cell_type": "code",
   "execution_count": 132,
   "id": "e69dbd51",
   "metadata": {},
   "outputs": [
    {
     "name": "stdout",
     "output_type": "stream",
     "text": [
      "3\n"
     ]
    }
   ],
   "source": [
    "# question 17\n",
    "my_list = [35,52,48,17,45,32,3,100,956]\n",
    "print(min(my_list))"
   ]
  },
  {
   "cell_type": "code",
   "execution_count": 130,
   "id": "812cbadf",
   "metadata": {},
   "outputs": [
    {
     "name": "stdout",
     "output_type": "stream",
     "text": [
      "[1, 4, 9, 16, 25, 36, 49, 64, 81]\n"
     ]
    }
   ],
   "source": [
    "# question 18\n",
    "\n",
    "list1 = [i**2 for i in range(1,10)]\n",
    "print(list1)"
   ]
  },
  {
   "cell_type": "code",
   "execution_count": 128,
   "id": "d76d982a",
   "metadata": {},
   "outputs": [
    {
     "name": "stdout",
     "output_type": "stream",
     "text": [
      "[79, 98, 24, 5, 73, 75, 50, 67, 52, 69]\n"
     ]
    }
   ],
   "source": [
    "# question 19\n",
    "\n",
    "import random\n",
    "\n",
    "list1 = [random.randint(1,100) for i in range(10)]\n",
    "\n",
    "print(list1)"
   ]
  },
  {
   "cell_type": "code",
   "execution_count": 125,
   "id": "ffe2f0ca",
   "metadata": {},
   "outputs": [
    {
     "name": "stdout",
     "output_type": "stream",
     "text": [
      "[1, 2, 3, 4, 5, 6, 7]\n"
     ]
    }
   ],
   "source": [
    "# question 20\n",
    "\n",
    "# defining a list\n",
    "dup_list = [1, 2, 2, 3, 4, 4, 5, 6, 6, 7]\n",
    "\n",
    "# creating an empty list\n",
    "list1 = []\n",
    "\n",
    "for i in dup_list:\n",
    "    if i not in list1:\n",
    "        list1.append(i)\n",
    "\n",
    "print(list1)"
   ]
  },
  {
   "cell_type": "code",
   "execution_count": 123,
   "id": "1b1564c7",
   "metadata": {},
   "outputs": [
    {
     "name": "stdout",
     "output_type": "stream",
     "text": [
      "[2, 4, 5]\n"
     ]
    }
   ],
   "source": [
    "# question 21\n",
    "\n",
    "list1 = [1,2,4,5,6]\n",
    "list2 = [2,4,3,7,5]\n",
    "\n",
    "list3 = [i for i in list1 if i in list2]\n",
    "print(list3)"
   ]
  },
  {
   "cell_type": "code",
   "execution_count": 122,
   "id": "ffc716ae",
   "metadata": {},
   "outputs": [
    {
     "name": "stdout",
     "output_type": "stream",
     "text": [
      "[1, 6]\n"
     ]
    }
   ],
   "source": [
    "# question 22\n",
    "\n",
    "list1 = [1,2,4,5,6]\n",
    "list2 = [2,4,3,7,5]\n",
    "\n",
    "list3 = [i for i in list1 if i not in list2]\n",
    "print(list3)"
   ]
  },
  {
   "cell_type": "code",
   "execution_count": 120,
   "id": "2581ffb1",
   "metadata": {},
   "outputs": [
    {
     "name": "stdout",
     "output_type": "stream",
     "text": [
      "[1, 2, 3, 4, 5, 6, 'a', 'b', 'c', 'd', 'e']\n"
     ]
    }
   ],
   "source": [
    "# question 23\n",
    "\n",
    "list1 = [1,2,3,4,5,6]\n",
    "list2 = [\"a\",\"b\",\"c\",\"d\",\"e\"]\n",
    "\n",
    "list3 = [i for i in list1]+[i for i in list2]\n",
    "print(list3)"
   ]
  },
  {
   "cell_type": "code",
   "execution_count": 118,
   "id": "5d1e3205",
   "metadata": {},
   "outputs": [
    {
     "name": "stdout",
     "output_type": "stream",
     "text": [
      "[2, 4, 6, 8, 10, 12, 14, 16, 18]\n"
     ]
    }
   ],
   "source": [
    "# question 24\n",
    "list1 = [1,2,3,4,5,6,7,8,9]\n",
    "\n",
    "list2 = [i*2 for i in list1]\n",
    "print(list2)\n"
   ]
  },
  {
   "cell_type": "code",
   "execution_count": 117,
   "id": "cb144557",
   "metadata": {},
   "outputs": [
    {
     "name": "stdout",
     "output_type": "stream",
     "text": [
      "[2, 4, 6, 8]\n"
     ]
    }
   ],
   "source": [
    "# question 25\n",
    "\n",
    "list1 = [1,2,3,4,5,6,7,8,9]\n",
    "\n",
    "list2 = [i for i in list1 if i%2==0]\n",
    "print(list2)\n"
   ]
  },
  {
   "cell_type": "code",
   "execution_count": 116,
   "id": "bfd98705",
   "metadata": {},
   "outputs": [
    {
     "name": "stdout",
     "output_type": "stream",
     "text": [
      "[1, 2, 3, 4, 5, 6, 7]\n"
     ]
    }
   ],
   "source": [
    "# question 26\n",
    "\n",
    "list1 = [\"1\",\"2\",\"3\",\"4\",\"5\",\"6\",\"7\"]\n",
    "\n",
    "list2 = [int(i) for i in list1]\n",
    "print(list2)"
   ]
  },
  {
   "cell_type": "code",
   "execution_count": 115,
   "id": "6262e9c9",
   "metadata": {},
   "outputs": [
    {
     "name": "stdout",
     "output_type": "stream",
     "text": [
      "['1', '2', '3', '4', '5', '6', '7', '8', '9']\n"
     ]
    }
   ],
   "source": [
    "# question 27\n",
    "\n",
    "list1 = [1,2,3,4,5,6,7,8,9]\n",
    "\n",
    "list2 = [str(i) for i in list1]\n",
    "\n",
    "print(list2)"
   ]
  },
  {
   "cell_type": "code",
   "execution_count": 106,
   "id": "4e175336",
   "metadata": {},
   "outputs": [
    {
     "name": "stdout",
     "output_type": "stream",
     "text": [
      "[1, 2, 3, 4, 5, 6, 7, 8, 9]\n"
     ]
    }
   ],
   "source": [
    "# question 28\n",
    "\n",
    "nested_list = [[1, 2, 3], [4, 5], [6], [7, 8, 9]]\n",
    "\n",
    "flat_list = [item for sublist in nested_list for item in sublist]\n",
    "\n",
    "print(flat_list)"
   ]
  },
  {
   "cell_type": "code",
   "execution_count": 104,
   "id": "d523c422",
   "metadata": {},
   "outputs": [
    {
     "name": "stdout",
     "output_type": "stream",
     "text": [
      "the first 10 fibonacci numbers are:  [0, 1, 1, 2, 3, 5, 8, 13, 21, 34]\n"
     ]
    }
   ],
   "source": [
    "# question 29\n",
    "\n",
    "def fibonacciNum(n):\n",
    "    fib_nums = [0,1]\n",
    "    while len(fib_nums)<n:\n",
    "        fib_nums.append(fib_nums[-1]+fib_nums[-2])\n",
    "    return fib_nums\n",
    "\n",
    "print(f\"the first 10 fibonacci numbers are: \",fibonacciNum(10))"
   ]
  },
  {
   "cell_type": "code",
   "execution_count": 103,
   "id": "72a03b5d",
   "metadata": {},
   "outputs": [
    {
     "name": "stdout",
     "output_type": "stream",
     "text": [
      "the list is sorted\n"
     ]
    }
   ],
   "source": [
    "# question 30\n",
    "\n",
    "list1 = [1,2,3,5,10,11,44,458,5645647]\n",
    "\n",
    "if sorted(list1) == list1:\n",
    "    print(\"the list is sorted\")\n",
    "else:\n",
    "    print(\"the list is not sorted\")"
   ]
  },
  {
   "cell_type": "code",
   "execution_count": 111,
   "id": "4f31b43d",
   "metadata": {},
   "outputs": [
    {
     "name": "stdout",
     "output_type": "stream",
     "text": [
      "[4, 5, 6, 7, 8, 1, 2, 3]\n"
     ]
    }
   ],
   "source": [
    "# question 31\n",
    "\n",
    "def rotateLeft(n,list1):\n",
    "    return list1[n:]+list1[:n]\n",
    "\n",
    "print(rotateLeft(3,[1,2,3,4,5,6,7,8]))"
   ]
  },
  {
   "cell_type": "code",
   "execution_count": 110,
   "id": "35aa3a1e",
   "metadata": {},
   "outputs": [
    {
     "name": "stdout",
     "output_type": "stream",
     "text": [
      "[4, 5, 1, 2, 3]\n"
     ]
    }
   ],
   "source": [
    "# question 32\n",
    "\n",
    "def rotateRight(n,list1):\n",
    "    return list1[-n:]+list1[:-n]\n",
    "\n",
    "print(rotateRight(2,[1,2,3,4,5]))"
   ]
  },
  {
   "cell_type": "code",
   "execution_count": 99,
   "id": "51da83b4",
   "metadata": {},
   "outputs": [
    {
     "name": "stdout",
     "output_type": "stream",
     "text": [
      "[2, 3, 5, 7, 11, 13, 17, 19, 23, 29, 31, 37, 41, 43, 47]\n"
     ]
    }
   ],
   "source": [
    "# question 33\n",
    "\n",
    "prime_numbers = [num for num in range(2,51) if all(num%i!=0 for i in range(2,num))]\n",
    "\n",
    "print(prime_numbers)\n",
    "\n",
    "\n",
    "\n"
   ]
  },
  {
   "cell_type": "code",
   "execution_count": 98,
   "id": "3a31a7f3",
   "metadata": {},
   "outputs": [
    {
     "name": "stdout",
     "output_type": "stream",
     "text": [
      "chunking result:  [[1, 78, 2, 90], [3, 4, 5, 6], [5, 6565, 345, 234], [86, 234, 6]]\n"
     ]
    }
   ],
   "source": [
    "# question 34\n",
    "\n",
    "my_list = [1, 78, 2, 90, 3, 4, 5, 6,5,6565,345,234,86,234,6]\n",
    "\n",
    "def chunking(my_list,n):\n",
    "    chunks = []\n",
    "    for i in range(0,len(my_list),n):\n",
    "        chunk = my_list[i:i+n]\n",
    "        chunks.append(chunk)\n",
    "    return chunks\n",
    "\n",
    "print(\"chunking result: \", chunking(my_list,4))"
   ]
  },
  {
   "cell_type": "code",
   "execution_count": 95,
   "id": "c9813995",
   "metadata": {},
   "outputs": [
    {
     "name": "stdout",
     "output_type": "stream",
     "text": [
      "78\n"
     ]
    }
   ],
   "source": [
    "# question 35\n",
    "my_list = [1, 78, 2, 90, 3, 4, 5, 6]\n",
    "\n",
    "def secondLargest(my_list):\n",
    "    my_list.sort()\n",
    "    return my_list[-2]\n",
    "\n",
    "print(secondLargest(my_list))\n"
   ]
  },
  {
   "cell_type": "code",
   "execution_count": 94,
   "id": "0f23770a",
   "metadata": {},
   "outputs": [
    {
     "name": "stdout",
     "output_type": "stream",
     "text": [
      "[1, 4, 9, 16, 25, 36, 49, 64, 81, 100]\n"
     ]
    }
   ],
   "source": [
    "# question 36\n",
    "\n",
    "my_list = [1,2,3,4,5,6,7,8,9,10]\n",
    "\n",
    "def square(my_list):\n",
    "    return [my_list[i]**2 for i in range(len(my_list))]\n",
    "\n",
    "print(square(my_list))"
   ]
  },
  {
   "cell_type": "code",
   "execution_count": 87,
   "id": "da255457",
   "metadata": {},
   "outputs": [
    {
     "data": {
      "text/plain": [
       "{'a': 0, 'b': 1, 'c': 2, 'd': 3}"
      ]
     },
     "execution_count": 87,
     "metadata": {},
     "output_type": "execute_result"
    }
   ],
   "source": [
    "# question 37\n",
    "\n",
    "list = [\"a\",\"b\",\"c\",\"d\"]\n",
    "\n",
    "def listToDict(list):\n",
    "    return {element: index for index,element in enumerate(list)}\n",
    "\n",
    "listToDict(list)"
   ]
  },
  {
   "cell_type": "code",
   "execution_count": 85,
   "id": "68a179e8",
   "metadata": {},
   "outputs": [
    {
     "name": "stdout",
     "output_type": "stream",
     "text": [
      "[1, 78, 2, 90, 3, 4, 5, 6]\n"
     ]
    }
   ],
   "source": [
    "# question 38\n",
    "\n",
    "import random\n",
    "\n",
    "# defining a list\n",
    "list = [1,2,3,4,5,6,78,90]\n",
    "\n",
    "random.shuffle(list)\n",
    "\n",
    "print(list)"
   ]
  },
  {
   "cell_type": "code",
   "execution_count": 84,
   "id": "fe3c4764",
   "metadata": {},
   "outputs": [
    {
     "name": "stdout",
     "output_type": "stream",
     "text": [
      "[1, 1, 2, 6, 24, 120, 720, 5040, 40320, 362880]\n"
     ]
    }
   ],
   "source": [
    "# question 39\n",
    "import math\n",
    "n = 10\n",
    "def first_n_factorials(n):\n",
    "    return [math.factorial(i) for i in range(n)]\n",
    "\n",
    "print(first_n_factorials(n))"
   ]
  },
  {
   "cell_type": "code",
   "execution_count": 78,
   "id": "bc6209e5",
   "metadata": {},
   "outputs": [
    {
     "name": "stdout",
     "output_type": "stream",
     "text": [
      "Yes, there are common elements.\n"
     ]
    }
   ],
   "source": [
    "# question 40\n",
    "\n",
    "# defining two lists\n",
    "\n",
    "list1 = [1,2,3,4,5,6,7]\n",
    "list2 = [3,4,5,6,7,8,9]\n",
    "\n",
    "if any(element in list2 for element in list1):\n",
    "    print(\"Yes, there are common elements.\")\n",
    "else: \n",
    "    print(\"No, there are no common elements between the two lists.\")"
   ]
  },
  {
   "cell_type": "code",
   "execution_count": 74,
   "id": "58c5117e",
   "metadata": {},
   "outputs": [
    {
     "name": "stdout",
     "output_type": "stream",
     "text": [
      "[]\n"
     ]
    }
   ],
   "source": [
    "# question 41\n",
    "\n",
    "# defining a list\n",
    "my_list = [1,2,-3,4,5,53,-55,-69,54,-6565]\n",
    "\n",
    "my_list.clear()\n",
    "\n",
    "print(my_list)"
   ]
  },
  {
   "cell_type": "code",
   "execution_count": 73,
   "id": "1a5657d4",
   "metadata": {},
   "outputs": [
    {
     "name": "stdout",
     "output_type": "stream",
     "text": [
      "[1, 2, 0, 4, 5, 53, 0, 0, 54, 0]\n"
     ]
    }
   ],
   "source": [
    "# questrion 42\n",
    "\n",
    "# defining a list\n",
    "my_list = [1,2,-3,4,5,53,-55,-69,54,-6565]\n",
    "\n",
    "for i in range(len(my_list)):\n",
    "    if my_list[i] <0:\n",
    "        my_list[i] = 0\n",
    "\n",
    "\n",
    "\n",
    "print(my_list)"
   ]
  },
  {
   "cell_type": "code",
   "execution_count": 63,
   "id": "0c2e5c50",
   "metadata": {},
   "outputs": [
    {
     "name": "stdout",
     "output_type": "stream",
     "text": [
      "['this', 'is', 'a', 'test', 'string', 'to', 'test', 'the', 'program']\n"
     ]
    }
   ],
   "source": [
    "# questrion 43\n",
    "\n",
    "user_input = input(\"give me a string: \")\n",
    "\n",
    "my_list = list(user_input.split())\n",
    "\n",
    "print(my_list)"
   ]
  },
  {
   "cell_type": "code",
   "execution_count": 68,
   "id": "f5dc6bfc",
   "metadata": {},
   "outputs": [
    {
     "name": "stdout",
     "output_type": "stream",
     "text": [
      "gasdf asdjfklas adskfjask\n"
     ]
    }
   ],
   "source": [
    "# question 44\n",
    "\n",
    "user_input = input(\"give me a number of words separated by space: \").split()\n",
    "\n",
    "my_string = \" \".join(user_input)\n",
    "print(my_string)"
   ]
  },
  {
   "cell_type": "code",
   "execution_count": 60,
   "id": "e2772b2d",
   "metadata": {},
   "outputs": [
    {
     "data": {
      "text/plain": [
       "[1, 4, 9, 16, 25]"
      ]
     },
     "execution_count": 60,
     "metadata": {},
     "output_type": "execute_result"
    }
   ],
   "source": [
    "# question 45\n",
    "\n",
    "def firstPowersof2(n):\n",
    "    return list(i**2 for i in range(1,n+1))\n",
    "\n",
    "firstPowersof2(5)"
   ]
  },
  {
   "cell_type": "code",
   "execution_count": 59,
   "id": "47980ecc",
   "metadata": {},
   "outputs": [
    {
     "data": {
      "text/plain": [
       "'second string'"
      ]
     },
     "execution_count": 59,
     "metadata": {},
     "output_type": "execute_result"
    }
   ],
   "source": [
    "# question 46\n",
    "\n",
    "# defining a list of strings\n",
    "my_string = [\"first string\",\"second string\",\"third string\",\"fourth string\",\"fifth string\"]\n",
    "\n",
    "def longestStrings(my_string):\n",
    "    return max(my_string, key =len)\n",
    "\n",
    "longestStrings(my_string)\n"
   ]
  },
  {
   "cell_type": "code",
   "execution_count": 58,
   "id": "c0b4ca5d",
   "metadata": {},
   "outputs": [
    {
     "data": {
      "text/plain": [
       "'first string'"
      ]
     },
     "execution_count": 58,
     "metadata": {},
     "output_type": "execute_result"
    }
   ],
   "source": [
    "# question 47\n",
    "\n",
    "# defining a list of strings\n",
    "my_string = [\"first string\",\"second string\",\"third string\",\"fourth string\",\"fifth string\"]\n",
    "\n",
    "def shortestStrings(my_string):\n",
    "    return min(my_string, key =len)\n",
    "\n",
    "shortestStrings(my_string)"
   ]
  },
  {
   "cell_type": "code",
   "execution_count": 57,
   "id": "59f6bc56",
   "metadata": {},
   "outputs": [
    {
     "data": {
      "text/plain": [
       "[1, 3, 6, 10, 15]"
      ]
     },
     "execution_count": 57,
     "metadata": {},
     "output_type": "execute_result"
    }
   ],
   "source": [
    "# question 48\n",
    "\n",
    "def firstnTriangularNumbers(n):\n",
    "    return list(i*(i+1)//2 for i in range(1,n+1))\n",
    "\n",
    "firstnTriangularNumbers(5)"
   ]
  },
  {
   "cell_type": "code",
   "execution_count": 55,
   "id": "952b41f7",
   "metadata": {},
   "outputs": [
    {
     "data": {
      "text/plain": [
       "True"
      ]
     },
     "execution_count": 55,
     "metadata": {},
     "output_type": "execute_result"
    }
   ],
   "source": [
    "# question 49\n",
    "\n",
    "my_list = [1,2,3,4,5,6,7,8,9,10]\n",
    "\n",
    "def subsequence (my_list,s):\n",
    "    iter_lst = iter(my_list)\n",
    "    return all(any(x==y for y in iter_lst)for x in s)\n",
    "\n",
    "s = list(map(int, input(\"Enter a list of numbers with commas: \").split(\",\")))\n",
    "\n",
    "subsequence(my_list,s)"
   ]
  },
  {
   "cell_type": "code",
   "execution_count": 6,
   "id": "ba2031c7",
   "metadata": {},
   "outputs": [
    {
     "data": {
      "text/plain": [
       "[1, 2, 3, 4, 9, 6, 7, 8, 5, 10]"
      ]
     },
     "execution_count": 6,
     "metadata": {},
     "output_type": "execute_result"
    }
   ],
   "source": [
    "# question 50\n",
    "\n",
    "my_list = [1,2,3,4,5,6,7,8,9,10]\n",
    "\n",
    "def swapElements(list,pos1,pos2):\n",
    "    list[pos1],list[pos2] = list[pos2],list[pos1]\n",
    "    return list\n",
    "\n",
    "swapElements(my_list,4,8)"
   ]
  },
  {
   "cell_type": "code",
   "execution_count": null,
   "id": "dcbe876e-a664-4436-9894-39e35ecb41ed",
   "metadata": {},
   "outputs": [],
   "source": [
    "# Topic 3: Tuple Based"
   ]
  },
  {
   "cell_type": "code",
   "execution_count": 22,
   "id": "348ef172-83e3-422b-b221-a6197478748c",
   "metadata": {},
   "outputs": [
    {
     "name": "stdout",
     "output_type": "stream",
     "text": [
      "(1, 2, 3, 4, 5)\n"
     ]
    }
   ],
   "source": [
    "# Question 1\n",
    "\n",
    "my_tuple = (1,2,3,4,5)\n",
    "print(my_tuple)"
   ]
  },
  {
   "cell_type": "code",
   "execution_count": 23,
   "id": "3cdbb0b7-1d55-4a15-ac30-761a1f940001",
   "metadata": {},
   "outputs": [
    {
     "data": {
      "text/plain": [
       "3"
      ]
     },
     "execution_count": 23,
     "metadata": {},
     "output_type": "execute_result"
    }
   ],
   "source": [
    "# Question 2\n",
    "\n",
    "my_tuple = (1,2,3,4,5)\n",
    "my_tuple[2]\n",
    "\n"
   ]
  },
  {
   "cell_type": "code",
   "execution_count": 7,
   "id": "af7a2dc6",
   "metadata": {},
   "outputs": [
    {
     "name": "stdout",
     "output_type": "stream",
     "text": [
      "your tuple length:  6\n"
     ]
    }
   ],
   "source": [
    "# Question 3\n",
    "\n",
    "# take user input string\n",
    "user_input = tuple(input(\"enter your word separated by space: \").split())\n",
    "\n",
    "# calculating the length without the len() function\n",
    "tuple_len = 0\n",
    "\n",
    "for i in user_input:\n",
    "    tuple_len +=1\n",
    "\n",
    "print(\"your tuple length: \", tuple_len)\n"
   ]
  },
  {
   "cell_type": "code",
   "execution_count": 9,
   "id": "c51ec477",
   "metadata": {},
   "outputs": [
    {
     "name": "stdout",
     "output_type": "stream",
     "text": [
      "the count of your elementb is:  4\n"
     ]
    }
   ],
   "source": [
    "# Question 4\n",
    "\n",
    "# defining a tuple\n",
    "my_tuple = (\"a\",\"b\",\"c\",\"d\",\"b\",\"e\",\"b\",\"A\",\"a\",\"b\")\n",
    "\n",
    "# taking user input\n",
    "user_input = input(\"which element do you want to count for: \")\n",
    "\n",
    "# defining a element counter\n",
    "counter = 0\n",
    "\n",
    "for i in my_tuple:\n",
    "    if i == user_input:\n",
    "        counter+=1\n",
    "\n",
    "print(f\"the count of your element{user_input} is: \", counter)\n"
   ]
  },
  {
   "cell_type": "code",
   "execution_count": 12,
   "id": "d575c4a2",
   "metadata": {},
   "outputs": [
    {
     "name": "stdout",
     "output_type": "stream",
     "text": [
      "here is the first index of your element:  1\n"
     ]
    }
   ],
   "source": [
    "# Question 5\n",
    "\n",
    "# taking user input to form a tuple\n",
    "user_input = tuple(input(\"please enter your input with a space: \").split())\n",
    "\n",
    "# taking user input for the element to check \n",
    "user_element = input(\"which element do you want the first index for: \")\n",
    "\n",
    "# checking the index\n",
    "result = user_input.index(user_element)\n",
    "\n",
    "# displaying the result\n",
    "print(\"here is the first index of your element: \", result)"
   ]
  },
  {
   "cell_type": "code",
   "execution_count": 14,
   "id": "8f4e903f",
   "metadata": {},
   "outputs": [
    {
     "name": "stdout",
     "output_type": "stream",
     "text": [
      "your element exists in this tuple\n"
     ]
    }
   ],
   "source": [
    "# Question 6\n",
    "\n",
    "# defining a tuple\n",
    "my_tuple = (\"a\",\"b\",\"c\",\"d\",\"b\",\"e\",\"b\",\"A\",\"a\",\"b\")\n",
    "\n",
    "# taking user input\n",
    "user_input = input(\"which element do you want to check for: \")\n",
    "\n",
    "if user_input in my_tuple:\n",
    "    print(\"your element exists in this tuple\")\n",
    "else:\n",
    "    print(\"your element doesn't exist in this tuple\")"
   ]
  },
  {
   "cell_type": "code",
   "execution_count": 15,
   "id": "6c137d23",
   "metadata": {},
   "outputs": [
    {
     "name": "stdout",
     "output_type": "stream",
     "text": [
      "['a', 'b', 'c', 'd', 'b', 'e', 'b', 'A', 'a', 'b']\n"
     ]
    }
   ],
   "source": [
    "# Question 7\n",
    "\n",
    "# defining a tuple\n",
    "my_tuple = (\"a\",\"b\",\"c\",\"d\",\"b\",\"e\",\"b\",\"A\",\"a\",\"b\")\n",
    "\n",
    "# converting the tuple into a list\n",
    "my_list = list(my_tuple)\n",
    "\n",
    "print(my_list)"
   ]
  },
  {
   "cell_type": "code",
   "execution_count": 1,
   "id": "32558fab",
   "metadata": {},
   "outputs": [
    {
     "name": "stdout",
     "output_type": "stream",
     "text": [
      "[1, 2, 3, 4, 5, 6, 7]\n"
     ]
    }
   ],
   "source": [
    "# question 8\n",
    "\n",
    "tupl1 = (1,2,3,4,5,6,7)\n",
    "list1 = list(tupl1)\n",
    "print(list1)"
   ]
  },
  {
   "cell_type": "code",
   "execution_count": 2,
   "id": "e952b545",
   "metadata": {},
   "outputs": [
    {
     "name": "stdout",
     "output_type": "stream",
     "text": [
      "2\n",
      "3\n",
      "4\n",
      "5\n",
      "6\n",
      "7\n"
     ]
    }
   ],
   "source": [
    "# question 9\n",
    "\n",
    "\n",
    "tupl2 = (2,3,4,5,6,7)\n",
    "var1,var2,var3,var4,var5,var6 = tupl2\n",
    "print(var1)\n",
    "print(var2)\n",
    "print(var3)\n",
    "print(var4)\n",
    "print(var5)\n",
    "print(var6)\n",
    "\n"
   ]
  },
  {
   "cell_type": "code",
   "execution_count": 3,
   "id": "efaaa781",
   "metadata": {},
   "outputs": [
    {
     "name": "stdout",
     "output_type": "stream",
     "text": [
      "(2, 4, 6, 8, 10)\n"
     ]
    }
   ],
   "source": [
    "# question 10\n",
    "\n",
    "def tupleCreate():\n",
    "    return tuple(i for i in range(1,11)if i%2==0)\n",
    "\n",
    "print(tupleCreate())"
   ]
  },
  {
   "cell_type": "code",
   "execution_count": 4,
   "id": "f6e98544",
   "metadata": {},
   "outputs": [
    {
     "name": "stdout",
     "output_type": "stream",
     "text": [
      "(1, 3, 5, 7, 9)\n"
     ]
    }
   ],
   "source": [
    "# question 11\n",
    "\n",
    "def tupleCreate():\n",
    "    return tuple(i for i in range(1,11)if i%2!=0)\n",
    "\n",
    "print(tupleCreate())"
   ]
  },
  {
   "cell_type": "code",
   "execution_count": 5,
   "id": "93d4295a",
   "metadata": {},
   "outputs": [
    {
     "name": "stdout",
     "output_type": "stream",
     "text": [
      "(1, 2, 3, 4, 5, 6, 7, 8)\n"
     ]
    }
   ],
   "source": [
    "# question 12\n",
    "\n",
    "tupl1 = (1,2,3,4)\n",
    "tupl2 = (5,6,7,8)\n",
    "tupl3 = tupl1+tupl2\n",
    "print(tupl3)"
   ]
  },
  {
   "cell_type": "code",
   "execution_count": 6,
   "id": "7754effe",
   "metadata": {},
   "outputs": [
    {
     "name": "stdout",
     "output_type": "stream",
     "text": [
      "(1, 2, 3, 4, 5, 6, 1, 2, 3, 4, 5, 6, 1, 2, 3, 4, 5, 6)\n"
     ]
    }
   ],
   "source": [
    "# question 13\n",
    "\n",
    "tupl1 = (1,2,3,4,5,6)\n",
    "repeated_tuple = tupl1*3\n",
    "print(repeated_tuple)"
   ]
  },
  {
   "cell_type": "code",
   "execution_count": 7,
   "id": "2e2f03af",
   "metadata": {},
   "outputs": [
    {
     "name": "stdout",
     "output_type": "stream",
     "text": [
      "tuple is empty\n"
     ]
    }
   ],
   "source": [
    "# question 14\n",
    "\n",
    "tupl3 = ()\n",
    "if len(tupl3) ==0:\n",
    "    print(\"tuple is empty\")\n",
    "else:\n",
    "    print(\"tuple is not empty\")"
   ]
  },
  {
   "cell_type": "code",
   "execution_count": 9,
   "id": "29f78444",
   "metadata": {},
   "outputs": [
    {
     "name": "stdout",
     "output_type": "stream",
     "text": [
      "((1, 2), (3, 4))\n"
     ]
    }
   ],
   "source": [
    "# question 15\n",
    "\n",
    "nested_tuple = ((1,2),(3,4))\n",
    "print(nested_tuple)"
   ]
  },
  {
   "cell_type": "code",
   "execution_count": 13,
   "id": "3beb8f34",
   "metadata": {},
   "outputs": [
    {
     "name": "stdout",
     "output_type": "stream",
     "text": [
      "a\n"
     ]
    }
   ],
   "source": [
    "# question 16\n",
    "\n",
    "nested_tuple = ((\"a\",2),(3,4))\n",
    "print(nested_tuple[0][0])"
   ]
  },
  {
   "cell_type": "code",
   "execution_count": 14,
   "id": "e37d70ac",
   "metadata": {},
   "outputs": [
    {
     "name": "stdout",
     "output_type": "stream",
     "text": [
      "a\n"
     ]
    }
   ],
   "source": [
    "# question 17\n",
    "\n",
    "tupl1 = (\"a\")\n",
    "print(tupl1)"
   ]
  },
  {
   "cell_type": "code",
   "execution_count": 18,
   "id": "74367a9c",
   "metadata": {},
   "outputs": [
    {
     "name": "stdout",
     "output_type": "stream",
     "text": [
      "False\n",
      "True\n"
     ]
    }
   ],
   "source": [
    "# question 18\n",
    "\n",
    "tupl1 = (1,2,3)\n",
    "tupl2 = (4,5,6)\n",
    "\n",
    "print(tupl1==tupl2)\n",
    "print(tupl1<tupl2)"
   ]
  },
  {
   "cell_type": "code",
   "execution_count": 21,
   "id": "d966112e",
   "metadata": {},
   "outputs": [
    {
     "ename": "NameError",
     "evalue": "name 'tupl1' is not defined",
     "output_type": "error",
     "traceback": [
      "\u001b[1;31m---------------------------------------------------------------------------\u001b[0m",
      "\u001b[1;31mNameError\u001b[0m                                 Traceback (most recent call last)",
      "\u001b[1;32mc:\\Users\\user\\Downloads\\20th_Aug_2023_Python_Basics.ipynb Cell 122\u001b[0m line \u001b[0;36m5\n\u001b[0;32m      <a href='vscode-notebook-cell:/c%3A/Users/user/Downloads/20th_Aug_2023_Python_Basics.ipynb#Y363sZmlsZQ%3D%3D?line=2'>3</a>\u001b[0m tupl1 \u001b[39m=\u001b[39m (\u001b[39m3\u001b[39m,\u001b[39m63\u001b[39m,\u001b[39m345\u001b[39m,\u001b[39m67\u001b[39m,\u001b[39m456\u001b[39m)\n\u001b[0;32m      <a href='vscode-notebook-cell:/c%3A/Users/user/Downloads/20th_Aug_2023_Python_Basics.ipynb#Y363sZmlsZQ%3D%3D?line=3'>4</a>\u001b[0m \u001b[39mdel\u001b[39;00m tupl1\n\u001b[1;32m----> <a href='vscode-notebook-cell:/c%3A/Users/user/Downloads/20th_Aug_2023_Python_Basics.ipynb#Y363sZmlsZQ%3D%3D?line=4'>5</a>\u001b[0m \u001b[39mprint\u001b[39m(tupl1)\n",
      "\u001b[1;31mNameError\u001b[0m: name 'tupl1' is not defined"
     ]
    }
   ],
   "source": [
    "# question 19\n",
    "\n",
    "tupl1 = (3,63,345,67,456)\n",
    "del tupl1\n",
    "print(tupl1)"
   ]
  },
  {
   "cell_type": "code",
   "execution_count": 22,
   "id": "a2cfed68",
   "metadata": {},
   "outputs": [
    {
     "name": "stdout",
     "output_type": "stream",
     "text": [
      "(63, 456, 452)\n"
     ]
    }
   ],
   "source": [
    "# question 20\n",
    "\n",
    "tupl1 = (3,63,345,67,456,45,6345,452,42,6,7,2,7456,6)\n",
    "tupl2 = tupl1[1:9:3]\n",
    "print(tupl2)"
   ]
  },
  {
   "cell_type": "code",
   "execution_count": 23,
   "id": "08021bd3",
   "metadata": {},
   "outputs": [
    {
     "name": "stdout",
     "output_type": "stream",
     "text": [
      "7456\n"
     ]
    }
   ],
   "source": [
    "# question 21\n",
    "tupl1 = (3,63,345,67,456,45,6345,452,42,6,7,2,7456,6)\n",
    "print(max(tupl1))"
   ]
  },
  {
   "cell_type": "code",
   "execution_count": 24,
   "id": "65aad791",
   "metadata": {},
   "outputs": [
    {
     "name": "stdout",
     "output_type": "stream",
     "text": [
      "2\n"
     ]
    }
   ],
   "source": [
    "# question 22\n",
    "tupl1 = (3,63,345,67,456,45,6345,452,42,6,7,2,7456,6)\n",
    "print(min(tupl1))"
   ]
  },
  {
   "cell_type": "code",
   "execution_count": 31,
   "id": "542592b3",
   "metadata": {},
   "outputs": [
    {
     "name": "stdout",
     "output_type": "stream",
     "text": [
      "[' ', 'H', 'I', 'a', 'b', 'd', 'e', 'i', 'l', 'm', 'n', 'o', 's', 'v', 'y']\n"
     ]
    }
   ],
   "source": [
    "# question 23\n",
    "str1 = \"Hello my name is bisnoi and I love India\"\n",
    "tupl1 = set()\n",
    "for i in str1:\n",
    "    tupl1.add(i)\n",
    "\n",
    "print(sorted(tuple(tupl1)))\n",
    "\n"
   ]
  },
  {
   "cell_type": "code",
   "execution_count": 34,
   "id": "fce5f3ce",
   "metadata": {},
   "outputs": [
    {
     "name": "stdout",
     "output_type": "stream",
     "text": [
      "  H I a b d e i l m n o s v y\n"
     ]
    }
   ],
   "source": [
    "# question 24\n",
    "tupl1 = (' ', 'H', 'I', 'a', 'b', 'd', 'e', 'i', 'l', 'm', 'n', 'o', 's', 'v', 'y')\n",
    "str1 = \" \".join(tupl1)\n",
    "\n",
    "print(str1)\n"
   ]
  },
  {
   "cell_type": "code",
   "execution_count": 35,
   "id": "d82eec21",
   "metadata": {},
   "outputs": [
    {
     "name": "stdout",
     "output_type": "stream",
     "text": [
      "('a', 1, 34.9, True)\n"
     ]
    }
   ],
   "source": [
    "# question 25\n",
    "\n",
    "tupl1 = (\"a\",1,34.9,True)\n",
    "print(tupl1)"
   ]
  },
  {
   "cell_type": "code",
   "execution_count": 36,
   "id": "4c1b9cfb",
   "metadata": {},
   "outputs": [
    {
     "name": "stdout",
     "output_type": "stream",
     "text": [
      "False\n"
     ]
    }
   ],
   "source": [
    "# question 26\n",
    "\n",
    "tupl1 = (\"a\",1,34.9,True)\n",
    "tup2 = (1,2,3,4)\n",
    "print(tupl1 ==tup2)"
   ]
  },
  {
   "cell_type": "code",
   "execution_count": 38,
   "id": "fa660f32",
   "metadata": {},
   "outputs": [
    {
     "name": "stdout",
     "output_type": "stream",
     "text": [
      "[34.6, 45.7, 65.23, 76.2, 97.0]\n"
     ]
    }
   ],
   "source": [
    "# question 27\n",
    "\n",
    "tupl1 = (34.6,45.7,76.2,65.23,97.0)\n",
    "\n",
    "print(sorted(tupl1))"
   ]
  },
  {
   "cell_type": "code",
   "execution_count": 40,
   "id": "06d95c7e",
   "metadata": {},
   "outputs": [
    {
     "name": "stdout",
     "output_type": "stream",
     "text": [
      "('2', '3', '5', '6', '74', '7', '245', '7')\n"
     ]
    }
   ],
   "source": [
    "# question 28\n",
    "\n",
    "tupl1 = (2,3,5,6,74,7,245,7)\n",
    "tupl2 = list()\n",
    "for i in tupl1:\n",
    "    tupl2.append(str(i))\n",
    "\n",
    "print(tuple(tupl2))"
   ]
  },
  {
   "cell_type": "code",
   "execution_count": 41,
   "id": "f9ea2f25",
   "metadata": {},
   "outputs": [
    {
     "name": "stdout",
     "output_type": "stream",
     "text": [
      "(2, 3, 5, 6, 74, 7, 245, 7)\n"
     ]
    }
   ],
   "source": [
    "# question 29\n",
    "tupl1 = ('2', '3', '5', '6', '74', '7', '245', '7')\n",
    "tupl2 = list()\n",
    "\n",
    "for i in tupl1:\n",
    "    tupl2.append(int(i))\n",
    "\n",
    "print(tuple(tupl2))\n",
    "\n"
   ]
  },
  {
   "cell_type": "code",
   "execution_count": 42,
   "id": "7c1609b4",
   "metadata": {},
   "outputs": [
    {
     "name": "stdout",
     "output_type": "stream",
     "text": [
      "(3, 546, 7, 23, 7, 8, 45, 7, 8, 345, 45, 56, 46, 48, 16488, 64584, 2, 64)\n"
     ]
    }
   ],
   "source": [
    "# question 30\n",
    "\n",
    "tupl1 = (3,546,7,23,7,8,45,7,8,345)\n",
    "tupl2 = (45,56,46,48,16488,64584,2,64)\n",
    "\n",
    "tupl3 = tupl1 + tupl2\n",
    "print(tupl3)"
   ]
  },
  {
   "cell_type": "code",
   "execution_count": 44,
   "id": "5dd6ee1e",
   "metadata": {},
   "outputs": [
    {
     "name": "stdout",
     "output_type": "stream",
     "text": [
      "(2, 3, 345, 64, 45, 86, 234, 342, 243, 234, 68, 6)\n"
     ]
    }
   ],
   "source": [
    "# question 31\n",
    "\n",
    "tupl1 = ((2,3),(345,64),(45,86,234,342),(243,234,68,6))\n",
    "tupl2 = list()\n",
    "for i in tupl1:\n",
    "    for j in i:\n",
    "        tupl2.append(j)\n",
    "print(tuple(tupl2))"
   ]
  },
  {
   "cell_type": "code",
   "execution_count": null,
   "id": "72a1d36e",
   "metadata": {},
   "outputs": [],
   "source": [
    "# question 32\n",
    "\n",
    "def primeNumbers(n):\n",
    "    prime_numbers = list()\n",
    "    i=0\n",
    "    while i < n:\n",
    "        if i<0:\n",
    "            continue\n",
    "        elif i==1:\n",
    "            prime_numbers.append(i)\n",
    "        elif i%2==0:\n",
    "            continue\n",
    "        else:"
   ]
  },
  {
   "cell_type": "code",
   "execution_count": 150,
   "id": "7f14f2ba",
   "metadata": {},
   "outputs": [
    {
     "name": "stdout",
     "output_type": "stream",
     "text": [
      "the tuple is a pallindrome\n"
     ]
    }
   ],
   "source": [
    "# question 33\n",
    "\n",
    "tuple1 = (\"m\",\"a\",\"l\",\"a\",\"y\",\"a\",\"l\",\"a\",\"m\")\n",
    "tuple2 = tuple1[::-1]\n",
    "\n",
    "if tuple1 == tuple2:\n",
    "    print(\"the tuple is a pallindrome\")\n",
    "else:\n",
    "    print(\"this is not a pallindrome \")"
   ]
  },
  {
   "cell_type": "code",
   "execution_count": 149,
   "id": "70cbc2eb",
   "metadata": {},
   "outputs": [
    {
     "name": "stdout",
     "output_type": "stream",
     "text": [
      "(1, 4, 9, 16, 25)\n"
     ]
    }
   ],
   "source": [
    "# question 34\n",
    "\n",
    "tuple1 = tuple(i**2 for i in range(1,6))\n",
    "print(tuple1)"
   ]
  },
  {
   "cell_type": "code",
   "execution_count": 148,
   "id": "2ecd43ba",
   "metadata": {},
   "outputs": [
    {
     "name": "stdout",
     "output_type": "stream",
     "text": [
      "(60, 66, 74, 66, 84, 26, 72, 70)\n"
     ]
    }
   ],
   "source": [
    "# question 35\n",
    "tupl1 = (60, 66, 74, 66, 84, 26, 45, 72, 37, 71, 70)\n",
    "eventuple = tuple(i for i in tupl1 if i%2==0)\n",
    "print(eventuple)"
   ]
  },
  {
   "cell_type": "code",
   "execution_count": 147,
   "id": "0002b965",
   "metadata": {},
   "outputs": [
    {
     "name": "stdout",
     "output_type": "stream",
     "text": [
      "(120, 132, 148, 132, 168, 52, 90, 144, 74, 142, 140)\n"
     ]
    }
   ],
   "source": [
    "# question 36\n",
    "\n",
    "tupl1 = (60, 66, 74, 66, 84, 26, 45, 72, 37, 71, 70)\n",
    "tupl2 = tuple(i*2 for i in tupl1)\n",
    "print(tupl2)"
   ]
  },
  {
   "cell_type": "code",
   "execution_count": 50,
   "id": "449e6f2c",
   "metadata": {},
   "outputs": [
    {
     "data": {
      "text/plain": [
       "(60, 66, 74, 66, 84, 26, 45, 72, 37, 71, 70)"
      ]
     },
     "execution_count": 50,
     "metadata": {},
     "output_type": "execute_result"
    }
   ],
   "source": [
    "# question 37\n",
    "\n",
    "import random\n",
    "\n",
    "def randNumGen(n):\n",
    "    return tuple(random.randint(1,100) for i in range(n))\n",
    "\n",
    "randNumGen(11)"
   ]
  },
  {
   "cell_type": "code",
   "execution_count": 46,
   "id": "6362089a",
   "metadata": {},
   "outputs": [
    {
     "data": {
      "text/plain": [
       "True"
      ]
     },
     "execution_count": 46,
     "metadata": {},
     "output_type": "execute_result"
    }
   ],
   "source": [
    "# question 38\n",
    "\n",
    "def isTupleSorted (tup):\n",
    "    return all(tup[i]<=tup[i+1] for i in range(len(tup)-1))\n",
    "\n",
    "tup = (1,2,4,5,7,8,9)\n",
    "\n",
    "isTupleSorted(tup)"
   ]
  },
  {
   "cell_type": "code",
   "execution_count": 43,
   "id": "6695ad69",
   "metadata": {},
   "outputs": [
    {
     "name": "stdout",
     "output_type": "stream",
     "text": [
      "(3, 4, 5, 6, 7, 1, 2)\n"
     ]
    }
   ],
   "source": [
    "# question 39\n",
    "\n",
    "my_tuple = (1,2,3,4,5,6,7)\n",
    "\n",
    "#taking user input\n",
    "n = int(input(\"tell me the number to which rotate by towards left: \"))\n",
    "\n",
    "my_tuple2 = my_tuple[n:]+my_tuple[:n]\n",
    "\n",
    "print(my_tuple2)"
   ]
  },
  {
   "cell_type": "code",
   "execution_count": 40,
   "id": "950bec96",
   "metadata": {},
   "outputs": [
    {
     "name": "stdout",
     "output_type": "stream",
     "text": [
      "(4, 5, 1, 2, 3)\n"
     ]
    }
   ],
   "source": [
    "# question 40\n",
    "\n",
    "my_tuple = (1,2,3,4,5)\n",
    "\n",
    "#taking user input\n",
    "n = int(input(\"tell me the number to which rotate by towards right: \"))\n",
    "\n",
    "my_tuple2 = my_tuple[-n:]+my_tuple[:-n]\n",
    "\n",
    "print(my_tuple2)"
   ]
  },
  {
   "cell_type": "code",
   "execution_count": 39,
   "id": "d1b0edc6",
   "metadata": {},
   "outputs": [
    {
     "name": "stdout",
     "output_type": "stream",
     "text": [
      "the first 5 numbers of fibonacci sequence are:  (0, 1, 1, 2, 3)\n"
     ]
    }
   ],
   "source": [
    "# question 41\n",
    "\n",
    "def fibonacciNum (n):\n",
    "    fib_nums = [0,1]\n",
    "\n",
    "    while len(fib_nums) < n:\n",
    "        fib_nums.append(fib_nums[-1]+fib_nums[-2])\n",
    "    return tuple(fib_nums[:n])\n",
    "\n",
    "n = int(input(\"give a valid number: \"))\n",
    "\n",
    "print(f\"the first {n} numbers of fibonacci sequence are: \",fibonacciNum(n))"
   ]
  },
  {
   "cell_type": "code",
   "execution_count": 37,
   "id": "77357278",
   "metadata": {},
   "outputs": [
    {
     "name": "stdout",
     "output_type": "stream",
     "text": [
      "('1', '2', '3', '45', '6')\n"
     ]
    }
   ],
   "source": [
    "# queston 42\n",
    "user_input = input(\"please enter your input with spaces: \").split()\n",
    "\n",
    "print(tuple(user_input))"
   ]
  },
  {
   "cell_type": "code",
   "execution_count": 35,
   "id": "bfc90a44",
   "metadata": {},
   "outputs": [
    {
     "name": "stdout",
     "output_type": "stream",
     "text": [
      "(1, 2, 3, 4, 7, 6, 5, 8, 9)\n"
     ]
    }
   ],
   "source": [
    "# question 43\n",
    "\n",
    "my_tuple = (1,2,3,4,5,6,7,8,9)\n",
    "t = list(my_tuple)\n",
    "t[4],t[6]=t[6],t[4]\n",
    "print(tuple(t))"
   ]
  },
  {
   "cell_type": "code",
   "execution_count": 33,
   "id": "4b519102",
   "metadata": {},
   "outputs": [
    {
     "name": "stdout",
     "output_type": "stream",
     "text": [
      "('d', 'c', 'b', 'a')\n"
     ]
    }
   ],
   "source": [
    "# question 44\n",
    "\n",
    "my_tuple = (\"a\",\"b\",\"c\",\"d\")\n",
    "\n",
    "print(my_tuple[::-1])"
   ]
  },
  {
   "cell_type": "code",
   "execution_count": 28,
   "id": "3bfd5af9",
   "metadata": {},
   "outputs": [
    {
     "data": {
      "text/plain": [
       "(1, 4, 9, 16, 25)"
      ]
     },
     "execution_count": 28,
     "metadata": {},
     "output_type": "execute_result"
    }
   ],
   "source": [
    "# question 45\n",
    "\n",
    "def tupleofFirstnPowersof2(n):\n",
    "    return tuple(i**2 for i in range(1,n+1))\n",
    "\n",
    "tupleofFirstnPowersof2(5)"
   ]
  },
  {
   "cell_type": "code",
   "execution_count": 26,
   "id": "4f396f26",
   "metadata": {},
   "outputs": [
    {
     "name": "stdout",
     "output_type": "stream",
     "text": [
      "the longest sting is:  the second string\n"
     ]
    }
   ],
   "source": [
    "# question 46\n",
    "\n",
    "# defining a number of strings\n",
    "strings = (\"the first string\",\"the second string\",\"the third string\",\"the last string\")\n",
    "\n",
    "def shortestStrings (strings):\n",
    "    return max(strings, key=len)\n",
    "\n",
    "print(\"the longest sting is: \",shortestStrings(strings) )\n"
   ]
  },
  {
   "cell_type": "code",
   "execution_count": 25,
   "id": "30d7c301",
   "metadata": {},
   "outputs": [
    {
     "name": "stdout",
     "output_type": "stream",
     "text": [
      "the shoretest sting is:  the last string\n"
     ]
    }
   ],
   "source": [
    "# question 47\n",
    "\n",
    "# defining a number of strings\n",
    "strings = (\"the first string\",\"the second string\",\"the third string\",\"the last string\")\n",
    "\n",
    "def shortestStrings (strings):\n",
    "    return min(strings, key=len)\n",
    "\n",
    "print(\"the shoretest sting is: \",shortestStrings(strings) )"
   ]
  },
  {
   "cell_type": "code",
   "execution_count": 19,
   "id": "91ee9f46",
   "metadata": {},
   "outputs": [
    {
     "name": "stdout",
     "output_type": "stream",
     "text": [
      "the first 5 numbers of triangular numbers are:  (1, 3, 6, 10, 15)\n"
     ]
    }
   ],
   "source": [
    "# question 48\n",
    "\n",
    "def triangularNumbers (n):\n",
    "    return tuple(i*(i+1)//2 for i in range(1,n+1))\n",
    "\n",
    "n = int(input(\"please enter a valid number: \"))\n",
    "\n",
    "print(f\"the first {n} numbers of triangular numbers are: \",triangularNumbers(n))"
   ]
  },
  {
   "cell_type": "code",
   "execution_count": 17,
   "id": "242c8848",
   "metadata": {},
   "outputs": [
    {
     "data": {
      "text/plain": [
       "True"
      ]
     },
     "execution_count": 17,
     "metadata": {},
     "output_type": "execute_result"
    }
   ],
   "source": [
    "# question 49\n",
    "\n",
    "def subsequence(a,b):\n",
    "    return all(any(x==y for x in a)for y in b)\n",
    "\n",
    "a = tuple(input(\"please enter the first tuple: \"))\n",
    "b = tuple(input(\"please enter another tuple\"))\n",
    "\n",
    "subsequence(a,b)\n",
    "\n"
   ]
  },
  {
   "cell_type": "code",
   "execution_count": 15,
   "id": "07833178",
   "metadata": {},
   "outputs": [
    {
     "data": {
      "text/plain": [
       "(0, 1, 0, 1, 0, 1)"
      ]
     },
     "execution_count": 15,
     "metadata": {},
     "output_type": "execute_result"
    }
   ],
   "source": [
    "# question 50\n",
    "\n",
    "def altZeroOne(length_of_tuple):\n",
    "  return tuple(i%2 for i in range(length_of_tuple))\n",
    "\n",
    "altZeroOne(6)"
   ]
  },
  {
   "cell_type": "code",
   "execution_count": null,
   "id": "db4b00f7-c2cf-4697-84aa-b47ac6d6877e",
   "metadata": {},
   "outputs": [],
   "source": [
    "# Topic 4: Set Based"
   ]
  },
  {
   "cell_type": "code",
   "execution_count": 25,
   "id": "1c3bb25e-6c40-4b36-8311-bc779acb1a5b",
   "metadata": {},
   "outputs": [
    {
     "name": "stdout",
     "output_type": "stream",
     "text": [
      "{1, 2, 3, 4, 5}\n"
     ]
    }
   ],
   "source": [
    "# Question 1\n",
    "\n",
    "my_set = {1, 2, 3, 4, 5}\n",
    "print(my_set)"
   ]
  },
  {
   "cell_type": "code",
   "execution_count": 17,
   "id": "6cc887be-f4b6-4af3-9936-505eb2150f0d",
   "metadata": {},
   "outputs": [
    {
     "name": "stdout",
     "output_type": "stream",
     "text": [
      "{1, 3, 4, 6, 7, 8}\n"
     ]
    }
   ],
   "source": [
    "# Question 2\n",
    "\n",
    "my_set = {1,4,6,7,8}\n",
    "my_set.add(3)\n",
    "print(my_set)"
   ]
  },
  {
   "cell_type": "code",
   "execution_count": 20,
   "id": "bd59a992",
   "metadata": {},
   "outputs": [
    {
     "name": "stdout",
     "output_type": "stream",
     "text": [
      "{1, 6, 7, 8}\n"
     ]
    }
   ],
   "source": [
    "# Question 3\n",
    "\n",
    "my_set = {1,4,6,7,8}\n",
    "my_set.remove(4)\n",
    "print(my_set)"
   ]
  },
  {
   "cell_type": "code",
   "execution_count": 24,
   "id": "85b2f36c",
   "metadata": {},
   "outputs": [
    {
     "name": "stdout",
     "output_type": "stream",
     "text": [
      "your element exists in the given set\n"
     ]
    }
   ],
   "source": [
    "# Question 4\n",
    "my_set = {1,4,6,7,8}\n",
    "\n",
    "# ask the user for the element they want to search for\n",
    "user_input = int(input(\"which element do you want to search for: \"))\n",
    "\n",
    "# check\n",
    "if user_input in my_set:\n",
    "    print(\"your element exists in the given set\")\n",
    "else:\n",
    "    print(\"your element doesn't exist in the set\")\n",
    "\n"
   ]
  },
  {
   "cell_type": "code",
   "execution_count": 26,
   "id": "72b937c7",
   "metadata": {},
   "outputs": [
    {
     "name": "stdout",
     "output_type": "stream",
     "text": [
      "the length of your set is:  9\n"
     ]
    }
   ],
   "source": [
    "# Question 5\n",
    "\n",
    "# defining a set\n",
    "my_set = {1,4,6,7,8,99,101,5,45}\n",
    "\n",
    "# defining a counter variable\n",
    "count = 0\n",
    "\n",
    "# counting the length without the len() variable\n",
    "for i in my_set:\n",
    "    count += 1\n",
    "\n",
    "print(\"the length of your set is: \", count)"
   ]
  },
  {
   "cell_type": "code",
   "execution_count": 31,
   "id": "943aba0a",
   "metadata": {},
   "outputs": [
    {
     "name": "stdout",
     "output_type": "stream",
     "text": [
      "set()\n"
     ]
    }
   ],
   "source": [
    "# Question 6\n",
    "\n",
    "# defining a set\n",
    "my_set = {1,4,6,7,8,99,101,5,45}\n",
    "# clearing the set of all elements\n",
    "my_set.clear()\n",
    "# displaying the result\n",
    "print(my_set)"
   ]
  },
  {
   "cell_type": "code",
   "execution_count": 35,
   "id": "50a8f797",
   "metadata": {},
   "outputs": [
    {
     "name": "stdout",
     "output_type": "stream",
     "text": [
      "{2, 4, 6, 8, 10}\n"
     ]
    }
   ],
   "source": [
    "# Question 7\n",
    "\n",
    "my_set = set()\n",
    "\n",
    "iterable = range(1,11)\n",
    "\n",
    "for i in iterable:\n",
    "    if i%2==0:\n",
    "        my_set.add(i)\n",
    "    \n",
    "print(my_set)"
   ]
  },
  {
   "cell_type": "code",
   "execution_count": 36,
   "id": "b01b7540",
   "metadata": {},
   "outputs": [
    {
     "name": "stdout",
     "output_type": "stream",
     "text": [
      "{1, 3, 5, 7, 9}\n"
     ]
    }
   ],
   "source": [
    "# Question 8\n",
    "\n",
    "my_set = {i for i in range(1,11) if i%2!=0}\n",
    "\n",
    "print(my_set)"
   ]
  },
  {
   "cell_type": "code",
   "execution_count": 37,
   "id": "e2f4c375",
   "metadata": {},
   "outputs": [
    {
     "name": "stdout",
     "output_type": "stream",
     "text": [
      "{1, 2, 3, 4, 5, 6}\n"
     ]
    }
   ],
   "source": [
    "# Question 9\n",
    "\n",
    "# defining two sets\n",
    "set1 = {1,2,3,4}\n",
    "set2 = {3,4,5,6}\n",
    "\n",
    "set3 = set1.union(set2)\n",
    "\n",
    "print(set3)"
   ]
  },
  {
   "cell_type": "code",
   "execution_count": 38,
   "id": "240448c5",
   "metadata": {},
   "outputs": [
    {
     "name": "stdout",
     "output_type": "stream",
     "text": [
      "{3, 4}\n"
     ]
    }
   ],
   "source": [
    "# Question 10\n",
    "\n",
    "# defining two sets\n",
    "set1 = {1,2,3,4}\n",
    "set2 = {3,4,5,6}\n",
    "# performing the intersection \n",
    "set3 = set1.intersection(set2)\n",
    "# displaying the output\n",
    "print(set3)"
   ]
  },
  {
   "cell_type": "code",
   "execution_count": 40,
   "id": "444745b0",
   "metadata": {},
   "outputs": [
    {
     "name": "stdout",
     "output_type": "stream",
     "text": [
      "{5, 6}\n"
     ]
    }
   ],
   "source": [
    "# Question 11\n",
    "\n",
    "# defining two sets\n",
    "set1 = {1,2,3,4}\n",
    "set2 = {3,4,5,6}\n",
    "# performing the difference \n",
    "set3 = set2.difference(set1)\n",
    "# displaying the output\n",
    "print(set3)\n"
   ]
  },
  {
   "cell_type": "code",
   "execution_count": 1,
   "id": "f145e14a",
   "metadata": {},
   "outputs": [
    {
     "name": "stdout",
     "output_type": "stream",
     "text": [
      "True\n"
     ]
    }
   ],
   "source": [
    "# Question 12\n",
    "\n",
    "# defining two sets\n",
    "set1 = {1,2,3,4}\n",
    "set2 = {3,4}\n",
    "\n",
    "# displaying the result\n",
    "print(set2.issubset(set1))"
   ]
  },
  {
   "cell_type": "code",
   "execution_count": 2,
   "id": "b7afa3e2",
   "metadata": {},
   "outputs": [
    {
     "name": "stdout",
     "output_type": "stream",
     "text": [
      "True\n"
     ]
    }
   ],
   "source": [
    "# Question 13\n",
    "\n",
    "# defining two sets\n",
    "set1 = {1,2,3,4}\n",
    "set2 = {3,4}\n",
    "\n",
    "# displaying the result\n",
    "print(set1.issuperset(set2))"
   ]
  },
  {
   "cell_type": "code",
   "execution_count": 3,
   "id": "dd18330e",
   "metadata": {},
   "outputs": [
    {
     "name": "stdout",
     "output_type": "stream",
     "text": [
      "{1, 2, 3, 4, 5, 'a', 'c', 'b'}\n"
     ]
    }
   ],
   "source": [
    "# Question 14\n",
    "\n",
    "# defining a list \n",
    "my_list = [1,2,3,4,5,\"a\",\"b\",\"c\"]\n",
    "\n",
    "# displaying the result\n",
    "my_set = set(my_list)\n",
    "print(my_set)"
   ]
  },
  {
   "cell_type": "code",
   "execution_count": 4,
   "id": "d74144c1",
   "metadata": {},
   "outputs": [
    {
     "name": "stdout",
     "output_type": "stream",
     "text": [
      "[1, 2, 3, 4, 5]\n"
     ]
    }
   ],
   "source": [
    "# Question 15\n",
    "\n",
    "# taking a set\n",
    "my_set = {1,2,3,4,5}\n",
    "\n",
    "# displaying the result\n",
    "print(list(my_set))"
   ]
  },
  {
   "cell_type": "code",
   "execution_count": 1,
   "id": "f28553f4",
   "metadata": {},
   "outputs": [
    {
     "name": "stdout",
     "output_type": "stream",
     "text": [
      "the updated set: {2, 3, 4, 5}\n"
     ]
    }
   ],
   "source": [
    "# Question 16\n",
    "\n",
    "# define a set\n",
    "my_set = {1,2,3,4,5}\n",
    "\n",
    "# as sets are unorderd using pop() will remove a random element\n",
    "removed_element = my_set.pop()\n",
    "\n",
    "# displaying the result\n",
    "print(f\"the updated set: {my_set}\")"
   ]
  },
  {
   "cell_type": "code",
   "execution_count": null,
   "id": "11fbce4c",
   "metadata": {},
   "outputs": [],
   "source": [
    "# Question 17\n",
    "\n",
    "# define a set\n",
    "my_set = {1,2,3,4,5}\n",
    "\n",
    "# popping an element off\n",
    "removed_element = my_set.pop()\n",
    "\n",
    "# displaying the result\n",
    "print(f\"the updated set: {my_set}\")\n"
   ]
  },
  {
   "cell_type": "code",
   "execution_count": 10,
   "id": "b669f550",
   "metadata": {},
   "outputs": [
    {
     "name": "stdout",
     "output_type": "stream",
     "text": [
      "False\n"
     ]
    }
   ],
   "source": [
    "# Question 18\n",
    "\n",
    "# defining sets\n",
    "set1={1,2,3,\"a\",4,5,6,\"b\"}\n",
    "set2 = {1,2,4,6}\n",
    "\n",
    "# checking and displaying the output\n",
    "print(set1.isdisjoint(set2))"
   ]
  },
  {
   "cell_type": "code",
   "execution_count": 11,
   "id": "5e0a82c4",
   "metadata": {},
   "outputs": [
    {
     "name": "stdout",
     "output_type": "stream",
     "text": [
      "{3, 5, 'b', 'a'}\n"
     ]
    }
   ],
   "source": [
    "# Question 19\n",
    "\n",
    "# defining sets\n",
    "set1={1,2,3,\"a\",4,5,6,\"b\"}\n",
    "set2 = {1,2,4,6}\n",
    "\n",
    "# checking and displaying the output\n",
    "print(set1.symmetric_difference(set2))\n"
   ]
  },
  {
   "cell_type": "code",
   "execution_count": 14,
   "id": "17b0720a",
   "metadata": {},
   "outputs": [
    {
     "name": "stdout",
     "output_type": "stream",
     "text": [
      "{1, 2, 3, 4, 5, 6}\n"
     ]
    }
   ],
   "source": [
    "# Question 20\n",
    "\n",
    "# defining sets\n",
    "set1={1,2,3}\n",
    "set2={4,5,6}\n",
    "\n",
    "# performing the operation and displaying the result\n",
    "set2.update(set1)\n",
    "print(set2)"
   ]
  },
  {
   "cell_type": "code",
   "execution_count": 20,
   "id": "b30130bc",
   "metadata": {},
   "outputs": [
    {
     "name": "stdout",
     "output_type": "stream",
     "text": [
      "{3, 5, 7, 9, 11}\n"
     ]
    }
   ],
   "source": [
    "# Question 21\n",
    "\n",
    "# defining a function to intake a user input for a given range \n",
    "def generate_primes(start,end):\n",
    "    primes = set()\n",
    "    for i in range(start,end+1):\n",
    "        if i >1: # prime numbers are greater than 1\n",
    "            for j in range(2,i):\n",
    "                if (i%j)==0:\n",
    "                    break\n",
    "                else:\n",
    "                    primes.add(i)\n",
    "    return primes\n",
    "\n",
    "# ask the user for range\n",
    "start = int(input(\"please enter the start of the range: \"))\n",
    "end = int(input(\"please enter the end of the range: \"))\n",
    "\n",
    "# generate and print the output\n",
    "print(generate_primes(start,end))"
   ]
  },
  {
   "cell_type": "code",
   "execution_count": 21,
   "id": "d9951cce",
   "metadata": {},
   "outputs": [
    {
     "name": "stdout",
     "output_type": "stream",
     "text": [
      "True\n"
     ]
    }
   ],
   "source": [
    "# Question 22\n",
    "\n",
    "# define sets\n",
    "set1={1,2,3}\n",
    "set2={2,3,1}\n",
    "\n",
    "#check and display the result\n",
    "print(set1==set2)"
   ]
  },
  {
   "cell_type": "code",
   "execution_count": 22,
   "id": "e48e5aff",
   "metadata": {},
   "outputs": [
    {
     "name": "stdout",
     "output_type": "stream",
     "text": [
      "frozenset({1, 2, 3, 4, 5, 6})\n"
     ]
    }
   ],
   "source": [
    "# Question 23\n",
    "\n",
    "# defining a set\n",
    "set1 = {1,2,3,4,5,6}\n",
    "\n",
    "# creating a frozen set\n",
    "set2 = frozenset(set1)\n",
    "\n",
    "# displaying the output\n",
    "print(set2)"
   ]
  },
  {
   "cell_type": "code",
   "execution_count": 24,
   "id": "e7e92080",
   "metadata": {},
   "outputs": [
    {
     "name": "stdout",
     "output_type": "stream",
     "text": [
      "False\n"
     ]
    }
   ],
   "source": [
    "# Question 24\n",
    "\n",
    "# defining sets\n",
    "set1={1,2,3,\"a\",5,6,\"b\"}\n",
    "set2 = {1,2,4,6}\n",
    "\n",
    "# checking and displaying the output\n",
    "print(set1.isdisjoint(set2))"
   ]
  },
  {
   "cell_type": "code",
   "execution_count": 25,
   "id": "72063170",
   "metadata": {},
   "outputs": [
    {
     "name": "stdout",
     "output_type": "stream",
     "text": [
      "{1, 4, 9, 16, 25}\n"
     ]
    }
   ],
   "source": [
    "# question 25\n",
    "\n",
    "# defining an empty set\n",
    "my_set = set()\n",
    "\n",
    "# creating a loop to add squares from 1 to 5\n",
    "for i in range(1,6):\n",
    "    my_set.add(i**2)\n",
    "\n",
    "# displaying the result\n",
    "print(my_set)"
   ]
  },
  {
   "cell_type": "code",
   "execution_count": 30,
   "id": "a8c9fe81",
   "metadata": {},
   "outputs": [
    {
     "name": "stdout",
     "output_type": "stream",
     "text": [
      "{2, 4, 6, 8, 10, 20}\n"
     ]
    }
   ],
   "source": [
    "# question 26\n",
    "\n",
    "# defining a set and a copy to iterate through\n",
    "set1 = {1,2,3,4,5,6,7,8,9,10,20}\n",
    "set2= set() \n",
    "\n",
    "# \n",
    "for i in set1:\n",
    "    if i%2==0:\n",
    "        set2.add(i)\n",
    "\n",
    "\n",
    "# dispaly the result\n",
    "print(set2)"
   ]
  },
  {
   "cell_type": "code",
   "execution_count": 31,
   "id": "b35f1704",
   "metadata": {},
   "outputs": [
    {
     "name": "stdout",
     "output_type": "stream",
     "text": [
      "{2, 4, 6, 8, 10, 12, 14, 16, 18, 20}\n"
     ]
    }
   ],
   "source": [
    "# question 27\n",
    "\n",
    "# defining a set\n",
    "set1 = {1,2,3,4,5,6,7,8,9,10}\n",
    "set2 = set()\n",
    "\n",
    "# displaying the result\n",
    "for i in set1:\n",
    "    set2.add(i*2)\n",
    "\n",
    "print(set2)"
   ]
  },
  {
   "cell_type": "code",
   "execution_count": 70,
   "id": "29676b15",
   "metadata": {},
   "outputs": [
    {
     "name": "stdout",
     "output_type": "stream",
     "text": [
      "{9, 3, 6, 7}\n"
     ]
    }
   ],
   "source": [
    "# question 28\n",
    "\n",
    "import random\n",
    "\n",
    "random_numbers = {random.randint(1,10) for i in range(5)}\n",
    "\n",
    "print(random_numbers)"
   ]
  },
  {
   "cell_type": "code",
   "execution_count": 35,
   "id": "650d12c1",
   "metadata": {},
   "outputs": [
    {
     "name": "stdout",
     "output_type": "stream",
     "text": [
      "the set is not empty\n"
     ]
    }
   ],
   "source": [
    "# question 29\n",
    "\n",
    "set1 = {1,2}\n",
    "\n",
    "if len(set1)==0:\n",
    "    print(\"the set is empty\")\n",
    "else: \n",
    "    print(\"the set is not empty\")\n",
    "\n"
   ]
  },
  {
   "cell_type": "code",
   "execution_count": 37,
   "id": "b0a53376",
   "metadata": {},
   "outputs": [
    {
     "name": "stdout",
     "output_type": "stream",
     "text": [
      "{1, 2, 3, 4, 5}\n"
     ]
    }
   ],
   "source": [
    "# question 30\n",
    "\n",
    "set1 = {1,2,3,4,5}\n",
    "\n",
    "set2 = frozenset(set1)\n",
    "\n",
    "nested_set = set([set2])\n",
    "\n",
    "print(nested_set)"
   ]
  },
  {
   "cell_type": "code",
   "execution_count": 40,
   "id": "4e252d3c",
   "metadata": {},
   "outputs": [
    {
     "name": "stdout",
     "output_type": "stream",
     "text": [
      "{1, 2, 4, 5}\n"
     ]
    }
   ],
   "source": [
    "# question 31\n",
    "\n",
    "set1 = {1,2,3,4,5}\n",
    "\n",
    "set1.discard(3)\n",
    "\n",
    "print(set1)"
   ]
  },
  {
   "cell_type": "code",
   "execution_count": 42,
   "id": "fe016071",
   "metadata": {},
   "outputs": [
    {
     "name": "stdout",
     "output_type": "stream",
     "text": [
      "True\n",
      "False\n",
      "False\n"
     ]
    }
   ],
   "source": [
    "# question 32\n",
    "\n",
    "# Define the sets\n",
    "set1 = {4, 5}\n",
    "set2 = {4, 5, 6, 7}\n",
    "\n",
    "# Check if set1 is a subset of set2\n",
    "print(set1.issubset(set2))\n",
    "\n",
    "# Check if set1 is a superset of set2\n",
    "print(set1.issuperset(set2))\n",
    "\n",
    "# check for disjunction\n",
    "print(set1.isdisjoint(set2))\n",
    "\n"
   ]
  },
  {
   "cell_type": "code",
   "execution_count": 43,
   "id": "b0bbb17d",
   "metadata": {},
   "outputs": [
    {
     "name": "stdout",
     "output_type": "stream",
     "text": [
      "{'k', 'e', 'a', 'y', 'm', ' ', 's', 'h', 'i', 'n'}\n"
     ]
    }
   ],
   "source": [
    "# question 33\n",
    "\n",
    "string =\"my name is khan\"\n",
    "set1 = set(string)\n",
    "print(set1)"
   ]
  },
  {
   "cell_type": "code",
   "execution_count": 44,
   "id": "e2cd543f",
   "metadata": {},
   "outputs": [
    {
     "name": "stdout",
     "output_type": "stream",
     "text": [
      "{1, 2, 3, 4, 5}\n"
     ]
    }
   ],
   "source": [
    "# question 34\n",
    "\n",
    "set_of_strings = {\"1\",\"2\",\"3\",\"4\",\"5\"}\n",
    "\n",
    "set_of_integers = set(map(int,set_of_strings))\n",
    "\n",
    "print(set_of_integers)"
   ]
  },
  {
   "cell_type": "code",
   "execution_count": 45,
   "id": "29370006",
   "metadata": {},
   "outputs": [
    {
     "name": "stdout",
     "output_type": "stream",
     "text": [
      "{'2', '3', '4', '7', '6', '8', '1', '5'}\n"
     ]
    }
   ],
   "source": [
    "# question 35\n",
    "\n",
    "set_of_integers = {1,2,3,4,5,6,7,8}\n",
    "\n",
    "set_of_strings = set(map(str,set_of_integers))\n",
    "\n",
    "print(set_of_strings)"
   ]
  },
  {
   "cell_type": "code",
   "execution_count": 46,
   "id": "87418b81",
   "metadata": {},
   "outputs": [
    {
     "name": "stdout",
     "output_type": "stream",
     "text": [
      "{1, 2, 3, 4, 5, 6}\n"
     ]
    }
   ],
   "source": [
    "# question 36\n",
    "\n",
    "my_tuple = (1,2,3,4,5,6)\n",
    "\n",
    "my_set= set(my_tuple)\n",
    "\n",
    "print(my_set)"
   ]
  },
  {
   "cell_type": "code",
   "execution_count": 47,
   "id": "8e5c5e31",
   "metadata": {},
   "outputs": [
    {
     "name": "stdout",
     "output_type": "stream",
     "text": [
      "(1, 2, 3, 4, 5, 6, 7)\n"
     ]
    }
   ],
   "source": [
    "# question 37\n",
    "\n",
    "my_set = {1,2,3,4,5,6,7}\n",
    "\n",
    "my_tuple = tuple(my_set)\n",
    "\n",
    "print(my_tuple)"
   ]
  },
  {
   "cell_type": "code",
   "execution_count": 48,
   "id": "f20b5e8d",
   "metadata": {},
   "outputs": [
    {
     "name": "stdout",
     "output_type": "stream",
     "text": [
      "9\n"
     ]
    }
   ],
   "source": [
    "# question 38\n",
    "\n",
    "set1 = {4,5,6,1,3,5,9,4,6}\n",
    "\n",
    "print(max(set1))"
   ]
  },
  {
   "cell_type": "code",
   "execution_count": 49,
   "id": "2accb1b7",
   "metadata": {},
   "outputs": [
    {
     "name": "stdout",
     "output_type": "stream",
     "text": [
      "1\n"
     ]
    }
   ],
   "source": [
    "# question 39\n",
    "\n",
    "set1 = {4,5,6,1,3,5,9,4,6}\n",
    "\n",
    "print(min(set1))"
   ]
  },
  {
   "cell_type": "code",
   "execution_count": 50,
   "id": "a62da332",
   "metadata": {},
   "outputs": [
    {
     "name": "stdout",
     "output_type": "stream",
     "text": [
      "{'Here', 'this', 'a', 'news!', 'good', 'ram', 'sapan', 'is', 'from', 'hi', 'with', 'odisha.'}\n"
     ]
    }
   ],
   "source": [
    "# question 40\n",
    "\n",
    "# get some input from the user\n",
    "user_input = input(\"please enter a bunch of words with spaces in between: \").split()\n",
    "\n",
    "# create a set from the user input\n",
    "set1 = {i for i in user_input}\n",
    "\n",
    "print(set1)"
   ]
  },
  {
   "cell_type": "code",
   "execution_count": 51,
   "id": "69d18e48",
   "metadata": {},
   "outputs": [
    {
     "name": "stdout",
     "output_type": "stream",
     "text": [
      "the intersection is not empty\n"
     ]
    }
   ],
   "source": [
    "# question 41\n",
    "\n",
    "# defining two sets\n",
    "set1 = {1,2,3,4,5,6,7,8,9}\n",
    "set2 = {7,8,9,0,11,12,13,14}\n",
    "\n",
    "# get the intersection of two sets\n",
    "set3 = set1.intersection(set2)\n",
    "\n",
    "# check if the intersection is empty\n",
    "if len(set3) == 0:\n",
    "    print(\"the intersection is empty\")\n",
    "else: \n",
    "    print(\"the intersection is not empty\")"
   ]
  },
  {
   "cell_type": "code",
   "execution_count": 52,
   "id": "18931f3e",
   "metadata": {},
   "outputs": [
    {
     "name": "stdout",
     "output_type": "stream",
     "text": [
      "[0, 1, 1, 2, 3]\n"
     ]
    }
   ],
   "source": [
    "# question 42\n",
    "\n",
    "fib_sequence = [0,1]\n",
    "\n",
    "while len(fib_sequence) < 5:\n",
    "    fib_sequence.append(fib_sequence[-1]+fib_sequence[-2])\n",
    "\n",
    "print(fib_sequence)"
   ]
  },
  {
   "cell_type": "code",
   "execution_count": 53,
   "id": "0b3dcb38",
   "metadata": {},
   "outputs": [
    {
     "name": "stdout",
     "output_type": "stream",
     "text": [
      "{1, 2, 3, 5, 6, 7}\n"
     ]
    }
   ],
   "source": [
    "# question 43\n",
    "\n",
    "my_list = [1,2,3,2,3,1,2,5,6,6,2,7]\n",
    "\n",
    "# creating a set from the above list will remove duplicates by default\n",
    "\n",
    "my_set = set(my_list)\n",
    "\n",
    "print(my_set)"
   ]
  },
  {
   "cell_type": "code",
   "execution_count": 54,
   "id": "6d8bf1e1",
   "metadata": {},
   "outputs": [
    {
     "name": "stdout",
     "output_type": "stream",
     "text": [
      "the elements are same\n"
     ]
    }
   ],
   "source": [
    "# question 44\n",
    "\n",
    "# defining two sets \n",
    "set1 = {1,2,3,4,5}\n",
    "set2 = {5,4,1,3,2}\n",
    "\n",
    "# check if they have same elements\n",
    "if set1 == set2:\n",
    "    print(\"the elements are same\")\n",
    "else: \n",
    "    print('the sets do not have the same elements')"
   ]
  },
  {
   "cell_type": "code",
   "execution_count": 57,
   "id": "d565a84b",
   "metadata": {},
   "outputs": [
    {
     "name": "stdout",
     "output_type": "stream",
     "text": [
      "{32, 2, 4, 8, 16}\n"
     ]
    }
   ],
   "source": [
    "# question 45\n",
    "\n",
    "# take user input for n where n is the first n powers of 2\n",
    "n = int(input(\"please enter the value of n: \"))\n",
    "\n",
    "iterable1 = range(1,n+1)\n",
    "\n",
    "set1 = set()\n",
    "\n",
    "for i in iterable1:\n",
    "    set1.add(2**i)\n",
    "\n",
    "print(set1)\n",
    "\n"
   ]
  },
  {
   "cell_type": "code",
   "execution_count": 64,
   "id": "210613c9",
   "metadata": {},
   "outputs": [
    {
     "name": "stdout",
     "output_type": "stream",
     "text": [
      "{4, 5, 6}\n"
     ]
    }
   ],
   "source": [
    "# question 46\n",
    "\n",
    "my_list = [1,2,3,4,5,6]\n",
    "my_set = {9,8,7,4,5,6}\n",
    "\n",
    "# covert the list to a set\n",
    "set1 = set(my_list)\n",
    "\n",
    "# find the common elements\n",
    "set2 = my_set.intersection(set1)\n",
    "\n",
    "print(set2)"
   ]
  },
  {
   "cell_type": "code",
   "execution_count": 65,
   "id": "1edd80b0",
   "metadata": {},
   "outputs": [
    {
     "name": "stdout",
     "output_type": "stream",
     "text": [
      "{1, 3, 6, 10, 15}\n"
     ]
    }
   ],
   "source": [
    "# question 47\n",
    "\n",
    "# take user input\n",
    "n = int(input(\"please enter a value for n: \"))\n",
    "\n",
    "triangular_numbers = {i*(i+1)//2 for i in range(1, n+1)}\n",
    "\n",
    "print(triangular_numbers)"
   ]
  },
  {
   "cell_type": "code",
   "execution_count": 66,
   "id": "a7e64a64",
   "metadata": {},
   "outputs": [
    {
     "data": {
      "text/plain": [
       "True"
      ]
     },
     "execution_count": 66,
     "metadata": {},
     "output_type": "execute_result"
    }
   ],
   "source": [
    "# question 48\n",
    "\n",
    "# defining two sets\n",
    "set1 = {1,2,3,4,5}\n",
    "set2= {1,2}\n",
    "\n",
    "# checking \n",
    "set2.issubset(set1)"
   ]
  },
  {
   "cell_type": "code",
   "execution_count": 67,
   "id": "498db3f6",
   "metadata": {},
   "outputs": [
    {
     "name": "stdout",
     "output_type": "stream",
     "text": [
      "{0, 1}\n"
     ]
    }
   ],
   "source": [
    "# question 49\n",
    "\n",
    "# take user input \n",
    "n = int(input(\"please enter a value for n: \"))\n",
    "\n",
    "# a set can only contain 0 and 1 as elements as duplicates are not allowed\n",
    "my_set = {i%2 for i in range(n)}\n",
    "\n",
    "print(my_set)"
   ]
  },
  {
   "cell_type": "code",
   "execution_count": 68,
   "id": "9650a1e9",
   "metadata": {},
   "outputs": [
    {
     "name": "stdout",
     "output_type": "stream",
     "text": [
      "{1, 2, 3, 4, 5, 6, 7, 8, 9.1}\n"
     ]
    }
   ],
   "source": [
    "# question 50\n",
    "\n",
    "set1 = {1,2,3}\n",
    "set2 = {3,4,5,6}\n",
    "set3 = {5,6,7,8}\n",
    "set4 = {9.10}\n",
    "\n",
    "merged_set = set1 |set2| set3| set4\n",
    "\n",
    "print(merged_set)\n"
   ]
  }
 ],
 "metadata": {
  "kernelspec": {
   "display_name": "Python 3 (ipykernel)",
   "language": "python",
   "name": "python3"
  },
  "language_info": {
   "codemirror_mode": {
    "name": "ipython",
    "version": 3
   },
   "file_extension": ".py",
   "mimetype": "text/x-python",
   "name": "python",
   "nbconvert_exporter": "python",
   "pygments_lexer": "ipython3",
   "version": "3.11.4"
  }
 },
 "nbformat": 4,
 "nbformat_minor": 5
}
