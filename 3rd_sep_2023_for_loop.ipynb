{
 "cells": [
  {
   "cell_type": "code",
   "execution_count": null,
   "metadata": {},
   "outputs": [],
   "source": [
    "# 1 : Basic Level"
   ]
  },
  {
   "cell_type": "code",
   "execution_count": 1,
   "metadata": {},
   "outputs": [
    {
     "name": "stdout",
     "output_type": "stream",
     "text": [
      "1\n",
      "2\n",
      "3\n",
      "4\n",
      "5\n",
      "6\n",
      "7\n",
      "8\n",
      "9\n",
      "10\n"
     ]
    }
   ],
   "source": [
    "# qs 1:\n",
    "\n",
    "def pg1():\n",
    "    for i in range(1,11):\n",
    "        print(i)\n",
    "\n",
    "pg1()"
   ]
  },
  {
   "cell_type": "code",
   "execution_count": 2,
   "metadata": {},
   "outputs": [
    {
     "name": "stdout",
     "output_type": "stream",
     "text": [
      "21\n"
     ]
    }
   ],
   "source": [
    "# qs2:\n",
    "\n",
    "list1 = [1,2,3,4,5,6]\n",
    "sum1 = 0\n",
    "\n",
    "for i in list1:\n",
    "    sum1=sum1+i\n",
    "\n",
    "print(sum1)"
   ]
  },
  {
   "cell_type": "code",
   "execution_count": 8,
   "metadata": {},
   "outputs": [
    {
     "name": "stdout",
     "output_type": "stream",
     "text": [
      "a n p a S "
     ]
    }
   ],
   "source": [
    "# qs3:\n",
    "\n",
    "def reverseString(s):\n",
    "    for i in range(len(s)-1,-1,-1):\n",
    "        print(s[i],end=\" \")\n",
    "\n",
    "reverseString(\"Sapna\")\n"
   ]
  },
  {
   "cell_type": "code",
   "execution_count": 10,
   "metadata": {},
   "outputs": [
    {
     "name": "stdout",
     "output_type": "stream",
     "text": [
      "24\n"
     ]
    }
   ],
   "source": [
    "# qs4\n",
    "\n",
    "def factorial(n):\n",
    "    result = 1\n",
    "    for i in range(1,n+1):\n",
    "        result = result * i\n",
    "    return result\n",
    "\n",
    "print(factorial(4))"
   ]
  },
  {
   "cell_type": "code",
   "execution_count": 2,
   "metadata": {},
   "outputs": [
    {
     "name": "stdout",
     "output_type": "stream",
     "text": [
      "5 x 1 = 5\n",
      "5 x 2 = 10\n",
      "5 x 3 = 15\n",
      "5 x 4 = 20\n",
      "5 x 5 = 25\n",
      "5 x 6 = 30\n",
      "5 x 7 = 35\n",
      "5 x 8 = 40\n",
      "5 x 9 = 45\n",
      "5 x 10 = 50\n"
     ]
    }
   ],
   "source": [
    "# qs5\n",
    "\n",
    "def multiplicationTable(n):\n",
    "    for i in range(1,11):\n",
    "        print (n, \"x\", i, \"=\", n*i)\n",
    "\n",
    "multiplicationTable(5)"
   ]
  },
  {
   "cell_type": "code",
   "execution_count": 4,
   "metadata": {},
   "outputs": [
    {
     "name": "stdout",
     "output_type": "stream",
     "text": [
      "the number of evens:  4\n",
      "the number of odds:  4\n"
     ]
    }
   ],
   "source": [
    "# qs 6\n",
    "\n",
    "\n",
    "def evenOddCounter(l1):\n",
    "    even_count =0\n",
    "    odd_count =0\n",
    "    for i in l1:\n",
    "        if i%2 ==0:\n",
    "            even_count+=1\n",
    "        else:\n",
    "            odd_count+=1\n",
    "    print(\"the number of evens: \", even_count)\n",
    "    print(\"the number of odds: \", odd_count)\n",
    "\n",
    "evenOddCounter([1,2,3,4,5,6,7,8])\n",
    "\n",
    "\n",
    "\n"
   ]
  },
  {
   "cell_type": "code",
   "execution_count": 6,
   "metadata": {},
   "outputs": [
    {
     "name": "stdout",
     "output_type": "stream",
     "text": [
      "1\n",
      "4\n",
      "9\n",
      "16\n",
      "25\n"
     ]
    }
   ],
   "source": [
    "# qs 7\n",
    "\n",
    "for i in range (1,6):\n",
    "    print(i**2)"
   ]
  },
  {
   "cell_type": "code",
   "execution_count": 7,
   "metadata": {},
   "outputs": [
    {
     "name": "stdout",
     "output_type": "stream",
     "text": [
      "5\n"
     ]
    }
   ],
   "source": [
    "# qs 8\n",
    "\n",
    "def lenOfStr(a):\n",
    "    length_counter = 0\n",
    "    for i in a:\n",
    "        length_counter+=1\n",
    "    print(length_counter)\n",
    "\n",
    "lenOfStr(\"sapan\")"
   ]
  },
  {
   "cell_type": "code",
   "execution_count": 8,
   "metadata": {},
   "outputs": [
    {
     "name": "stdout",
     "output_type": "stream",
     "text": [
      "3.0\n"
     ]
    }
   ],
   "source": [
    "# qs 9\n",
    "\n",
    "def avg(l1):\n",
    "    sum = 0\n",
    "    for i in l1:\n",
    "        sum = sum+i\n",
    "    print(sum/len(l1))\n",
    "\n",
    "avg([1,2,3,4,5])"
   ]
  },
  {
   "cell_type": "code",
   "execution_count": 1,
   "metadata": {},
   "outputs": [
    {
     "name": "stdout",
     "output_type": "stream",
     "text": [
      "0\n",
      "1\n",
      "1\n",
      "2\n",
      "3\n"
     ]
    }
   ],
   "source": [
    "# qs 10\n",
    "\n",
    "def fib(n):\n",
    "    a = 0\n",
    "    b = 1\n",
    "    for i in range(n):\n",
    "        print(a)\n",
    "        a,b = b, a+b\n",
    "    \n",
    "fib(5)        "
   ]
  },
  {
   "cell_type": "code",
   "execution_count": 2,
   "metadata": {},
   "outputs": [
    {
     "name": "stdout",
     "output_type": "stream",
     "text": [
      "the list has duplicates\n"
     ]
    }
   ],
   "source": [
    "# qs 11\n",
    "\n",
    "l1 = [1,2,3,4,5,6,43,6,2,64,2,1,5,43,5]\n",
    "\n",
    "l2 = set(l1)\n",
    "\n",
    "if len(l1) == len(l2):\n",
    "    print(\"the list has no duplicates\")\n",
    "else:\n",
    "    print(\"the list has duplicates\")"
   ]
  },
  {
   "cell_type": "code",
   "execution_count": 4,
   "metadata": {},
   "outputs": [
    {
     "name": "stdout",
     "output_type": "stream",
     "text": [
      "[2, 3, 5, 7]\n"
     ]
    }
   ],
   "source": [
    "# qs 12\n",
    "\n",
    "import sympy\n",
    "\n",
    "def prime(n):\n",
    "    if sympy.isprime(n)==True:\n",
    "        return n\n",
    "    \n",
    "answer = filter(prime,range(1,10))\n",
    "answer = list(answer)\n",
    "\n",
    "print(answer)\n",
    "\n"
   ]
  },
  {
   "cell_type": "code",
   "execution_count": 5,
   "metadata": {},
   "outputs": [
    {
     "name": "stdout",
     "output_type": "stream",
     "text": [
      "2\n"
     ]
    }
   ],
   "source": [
    "# qs 13\n",
    "\n",
    "s1 = \"sapan\"\n",
    "vowel_counter = 0\n",
    "for i in s1:\n",
    "    if i in {\"a\",\"e\",\"i\",\"o\",\"u\"}:\n",
    "        vowel_counter+=1\n",
    "\n",
    "print(vowel_counter)\n"
   ]
  },
  {
   "cell_type": "code",
   "execution_count": 7,
   "metadata": {},
   "outputs": [
    {
     "name": "stdout",
     "output_type": "stream",
     "text": [
      "36\n"
     ]
    }
   ],
   "source": [
    "# qs 14\n",
    "\n",
    "l1 = [1,2,3,36,5,6,7]\n",
    "\n",
    "max_val = 0\n",
    "\n",
    "for i in l1:\n",
    "    if max_val<i:\n",
    "        max_val = i\n",
    "\n",
    "print(max_val)"
   ]
  },
  {
   "cell_type": "code",
   "execution_count": 9,
   "metadata": {},
   "outputs": [
    {
     "name": "stdout",
     "output_type": "stream",
     "text": [
      "[123, 34, 643, 6, 45, 26, 97]\n"
     ]
    }
   ],
   "source": [
    "# qs 15\n",
    "\n",
    "l1 = [123,234,34,643,234,234,6,45,26,97]\n",
    "\n",
    "element_to_remove = 234\n",
    "\n",
    "l2 = [i for i in l1 if i!=element_to_remove]\n",
    "\n",
    "print(l2)"
   ]
  },
  {
   "cell_type": "code",
   "execution_count": 10,
   "metadata": {},
   "outputs": [
    {
     "name": "stdout",
     "output_type": "stream",
     "text": [
      "1 X 1 = 1\n",
      "1 X 2 = 2\n",
      "1 X 3 = 3\n",
      "1 X 4 = 4\n",
      "1 X 5 = 5\n",
      "1 X 6 = 6\n",
      "1 X 7 = 7\n",
      "1 X 8 = 8\n",
      "1 X 9 = 9\n",
      "1 X 10 = 10\n",
      "2 X 1 = 2\n",
      "2 X 2 = 4\n",
      "2 X 3 = 6\n",
      "2 X 4 = 8\n",
      "2 X 5 = 10\n",
      "2 X 6 = 12\n",
      "2 X 7 = 14\n",
      "2 X 8 = 16\n",
      "2 X 9 = 18\n",
      "2 X 10 = 20\n",
      "3 X 1 = 3\n",
      "3 X 2 = 6\n",
      "3 X 3 = 9\n",
      "3 X 4 = 12\n",
      "3 X 5 = 15\n",
      "3 X 6 = 18\n",
      "3 X 7 = 21\n",
      "3 X 8 = 24\n",
      "3 X 9 = 27\n",
      "3 X 10 = 30\n",
      "4 X 1 = 4\n",
      "4 X 2 = 8\n",
      "4 X 3 = 12\n",
      "4 X 4 = 16\n",
      "4 X 5 = 20\n",
      "4 X 6 = 24\n",
      "4 X 7 = 28\n",
      "4 X 8 = 32\n",
      "4 X 9 = 36\n",
      "4 X 10 = 40\n",
      "5 X 1 = 5\n",
      "5 X 2 = 10\n",
      "5 X 3 = 15\n",
      "5 X 4 = 20\n",
      "5 X 5 = 25\n",
      "5 X 6 = 30\n",
      "5 X 7 = 35\n",
      "5 X 8 = 40\n",
      "5 X 9 = 45\n",
      "5 X 10 = 50\n"
     ]
    }
   ],
   "source": [
    "# qs 16\n",
    "\n",
    "for i in range(1,6):\n",
    "    for j in range(1,11):\n",
    "        print(i, \"X\", j, \"=\", i*j)"
   ]
  },
  {
   "cell_type": "code",
   "execution_count": 11,
   "metadata": {},
   "outputs": [
    {
     "name": "stdout",
     "output_type": "stream",
     "text": [
      "0.0\n",
      "20.0\n",
      "30.0\n",
      "40.0\n",
      "100.0\n"
     ]
    }
   ],
   "source": [
    "# qs 17\n",
    "\n",
    "l1 = [32,68,86,104,212]\n",
    "\n",
    "for i in l1:\n",
    "    print(((i-32)/9)*5)"
   ]
  },
  {
   "cell_type": "code",
   "execution_count": 12,
   "metadata": {},
   "outputs": [
    {
     "name": "stdout",
     "output_type": "stream",
     "text": [
      "[2, 3, 5, 6, 7]\n"
     ]
    }
   ],
   "source": [
    "# qs 18\n",
    "\n",
    "l1 = [2,3,5,6,7,9,0]\n",
    "l2 = [1,2,3,4,5,6,7]\n",
    "l3 = []\n",
    "\n",
    "for i in l1:\n",
    "    if i in l2:\n",
    "        l3.append(i)\n",
    "\n",
    "print(l3)"
   ]
  },
  {
   "cell_type": "code",
   "execution_count": 13,
   "metadata": {},
   "outputs": [
    {
     "name": "stdout",
     "output_type": "stream",
     "text": [
      "*\n",
      "**\n",
      "***\n",
      "****\n",
      "*****\n"
     ]
    }
   ],
   "source": [
    "# qs 19\n",
    "\n",
    "rows = int(input(\"enter the number of rows: \"))\n",
    "\n",
    "for i in range(1,rows+1):\n",
    "    print(\"*\"*i)"
   ]
  },
  {
   "cell_type": "code",
   "execution_count": 15,
   "metadata": {},
   "outputs": [
    {
     "name": "stdout",
     "output_type": "stream",
     "text": [
      "gcd of 12 and 90 is: 6\n"
     ]
    }
   ],
   "source": [
    "# qs 20\n",
    "\n",
    "x = 12\n",
    "y = 90\n",
    "\n",
    "if x>y:\n",
    "    x,y = y,x\n",
    "for i in range(1,x+1):\n",
    "    if x%i == 0 and y%i == 0:\n",
    "        gcd = i\n",
    "\n",
    "print(\"gcd of\",x,\"and\",y,\"is:\",gcd)"
   ]
  },
  {
   "cell_type": "code",
   "execution_count": 17,
   "metadata": {},
   "outputs": [
    {
     "name": "stdout",
     "output_type": "stream",
     "text": [
      "[2, 5, 10, 9, 11, 13]\n"
     ]
    }
   ],
   "source": [
    "# qs 21\n",
    "\n",
    "l1 = [11,23,37,45,56,67]\n",
    "\n",
    "l2 = [sum(int(j) for j in str(i)) for i in l1]\n",
    "\n",
    "print(l2)"
   ]
  },
  {
   "cell_type": "code",
   "execution_count": 29,
   "metadata": {},
   "outputs": [
    {
     "name": "stdout",
     "output_type": "stream",
     "text": [
      "[2, 5]\n"
     ]
    }
   ],
   "source": [
    "# 22\n",
    "\n",
    "def prime_factors(n):\n",
    "    factors = [i for i in range(2, n+1) if n % i == 0]\n",
    "    prime_factors = [i for i in factors if all(i % j != 0 for j in range(2, int(i**0.5) + 1))]\n",
    "    return prime_factors\n",
    "\n",
    "# Test the function\n",
    "number = 100\n",
    "print(prime_factors(number))\n"
   ]
  },
  {
   "cell_type": "code",
   "execution_count": 28,
   "metadata": {},
   "outputs": [
    {
     "name": "stdout",
     "output_type": "stream",
     "text": [
      "[{1, 2, 3, 4, 5, 6}]\n"
     ]
    }
   ],
   "source": [
    "# 23\n",
    "\n",
    "numbers = [1,2,3,4,2,2,3,4,1,5,6,6]\n",
    "\n",
    "v = [{i for i in numbers}]\n",
    "\n",
    "print(v)"
   ]
  },
  {
   "cell_type": "code",
   "execution_count": 27,
   "metadata": {},
   "outputs": [
    {
     "name": "stdout",
     "output_type": "stream",
     "text": [
      "[0, 1, 2, 3, 4, 5, 6, 7, 8, 9, 11, 22, 33, 44, 55, 66, 77, 88, 99, 101, 111, 121, 131, 141, 151, 161, 171, 181, 191, 202, 212, 222, 232, 242, 252, 262, 272, 282, 292]\n"
     ]
    }
   ],
   "source": [
    "# 24\n",
    "limit = 300\n",
    "v = [i for i in range(limit) if str(i)==str(i)[::-1]]\n",
    "print(v)\n"
   ]
  },
  {
   "cell_type": "code",
   "execution_count": 26,
   "metadata": {},
   "outputs": [
    {
     "name": "stdout",
     "output_type": "stream",
     "text": [
      "[1, 2, 3, 4, 5, 6, 7, 8, 9]\n"
     ]
    }
   ],
   "source": [
    "# 25\n",
    "\n",
    "nested_list = [[1, 2, 3], [4, 5, 6], [7, 8, 9]]\n",
    "v = [item for sublist in nested_list for item in sublist]\n",
    "\n",
    "\n",
    "\n",
    "print(v)"
   ]
  },
  {
   "cell_type": "code",
   "execution_count": 24,
   "metadata": {},
   "outputs": [
    {
     "name": "stdout",
     "output_type": "stream",
     "text": [
      "Sum of even numbers: 30, Sum of odd numbers: 25\n"
     ]
    }
   ],
   "source": [
    "# qs 26\n",
    "\n",
    "def compute_sums(lst):\n",
    "    sum_even = sum(i for i in lst if i % 2 == 0)\n",
    "    sum_odd = sum(i for i in lst if i % 2 != 0)\n",
    "    return sum_even, sum_odd\n",
    "\n",
    "# Test the function\n",
    "numbers = [1, 2, 3, 4, 5, 6, 7, 8, 9, 10]\n",
    "sum_even, sum_odd = compute_sums(numbers)\n",
    "print(f\"Sum of even numbers: {sum_even}, Sum of odd numbers: {sum_odd}\")"
   ]
  },
  {
   "cell_type": "code",
   "execution_count": 23,
   "metadata": {},
   "outputs": [
    {
     "name": "stdout",
     "output_type": "stream",
     "text": [
      "[1, 9, 25, 49, 81]\n"
     ]
    }
   ],
   "source": [
    "# 27\n",
    "\n",
    "squares_of_odds = [i**2 for i in range(1,11) if i%2!=0]\n",
    "print(squares_of_odds)"
   ]
  },
  {
   "cell_type": "code",
   "execution_count": 22,
   "metadata": {},
   "outputs": [
    {
     "name": "stdout",
     "output_type": "stream",
     "text": [
      "{'name': 'Alice', 'age': 25, 'city': 'New York'}\n"
     ]
    }
   ],
   "source": [
    "# 28\n",
    "\n",
    "keys = [\"name\", \"age\", \"city\"]\n",
    "values = [\"Alice\", 25, \"New York\"]\n",
    "\n",
    "v = {keys[i]: values[i] for i in range(len(keys))}\n",
    "\n",
    "print(v)"
   ]
  },
  {
   "cell_type": "code",
   "execution_count": 21,
   "metadata": {},
   "outputs": [
    {
     "name": "stdout",
     "output_type": "stream",
     "text": [
      "['e', 'o', 'a', 'e', 'i', 'a', 'a', 'I', 'a', 'a', 'e', 'o', 'i']\n"
     ]
    }
   ],
   "source": [
    "# 29\n",
    "s = \"hello my name is khan and I am a terrorist\"\n",
    "v = [char for char in s if char.lower() in \"aeiou\"]\n",
    "print(v)"
   ]
  },
  {
   "cell_type": "code",
   "execution_count": 20,
   "metadata": {},
   "outputs": [
    {
     "name": "stdout",
     "output_type": "stream",
     "text": [
      "['1 2 3', '4 5 6', '7 8 9', '1 2 3']\n"
     ]
    }
   ],
   "source": [
    "# 30\n",
    "lst = strings = [\"hello123\", \"world456\", \"789abc\", \"def123\"]\n",
    "v = [\" \".join(char for char in s if char.isdigit())for s in lst]\n",
    "print(v)"
   ]
  },
  {
   "cell_type": "code",
   "execution_count": 19,
   "metadata": {},
   "outputs": [
    {
     "name": "stdout",
     "output_type": "stream",
     "text": [
      "[2, 3, 5, 7, 11, 13, 17, 19, 23, 29]\n"
     ]
    }
   ],
   "source": [
    "# 31\n",
    "\n",
    "def generate_primes(n):\n",
    "    sieve = [True] * (n+1)\n",
    "    for x in range(2, int(n**0.5) + 1):\n",
    "        if sieve[x]: \n",
    "            sieve[x*x: n+1: x] = [False] * len(range(x*x, n+1, x))\n",
    "    return [x for x in range(2, n+1) if sieve[x]]\n",
    "\n",
    "# Test the function\n",
    "limit = 30\n",
    "print(generate_primes(limit))\n"
   ]
  },
  {
   "cell_type": "code",
   "execution_count": 18,
   "metadata": {},
   "outputs": [
    {
     "name": "stdout",
     "output_type": "stream",
     "text": [
      "[(3, 4, 5), (5, 12, 13), (6, 8, 10), (8, 15, 17), (9, 12, 15)]\n"
     ]
    }
   ],
   "source": [
    "# 32\n",
    "limit = 20\n",
    "\n",
    "v = [(a, b, c) for a in range(1, limit) for b in range(a, limit) for c in range(b, limit) if a*a + b*b == c*c]\n",
    "\n",
    "print(v)"
   ]
  },
  {
   "cell_type": "code",
   "execution_count": 17,
   "metadata": {},
   "outputs": [
    {
     "name": "stdout",
     "output_type": "stream",
     "text": [
      "[('a', 1), ('a', 2), ('a', 3), ('a', 4), ('b', 1), ('b', 2), ('b', 3), ('b', 4), ('c', 1), ('c', 2), ('c', 3), ('c', 4)]\n"
     ]
    }
   ],
   "source": [
    "# 33\n",
    "\n",
    "list1 = [\"a\",\"b\",\"c\"]\n",
    "list2 = [1,2,3,4]\n",
    "\n",
    "v = [(a,b) for a in list1 for b in list2]\n",
    "\n",
    "print(v)\n"
   ]
  },
  {
   "cell_type": "code",
   "execution_count": 16,
   "metadata": {},
   "outputs": [
    {
     "name": "stdout",
     "output_type": "stream",
     "text": [
      "mean: 3.857142857142857, median: 4, mode: [6]\n"
     ]
    }
   ],
   "source": [
    "# qs 34\n",
    "from collections import Counter\n",
    "\n",
    "list_of_numbers = [1,2,3,4,5,6,6]\n",
    "\n",
    "mean = sum(list_of_numbers)/len(list_of_numbers)\n",
    "\n",
    "# median\n",
    "length = len(list_of_numbers)\n",
    "sorted_list = sorted(list_of_numbers)\n",
    "if len(list_of_numbers)%2==0:\n",
    "    median = (sorted_list[length // 2 - 1] + sorted_list[length // 2]) / 2\n",
    "else:\n",
    "    median = sorted_list[length //2]\n",
    "\n",
    "# mode\n",
    "counts = Counter(list_of_numbers)\n",
    "max_count = max(counts.values())\n",
    "mode = [num for num, count in counts.items() if count == max_count]\n",
    "\n",
    "print(f\"mean: {mean}, median: {median}, mode: {mode}\")"
   ]
  },
  {
   "cell_type": "code",
   "execution_count": 11,
   "metadata": {},
   "outputs": [
    {
     "name": "stdout",
     "output_type": "stream",
     "text": [
      "[1]\n",
      "[1, 1]\n",
      "[1, 2, 1]\n",
      "[1, 3, 3, 1]\n",
      "[1, 4, 6, 4, 1]\n",
      "[1, 5, 10, 10, 5, 1]\n",
      "[1, 6, 15, 20, 15, 6, 1]\n"
     ]
    }
   ],
   "source": [
    "# qs 35\n",
    "\n",
    "def generate_pascals_triangle(n):\n",
    "    triangle = [[1]]\n",
    "    for i in range(1, n):\n",
    "        row = [1 if j == 0 or j == i else triangle[i-1][j-1] + triangle[i-1][j] for j in range(i+1)]\n",
    "        triangle.append(row)\n",
    "    return triangle\n",
    "\n",
    "# Test the function\n",
    "n = 7\n",
    "for row in generate_pascals_triangle(n):\n",
    "    print(row)"
   ]
  },
  {
   "cell_type": "code",
   "execution_count": 8,
   "metadata": {},
   "outputs": [
    {
     "name": "stdout",
     "output_type": "stream",
     "text": [
      "[1, 2, 6, 6, 3]\n"
     ]
    }
   ],
   "source": [
    "# qs 36\n",
    "import math\n",
    "\n",
    "def sum_of_factorial_digits(n):\n",
    "    return sum(int(digit) for digit in str(math.factorial(n)))\n",
    "\n",
    "# Calculate the sum of the digits of the factorial of numbers from 1 to 5\n",
    "results = [sum_of_factorial_digits(i) for i in range(1, 6)]\n",
    "\n",
    "print(results)"
   ]
  },
  {
   "cell_type": "code",
   "execution_count": 6,
   "metadata": {},
   "outputs": [
    {
     "name": "stdout",
     "output_type": "stream",
     "text": [
      "neighbour.\n"
     ]
    }
   ],
   "source": [
    "# qs 37\n",
    "\n",
    "sentence = \"Hello! My name is Khan and I am your new neighbour.\"\n",
    "l1 = sentence.split()\n",
    "\n",
    "longest_word = max(l1, key=len)\n",
    "\n",
    "print(longest_word)\n",
    "\n",
    "# the purpose of list comprehension is to generate a list, but as the prompt is for a single output we can't use list comprehension for this task"
   ]
  },
  {
   "cell_type": "code",
   "execution_count": 4,
   "metadata": {},
   "outputs": [
    {
     "name": "stdout",
     "output_type": "stream",
     "text": [
      "['Serendipity', 'Ethereal', 'Mellifluous', 'Exuberant', 'Tenacious', 'Nostalgia', 'Resilience']\n"
     ]
    }
   ],
   "source": [
    "# qs 38\n",
    "\n",
    "words = [\"Whimsical\", \"Serendipity\", \"Ethereal\", \"Mellifluous\", \"Exuberant\", \"Tenacious\", \"Nostalgia\", \"Epiphany\", \"Resilience\", \"Serenity\", \"Conundrum\"]\n",
    "\n",
    "vowels = [\"a\",\"e\",\"i\",\"o\",\"u\",\"A\",\"E\",\"I\",\"O\",\"U\"]\n",
    "\n",
    "filter = [word for word in words if sum(1 for s in word if s in vowels)>3]\n",
    "\n",
    "print(filter)"
   ]
  },
  {
   "cell_type": "code",
   "execution_count": 2,
   "metadata": {},
   "outputs": [
    {
     "name": "stdout",
     "output_type": "stream",
     "text": [
      "[1, 2, 3, 4, 5, 6, 7, 8, 9, 1, 2, 3, 4, 5, 6, 7, 8, 9, 10, 2, 3, 4, 5, 6, 7, 8, 9, 10, 11, 3, 4, 5, 6, 7, 8, 9, 10, 11, 12, 4, 5, 6, 7, 8, 9, 10, 11, 12, 13, 5, 6, 7, 8, 9, 10, 11, 12, 13, 14, 6, 7, 8, 9, 10, 11, 12, 13, 14, 15, 7, 8, 9, 10, 11, 12, 13, 14, 15, 16, 8, 9, 10, 11, 12, 13, 14, 15, 16, 17, 9, 10, 11, 12, 13, 14, 15, 16, 17, 18, 1, 2, 3, 4, 5, 6, 7, 8, 9, 10, 2, 3, 4, 5, 6, 7, 8, 9, 10, 11, 3, 4, 5, 6, 7, 8, 9, 10, 11, 12, 4, 5, 6, 7, 8, 9, 10, 11, 12, 13, 5, 6, 7, 8, 9, 10, 11, 12, 13, 14, 6, 7, 8, 9, 10, 11, 12, 13, 14, 15, 7, 8, 9, 10, 11, 12, 13, 14, 15, 16, 8, 9, 10, 11, 12, 13, 14, 15, 16, 17, 9, 10, 11, 12, 13, 14, 15, 16, 17, 18, 10, 11, 12, 13, 14, 15, 16, 17, 18, 19, 2, 3, 4, 5, 6, 7, 8, 9, 10, 11, 3, 4, 5, 6, 7, 8, 9, 10, 11, 12, 4, 5, 6, 7, 8, 9, 10, 11, 12, 13, 5, 6, 7, 8, 9, 10, 11, 12, 13, 14, 6, 7, 8, 9, 10, 11, 12, 13, 14, 15, 7, 8, 9, 10, 11, 12, 13, 14, 15, 16, 8, 9, 10, 11, 12, 13, 14, 15, 16, 17, 9, 10, 11, 12, 13, 14, 15, 16, 17, 18, 10, 11, 12, 13, 14, 15, 16, 17, 18, 19, 11, 12, 13, 14, 15, 16, 17, 18, 19, 20, 3, 4, 5, 6, 7, 8, 9, 10, 11, 12, 4, 5, 6, 7, 8, 9, 10, 11, 12, 13, 5, 6, 7, 8, 9, 10, 11, 12, 13, 14, 6, 7, 8, 9, 10, 11, 12, 13, 14, 15, 7, 8, 9, 10, 11, 12, 13, 14, 15, 16, 8, 9, 10, 11, 12, 13, 14, 15, 16, 17, 9, 10, 11, 12, 13, 14, 15, 16, 17, 18, 10, 11, 12, 13, 14, 15, 16, 17, 18, 19, 11, 12, 13, 14, 15, 16, 17, 18, 19, 20, 12, 13, 14, 15, 16, 17, 18, 19, 20, 21, 4, 5, 6, 7, 8, 9, 10, 11, 12, 13, 5, 6, 7, 8, 9, 10, 11, 12, 13, 14, 6, 7, 8, 9, 10, 11, 12, 13, 14, 15, 7, 8, 9, 10, 11, 12, 13, 14, 15, 16, 8, 9, 10, 11, 12, 13, 14, 15, 16, 17, 9, 10, 11, 12, 13, 14, 15, 16, 17, 18, 10, 11, 12, 13, 14, 15, 16, 17, 18, 19, 11, 12, 13, 14, 15, 16, 17, 18, 19, 20, 12, 13, 14, 15, 16, 17, 18, 19, 20, 21, 13, 14, 15, 16, 17, 18, 19, 20, 21, 22, 5, 6, 7, 8, 9, 10, 11, 12, 13, 14, 6, 7, 8, 9, 10, 11, 12, 13, 14, 15, 7, 8, 9, 10, 11, 12, 13, 14, 15, 16, 8, 9, 10, 11, 12, 13, 14, 15, 16, 17, 9, 10, 11, 12, 13, 14, 15, 16, 17, 18, 10, 11, 12, 13, 14, 15, 16, 17, 18, 19, 11, 12, 13, 14, 15, 16, 17, 18, 19, 20, 12, 13, 14, 15, 16, 17, 18, 19, 20, 21, 13, 14, 15, 16, 17, 18, 19, 20, 21, 22, 14, 15, 16, 17, 18, 19, 20, 21, 22, 23, 6, 7, 8, 9, 10, 11, 12, 13, 14, 15, 7, 8, 9, 10, 11, 12, 13, 14, 15, 16, 8, 9, 10, 11, 12, 13, 14, 15, 16, 17, 9, 10, 11, 12, 13, 14, 15, 16, 17, 18, 10, 11, 12, 13, 14, 15, 16, 17, 18, 19, 11, 12, 13, 14, 15, 16, 17, 18, 19, 20, 12, 13, 14, 15, 16, 17, 18, 19, 20, 21, 13, 14, 15, 16, 17, 18, 19, 20, 21, 22, 14, 15, 16, 17, 18, 19, 20, 21, 22, 23, 15, 16, 17, 18, 19, 20, 21, 22, 23, 24, 7, 8, 9, 10, 11, 12, 13, 14, 15, 16, 8, 9, 10, 11, 12, 13, 14, 15, 16, 17, 9, 10, 11, 12, 13, 14, 15, 16, 17, 18, 10, 11, 12, 13, 14, 15, 16, 17, 18, 19, 11, 12, 13, 14, 15, 16, 17, 18, 19, 20, 12, 13, 14, 15, 16, 17, 18, 19, 20, 21, 13, 14, 15, 16, 17, 18, 19, 20, 21, 22, 14, 15, 16, 17, 18, 19, 20, 21, 22, 23, 15, 16, 17, 18, 19, 20, 21, 22, 23, 24, 16, 17, 18, 19, 20, 21, 22, 23, 24, 25, 8, 9, 10, 11, 12, 13, 14, 15, 16, 17, 9, 10, 11, 12, 13, 14, 15, 16, 17, 18, 10, 11, 12, 13, 14, 15, 16, 17, 18, 19, 11, 12, 13, 14, 15, 16, 17, 18, 19, 20, 12, 13, 14, 15, 16, 17, 18, 19, 20, 21, 13, 14, 15, 16, 17, 18, 19, 20, 21, 22, 14, 15, 16, 17, 18, 19, 20, 21, 22, 23, 15, 16, 17, 18, 19, 20, 21, 22, 23, 24, 16, 17, 18, 19, 20, 21, 22, 23, 24, 25, 17, 18, 19, 20, 21, 22, 23, 24, 25, 26, 9, 10, 11, 12, 13, 14, 15, 16, 17, 18, 10, 11, 12, 13, 14, 15, 16, 17, 18, 19, 11, 12, 13, 14, 15, 16, 17, 18, 19, 20, 12, 13, 14, 15, 16, 17, 18, 19, 20, 21, 13, 14, 15, 16, 17, 18, 19, 20, 21, 22, 14, 15, 16, 17, 18, 19, 20, 21, 22, 23, 15, 16, 17, 18, 19, 20, 21, 22, 23, 24, 16, 17, 18, 19, 20, 21, 22, 23, 24, 25, 17, 18, 19, 20, 21, 22, 23, 24, 25, 26, 18, 19, 20, 21, 22, 23, 24, 25, 26, 27, 1]\n"
     ]
    }
   ],
   "source": [
    "# qs 39\n",
    "numbers = range(1,1001)\n",
    "\n",
    "v = [(sum(int(digits) for digits in str(num))) for num in numbers]\n",
    "\n",
    "print(v)"
   ]
  },
  {
   "cell_type": "code",
   "execution_count": 21,
   "metadata": {},
   "outputs": [
    {
     "name": "stdout",
     "output_type": "stream",
     "text": [
      "[2, 3, 5, 7, 11, 101, 131, 151, 181, 191, 313, 353, 373, 383, 727, 757, 787, 797, 919, 929]\n"
     ]
    }
   ],
   "source": [
    "# qs 40\n",
    "\n",
    "# Define a function to check if a number is prime\n",
    "def is_prime(n):\n",
    "    if n <2:\n",
    "        return False\n",
    "    for i in range(2,int (n**0.5)+1):\n",
    "        if n%i==0:\n",
    "            return False\n",
    "    return True\n",
    "\n",
    "def is_pallindrome(n):\n",
    "    return str(n) == str(n)[::-1]\n",
    "\n",
    "prime_pallindromes = [n for n in range(1000) if is_prime(n) and is_pallindrome(n)]\n",
    "\n",
    "print(prime_pallindromes)\n"
   ]
  }
 ],
 "metadata": {
  "kernelspec": {
   "display_name": "Python 3",
   "language": "python",
   "name": "python3"
  },
  "language_info": {
   "codemirror_mode": {
    "name": "ipython",
    "version": 3
   },
   "file_extension": ".py",
   "mimetype": "text/x-python",
   "name": "python",
   "nbconvert_exporter": "python",
   "pygments_lexer": "ipython3",
   "version": "3.11.4"
  },
  "orig_nbformat": 4
 },
 "nbformat": 4,
 "nbformat_minor": 2
}
