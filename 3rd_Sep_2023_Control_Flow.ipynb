{
 "cells": [
  {
   "cell_type": "code",
   "execution_count": 1,
   "id": "c8b161dd-2663-4fc0-832d-ed2a60734468",
   "metadata": {},
   "outputs": [],
   "source": [
    "# Topic 1: Basic If Else Statements\n"
   ]
  },
  {
   "cell_type": "code",
   "execution_count": 7,
   "id": "7f92f962-71c8-40ca-9e76-ae20a660b4c7",
   "metadata": {},
   "outputs": [
    {
     "name": "stdout",
     "output_type": "stream",
     "text": [
      "enter your number:  96\n"
     ]
    },
    {
     "name": "stdout",
     "output_type": "stream",
     "text": [
      "your number is positive\n"
     ]
    }
   ],
   "source": [
    "# Question 1:\n",
    "\n",
    "user_input = 0\n",
    "user_input = int(input(\"enter your number: \"))\n",
    "\n",
    "if user_input < 0:\n",
    "    print(\"your number is negative\")\n",
    "elif user_input == 0:\n",
    "    print(\"your number is neither positive nor negative\")\n",
    "else:\n",
    "    print(\"your number is positive\")\n",
    "\n"
   ]
  },
  {
   "cell_type": "code",
   "execution_count": 10,
   "id": "0b17ed18-3d57-480d-b0af-f8c418ce3f84",
   "metadata": {},
   "outputs": [
    {
     "name": "stdout",
     "output_type": "stream",
     "text": [
      "enter your age:  21\n"
     ]
    },
    {
     "name": "stdout",
     "output_type": "stream",
     "text": [
      "you are eligible to vote\n"
     ]
    }
   ],
   "source": [
    "# Question 2:\n",
    "\n",
    "user_input = 0\n",
    "user_input = int(input(\"enter your age: \"))\n",
    "\n",
    "if user_input < 18:\n",
    "    print(\"you are not eligible to vote\")\n",
    "else:\n",
    "    print(\"you are eligible to vote\")\n"
   ]
  },
  {
   "cell_type": "code",
   "execution_count": 28,
   "id": "6eb7dbd5-5b4e-4139-a489-abd332c9f484",
   "metadata": {},
   "outputs": [
    {
     "name": "stdout",
     "output_type": "stream",
     "text": [
      "enter 2 numbers with space in between:  96 76\n"
     ]
    },
    {
     "name": "stdout",
     "output_type": "stream",
     "text": [
      "the max number is:  96\n"
     ]
    }
   ],
   "source": [
    "# Question 3\n",
    "\n",
    "user_input1, user_input2 = map(int, input(\"enter 2 numbers with space in between: \").split())\n",
    "\n",
    "max_num = 0\n",
    "if user_input1>user_input2:\n",
    "    max_num = user_input1\n",
    "    print(\"the max number is: \", user_input1)\n",
    "elif user_input1<user_input2:\n",
    "    max_num = user_input2\n",
    "    print(\"the max number is: \", user_input2)\n",
    "else:\n",
    "    print(\"both numbers are equal\")"
   ]
  },
  {
   "cell_type": "code",
   "execution_count": 13,
   "id": "fc0b8046-43fe-4e56-9c28-a733822b3453",
   "metadata": {},
   "outputs": [
    {
     "name": "stdout",
     "output_type": "stream",
     "text": [
      "what is the year:  2017\n"
     ]
    },
    {
     "name": "stdout",
     "output_type": "stream",
     "text": [
      "this is not a leap year\n"
     ]
    }
   ],
   "source": [
    "# Question 4\n",
    "\n",
    "# take the year as input\n",
    "year = int(input(\"what is the year: \"))\n",
    "\n",
    "# check if it is a leap year by checking if the difference b/w it and 2020 is divisible by 4\n",
    "if (year - 2020)%4 == 0: \n",
    "    print(\"this is a leap year\")\n",
    "else:\n",
    "    print(\"this is not a leap year\")"
   ]
  },
  {
   "cell_type": "code",
   "execution_count": 19,
   "id": "89082833-d554-46c8-8c26-ca637d8505cb",
   "metadata": {},
   "outputs": [
    {
     "name": "stdout",
     "output_type": "stream",
     "text": [
      "please input your character:  q\n"
     ]
    },
    {
     "name": "stdout",
     "output_type": "stream",
     "text": [
      "this is a consonant\n"
     ]
    }
   ],
   "source": [
    "# Question 5\n",
    "\n",
    "# take the character input\n",
    "char = input(\"please input your character: \")\n",
    "\n",
    "# check if the character is a vowel \n",
    "vowels = \"aeiouAEIOU\"\n",
    "\n",
    "if len(char) ==1:\n",
    "    if char in vowels:\n",
    "        print(\"this is a vowel\")\n",
    "    else:\n",
    "        print(\"this is a consonant\")\n",
    "else:\n",
    "    print(\"invalid input! only one character is allowed\")"
   ]
  },
  {
   "cell_type": "code",
   "execution_count": 22,
   "id": "72ae18ed-2f9a-4a7c-adbb-7fda406bd814",
   "metadata": {},
   "outputs": [
    {
     "name": "stdout",
     "output_type": "stream",
     "text": [
      "give me your number please:  21\n"
     ]
    },
    {
     "name": "stdout",
     "output_type": "stream",
     "text": [
      "this is odd\n"
     ]
    }
   ],
   "source": [
    "# Question 6\n",
    "\n",
    "# take user input\n",
    "num = int(input(\"give me your number please: \"))\n",
    "\n",
    "# check if the number is even or odd\n",
    "if num%2 == 0:\n",
    "    print(\"this is even\")\n",
    "else:\n",
    "    print(\"this is odd\")"
   ]
  },
  {
   "cell_type": "code",
   "execution_count": 25,
   "id": "a95514dd-a345-4de3-9398-c7c304812a5c",
   "metadata": {},
   "outputs": [
    {
     "name": "stdout",
     "output_type": "stream",
     "text": [
      "give me your number please:  54\n"
     ]
    },
    {
     "name": "stdout",
     "output_type": "stream",
     "text": [
      "the absolue value is:  54\n"
     ]
    }
   ],
   "source": [
    "# Question 7\n",
    "\n",
    "# take user input\n",
    "num = int(input(\"give me your number please: \"))\n",
    "\n",
    "# convert it into its absolute value\n",
    "if num < 0:\n",
    "    print(\"the absolute value is: \", -num)\n",
    "elif num == 0:\n",
    "    print(\"0 is its aboslute value\")\n",
    "else:\n",
    "    print(\"the absolue value is: \", num)"
   ]
  },
  {
   "cell_type": "code",
   "execution_count": 29,
   "id": "4305b632-bba9-4c84-8285-55facfd636f3",
   "metadata": {},
   "outputs": [
    {
     "name": "stdout",
     "output_type": "stream",
     "text": [
      "please enter your 3 numbers with space in between:  1 2 3\n"
     ]
    },
    {
     "name": "stdout",
     "output_type": "stream",
     "text": [
      "the greatest num is:  3\n"
     ]
    }
   ],
   "source": [
    "# Question 8\n",
    "\n",
    "# take the user input\n",
    "num1, num2, num3 = map(int, input(\"please enter your 3 numbers with space in between: \").split())\n",
    "\n",
    "\n",
    "# compare the numbers\n",
    "if num1>num2 and num1> num3:\n",
    "    print(\"the greatest num is: \", num1)\n",
    "elif num2>num1 and num2> num3:\n",
    "    print(\"the greatest num is :\", num2)\n",
    "else:\n",
    "    print(\"the greatest num is: \", num3)"
   ]
  },
  {
   "cell_type": "code",
   "execution_count": 2,
   "id": "15e2c726",
   "metadata": {},
   "outputs": [
    {
     "name": "stdout",
     "output_type": "stream",
     "text": [
      "this is not a pallindrome\n"
     ]
    }
   ],
   "source": [
    "# Question 9\n",
    "\n",
    "# take user input\n",
    "user_input = input(\"give me your string: \")\n",
    "\n",
    "# check for pallindrome sequence\n",
    "reverse_text = user_input[::-1]\n",
    "if reverse_text == user_input:\n",
    "    print(\"this is a pallindrome\")\n",
    "else:\n",
    "    print(\"this is not a pallindrome\")"
   ]
  },
  {
   "cell_type": "code",
   "execution_count": 14,
   "id": "23747371",
   "metadata": {},
   "outputs": [
    {
     "name": "stdout",
     "output_type": "stream",
     "text": [
      "your grade is:  B\n"
     ]
    }
   ],
   "source": [
    "# Question 10\n",
    "\n",
    "# take user input\n",
    "student_score = int(input(\"give me the studnet's score: \"))\n",
    "\n",
    "#define a grading variable\n",
    "grade = \"\"\n",
    "\n",
    "# define grading criterias\n",
    "if student_score >= 90 and student_score<=100: \n",
    "    grade=\"A\"\n",
    "elif student_score>=70 and student_score<=89:\n",
    "    grade=\"B\"\n",
    "elif student_score<=69 and student_score>=33:\n",
    "    grade=\"C\"\n",
    "elif student_score > 100:\n",
    "    grade = \"undefined! please enter valid score less than or equal to 100\"\n",
    "else:\n",
    "    grade=\"F\"\n",
    "# displaying the result\n",
    "if grade == \"F\":\n",
    "    print(\"you have failed the test\")\n",
    "else:\n",
    "    print(\"your grade is: \", grade)\n"
   ]
  },
  {
   "cell_type": "code",
   "execution_count": null,
   "id": "1a8aae23-eed0-4bb1-a6d8-17078c7a212a",
   "metadata": {},
   "outputs": [],
   "source": [
    "# Topic 2: Nested If Else Statements"
   ]
  },
  {
   "cell_type": "code",
   "execution_count": 21,
   "id": "094b0279-96d0-4f0b-994d-8363e60db3a4",
   "metadata": {},
   "outputs": [
    {
     "name": "stdout",
     "output_type": "stream",
     "text": [
      "Enter three numbers separated by spaces:  96 12 45\n"
     ]
    },
    {
     "name": "stdout",
     "output_type": "stream",
     "text": [
      "the largest number is:  96\n"
     ]
    }
   ],
   "source": [
    "# Question 11:\n",
    "\n",
    "num1, num2, num3 = map(int, input(\"Enter three numbers separated by spaces: \").split())\n",
    "\n",
    "largest = 0\n",
    "\n",
    "if num1 >= num2:\n",
    "    if num1 >= num3:\n",
    "        largest = num1\n",
    "    else:\n",
    "        largest = num3\n",
    "else:\n",
    "    if num2 >= num3:\n",
    "        largest = num2\n",
    "    else:\n",
    "        largest = num3\n",
    "    \n",
    "print(\"the largest number is: \", largest)"
   ]
  },
  {
   "cell_type": "code",
   "execution_count": 23,
   "id": "f1e55ffb-42a7-42cd-9c42-fe45f00a6a49",
   "metadata": {},
   "outputs": [
    {
     "name": "stdout",
     "output_type": "stream",
     "text": [
      "enter 3 sides of a triangle with spaces in between:  12 13 14\n"
     ]
    },
    {
     "name": "stdout",
     "output_type": "stream",
     "text": [
      "the triangle is of type:  scalene\n"
     ]
    }
   ],
   "source": [
    "# Question 12:\n",
    "\n",
    "side1, side2, side3 = map(int, input(\"enter 3 sides of a triangle with spaces in between: \").split())\n",
    "\n",
    "# first we check if the sides make a valid triangle \n",
    "\n",
    "if side1+side2>side3 and side2+side3>side1 and side3+side1>side2:\n",
    "    \n",
    "    #check the type of triangle\n",
    "    if side1==side2==side3:\n",
    "        triangle_type = \"equilateral\"\n",
    "    elif side1 == side2 or side2 == side3 or side3 == side1:\n",
    "        triangle_type = \"isosceles\"\n",
    "    else:\n",
    "        triangle_type = \"scalene\"\n",
    "        \n",
    "    # print the result\n",
    "    print(\"the triangle is of type: \", triangle_type)\n",
    "\n",
    "else:\n",
    "    print(\"the triangle is not valid\")"
   ]
  },
  {
   "cell_type": "code",
   "execution_count": 17,
   "id": "155f264e",
   "metadata": {},
   "outputs": [
    {
     "name": "stdout",
     "output_type": "stream",
     "text": [
      "it is a century year\n",
      "it is a leap year\n"
     ]
    }
   ],
   "source": [
    "# Question 13\n",
    "\n",
    "# take year input\n",
    "year = int(input(\"enter the year: \"))\n",
    "\n",
    "# check century year\n",
    "if year%100 == 0:\n",
    "    print(\"it is a century year\")\n",
    "else:\n",
    "    print(\"it is not a century year\")\n",
    "\n",
    "# check leap year\n",
    "if (year-2020)%4 == 0:\n",
    "    print(\"it is a leap year\")\n",
    "else:\n",
    "    print(\"it is not a leap year\")"
   ]
  },
  {
   "cell_type": "code",
   "execution_count": 18,
   "id": "b1903f1b",
   "metadata": {},
   "outputs": [
    {
     "name": "stdout",
     "output_type": "stream",
     "text": [
      "number is negative\n"
     ]
    }
   ],
   "source": [
    "# Question 14\n",
    "\n",
    "# take user input\n",
    "num = int(input(\"give me the number: \"))\n",
    "\n",
    "# check for the conditions\n",
    "if num>0:\n",
    "    print(\"number is positive\")\n",
    "elif num == 0:\n",
    "    print(\"number is zero\")\n",
    "else:\n",
    "    print(\"number is negative\")"
   ]
  },
  {
   "cell_type": "code",
   "execution_count": 21,
   "id": "3fa0eccc",
   "metadata": {},
   "outputs": [
    {
     "name": "stdout",
     "output_type": "stream",
     "text": [
      "you are not a teenager\n"
     ]
    }
   ],
   "source": [
    "# Question 15\n",
    "\n",
    "# take user input\n",
    "age = int(input(\"please enter your age: \"))\n",
    "\n",
    "# determining the teenager criteria\n",
    "if age>=13 and age<=19:\n",
    "    print(\"you are a teenager\")\n",
    "else: \n",
    "    print(\"you are not a teenager\")"
   ]
  },
  {
   "cell_type": "code",
   "execution_count": 24,
   "id": "b482b842",
   "metadata": {},
   "outputs": [
    {
     "name": "stdout",
     "output_type": "stream",
     "text": [
      "this angle is right\n"
     ]
    }
   ],
   "source": [
    "# Question 16\n",
    "\n",
    "# take user input\n",
    "angle = float(input(\"please enter the angle: \"))\n",
    "\n",
    "# checking\n",
    "if angle == 90.0: \n",
    "    print(\"this angle is right\")\n",
    "elif angle >=0.0 and angle< 90.0:\n",
    "    print(\"this is an acute angle\")\n",
    "elif angle >90 and angle <=180.0:\n",
    "    print(\"this is an obtuse angle\")\n",
    "else:\n",
    "    print(\"enter a valid angle b/w 0.0 to 180.0\")"
   ]
  },
  {
   "cell_type": "code",
   "execution_count": null,
   "id": "efe411fd",
   "metadata": {},
   "outputs": [],
   "source": [
    "# Question 17\n",
    "\n",
    "import math\n",
    "# Input coefficients a, b, and c from the user\n",
    "a = float(input(\"Enter the coefficient a: \"))\n",
    "b = float(input(\"Enter the coefficient b: \"))\n",
    "c = float(input(\"Enter the coefficient c: \"))\n",
    "\n",
    "# Calculate the discriminant\n",
    "discriminant = b**2 - 4*a*c\n",
    "\n",
    "# Check if the discriminant is positive, negative, or zero\n",
    "if discriminant > 0:\n",
    "    # Two real and distinct roots\n",
    "    root1 = (-b + math.sqrt(discriminant)) / (2*a)\n",
    "    root2 = (-b - math.sqrt(discriminant)) / (2*a)\n",
    "    print(f\"The roots are real and distinct: {root1} and {root2}\")\n",
    "elif discriminant == 0:\n",
    "    # One real root (repeated)\n",
    "    root = -b / (2*a)\n",
    "    print(f\"The root is real and repeated: {root}\")\n",
    "else:\n",
    "    # Complex roots\n",
    "    real_part = -b / (2*a)\n",
    "    imaginary_part = math.sqrt(-discriminant) / (2*a)\n",
    "    root1 = complex(real_part, imaginary_part)\n",
    "    root2 = complex(real_part, -imaginary_part)\n",
    "    print(f\"The roots are complex: {root1} and {root2}\")"
   ]
  },
  {
   "cell_type": "code",
   "execution_count": 3,
   "id": "e0e09a92",
   "metadata": {},
   "outputs": [
    {
     "name": "stdout",
     "output_type": "stream",
     "text": [
      "invalid input! enter a valid number b/w 1 and 7\n"
     ]
    }
   ],
   "source": [
    "# Question 18\n",
    "\n",
    "# take user input\n",
    "user_input = int(input(\"give me a number: \"))\n",
    "\n",
    "# define the use case\n",
    "days = [\"monday\", \"tuesday\", \"wednesday\", \"thursday\", \"friday\", \"saturday\", \"sunday\"]\n",
    "\n",
    "# display the output\n",
    "if 1<=user_input<=7:\n",
    "    print(\"your day for your given number is: \", days[user_input-1])\n",
    "else:\n",
    "    print(\"invalid input! enter a valid number b/w 1 and 7\")\n"
   ]
  },
  {
   "cell_type": "code",
   "execution_count": 4,
   "id": "81da4b4a",
   "metadata": {},
   "outputs": [
    {
     "name": "stdout",
     "output_type": "stream",
     "text": [
      "it is not evenly divisible by 400\n",
      "it is a leap year\n"
     ]
    }
   ],
   "source": [
    "# Question 19 \n",
    "\n",
    "# take year input\n",
    "year = int(input(\"enter the year: \"))\n",
    "\n",
    "# check century year\n",
    "if year%400 == 0:\n",
    "    print(\"it is evenly divisible by 400\")\n",
    "else:\n",
    "    print(\"it is not evenly divisible by 400\")\n",
    "\n",
    "# check leap year\n",
    "if (year-2020)%4 == 0:\n",
    "    print(\"it is a leap year\")\n",
    "else:\n",
    "    print(\"it is not a leap year\")"
   ]
  },
  {
   "cell_type": "code",
   "execution_count": 8,
   "id": "6fe866d6",
   "metadata": {},
   "outputs": [
    {
     "name": "stdout",
     "output_type": "stream",
     "text": [
      "29 is a prime number\n"
     ]
    }
   ],
   "source": [
    "# Question 20\n",
    "\n",
    "# take user input\n",
    "user_input = int(input(\"give me a number: \"))\n",
    "\n",
    "# test for prime\n",
    "if user_input < 2:\n",
    "    print(f\"{user_input} is not prime\")\n",
    "else: \n",
    "    is_prime = True\n",
    "\n",
    "    for i in range(2,int(user_input**0.5)+1):\n",
    "        if user_input%i==0:\n",
    "            is_prime = False\n",
    "            break\n",
    "    \n",
    "    if is_prime:\n",
    "        print(f\"{user_input} is a prime number\")\n",
    "    else:\n",
    "        print(f\"{user_input} is not a prime number\")"
   ]
  },
  {
   "cell_type": "code",
   "execution_count": 24,
   "id": "c15a2451-8e9b-4816-bc70-7343d8d0ae7a",
   "metadata": {},
   "outputs": [
    {
     "name": "stdout",
     "output_type": "stream",
     "text": [
      "enter the student's grade out of 100:  45\n"
     ]
    },
    {
     "name": "stdout",
     "output_type": "stream",
     "text": [
      "you need to improve your effort\n"
     ]
    }
   ],
   "source": [
    "# Topic 3: Elif statements\n",
    "\n",
    "# Question 21\n",
    "\n",
    "grade = int(input(\"enter the student's grade out of 100: \"))\n",
    "\n",
    "if grade>100:\n",
    "    print(\"invalid grade, grades can only be between 0 to 100\")\n",
    "elif grade>=90:\n",
    "    print(\"excellent! you are awesome\")\n",
    "elif 90>grade>=80:\n",
    "    print(\"wow! good job\")\n",
    "elif 80>grade>=70:\n",
    "    print(\"good job, you could do better. Aim higher\")\n",
    "elif 50>grade>33:\n",
    "    print(\"you need to improve your effort\")\n",
    "else:\n",
    "    print(\"you have failed! please try again\")"
   ]
  },
  {
   "cell_type": "code",
   "execution_count": 3,
   "id": "cc59b321",
   "metadata": {},
   "outputs": [
    {
     "name": "stdout",
     "output_type": "stream",
     "text": [
      "the triangle is an acute angle\n"
     ]
    }
   ],
   "source": [
    "# Question 22\n",
    "\n",
    "def typeofTriangle(angle):\n",
    "    if angle == 90:\n",
    "        print(\"the triangle is a right angle triangle\")\n",
    "    elif angle<90:\n",
    "        print(\"the triangle is an acute angle\")\n",
    "    elif angle >90:\n",
    "        print(\"the tiangle is obtuse\")\n",
    "    else:\n",
    "        print(\"please enter a valid angle in degress b/w 1 and 179\")\n",
    "\n",
    "angle = int(input(\"please enter a valid angle: \"))\n",
    "typeofTriangle(angle)"
   ]
  },
  {
   "cell_type": "code",
   "execution_count": 7,
   "id": "f263c442",
   "metadata": {},
   "outputs": [
    {
     "name": "stdout",
     "output_type": "stream",
     "text": [
      "you have a normal physique\n"
     ]
    }
   ],
   "source": [
    "# question 23\n",
    "\n",
    "def BMI(height,weight):\n",
    "    bmi = (weight/height**2)\n",
    "    if bmi < 18.5:\n",
    "        print(\"you are underweight\")\n",
    "    elif 18.5<bmi<24.9:\n",
    "        print(\"you have a normal physique\")\n",
    "    elif 25.0<bmi<29.9:\n",
    "        print(\"you are overweight\")\n",
    "    else:\n",
    "        print(\"you are very very overweight\")\n",
    "\n",
    "height=float(input(\"give me your height in meters: \"))\n",
    "weight=float(input(\"give me your weight in kilograms: \"))\n",
    "\n",
    "BMI(height,weight)"
   ]
  },
  {
   "cell_type": "code",
   "execution_count": 8,
   "id": "4360c52a",
   "metadata": {},
   "outputs": [
    {
     "name": "stdout",
     "output_type": "stream",
     "text": [
      "negative\n"
     ]
    }
   ],
   "source": [
    "# question 24\n",
    "\n",
    "def numberIdentifier(n):\n",
    "    if n == 0:\n",
    "        print(\"zero\")\n",
    "    elif n<0:\n",
    "        print(\"negative\")\n",
    "    else:\n",
    "        print(\"positive\")\n",
    "\n",
    "numberIdentifier(-3)"
   ]
  },
  {
   "cell_type": "code",
   "execution_count": 12,
   "id": "ca013c88",
   "metadata": {},
   "outputs": [
    {
     "name": "stdout",
     "output_type": "stream",
     "text": [
      "this is a special character\n"
     ]
    }
   ],
   "source": [
    "# question 25\n",
    "\n",
    "is_upper = lambda char: char.isupper()\n",
    "is_lower = lambda char: char.islower()\n",
    "is_special = lambda char: not char.isalpha()\n",
    "\n",
    "char = input(\"enter a character: \")\n",
    "\n",
    "if is_upper(char):\n",
    "    print('the character is uppercase')\n",
    "elif is_lower(char):\n",
    "    print(\"the character is lowercase\")\n",
    "elif is_special(char):\n",
    "    print(\"this is a special character\")\n",
    "else:\n",
    "    print(\"invalid input\")"
   ]
  },
  {
   "cell_type": "code",
   "execution_count": 17,
   "id": "0cd79200",
   "metadata": {},
   "outputs": [
    {
     "name": "stdout",
     "output_type": "stream",
     "text": [
      "800.0\n"
     ]
    }
   ],
   "source": [
    "# question 26\n",
    "\n",
    "def finalPrice(bill):\n",
    "    \n",
    "    if 1000>bill>100:\n",
    "        discount = 0.15\n",
    "    elif 5000>bill>=1000:\n",
    "        discount = 0.20\n",
    "    elif bill>5000:\n",
    "        discount = 0.25\n",
    "    else:\n",
    "        discount = 0.0\n",
    "\n",
    "    final_price=bill-bill*discount\n",
    "    return final_price\n",
    "\n",
    "\n",
    "bill = float(input(\"please enter the final bill amount: \"))\n",
    "print(finalPrice(bill))"
   ]
  },
  {
   "cell_type": "code",
   "execution_count": 1,
   "id": "57632005",
   "metadata": {},
   "outputs": [
    {
     "name": "stdout",
     "output_type": "stream",
     "text": [
      "210.0\n"
     ]
    }
   ],
   "source": [
    "# question 27\n",
    "\n",
    "def powerBill (units):\n",
    "    if units<100:\n",
    "        slab_price = 1\n",
    "    elif units<200:\n",
    "        slab_price = 1.5\n",
    "    else:\n",
    "        slab_price = 2\n",
    "\n",
    "    price = units * slab_price\n",
    "    return price\n",
    "\n",
    "units = float(input(\"what is the monthly usage in units: \"))\n",
    "\n",
    "print(powerBill(units))\n"
   ]
  },
  {
   "cell_type": "code",
   "execution_count": 1,
   "id": "e3dd1869",
   "metadata": {},
   "outputs": [
    {
     "name": "stdout",
     "output_type": "stream",
     "text": [
      "the type of quadrilateral is:  square\n"
     ]
    }
   ],
   "source": [
    "# question 28\n",
    "\n",
    "def quadrilateralType(a,b,c,d):\n",
    "    if a==b==c==d:\n",
    "        return \"square\"\n",
    "    elif a==b and c==d:\n",
    "        return \"rectangle\"\n",
    "    elif a==b==d or b==c==d:\n",
    "        return \"rhombus\"\n",
    "    elif a==c and b==d or a==b and c==d:\n",
    "        return \"parallelogram\"\n",
    "    elif a+c == 180 and b+d == 180:\n",
    "        return \"trapezoid\"\n",
    "    else:\n",
    "        return \"quadrilateral\"\n",
    "    \n",
    "angle1 = int(input(\"enter the first angle: \"))\n",
    "angle2 = int(input(\"enter the 2nd angle: \"))\n",
    "angle3 = int(input(\"enter the 3rd angle: \"))\n",
    "angle4 = int(input(\"enter the 4th angel: \"))\n",
    "\n",
    "print(\"the type of quadrilateral is: \",quadrilateralType(angle1,angle2,angle3,angle4))"
   ]
  },
  {
   "cell_type": "code",
   "execution_count": 2,
   "id": "62fb6d26",
   "metadata": {},
   "outputs": [
    {
     "name": "stdout",
     "output_type": "stream",
     "text": [
      "the season of your month is:  summer\n"
     ]
    }
   ],
   "source": [
    "# question 29\n",
    "\n",
    "def seasonMonth(n):\n",
    "    if 3<=n<6:\n",
    "        return \"summer\"\n",
    "    elif 6<=n<10:\n",
    "        return \"rainy\"\n",
    "    elif 10<=n<3:\n",
    "        return \"winter\"\n",
    "    \n",
    "month_number = int(input(\"enter the number of your month: \"))\n",
    "\n",
    "print(\"the season of your month is: \",seasonMonth(month_number))"
   ]
  },
  {
   "cell_type": "code",
   "execution_count": 5,
   "id": "bd4d78b6",
   "metadata": {},
   "outputs": [
    {
     "name": "stdout",
     "output_type": "stream",
     "text": [
      "('leap year & ', 'sep')\n"
     ]
    }
   ],
   "source": [
    "# question 30\n",
    "\n",
    "set_of_months = {1:\"jan\",2:\"feb\",3:\"mar\",4:\"apr\",5:\"may\",6:\"jun\",7:\"jul\",8:\"aug\",9:\"sep\",10:\"oct\",11:\"nov\",12:\"dec\"}\n",
    "def yearAndMonthType(a,b):\n",
    "    if (abs(a-2020))%4==0:\n",
    "        return \"leap year & \", set_of_months.get(b,None)\n",
    "    else:\n",
    "        return \"normal year & \", set_of_months.get(b,None)\n",
    "    \n",
    "year = int(input(\"please enter the year: \"))\n",
    "month = int(input(\"enter the month number: \"))\n",
    "\n",
    "print(yearAndMonthType(year,month))\n"
   ]
  },
  {
   "cell_type": "code",
   "execution_count": 7,
   "id": "1c030748-09c0-4086-9da7-8d91c0802243",
   "metadata": {},
   "outputs": [
    {
     "name": "stdout",
     "output_type": "stream",
     "text": [
      "enter a number:  0\n"
     ]
    },
    {
     "name": "stdout",
     "output_type": "stream",
     "text": [
      "number is zero\n"
     ]
    }
   ],
   "source": [
    "# Topic 4: Basic Level\n",
    "\n",
    "# Question 1\n",
    "\n",
    "number = int(input(\"enter a number: \"))\n",
    "\n",
    "if number>0:\n",
    "    print(\"number is positive\")\n",
    "elif number == 0:\n",
    "    print(\"number is zero\")\n",
    "else:\n",
    "    print(\"number is negative\")"
   ]
  },
  {
   "cell_type": "code",
   "execution_count": 8,
   "id": "1bb42a4b",
   "metadata": {},
   "outputs": [
    {
     "name": "stdout",
     "output_type": "stream",
     "text": [
      "you are eligible to vote\n"
     ]
    }
   ],
   "source": [
    "# question 2\n",
    "\n",
    "\n",
    "v = lambda age: \"you are eligible to vote\" if age >=18 else \"you are ineligible to vote\"\n",
    "print(v(23))\n"
   ]
  },
  {
   "cell_type": "code",
   "execution_count": 12,
   "id": "84c7bb5c",
   "metadata": {},
   "outputs": [
    {
     "name": "stdout",
     "output_type": "stream",
     "text": [
      "a and b are equal\n"
     ]
    }
   ],
   "source": [
    "# question 3\n",
    "\n",
    "max_num = lambda a,b: \"a is bigger\" if a>b else \"b is bigger\" if a<b  else \"a and b are equal\"\n",
    "print(max_num(7,7))"
   ]
  },
  {
   "cell_type": "code",
   "execution_count": null,
   "id": "e55f4002",
   "metadata": {},
   "outputs": [],
   "source": [
    "# question 4\n",
    "\n",
    "# take user input\n",
    "student_score = int(input(\"give me the studnet's score: \"))\n",
    "\n",
    "#define a grading variable\n",
    "grade = \"\"\n",
    "\n",
    "# define grading criterias\n",
    "if student_score >= 90 and student_score<=100: \n",
    "    grade=\"A\"\n",
    "elif student_score>=70 and student_score<=89:\n",
    "    grade=\"B\"\n",
    "elif student_score<=69 and student_score>=33:\n",
    "    grade=\"C\"\n",
    "elif student_score > 100:\n",
    "    grade = \"undefined! please enter valid score less than or equal to 100\"\n",
    "else:\n",
    "    grade=\"F\"\n",
    "# displaying the result\n",
    "if grade == \"F\":\n",
    "    print(\"you have failed the test\")\n",
    "else:\n",
    "    print(\"your grade is: \", grade)"
   ]
  },
  {
   "cell_type": "code",
   "execution_count": 16,
   "id": "96f453fa",
   "metadata": {},
   "outputs": [
    {
     "name": "stdout",
     "output_type": "stream",
     "text": [
      "False\n"
     ]
    }
   ],
   "source": [
    "# question 5\n",
    "\n",
    "leap = lambda year: True if (year%4==0 and year%100!=0) or year% 400==0 else False\n",
    "print(leap(1900))"
   ]
  },
  {
   "cell_type": "code",
   "execution_count": 18,
   "id": "9ca1b6c1",
   "metadata": {},
   "outputs": [
    {
     "name": "stdout",
     "output_type": "stream",
     "text": [
      "the triangle is of type:  scalene\n"
     ]
    }
   ],
   "source": [
    "# question 6\n",
    "\n",
    "side1, side2, side3 = map(int, input(\"enter 3 sides of a triangle with spaces in between: \").split())\n",
    "\n",
    "# first we check if the sides make a valid triangle \n",
    "\n",
    "if side1+side2>side3 and side2+side3>side1 and side3+side1>side2:\n",
    "    \n",
    "    #check the type of triangle\n",
    "    if side1==side2==side3:\n",
    "        triangle_type = \"equilateral\"\n",
    "    elif side1 == side2 or side2 == side3 or side3 == side1:\n",
    "        triangle_type = \"isosceles\"\n",
    "    else:\n",
    "        triangle_type = \"scalene\"\n",
    "        \n",
    "    # print the result\n",
    "    print(\"the triangle is of type: \", triangle_type)\n",
    "\n",
    "else:\n",
    "    print(\"the triangle is not valid\")"
   ]
  },
  {
   "cell_type": "code",
   "execution_count": 20,
   "id": "ddfdc7b5",
   "metadata": {},
   "outputs": [
    {
     "name": "stdout",
     "output_type": "stream",
     "text": [
      "9\n"
     ]
    }
   ],
   "source": [
    "# question 7\n",
    "\n",
    "v = lambda a,b,c: a if a>b and a>c else b if b>a and b>c else c\n",
    "print(v(3,9,1))"
   ]
  },
  {
   "cell_type": "code",
   "execution_count": 22,
   "id": "6705f0d2",
   "metadata": {},
   "outputs": [
    {
     "name": "stdout",
     "output_type": "stream",
     "text": [
      "consonant\n"
     ]
    }
   ],
   "source": [
    "# question 8\n",
    "v = lambda a : \"Vowel\" if a in {\"a\",\"e\",\"i\",\"o\",\"u\"} else \"consonant\"\n",
    "a = str(input(\"input a char: \"))\n",
    "print(v(a))"
   ]
  },
  {
   "cell_type": "code",
   "execution_count": 23,
   "id": "1e1899f7",
   "metadata": {},
   "outputs": [
    {
     "name": "stdout",
     "output_type": "stream",
     "text": [
      "2000.0\n"
     ]
    }
   ],
   "source": [
    "# question 9\n",
    "\n",
    "def finalPrice(cart):\n",
    "    \n",
    "    if 1000>cart>100:\n",
    "        discount = 0.15\n",
    "    elif 5000>cart>=1000:\n",
    "        discount = 0.20\n",
    "    elif cart>5000:\n",
    "        discount = 0.25\n",
    "    else:\n",
    "        discount = 0.0\n",
    "\n",
    "    final_price=cart-cart*discount\n",
    "    return final_price\n",
    "\n",
    "\n",
    "cart = float(input(\"please enter the final bill amount: \"))\n",
    "print(finalPrice(cart))"
   ]
  },
  {
   "cell_type": "code",
   "execution_count": 24,
   "id": "b0709b04",
   "metadata": {},
   "outputs": [
    {
     "name": "stdout",
     "output_type": "stream",
     "text": [
      "Odd\n"
     ]
    }
   ],
   "source": [
    "# question 10\n",
    "\n",
    "v = lambda n : \"Even\" if n%2==0 else \"Odd\"\n",
    "print(v(25))"
   ]
  },
  {
   "cell_type": "code",
   "execution_count": 4,
   "id": "64e08b8d-95ab-49d0-89d8-37c2f9b58c3d",
   "metadata": {},
   "outputs": [
    {
     "name": "stdout",
     "output_type": "stream",
     "text": [
      "Enter the coefficient a:  5\n",
      "Enter the coefficient b:  4\n",
      "Enter the coefficient c:  3\n"
     ]
    },
    {
     "name": "stdout",
     "output_type": "stream",
     "text": [
      "The roots are complex: (-0.4+0.6633249580710799j) and (-0.4-0.6633249580710799j)\n"
     ]
    }
   ],
   "source": [
    "# Topic 5: Intermediate Level\n",
    "\n",
    "# Question 11\n",
    "\n",
    "import math\n",
    "# Input coefficients a, b, and c from the user\n",
    "a = float(input(\"Enter the coefficient a: \"))\n",
    "b = float(input(\"Enter the coefficient b: \"))\n",
    "c = float(input(\"Enter the coefficient c: \"))\n",
    "\n",
    "# Calculate the discriminant\n",
    "discriminant = b**2 - 4*a*c\n",
    "\n",
    "# Check if the discriminant is positive, negative, or zero\n",
    "if discriminant > 0:\n",
    "    # Two real and distinct roots\n",
    "    root1 = (-b + math.sqrt(discriminant)) / (2*a)\n",
    "    root2 = (-b - math.sqrt(discriminant)) / (2*a)\n",
    "    print(f\"The roots are real and distinct: {root1} and {root2}\")\n",
    "elif discriminant == 0:\n",
    "    # One real root (repeated)\n",
    "    root = -b / (2*a)\n",
    "    print(f\"The root is real and repeated: {root}\")\n",
    "else:\n",
    "    # Complex roots\n",
    "    real_part = -b / (2*a)\n",
    "    imaginary_part = math.sqrt(-discriminant) / (2*a)\n",
    "    root1 = complex(real_part, imaginary_part)\n",
    "    root2 = complex(real_part, -imaginary_part)\n",
    "    print(f\"The roots are complex: {root1} and {root2}\")\n"
   ]
  },
  {
   "cell_type": "code",
   "execution_count": 28,
   "id": "6014c219",
   "metadata": {},
   "outputs": [
    {
     "name": "stdout",
     "output_type": "stream",
     "text": [
      "Thursday\n"
     ]
    }
   ],
   "source": [
    "# question 12\n",
    "\n",
    "day_of_week = {1:\"Monday\",2:\"Tuesday\",3:\"wednesday\",4:\"Thursday\",5:\"Friday\",6:\"saturday\",7:\"Sunday\"}\n",
    "v = lambda n : day_of_week.get(n) \n",
    "print(v(4))"
   ]
  },
  {
   "cell_type": "code",
   "execution_count": 30,
   "id": "967b036f",
   "metadata": {},
   "outputs": [
    {
     "data": {
      "text/plain": [
       "120"
      ]
     },
     "execution_count": 30,
     "metadata": {},
     "output_type": "execute_result"
    }
   ],
   "source": [
    "# question 13\n",
    "\n",
    "def factorial(n):\n",
    "    if n == 0:\n",
    "        return 1\n",
    "    else:\n",
    "        return n*factorial(n-1)\n",
    "    \n",
    "factorial(5)"
   ]
  },
  {
   "cell_type": "code",
   "execution_count": null,
   "id": "71910703",
   "metadata": {},
   "outputs": [],
   "source": [
    "# question 14\n",
    "\n",
    "v = lambda a,b,c: a if a>b and a>c else b if b>a and b>c else c\n",
    "print(v(3,9,1))"
   ]
  },
  {
   "cell_type": "code",
   "execution_count": 32,
   "id": "2e0d1db6",
   "metadata": {},
   "outputs": [
    {
     "name": "stdout",
     "output_type": "stream",
     "text": [
      "your SB has 10000INR and your CU has 4000\n"
     ]
    },
    {
     "name": "stdout",
     "output_type": "stream",
     "text": [
      "your final balance:  7500\n"
     ]
    }
   ],
   "source": [
    "# question 15\n",
    "SB_balance = 10000\n",
    "current_balance = 4000\n",
    "def atm():\n",
    "    print(f\"your SB has {SB_balance}INR and your CU has {current_balance}\")\n",
    "    user_input = input(\"from which acc. do you want to withdraw from? SB or CU: \")\n",
    "    user_input1 = int(input(\"how much do you want to withdraw?: \"))\n",
    "    if user_input == \"SB\":\n",
    "        print(\"your final balance: \", SB_balance-user_input1)\n",
    "    elif user_input == \"CU\":\n",
    "        print(\"your final balance: \", current_balance-user_input1)\n",
    "    else:\n",
    "        print(\"invalid input! Retry\")\n",
    "\n",
    "atm()"
   ]
  },
  {
   "cell_type": "code",
   "execution_count": 34,
   "id": "bbbeb107",
   "metadata": {},
   "outputs": [
    {
     "data": {
      "text/plain": [
       "False"
      ]
     },
     "execution_count": 34,
     "metadata": {},
     "output_type": "execute_result"
    }
   ],
   "source": [
    "# question 16\n",
    "\n",
    "v = lambda n : True if n[::-1] == n else False\n",
    "v(\"kannada\")"
   ]
  },
  {
   "cell_type": "code",
   "execution_count": 37,
   "id": "d53b9e21",
   "metadata": {},
   "outputs": [
    {
     "data": {
      "text/plain": [
       "6.0"
      ]
     },
     "execution_count": 37,
     "metadata": {},
     "output_type": "execute_result"
    }
   ],
   "source": [
    "# question 17\n",
    "from statistics import mean\n",
    "\n",
    "list_of_numbers = [1,2,3,4,5,6,7,8,9,10]\n",
    "v = lambda n : float(mean(list_of_numbers[2:len(list_of_numbers)-1]))\n",
    "v(list_of_numbers)"
   ]
  },
  {
   "cell_type": "code",
   "execution_count": 38,
   "id": "49008a72",
   "metadata": {},
   "outputs": [
    {
     "data": {
      "text/plain": [
       "77.0"
      ]
     },
     "execution_count": 38,
     "metadata": {},
     "output_type": "execute_result"
    }
   ],
   "source": [
    "# question 18\n",
    "\n",
    "v = lambda c : ((c/5)*9)+32 \n",
    "v(25)"
   ]
  },
  {
   "cell_type": "code",
   "execution_count": 52,
   "id": "0d84063b",
   "metadata": {},
   "outputs": [
    {
     "data": {
      "text/plain": [
       "4"
      ]
     },
     "execution_count": 52,
     "metadata": {},
     "output_type": "execute_result"
    }
   ],
   "source": [
    "# question 19\n",
    "\n",
    "def calculator (num1,num2,operation):\n",
    "    if operation == \"add\" or operation ==\"+\":\n",
    "        return (num1 + num2)\n",
    "    elif operation == \"subtract\" or operation =='-':\n",
    "        return (num1 - num2)\n",
    "    elif operation == \"multiply\" or operation ==\"*\":\n",
    "        return (num1* num2)\n",
    "    elif operation == \"division\" or operation ==\"/\":\n",
    "        return float(num1/num2)\n",
    "\n",
    "    \n",
    "calculator (6,2,\"-\")"
   ]
  },
  {
   "cell_type": "code",
   "execution_count": 40,
   "id": "23c76188",
   "metadata": {},
   "outputs": [
    {
     "data": {
      "text/plain": [
       "[(0.6666666666666666+0j), (0.6666666666666666+0j), (0.6666666666666666+0j)]"
      ]
     },
     "execution_count": 40,
     "metadata": {},
     "output_type": "execute_result"
    }
   ],
   "source": [
    "# question 20\n",
    "\n",
    "import cmath\n",
    "\n",
    "def cardano_formula(a,b,c,d):\n",
    "    \"\"\"\n",
    "    args:\n",
    "        a: coefficient of x^3 term\n",
    "        b: coefficient of x^2 term\n",
    "        c: coefficient of x term\n",
    "        d: constant term\n",
    "    returns:\n",
    "        list of three roots of the cubic equation\n",
    "    \"\"\"\n",
    "\n",
    "    # calculating the disriminant\n",
    "    discriminant = b**2-4*a*c+12*a*d\n",
    "\n",
    "    # if the discriminant is positive, there are 3 real roots\n",
    "    if discriminant>0:\n",
    "        root1 = (-b+cmath.sqrt(discriminant))/(3*a)\n",
    "        root2 = (b+cmath.sqrt(discriminant))/(3*a)\n",
    "        root3 = (-b+2*cmath.sqrt(-discriminant))/(3*a)\n",
    "\n",
    "        return [root1,root2,root3]\n",
    "    # if the discriminant is zero, there is one real root and two complex roots\n",
    "    elif discriminant == 0:\n",
    "        root1 = (-b+cmath.sqrt(discriminant))/(3*a)\n",
    "\n",
    "        return [root1,root1,root1]\n",
    "    # if the discriminant is negative, there are 3 complex roots\n",
    "    else:\n",
    "        root1 = (-b + cmath.sqrt(-discriminant)) / (3 * a)\n",
    "        root2 = (-b - cmath.sqrt(-discriminant)) / (3 * a)\n",
    "        root3 = (-b + 2 * cmath.sqrt(-discriminant)) / (3 * a)\n",
    "\n",
    "        return [root1,root2,root3]\n",
    "    \n",
    "\n",
    "cardano_formula(1,-2,1,0)"
   ]
  },
  {
   "cell_type": "code",
   "execution_count": 7,
   "id": "8ffc4145-5bed-4096-8514-575e0ca0334e",
   "metadata": {},
   "outputs": [
    {
     "name": "stdout",
     "output_type": "stream",
     "text": [
      "enter your annual income:  5000000\n"
     ]
    },
    {
     "name": "stdout",
     "output_type": "stream",
     "text": [
      "your tax payable is:  470000.0\n"
     ]
    }
   ],
   "source": [
    "# Topic 6: Advanced Level\n",
    "\n",
    "# Question 21\n",
    "\n",
    "# ask the user for income\n",
    "user_income = int(input(\"enter your annual income: \"))\n",
    "\n",
    "# defining the tax brackets\n",
    "tax_bracket_1 = 300000\n",
    "tax_bracket_2 = 600000\n",
    "tax_bracket_3 = 1200000\n",
    "tax_bracket_4 = 1800000\n",
    "tax_bracket_5 = 3000000\n",
    "\n",
    "# calculating tax based on income levels assuming 10 % universal tax rate\n",
    "if user_income >= tax_bracket_1:\n",
    "    print(\"your tax payable is: \", (user_income - tax_bracket_1)*0.1)\n",
    "elif user_income >= tax_bracket_2:\n",
    "    print(\"your tax payable is: \", (10000+(user_income-tax_bracket_2)*0.1))\n",
    "elif user_income >= tax_bracket_3:\n",
    "    print(\"your tax payable is: \", (20000+(user_income-tax_bracket_3)*0.1))\n",
    "elif user_income >= tax_bracket_4:\n",
    "    print(\"your tax payable is: \", (30000+(user_income-tax_bracket_2)*0.1))\n",
    "elif user_income >= tax_bracket_5:\n",
    "    print(\"your tax payable is: \", (40000+(user_income-tax_bracket_2)*0.1))\n",
    "else:\n",
    "    print(\"you will pay no tax\")"
   ]
  },
  {
   "cell_type": "code",
   "execution_count": 57,
   "id": "346ebd21",
   "metadata": {},
   "outputs": [
    {
     "name": "stdout",
     "output_type": "stream",
     "text": [
      "computer choice:  paper\n",
      "you lose!\n"
     ]
    }
   ],
   "source": [
    "# question 22\n",
    "\n",
    "import random\n",
    "\n",
    "def rock_paper_scissor():\n",
    "    choices = [\"rock\",\"paper\",\"scissors\"]\n",
    "    computer_choice = random.choice(choices)\n",
    "\n",
    "    user_choice = input(\"enter your choice (rock, paper, scissors): \")\n",
    "    while user_choice not in choices:\n",
    "        print(\"invalid choice. please try again\")\n",
    "        user_choice = input(\"enter your choice (rock, paper, scissors): \")\n",
    "\n",
    "    print(\"computer choice: \", computer_choice)\n",
    "\n",
    "    if user_choice == computer_choice:\n",
    "        return \"it is a tie!\"\n",
    "    if (user_choice == \"rock\" and computer_choice == \"scissors\") or \\\n",
    "          (user_choice == \"scissors\" and computer_choice == \"paper\") or \\\n",
    "            (user_choice == \"paper\" and computer_choice == \"rock\"):\n",
    "        return \"you win!\"\n",
    "    else:\n",
    "        return \"you lose!\"\n",
    "    \n",
    "print(rock_paper_scissor())"
   ]
  },
  {
   "cell_type": "code",
   "execution_count": 61,
   "id": "419b0cd5",
   "metadata": {},
   "outputs": [
    {
     "name": "stdout",
     "output_type": "stream",
     "text": [
      "0j6kZ5Ix\n"
     ]
    }
   ],
   "source": [
    "# question 23\n",
    "\n",
    "import string\n",
    "import random\n",
    "\n",
    "def passGenerator(length, complexity):\n",
    "    if complexity == 1:\n",
    "        chars = string.ascii_lowercase\n",
    "    elif complexity ==2:\n",
    "        chars = string.ascii_letters\n",
    "    elif complexity ==3:\n",
    "        chars = string.ascii_letters + string.digits\n",
    "    elif complexity ==4:\n",
    "        chars = string.ascii_letters + string.digits + string.punctuation\n",
    "    else:\n",
    "        return \"invalid complexity level, please choose between 1 and 4\"\n",
    "    \n",
    "    password = ''.join(random.choice(chars) for i in range(length))\n",
    "    return password\n",
    "\n",
    "length = int(input(\"enter the desired password length: \"))\n",
    "complexity = int(input(\"enter the desired password complexity (1-4): \"))\n",
    "\n",
    "print(passGenerator(length, complexity))"
   ]
  },
  {
   "cell_type": "code",
   "execution_count": 63,
   "id": "cc6edd0f",
   "metadata": {},
   "outputs": [
    {
     "name": "stdout",
     "output_type": "stream",
     "text": [
      "welcome to the adventure game!\n",
      "you are standing at the edge of a dark forest\n",
      "do you want to go in? (yes/no)\n",
      "you are now in the forest\n",
      "There are two paths in front of you: one leads deeper into the forest, and the other leads to a house.\n",
      "which path do you choose?\n",
      "invalid choice, game over\n"
     ]
    }
   ],
   "source": [
    "# question 24\n",
    "\n",
    "def adventure_game():\n",
    "    print(\"welcome to the adventure game!\")\n",
    "    print(\"you are standing at the edge of a dark forest\")\n",
    "    print(\"do you want to go in? (yes/no)\")\n",
    "\n",
    "    choice = input(\"> \")\n",
    "\n",
    "    if choice.lower() == \"yes\":\n",
    "        forest()\n",
    "    else:\n",
    "        print(\"you are not ready for the adventure\")\n",
    "\n",
    "def forest():\n",
    "    print(\"you are now in the forest\")\n",
    "    print(\"There are two paths in front of you: one leads deeper into the forest, and the other leads to a house.\")\n",
    "    print(\"which path do you choose?\")\n",
    "\n",
    "    choice = input(\"> \")\n",
    "    if choice.lower() == \"forest\":\n",
    "        deeper_forest()\n",
    "    elif choice.lower() == \"house\":\n",
    "        house()\n",
    "    else:\n",
    "        print(\"invalid choice, game over\")\n",
    "\n",
    "def deeper_forest():\n",
    "    print(\"You are now deeper in the forest.\")\n",
    "    print(\"You see a bear sleeping nearby. What do you do? (run away/sneak past)\")\n",
    "\n",
    "    choice = input(\"> \")\n",
    "    if choice.lower() == \"run away\":\n",
    "        print(\"You run away safely. Good job!\")\n",
    "    elif choice.lower() == \"sneak past\":\n",
    "        print(\"The bear wakes up and chases you out of the forest. Game Over.\")\n",
    "    else:\n",
    "        print(\"Invalid choice. Game Over.\")\n",
    "\n",
    "def house():\n",
    "    print(\"You are now in front of the house.\")\n",
    "    print(\"The door is slightly open. Do you go inside? (yes/no)\")\n",
    "\n",
    "    choice = input(\"> \")\n",
    "    if choice.lower() == \"yes\":\n",
    "        inside_house()\n",
    "    else:\n",
    "        print(\"You decide to stay outside. Suddenly, a wolf comes out of the forest and chases you away. Game Over.\")\n",
    "\n",
    "def inside_house():\n",
    "    print(\"Inside the house, you find a treasure chest!\")\n",
    "    print(\"Congratulations, you won the game!\")\n",
    "\n",
    "# Start the game\n",
    "adventure_game()"
   ]
  },
  {
   "cell_type": "code",
   "execution_count": 64,
   "id": "837a8621",
   "metadata": {},
   "outputs": [
    {
     "name": "stdout",
     "output_type": "stream",
     "text": [
      "-1.4\n"
     ]
    }
   ],
   "source": [
    "# question 25\n",
    "\n",
    "# using a simple linear equation like ax+b = 0 as a template\n",
    "\n",
    "def linearEquations(a,b):\n",
    "    if a == 0 and b == 0:\n",
    "        return \"the solution is true for all real numbers\"\n",
    "    elif a == 0:\n",
    "        return \"no solution\"\n",
    "    else:\n",
    "        return -b/a\n",
    "    \n",
    "c1 = float(input(\"enter the coefficient a: \"))\n",
    "c2 = float(input(\"enter the coefficient b: \"))\n",
    "\n",
    "print(linearEquations(c1,c2))"
   ]
  },
  {
   "cell_type": "code",
   "execution_count": 65,
   "id": "bb3ea79f",
   "metadata": {},
   "outputs": [
    {
     "name": "stdout",
     "output_type": "stream",
     "text": [
      "welcome to the KBC!\n",
      "your question : what is the nationality of the current world bank chief?\n",
      "a: chinese, b: indian, c: hungarian, d: american\n",
      "congratulations!\n"
     ]
    }
   ],
   "source": [
    "# question 26\n",
    "\n",
    "def quizGame():\n",
    "    print(\"welcome to the KBC!\")\n",
    "    print(\"your question : what is the nationality of the current world bank chief?\")\n",
    "    print(\"a: chinese, b: indian, c: hungarian, d: american\")\n",
    "\n",
    "    a = input(\"enter your response: \")\n",
    "    if a == \"a\"or a==\"c\" or a ==\"d\" :\n",
    "        print(\"Wrong Answer!\")\n",
    "    elif a == \"b\":\n",
    "        print(\"congratulations! you are correct\")\n",
    "    else:\n",
    "        print(\"invalid input\")\n",
    "\n",
    "quizGame()"
   ]
  },
  {
   "cell_type": "code",
   "execution_count": 86,
   "id": "2a86f93a",
   "metadata": {},
   "outputs": [
    {
     "name": "stdout",
     "output_type": "stream",
     "text": [
      "1978 is not a prime number\n"
     ]
    }
   ],
   "source": [
    "# question 27\n",
    "\n",
    "year = int(input(\"enter the year: \"))\n",
    "\n",
    "if year >1:\n",
    "    for i in range(2,int(year/2)+1):  # If num is divisible by any number between 2 and n / 2, it is not prime\n",
    "        if (year%i)==0:\n",
    "            print(year, \"is not a prime number\")\n",
    "            break\n",
    "        else:\n",
    "            print(year,\"is a prime number\")\n",
    "else:\n",
    "    print(year, \"is not a prime number\")\n"
   ]
  },
  {
   "cell_type": "code",
   "execution_count": 84,
   "id": "3cef7874",
   "metadata": {},
   "outputs": [
    {
     "name": "stdout",
     "output_type": "stream",
     "text": [
      "[4, 10, 45]\n"
     ]
    }
   ],
   "source": [
    "# question 28\n",
    "\n",
    "def sortAscending (a,b,c):\n",
    "   list1 = [a,b,c]\n",
    "   list1.sort()\n",
    "   print(list1)\n",
    "\n",
    "sortAscending(4,45,10)\n"
   ]
  },
  {
   "cell_type": "code",
   "execution_count": 85,
   "id": "20f50ec0",
   "metadata": {},
   "outputs": [
    {
     "name": "stdout",
     "output_type": "stream",
     "text": [
      "the roots of the equation are:  [-28.07586114+0.j          -1.422005  +0.75641861j\n",
      "  -1.422005  -0.75641861j   0.91987113+0.j        ]\n"
     ]
    }
   ],
   "source": [
    "# question 29\n",
    "import numpy as np\n",
    "\n",
    "def solveQuartic(a,b,c,d,e):\n",
    "    coefficients = [a,b,c,d,e]\n",
    "    roots = np.roots(coefficients)\n",
    "    return roots\n",
    "\n",
    "# coefficients of the quartic ax^4+bx^3+cx^2+dx+e = 0 \n",
    "a=1\n",
    "b=30\n",
    "c=54\n",
    "d=-3\n",
    "e=-67\n",
    "\n",
    "print(\"the roots of the equation are: \", solveQuartic(a,b,c,d,e))"
   ]
  },
  {
   "cell_type": "code",
   "execution_count": 87,
   "id": "0ce9502f",
   "metadata": {},
   "outputs": [
    {
     "name": "stdout",
     "output_type": "stream",
     "text": [
      "your BMI is:  25.099501595611173\n",
      "you are overweight, you may need to lose some weight for better health\n"
     ]
    }
   ],
   "source": [
    "# question 30\n",
    "\n",
    "def bodyMassIndex(weight,height):\n",
    "    bmi = weight/ (height **2)\n",
    "    return bmi\n",
    "\n",
    "def recommendations(bmi):\n",
    "    if bmi<18.5:\n",
    "        return \"you are underweight, you may need to gain some weight for better health\"\n",
    "    elif bmi>=18.5 and bmi<24.9:\n",
    "        return \"you have a healthy weight, keep maintaining your current lifestyle for good health\"\n",
    "    elif bmi>= 25 and bmi <29.9:\n",
    "        return \"you are overweight, you may need to lose some weight for better health\"\n",
    "    else:\n",
    "        return \"you are obese, it is important to consult a doctor or a dietician\"\n",
    "    \n",
    "weight = float(input(\"enter your weight in kilograms: \"))\n",
    "height = float(input(\"enter your height in meters: \"))\n",
    "\n",
    "bmi = bodyMassIndex(weight,height)\n",
    "recommendation = recommendations(bmi)\n",
    "\n",
    "print(\"your BMI is: \",bmi)\n",
    "print(recommendation)"
   ]
  },
  {
   "cell_type": "code",
   "execution_count": null,
   "id": "afce6572-9bae-43b1-9f5b-6744e2179b7c",
   "metadata": {},
   "outputs": [],
   "source": [
    "# Topic 7: Challenge level"
   ]
  },
  {
   "cell_type": "code",
   "execution_count": 25,
   "id": "5148b038-cb5e-4344-9d6d-df24332e5bac",
   "metadata": {},
   "outputs": [
    {
     "name": "stdout",
     "output_type": "stream",
     "text": [
      "input your passowrd:  jkasdadjak\n"
     ]
    },
    {
     "name": "stdout",
     "output_type": "stream",
     "text": [
      "invalid passowrd, please follow the complexity norms\n"
     ]
    }
   ],
   "source": [
    "# Question 31: \n",
    "\n",
    "# taking user password as input:\n",
    "password = input(\"input your passowrd: \")\n",
    "\n",
    "# checking the complexity and validity of the password\n",
    "\n",
    "# checking the length of the passowrd\n",
    "if len(password) < 8:\n",
    "    print(\"invalid password! password length must be bigger than 8 characters\")\n",
    "else:\n",
    "    # check for at least one uppercase character\n",
    "    uppercase = any(i.isupper() for i in password)\n",
    "    #check for at least one lowercase character\n",
    "    lowercase = any(i.islower() for i in password)\n",
    "    #check for at least one digit character\n",
    "    digit = any(i.isdigit() for i in password)\n",
    "    #check for at least one special character\n",
    "    special = \"!@'#$%^&*`~([)]}{\\|-+=?/.,;\"\n",
    "    specialcheck = any(i in special for i in password)\n",
    "    \n",
    "    #check if all conditions are met\n",
    "    if uppercase and lowercase and digit and specialcheck:\n",
    "        print(\"valid passowrd, good job!\")\n",
    "    else: \n",
    "        print(\"invalid passowrd, please follow the complexity norms\")"
   ]
  },
  {
   "cell_type": "code",
   "execution_count": 4,
   "id": "8ba1facf-9482-4a23-8396-e10f68d288ed",
   "metadata": {},
   "outputs": [
    {
     "name": "stdout",
     "output_type": "stream",
     "text": [
      "the first matrix is:  [[2.0, 4.0], [5.0, 7.0]]\n",
      "the second matrix is:  [[5.0, 4.0], [1.0, 7.0]]\n",
      "The added matrices are: \n",
      "[[7.0, 8.0], [6.0, 14.0]]\n",
      "The subtracted matrices are: \n",
      "[[-3.0, 0.0], [4.0, 0.0]]\n"
     ]
    }
   ],
   "source": [
    "# Question 32:\n",
    "\n",
    "def create_matrix(rows, cols):\n",
    "    matrix = []  \n",
    "    for i in range(rows):  \n",
    "        matrix.append([])  \n",
    "        for j in range(cols):  \n",
    "            value = float(input(f\"Enter the element for row {i+1} column {j+1}: \")) \n",
    "            matrix[i].append(value)  \n",
    "    return matrix  \n",
    "\n",
    "def add_matrices(matrix1, matrix2):\n",
    "    result = [[matrix1[i][j] + matrix2[i][j]  for j in range(len(matrix1[0]))] for i in range(len(matrix1))]\n",
    "    return result\n",
    "\n",
    "def subtract_matrices(matrix1, matrix2):\n",
    "    result = [[matrix1[i][j] - matrix2[i][j]  for j in range(len(matrix1[0]))] for i in range(len(matrix1))]\n",
    "    return result\n",
    "\n",
    "rows = int(input(\"Enter the number of rows: \"))\n",
    "cols = int(input(\"Enter the number of columns: \"))\n",
    "\n",
    "\n",
    "matrix1 = create_matrix(rows, cols)\n",
    "print(\"the first matrix is: \",matrix1)\n",
    "\n",
    "matrix2 = create_matrix(rows, cols)\n",
    "print(\"the second matrix is: \",matrix2)\n",
    "\n",
    "print(\"The added matrices are: \")\n",
    "print(add_matrices(matrix1, matrix2))\n",
    "\n",
    "print(\"The subtracted matrices are: \")\n",
    "print(subtract_matrices(matrix1, matrix2)) \n",
    "\n"
   ]
  },
  {
   "cell_type": "code",
   "execution_count": 5,
   "id": "e4a53826",
   "metadata": {},
   "outputs": [
    {
     "name": "stdout",
     "output_type": "stream",
     "text": [
      "the GCD of 48 and 18 is 6\n"
     ]
    }
   ],
   "source": [
    "# question 33\n",
    "\n",
    "def gcd (a,b):\n",
    "    while b != 0:\n",
    "        a,b = b,a%b\n",
    "    return a\n",
    "\n",
    "num1 = int(input(\"enter the first number: \"))\n",
    "num2 = int(input(\"enter the second number: \"))\n",
    "\n",
    "print(\"the GCD of\", num1, \"and\", num2, \"is\", gcd(num1,num2))"
   ]
  },
  {
   "cell_type": "code",
   "execution_count": 16,
   "id": "4f096ab8",
   "metadata": {},
   "outputs": [
    {
     "name": "stdout",
     "output_type": "stream",
     "text": [
      "The result of the multiplication is:\n",
      "[58, 64]\n",
      "[139, 154]\n"
     ]
    }
   ],
   "source": [
    "# question 34\n",
    "\n",
    "def multiply_matrices(matrix1, matrix2):\n",
    "    # Check if the number of columns in the first matrix is equal to the number of rows in the second matrix\n",
    "    if len(matrix1[0]) != len(matrix2):\n",
    "        print(\"Error: The number of columns in the first matrix must be equal to the number of rows in the second matrix.\")\n",
    "        return None\n",
    "\n",
    "    # Create an empty result matrix with the appropriate dimensions\n",
    "    result = [[0 for _ in range(len(matrix2[0]))] for _ in range(len(matrix1))]\n",
    "\n",
    "    # Perform the multiplication using nested loops\n",
    "    for i in range(len(matrix1)):\n",
    "        for j in range(len(matrix2[0])):\n",
    "            for k in range(len(matrix2)):\n",
    "                result[i][j] += matrix1[i][k] * matrix2[k][j]\n",
    "    return result\n",
    "\n",
    "# Test the function with two matrices\n",
    "matrix1 = [[1, 2, 3], [4, 5, 6]]\n",
    "matrix2 = [[7, 8], [9, 10], [11, 12]]\n",
    "result = multiply_matrices(matrix1, matrix2)\n",
    "\n",
    "\n",
    "if result is not None:\n",
    "    print(\"The result of the multiplication is:\")\n",
    "    for row in result:\n",
    "        print(row)\n"
   ]
  },
  {
   "cell_type": "code",
   "execution_count": 15,
   "id": "95066cb4",
   "metadata": {},
   "outputs": [
    {
     "name": "stdout",
     "output_type": "stream",
     "text": [
      "  |   |  \n",
      "---------\n",
      "  |   |  \n",
      "---------\n",
      "  |   |  \n",
      "  |   |  \n",
      "---------\n",
      "  | X |  \n",
      "---------\n",
      "  |   |  \n",
      "Computer made its move.\n",
      "  | O |  \n",
      "---------\n",
      "  | X |  \n",
      "---------\n",
      "  |   |  \n",
      "  | O |  \n",
      "---------\n",
      "X | X |  \n",
      "---------\n",
      "  |   |  \n",
      "Computer made its move.\n",
      "  | O |  \n",
      "---------\n",
      "X | X | O\n",
      "---------\n",
      "  |   |  \n",
      "  | O | X\n",
      "---------\n",
      "X | X | O\n",
      "---------\n",
      "  |   |  \n",
      "Computer made its move.\n",
      "  | O | X\n",
      "---------\n",
      "X | X | O\n",
      "---------\n",
      "O |   |  \n",
      "  | O | X\n",
      "---------\n",
      "X | X | O\n",
      "---------\n",
      "O |   | X\n",
      "Computer made its move.\n",
      "  | O | X\n",
      "---------\n",
      "X | X | O\n",
      "---------\n",
      "O | O | X\n",
      "X | O | X\n",
      "---------\n",
      "X | X | O\n",
      "---------\n",
      "O | O | X\n",
      "Player X wins!\n"
     ]
    }
   ],
   "source": [
    "# question 35\n",
    "\n",
    "import random\n",
    "\n",
    "def print_board(board):\n",
    "    print(f'{board[0]} | {board[1]} | {board[2]}')\n",
    "    print('---------')\n",
    "    print(f'{board[3]} | {board[4]} | {board[5]}')\n",
    "    print('---------')\n",
    "    print(f'{board[6]} | {board[7]} | {board[8]}')\n",
    "\n",
    "def check_win(board):\n",
    "    win_conditions = [(0, 1, 2), (3, 4, 5), (6, 7, 8), (0, 3, 6), (1, 4, 7), (2, 5, 8), (0, 4, 8), (2, 4, 6)]\n",
    "    for condition in win_conditions:\n",
    "        if board[condition[0]] == board[condition[1]] == board[condition[2]] != ' ':\n",
    "            return board[condition[0]]\n",
    "    if ' ' not in board:\n",
    "        return 'Tie'\n",
    "    return False\n",
    "\n",
    "def make_move(board,player):\n",
    "    while True:\n",
    "        move = input(f\"player {player}, enter your move (1-9): \")\n",
    "        if move.isdigit() and int(move) in range(1,10) and board[int(move) - 1] == ' ':\n",
    "            board[int(move) - 1] = player\n",
    "            break\n",
    "        else:\n",
    "            print(\"Invalid move. Try again.\")\n",
    "\n",
    "def make_computer_move(board):\n",
    "    while True:\n",
    "        move = random.randint(1,9)\n",
    "        if board[move - 1] == ' ':\n",
    "            board[move - 1] = 'O'\n",
    "            break\n",
    "\n",
    "def play_game():\n",
    "    board = [' '] * 9\n",
    "    print_board(board)\n",
    "\n",
    "    while True:\n",
    "        make_move(board, 'X')\n",
    "        print_board(board)\n",
    "        result = check_win(board)\n",
    "        if result:\n",
    "            if result == 'Tie':\n",
    "                print(\"It's a tie!\")\n",
    "            else:\n",
    "                print(f\"Player {result} wins!\")\n",
    "            break\n",
    "        \n",
    "        make_computer_move(board)\n",
    "        print(\"Computer made its move.\")\n",
    "        print_board(board)\n",
    "        result = check_win(board)\n",
    "        if result:\n",
    "            if result == 'Tie':\n",
    "                print(\"It's a tie!\")\n",
    "            else:\n",
    "                print(f\"Player {result} wins!\")\n",
    "            break\n",
    "\n",
    "play_game()\n"
   ]
  },
  {
   "cell_type": "code",
   "execution_count": 14,
   "id": "ebfa3af8",
   "metadata": {},
   "outputs": [
    {
     "name": "stdout",
     "output_type": "stream",
     "text": [
      "[0, 1, 1, 2, 3, 5, 8, 13]\n"
     ]
    }
   ],
   "source": [
    "# question 36\n",
    "\n",
    "def fibonacci(n):\n",
    "    fib_sequence = [0,1]\n",
    "    while len(fib_sequence)<n:\n",
    "        fib_sequence.append(fib_sequence[-1]+fib_sequence[-2])\n",
    "    return fib_sequence\n",
    "\n",
    "\n",
    "print(fibonacci(8))"
   ]
  },
  {
   "cell_type": "code",
   "execution_count": 13,
   "id": "efea33ac",
   "metadata": {},
   "outputs": [
    {
     "name": "stdout",
     "output_type": "stream",
     "text": [
      "2\n"
     ]
    }
   ],
   "source": [
    "# question 37\n",
    "\n",
    "def fibonacci(n, memo = {}):\n",
    "    if n in memo:\n",
    "        return memo[n]\n",
    "    if n <= 2:\n",
    "        return 1\n",
    "    memo[n] = fibonacci(n-1, memo) + fibonacci(n-2, memo)\n",
    "    return memo[n]\n",
    "\n",
    "\n",
    "print(fibonacci(3)) \n",
    "\n"
   ]
  },
  {
   "cell_type": "code",
   "execution_count": 11,
   "id": "4f2bbcb4",
   "metadata": {},
   "outputs": [
    {
     "name": "stdout",
     "output_type": "stream",
     "text": [
      "      May 2014\n",
      "Mo Tu We Th Fr Sa Su\n",
      "          1  2  3  4\n",
      " 5  6  7  8  9 10 11\n",
      "12 13 14 15 16 17 18\n",
      "19 20 21 22 23 24 25\n",
      "26 27 28 29 30 31\n",
      "\n"
     ]
    }
   ],
   "source": [
    "# question 38\n",
    "import calendar\n",
    "\n",
    "year = int(input(\"enter year: \"))\n",
    "month = int(input(\"enter month: \"))\n",
    "\n",
    "if 1 <= month<=12:\n",
    "    print(calendar.month(year,month))\n",
    "else:\n",
    "    print(\"invalid month, please enter a number between 1 and 12\")"
   ]
  },
  {
   "cell_type": "code",
   "execution_count": 10,
   "id": "c697fd35",
   "metadata": {},
   "outputs": [
    {
     "name": "stdout",
     "output_type": "stream",
     "text": [
      "your cards: [7, 5], current score: 12\n",
      "computer's first card: 3\n"
     ]
    },
    {
     "name": "stdout",
     "output_type": "stream",
     "text": [
      "your cards: [7, 5, 9], current score: 21\n",
      "computer's first card: 3\n",
      "Your final hand: [7, 5, 9], final score: 21\n",
      "Computer's final hand: [3, 7, 5, 5], final score: 20\n",
      "blackJack! you win\n"
     ]
    }
   ],
   "source": [
    "# question 39\n",
    "\n",
    "import random\n",
    "\n",
    "def deal_card():\n",
    "    # returns a random card from the deck\n",
    "    cards = [2,3,4,5,6,7,8,9,10,11,12,13]\n",
    "    return random.choice(cards)\n",
    "\n",
    "def calculate_score(hand):\n",
    "    return sum(hand)\n",
    "\n",
    "def blackJack():\n",
    "    player_hand = []\n",
    "    computer_hand = []\n",
    "\n",
    "    for i in range(2):\n",
    "        player_hand.append(deal_card())\n",
    "        computer_hand.append(deal_card())\n",
    "\n",
    "    game_over = False\n",
    "\n",
    "    while not game_over:\n",
    "        player_score = calculate_score(player_hand)\n",
    "        computer_score = calculate_score(computer_hand)\n",
    "\n",
    "        print(f\"your cards: {player_hand}, current score: {player_score}\")\n",
    "        print(f\"computer's first card: {computer_hand[0]}\")\n",
    "\n",
    "        if player_score == 21 or computer_score ==21 or player_score >21:\n",
    "            game_over = True\n",
    "        else:\n",
    "            should_continue = input(\"type 'y' to get another card, 'n' to pass: \")\n",
    "            if should_continue == 'y':\n",
    "                player_hand.append(deal_card())\n",
    "            else:\n",
    "                game_over = True\n",
    "\n",
    "    while computer_score != 21  and computer_score <17:\n",
    "        computer_hand.append(deal_card())\n",
    "        computer_score = calculate_score(computer_hand)\n",
    "\n",
    "    print(f\"Your final hand: {player_hand}, final score: {player_score}\")\n",
    "    print(f\"Computer's final hand: {computer_hand}, final score: {computer_score}\")\n",
    "\n",
    "    if player_score > 21:\n",
    "        return \"you went over. you lose!\"\n",
    "    elif computer_score>21:\n",
    "        return \"computer went over, you win!\"\n",
    "    elif player_score == computer_score:\n",
    "        return \"it is a draw!\"\n",
    "    elif player_score == 21:\n",
    "        return \"blackJack! you win\"\n",
    "    elif computer_score == 21:\n",
    "        return \"computer got a blackJack! you lose\"\n",
    "    elif player_score > computer_score:\n",
    "        return \"You win!\"\n",
    "    else:\n",
    "        return \"You lose!\"\n",
    "    \n",
    "print(blackJack())"
   ]
  },
  {
   "cell_type": "code",
   "execution_count": 8,
   "id": "781c0fb8",
   "metadata": {},
   "outputs": [
    {
     "name": "stdout",
     "output_type": "stream",
     "text": [
      "prime factors:  [2, 2, 3, 3]\n"
     ]
    }
   ],
   "source": [
    "# question 40\n",
    "\n",
    "def trialDivision(N):\n",
    "    i = 2 #initializing with 2\n",
    "    k = int(N**0.5) # computing the square root of N\n",
    "    l = list()\n",
    "    while (i<=k):\n",
    "        if (N%i==0):\n",
    "            l.append(i)\n",
    "            N = N/i\n",
    "            k = int(N**0.5)\n",
    "        else:\n",
    "            i +=1\n",
    "\n",
    "    if N>1:\n",
    "        l.append(int(N))\n",
    "\n",
    "    return l\n",
    "\n",
    "# driver code\n",
    "\n",
    "if __name__ == \"__main__\":\n",
    "    N = 36\n",
    "    p = trialDivision(N)\n",
    "\n",
    "\n",
    "    print(\"prime factors: \",p)"
   ]
  }
 ],
 "metadata": {
  "kernelspec": {
   "display_name": "Python 3 (ipykernel)",
   "language": "python",
   "name": "python3"
  },
  "language_info": {
   "codemirror_mode": {
    "name": "ipython",
    "version": 3
   },
   "file_extension": ".py",
   "mimetype": "text/x-python",
   "name": "python",
   "nbconvert_exporter": "python",
   "pygments_lexer": "ipython3",
   "version": "3.11.4"
  }
 },
 "nbformat": 4,
 "nbformat_minor": 5
}
