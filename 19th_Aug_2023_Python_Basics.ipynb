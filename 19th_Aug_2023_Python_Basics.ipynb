{
 "cells": [
  {
   "cell_type": "code",
   "execution_count": null,
   "id": "1d1e0b0c-b6c0-41d8-b595-c0b0826ecc24",
   "metadata": {},
   "outputs": [],
   "source": [
    "# Topic: Python Basic Variables\n"
   ]
  },
  {
   "cell_type": "code",
   "execution_count": 3,
   "id": "b906342d-3cb1-46f0-b118-a6b8c61ea14f",
   "metadata": {},
   "outputs": [
    {
     "name": "stdout",
     "output_type": "stream",
     "text": [
      "x: 78\n",
      "y: 12\n"
     ]
    }
   ],
   "source": [
    "# Question 1\n",
    "\n",
    "# step 1: declaring two variables\n",
    "x = 12\n",
    "y = 78\n",
    "\n",
    "# swapping the two variables\n",
    "x,y = y,x\n",
    "\n",
    "# printing the swapped variables\n",
    "print(\"x:\",x)\n",
    "print(\"y:\",y)"
   ]
  },
  {
   "cell_type": "code",
   "execution_count": 6,
   "id": "7e9d46b4-0acc-41fc-8153-1f4f82dcaaae",
   "metadata": {},
   "outputs": [
    {
     "name": "stdin",
     "output_type": "stream",
     "text": [
      "what is the length of the rectangle:  15\n",
      "what is the width of the rectanglge:  2\n"
     ]
    },
    {
     "name": "stdout",
     "output_type": "stream",
     "text": [
      "the area of the rectangle is:  30\n"
     ]
    }
   ],
   "source": [
    "# Question 2\n",
    "\n",
    "# declaring the two necessary variables\n",
    "length = 0\n",
    "width = 0\n",
    "\n",
    "# taking input for the variables\n",
    "length = int(input(\"what is the length of the rectangle: \"))\n",
    "width = int(input(\"what is the width of the rectanglge: \"))\n",
    "\n",
    "# calculating and displaying the area\n",
    "print(\"the area of the rectangle is: \", length*width)"
   ]
  },
  {
   "cell_type": "code",
   "execution_count": 9,
   "id": "8ec14c2c-a0ac-4b6b-b746-82a25b441056",
   "metadata": {},
   "outputs": [
    {
     "name": "stdin",
     "output_type": "stream",
     "text": [
      "what is the temperature in celsius:  45\n"
     ]
    },
    {
     "name": "stdout",
     "output_type": "stream",
     "text": [
      "the temperature in fahrenheit is:  113\n"
     ]
    }
   ],
   "source": [
    "# Question 3\n",
    "\n",
    "# declaring the necessary variable\n",
    "temp = 0\n",
    "\n",
    "# taking the user input\n",
    "temp = int(input(\"what is the temperature in celsius: \"))\n",
    "\n",
    "# converting and displaying celsius into fahrenheit\n",
    "print(\"the temperature in fahrenheit is: \", int((temp*(9/5))+32))\n"
   ]
  },
  {
   "cell_type": "code",
   "execution_count": null,
   "id": "d59deadc-39ae-4bca-8501-b34d9f6dafd1",
   "metadata": {},
   "outputs": [],
   "source": [
    "# Topic : String Based Questions\n"
   ]
  },
  {
   "cell_type": "code",
   "execution_count": 10,
   "id": "bf5fed3b-82d3-4a31-bc11-b884a1da67fb",
   "metadata": {},
   "outputs": [
    {
     "name": "stdin",
     "output_type": "stream",
     "text": [
      "input your string:  hi my name is asa\n"
     ]
    },
    {
     "name": "stdout",
     "output_type": "stream",
     "text": [
      "the length of your string is:  17\n"
     ]
    }
   ],
   "source": [
    "# Question 1\n",
    "\n",
    "# defining the initiation variable\n",
    "text = \"\"\n",
    "\n",
    "# taking the string input\n",
    "text = input(\"input your string: \")\n",
    "\n",
    "# calculating and displaying the length of the string\n",
    "print(\"the length of your string is: \", len(text))"
   ]
  },
  {
   "cell_type": "code",
   "execution_count": 12,
   "id": "f8a334fd-4b4f-4b6e-940b-5dd772ccabee",
   "metadata": {},
   "outputs": [
    {
     "name": "stdin",
     "output_type": "stream",
     "text": [
      "enter your sentence:  this is not a test, sapan\n"
     ]
    },
    {
     "name": "stdout",
     "output_type": "stream",
     "text": [
      "number of vowels in the input sentence is:  7\n"
     ]
    }
   ],
   "source": [
    "# Question 2\n",
    "\n",
    "# taking a sentence input\n",
    "sentence = input(\"enter your sentence: \")\n",
    "\n",
    "# defining list of vowels\n",
    "vowels = \"aeiouAEIOU\"\n",
    "\n",
    "# initialize a counter\n",
    "counter = 0\n",
    "\n",
    "# counting vowels in the input\n",
    "for i in sentence:\n",
    "    if i in vowels:\n",
    "        counter+=1\n",
    "        \n",
    "# displaying the result\n",
    "print(\"number of vowels in the input sentence is: \", counter)"
   ]
  },
  {
   "cell_type": "code",
   "execution_count": 13,
   "id": "fb8589a2-caae-4475-b32b-c1b01dc1b4ec",
   "metadata": {},
   "outputs": [
    {
     "name": "stdin",
     "output_type": "stream",
     "text": [
      "enter a string:  sakia\n"
     ]
    },
    {
     "name": "stdout",
     "output_type": "stream",
     "text": [
      "reversed string:  aikas\n"
     ]
    }
   ],
   "source": [
    "# Question 3\n",
    "\n",
    "# taking a string as input\n",
    "text = input(\"enter a string: \")\n",
    "\n",
    "# reversing the string using string slicing and displaying\n",
    "print(\"reversed string: \", text[::-1])"
   ]
  },
  {
   "cell_type": "code",
   "execution_count": 15,
   "id": "c2e4028b-92d8-4237-bb24-7469419c3e24",
   "metadata": {},
   "outputs": [
    {
     "name": "stdin",
     "output_type": "stream",
     "text": [
      "enter a string:  malayalam\n"
     ]
    },
    {
     "name": "stdout",
     "output_type": "stream",
     "text": [
      "This string is a pallindrome.\n"
     ]
    }
   ],
   "source": [
    "# Question 4\n",
    "\n",
    "# taking input string\n",
    "text = input(\"enter a string: \")\n",
    "\n",
    "# removing spaces in string and sonverting all to lowercase to make it case sensitive\n",
    "clean_text = text.replace(\" \",\"\").lower()\n",
    "\n",
    "# reversing the cleaned string\n",
    "reversed_text = clean_text[::-1]\n",
    "\n",
    "# checking for similarity and displaying the result\n",
    "if reversed_text == text:\n",
    "    print(\"This string is a pallindrome.\")\n",
    "else:\n",
    "    print(\"This sting is not a pallindrome.\")"
   ]
  },
  {
   "cell_type": "code",
   "execution_count": 16,
   "id": "73c2a8f7-9cff-4a7c-9310-42489d3cab92",
   "metadata": {},
   "outputs": [
    {
     "name": "stdin",
     "output_type": "stream",
     "text": [
      "enter a string:  what is the capital of morocco ?\n"
     ]
    },
    {
     "name": "stdout",
     "output_type": "stream",
     "text": [
      "this is your cleaned string:  whatisthecapitalofmorocco?\n"
     ]
    }
   ],
   "source": [
    "# Question 5\n",
    "\n",
    "# taking input string\n",
    "text = input(\"enter a string: \")\n",
    "\n",
    "# removing spaces in string\n",
    "clean_text = text.replace(\" \",\"\")\n",
    "\n",
    "# displaying the cleaned string\n",
    "print(\"this is your cleaned string: \", clean_text)\n"
   ]
  },
  {
   "cell_type": "code",
   "execution_count": null,
   "id": "4f3915db-aaef-47d6-b4f0-b2e9621f9d12",
   "metadata": {},
   "outputs": [],
   "source": []
  }
 ],
 "metadata": {
  "kernelspec": {
   "display_name": "Python 3 (ipykernel)",
   "language": "python",
   "name": "python3"
  },
  "language_info": {
   "codemirror_mode": {
    "name": "ipython",
    "version": 3
   },
   "file_extension": ".py",
   "mimetype": "text/x-python",
   "name": "python",
   "nbconvert_exporter": "python",
   "pygments_lexer": "ipython3",
   "version": "3.10.8"
  }
 },
 "nbformat": 4,
 "nbformat_minor": 5
}
