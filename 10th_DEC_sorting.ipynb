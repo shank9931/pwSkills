{
 "cells": [
  {
   "cell_type": "code",
   "execution_count": null,
   "metadata": {},
   "outputs": [],
   "source": [
    "# qs 1"
   ]
  },
  {
   "cell_type": "code",
   "execution_count": 5,
   "metadata": {},
   "outputs": [
    {
     "data": {
      "text/plain": [
       "2"
      ]
     },
     "execution_count": 5,
     "metadata": {},
     "output_type": "execute_result"
    }
   ],
   "source": [
    "def max_occurrence(arr, n, max_count=0, max_element=None, curr_count=0, curr_element=None):\n",
    "    if n == 0:\n",
    "        return max_element\n",
    "\n",
    "    if curr_element is None or arr[n-1] != curr_element:\n",
    "        curr_element = arr[n-1]\n",
    "        curr_count = 1\n",
    "    else:\n",
    "        curr_count += 1\n",
    "\n",
    "    if curr_count > max_count:\n",
    "        max_count = curr_count\n",
    "        max_element = curr_element\n",
    "\n",
    "    return max_occurrence(arr, n-1, max_count, max_element, curr_count, curr_element)\n",
    "\n",
    "def find_max_occurrence(arr):\n",
    "    arr.sort()\n",
    "    return max_occurrence(arr, len(arr))\n",
    "\n",
    "\n",
    "\n",
    "find_max_occurrence([2,2,3,4,1,2,5,4,2,1,2])"
   ]
  },
  {
   "cell_type": "code",
   "execution_count": null,
   "metadata": {},
   "outputs": [],
   "source": [
    "# qs 2"
   ]
  },
  {
   "cell_type": "code",
   "execution_count": 7,
   "metadata": {},
   "outputs": [
    {
     "data": {
      "text/plain": [
       "7"
      ]
     },
     "execution_count": 7,
     "metadata": {},
     "output_type": "execute_result"
    }
   ],
   "source": [
    "def sum_numbers(n):\n",
    "    if n <= 0:\n",
    "        return 0\n",
    "    else:\n",
    "        return n + sum_numbers(n - 1)\n",
    "\n",
    "def find_missing_number(arr, n):\n",
    "    total_sum = sum_numbers(n)\n",
    "    arr_sum = sum(arr)\n",
    "    return total_sum - arr_sum\n",
    "\n",
    "\n",
    "find_missing_number([1,2,3,4,5,9,8,6],9)"
   ]
  },
  {
   "cell_type": "code",
   "execution_count": null,
   "metadata": {},
   "outputs": [],
   "source": [
    "# qs 3"
   ]
  },
  {
   "cell_type": "code",
   "execution_count": 8,
   "metadata": {},
   "outputs": [
    {
     "data": {
      "text/plain": [
       "4"
      ]
     },
     "execution_count": 8,
     "metadata": {},
     "output_type": "execute_result"
    }
   ],
   "source": [
    "def find_odd_occurring(arr):\n",
    "    res = 0\n",
    "    for element in arr:\n",
    "        res ^= element\n",
    "    return res\n",
    "\n",
    "find_odd_occurring([1,2,2,3,4,3,4,4,1])"
   ]
  },
  {
   "cell_type": "code",
   "execution_count": null,
   "metadata": {},
   "outputs": [],
   "source": [
    "# qs 4"
   ]
  },
  {
   "cell_type": "code",
   "execution_count": 11,
   "metadata": {},
   "outputs": [
    {
     "data": {
      "text/plain": [
       "(1, 62)"
      ]
     },
     "execution_count": 11,
     "metadata": {},
     "output_type": "execute_result"
    }
   ],
   "source": [
    "def find_pair(arr, l, r, K):\n",
    "    if l >= r:\n",
    "        return None\n",
    "\n",
    "    if arr[l] + arr[r] == K:\n",
    "        return (arr[l], arr[r])\n",
    "    elif arr[l] + arr[r] < K:\n",
    "        return find_pair(arr, l + 1, r, K)\n",
    "    else:\n",
    "        return find_pair(arr, l, r - 1, K)\n",
    "\n",
    "def find_sum_pair(arr, K):\n",
    "    arr.sort()\n",
    "    return find_pair(arr, 0, len(arr) - 1, K)\n",
    "\n",
    "\n",
    "find_sum_pair([1,3,6,2,62,3],63)"
   ]
  },
  {
   "cell_type": "code",
   "execution_count": null,
   "metadata": {},
   "outputs": [],
   "source": [
    "# qs 5"
   ]
  },
  {
   "cell_type": "code",
   "execution_count": 12,
   "metadata": {},
   "outputs": [
    {
     "data": {
      "text/plain": [
       "(-3, 3)"
      ]
     },
     "execution_count": 12,
     "metadata": {},
     "output_type": "execute_result"
    }
   ],
   "source": [
    "def closest_to_zero(arr, l, r, min_sum, pair):\n",
    "    if l >= r:\n",
    "        return pair\n",
    "\n",
    "    curr_sum = arr[l] + arr[r]\n",
    "\n",
    "    if abs(curr_sum) < abs(min_sum):\n",
    "        min_sum = curr_sum\n",
    "        pair = (arr[l], arr[r])\n",
    "\n",
    "    if curr_sum < 0:\n",
    "        return closest_to_zero(arr, l + 1, r, min_sum, pair)\n",
    "    else:\n",
    "        return closest_to_zero(arr, l, r - 1, min_sum, pair)\n",
    "\n",
    "def find_closest_pair(arr):\n",
    "    arr.sort()\n",
    "    return closest_to_zero(arr, 0, len(arr) - 1, float('inf'), (None, None))\n",
    "\n",
    "\n",
    "find_closest_pair([2,3,1,-5,4,-3,6])"
   ]
  },
  {
   "cell_type": "code",
   "execution_count": null,
   "metadata": {},
   "outputs": [],
   "source": [
    "# qs 6"
   ]
  },
  {
   "cell_type": "code",
   "execution_count": 15,
   "metadata": {},
   "outputs": [
    {
     "data": {
      "text/plain": [
       "(1, 2, 7)"
      ]
     },
     "execution_count": 15,
     "metadata": {},
     "output_type": "execute_result"
    }
   ],
   "source": [
    "def find_triplet(arr, l, r, K):\n",
    "    if l >= r:\n",
    "        return None\n",
    "\n",
    "    for i in range(l + 1, r):\n",
    "        if arr[l] + arr[i] + arr[r] == K:\n",
    "            return (arr[l], arr[i], arr[r])\n",
    "        elif arr[l] + arr[i] + arr[r] < K:\n",
    "            return find_triplet(arr, l + 1, r, K)\n",
    "        else:\n",
    "            return find_triplet(arr, l, r - 1, K)\n",
    "\n",
    "def find_sum_triplet(arr, K):\n",
    "    arr.sort()\n",
    "    return find_triplet(arr, 0, len(arr) - 1, K)\n",
    "\n",
    "\n",
    "find_sum_triplet([1,2,3,4,5,6,7,8,9],10)"
   ]
  },
  {
   "cell_type": "code",
   "execution_count": null,
   "metadata": {},
   "outputs": [],
   "source": [
    "# qs 7"
   ]
  },
  {
   "cell_type": "code",
   "execution_count": 17,
   "metadata": {},
   "outputs": [
    {
     "data": {
      "text/plain": [
       "(3, 4, 5)"
      ]
     },
     "execution_count": 17,
     "metadata": {},
     "output_type": "execute_result"
    }
   ],
   "source": [
    "def find_triplet(arr, n):\n",
    "    if n < 3:\n",
    "        return None\n",
    "\n",
    "    for i in range(n - 1, 1, -1):\n",
    "        j = 0\n",
    "        k = i - 1\n",
    "        while j < k:\n",
    "            if arr[j] + arr[k] == arr[i]:\n",
    "                return (int(arr[j]**0.5), int(arr[k]**0.5), int(arr[i]**0.5))\n",
    "            elif arr[j] + arr[k] < arr[i]:\n",
    "                j += 1\n",
    "            else:\n",
    "                k -= 1\n",
    "\n",
    "    return find_triplet(arr, n - 1)\n",
    "\n",
    "def find_pythagorean_triplet(arr):\n",
    "    arr = [x * x for x in arr]\n",
    "    arr.sort()\n",
    "    return find_triplet(arr, len(arr))\n",
    "\n",
    "\n",
    "\n",
    "find_pythagorean_triplet([1,2,3,4,5,6])"
   ]
  },
  {
   "cell_type": "code",
   "execution_count": null,
   "metadata": {},
   "outputs": [],
   "source": [
    "# qs 8"
   ]
  },
  {
   "cell_type": "code",
   "execution_count": 18,
   "metadata": {},
   "outputs": [
    {
     "data": {
      "text/plain": [
       "4"
      ]
     },
     "execution_count": 18,
     "metadata": {},
     "output_type": "execute_result"
    }
   ],
   "source": [
    "def majority_element_rec(arr, low, high):\n",
    "    # base case: single element in an array\n",
    "    if low == high:\n",
    "        return arr[low]\n",
    "\n",
    "    # recurse on left and right halves of this slice\n",
    "    mid = (high - low) // 2 + low\n",
    "    left = majority_element_rec(arr, low, mid)\n",
    "    right = majority_element_rec(arr, mid + 1, high)\n",
    "\n",
    "    # if the two halves agree on the majority element, return it\n",
    "    if left == right:\n",
    "        return left\n",
    "\n",
    "    # otherwise, count each element and return the \"winner\"\n",
    "    left_count = sum(1 for i in range(low, high + 1) if arr[i] == left)\n",
    "    right_count = sum(1 for i in range(low, high + 1) if arr[i] == right)\n",
    "\n",
    "    return left if left_count > right_count else right\n",
    "\n",
    "def majority_element(arr):\n",
    "    return majority_element_rec(arr, 0, len(arr) - 1)\n",
    "\n",
    "majority_element([2,3,4,4,3,5,4,1])"
   ]
  },
  {
   "cell_type": "code",
   "execution_count": null,
   "metadata": {},
   "outputs": [],
   "source": [
    "# qs 9"
   ]
  },
  {
   "cell_type": "code",
   "execution_count": 25,
   "metadata": {},
   "outputs": [
    {
     "data": {
      "text/plain": [
       "2"
      ]
     },
     "execution_count": 25,
     "metadata": {},
     "output_type": "execute_result"
    }
   ],
   "source": [
    "def count_zeros(row):\n",
    "    if not row or row[-1] == 1:\n",
    "        return 0\n",
    "    return 1 + count_zeros(row[:-1])\n",
    "\n",
    "def max_zeros(matrix, i=0, max_count=0, max_row=0):\n",
    "    if i == len(matrix):\n",
    "        return max_row\n",
    "    zero_count = count_zeros(matrix[i])\n",
    "    if zero_count > max_count:\n",
    "        max_count = zero_count\n",
    "        max_row = i\n",
    "    return max_zeros(matrix, i + 1, max_count, max_row)\n",
    "\n",
    "def find_row_with_max_zeros(matrix):\n",
    "    return max_zeros(matrix)\n",
    "\n",
    "\n",
    "find_row_with_max_zeros([[0,1,0,1],[0,1,0,1],[1,0,1,0],[1,0,1,0],[1,0,1,0],[1,0,1,0]])"
   ]
  },
  {
   "cell_type": "code",
   "execution_count": null,
   "metadata": {},
   "outputs": [],
   "source": [
    "# qs 10"
   ]
  },
  {
   "cell_type": "code",
   "execution_count": 26,
   "metadata": {},
   "outputs": [
    {
     "data": {
      "text/plain": [
       "[0, 0, 0, 0, 0, 1, 1, 1, 1, 1, 2, 2]"
      ]
     },
     "execution_count": 26,
     "metadata": {},
     "output_type": "execute_result"
    }
   ],
   "source": [
    "def count_numbers(arr, i, count):\n",
    "    if i == len(arr):\n",
    "        return count\n",
    "\n",
    "    count[arr[i]] += 1\n",
    "    return count_numbers(arr, i + 1, count)\n",
    "\n",
    "def construct_sorted_array(count, i, sorted_arr):\n",
    "    if i == len(count):\n",
    "        return sorted_arr\n",
    "\n",
    "    sorted_arr.extend([i] * count[i])\n",
    "    return construct_sorted_array(count, i + 1, sorted_arr)\n",
    "\n",
    "def sort_array(arr):\n",
    "    count = count_numbers(arr, 0, [0, 0, 0])\n",
    "    return construct_sorted_array(count, 0, [])\n",
    "\n",
    "sort_array([0,1,1,0,1,2,1,2,0,0,0,1])"
   ]
  }
 ],
 "metadata": {
  "kernelspec": {
   "display_name": "Python 3",
   "language": "python",
   "name": "python3"
  },
  "language_info": {
   "codemirror_mode": {
    "name": "ipython",
    "version": 3
   },
   "file_extension": ".py",
   "mimetype": "text/x-python",
   "name": "python",
   "nbconvert_exporter": "python",
   "pygments_lexer": "ipython3",
   "version": "3.11.4"
  }
 },
 "nbformat": 4,
 "nbformat_minor": 2
}
