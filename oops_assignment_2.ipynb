{
 "cells": [
  {
   "cell_type": "markdown",
   "metadata": {},
   "source": [
    "# Constructor"
   ]
  },
  {
   "cell_type": "markdown",
   "metadata": {},
   "source": [
    "## Qs 1"
   ]
  },
  {
   "cell_type": "markdown",
   "metadata": {},
   "source": [
    "- A constructor is a unique method which is automatically called when an object is created from a class\n",
    "- The primary purpose of a constructor is to initialize instance attributes of the class\n",
    "- Constructors allow us to set default values for instance attributes and initialize the objects of a class "
   ]
  },
  {
   "cell_type": "code",
   "execution_count": 2,
   "metadata": {},
   "outputs": [],
   "source": [
    "# syntax\n",
    "\n",
    "class Addition:\n",
    "    def __init__(self,f,s):\n",
    "        self.f = f\n",
    "        self.s = s\n",
    "    "
   ]
  },
  {
   "cell_type": "markdown",
   "metadata": {},
   "source": [
    "# Qs 2"
   ]
  },
  {
   "cell_type": "markdown",
   "metadata": {},
   "source": [
    "- a parameterized constructor is one which generally takes user arguments apart from taking the `self` argument as a reference to the instances\n",
    "- a parameter-less constructor is one which has only one argument as `self` that references to the instances being created and no other"
   ]
  },
  {
   "cell_type": "code",
   "execution_count": 3,
   "metadata": {},
   "outputs": [],
   "source": [
    "# syntax \n",
    "# parameterized constructor\n",
    "\n",
    "class MyClass:\n",
    "    def __init__(self,a,b):\n",
    "        self.a = a\n",
    "        self.b = b\n",
    "\n",
    "# parameterless constructor\n",
    "class MySecondClass:\n",
    "    def __init__(self):\n",
    "        self.kuch_bhi = \"my name is anthony gonsalvez\""
   ]
  },
  {
   "cell_type": "markdown",
   "metadata": {},
   "source": [
    "# Qs 3"
   ]
  },
  {
   "cell_type": "code",
   "execution_count": null,
   "metadata": {},
   "outputs": [],
   "source": [
    "class TuHaiMeri:\n",
    "    def ilovesapna(self,a,b,c):\n",
    "        self.a=\"apka\"\n",
    "        self.b=b\n",
    "        self.c=c"
   ]
  },
  {
   "cell_type": "markdown",
   "metadata": {},
   "source": [
    "# Qs 4"
   ]
  },
  {
   "cell_type": "markdown",
   "metadata": {},
   "source": [
    "- the `__init__` method is used to initialize the instance attributes "
   ]
  },
  {
   "cell_type": "markdown",
   "metadata": {},
   "source": [
    "# Qs 5"
   ]
  },
  {
   "cell_type": "code",
   "execution_count": 4,
   "metadata": {},
   "outputs": [],
   "source": [
    "class Person:\n",
    "    \n",
    "    def __init__(self, name, age):\n",
    "        self.name = name\n",
    "        self.age = age\n",
    "\n",
    "disha = Person(\"Paatni\", 29)\n",
    "\n"
   ]
  },
  {
   "cell_type": "markdown",
   "metadata": {},
   "source": [
    "# qs 6"
   ]
  },
  {
   "cell_type": "code",
   "execution_count": 6,
   "metadata": {},
   "outputs": [
    {
     "name": "stdout",
     "output_type": "stream",
     "text": [
      "hello\n",
      "world!\n"
     ]
    },
    {
     "data": {
      "text/plain": [
       "<__main__.B at 0x22bde822810>"
      ]
     },
     "execution_count": 6,
     "metadata": {},
     "output_type": "execute_result"
    }
   ],
   "source": [
    "class A:\n",
    "\n",
    "    def __init__(self):\n",
    "        print(\"world!\")\n",
    "\n",
    "class B(A):\n",
    "\n",
    "    def __init__(self):\n",
    "        print(\"hello\")\n",
    "        super(B, self).__init__()\n",
    "\n",
    "B()"
   ]
  },
  {
   "cell_type": "markdown",
   "metadata": {},
   "source": [
    "# qs 7"
   ]
  },
  {
   "cell_type": "markdown",
   "metadata": {},
   "source": [
    "- `self` is used as the first parameter of instance methods\n",
    "- it refers to the instance of the class that is currently being used\n",
    "- `self` is basically used to access attributes and methods of the class"
   ]
  },
  {
   "cell_type": "markdown",
   "metadata": {},
   "source": [
    "# qs 8 : when should we use default constructors?"
   ]
  },
  {
   "cell_type": "markdown",
   "metadata": {},
   "source": [
    "- default constructors are those which do not take any argument other than the `self`\n",
    "- they are used when we want all the objects of the particular class to start with the same state or initial value of an attribute"
   ]
  },
  {
   "cell_type": "markdown",
   "metadata": {},
   "source": [
    "# qs 9 "
   ]
  },
  {
   "cell_type": "code",
   "execution_count": 7,
   "metadata": {},
   "outputs": [
    {
     "name": "stdout",
     "output_type": "stream",
     "text": [
      "50\n"
     ]
    }
   ],
   "source": [
    "class Rectangle:\n",
    "    def __init__(self, height, width):\n",
    "        self.height = height\n",
    "        self.width = width\n",
    "\n",
    "    def area(self):\n",
    "        return self.height * self.width\n",
    "    \n",
    "rect = Rectangle(10, 5)\n",
    "\n",
    "print(rect.area())"
   ]
  },
  {
   "cell_type": "markdown",
   "metadata": {},
   "source": [
    "# qs 10"
   ]
  },
  {
   "cell_type": "code",
   "execution_count": null,
   "metadata": {},
   "outputs": [],
   "source": [
    "# as we can't define multiple constructors in python we use the optional argument tool\n",
    "\n",
    "class MyClass:\n",
    "    def __init__(self, a=1, b=1):\n",
    "        self.a = a\n",
    "        self.b = b\n",
    "\n",
    "\n",
    "obj1 = MyClass()\n",
    "obj2 = MyClass(2)\n",
    "obj3 = MyClass(4,6)"
   ]
  },
  {
   "cell_type": "markdown",
   "metadata": {},
   "source": [
    "# qs 11 : what is method overloading and how is it related to constructors in python?"
   ]
  },
  {
   "cell_type": "code",
   "execution_count": 8,
   "metadata": {},
   "outputs": [
    {
     "data": {
      "text/plain": [
       "7"
      ]
     },
     "execution_count": 8,
     "metadata": {},
     "output_type": "execute_result"
    }
   ],
   "source": [
    "# two or more methods in a class can have can have the same name but different parameters\n",
    "# these parameters can differ in number of parameters or type of parameters\n",
    "# based on parameters the methods can behave differently\n",
    "# python does not support method overriding but if there are multiple methods with same name then only the latest defined method will be used\n",
    "# we can achieve the same with optional arguments\n",
    "\n",
    "class test():\n",
    "\n",
    "    def add(self, a, b):\n",
    "        self.a = a\n",
    "        self.b = b\n",
    "        return self.a + self.b\n",
    "    \n",
    "    def add(self, a, b, c=0):\n",
    "        self.a = a\n",
    "        self.b = b\n",
    "        self.c = c\n",
    "        return self.a + self.b + self.c\n",
    "    \n",
    "test_object = test()\n",
    "\n",
    "test_object.add(3,4)"
   ]
  },
  {
   "cell_type": "markdown",
   "metadata": {},
   "source": [
    "# qs 12: use of the `super()` function in Python constructors. Provide an example"
   ]
  },
  {
   "cell_type": "markdown",
   "metadata": {},
   "source": [
    "- to call methods from a parent or superclass\n",
    "- to extend and customize functionality inherited from parent class"
   ]
  },
  {
   "cell_type": "code",
   "execution_count": 9,
   "metadata": {},
   "outputs": [
    {
     "name": "stdout",
     "output_type": "stream",
     "text": [
      "inside parent class\n",
      "inside child class\n"
     ]
    }
   ],
   "source": [
    "class Parent():\n",
    "    def show(self):\n",
    "        print(\"inside parent class\")\n",
    "\n",
    "class Child(Parent):\n",
    "    def show(self):\n",
    "        super().show()\n",
    "        print(\"inside child class\")\n",
    "\n",
    "obj = Child()\n",
    "obj.show()"
   ]
  },
  {
   "cell_type": "markdown",
   "metadata": {},
   "source": [
    "# qs 13"
   ]
  },
  {
   "cell_type": "code",
   "execution_count": 1,
   "metadata": {},
   "outputs": [
    {
     "data": {
      "text/plain": [
       "'the name of the book is The Fault In Our Stars and it was published in 2014, written by JL Couling'"
      ]
     },
     "execution_count": 1,
     "metadata": {},
     "output_type": "execute_result"
    }
   ],
   "source": [
    "class Book():\n",
    "    def __init__(self, title, author, published_year):\n",
    "        self.title = title\n",
    "        self.author = author\n",
    "        self.published_year = published_year\n",
    "\n",
    "    def display(self):\n",
    "        return f\"the name of the book is {self.title} and it was published in {self.published_year}, written by {self.author}\"\n",
    "    \n",
    "book1 = Book(\"The Fault In Our Stars\", \"JL Couling\", 2014)\n",
    "\n",
    "book1.display()"
   ]
  },
  {
   "cell_type": "markdown",
   "metadata": {},
   "source": [
    "# qs 14"
   ]
  },
  {
   "cell_type": "markdown",
   "metadata": {},
   "source": [
    "- constructors are used to initialize the state of an object at the time of its creation, regular methods perform operations on objects that already exist\n",
    "- constructors have a fixed name, regular methods can have any name\n",
    "- constructors do not have a return type, they are used to assign values to intance variables of a class, but regular methods can have a return type\n",
    "- "
   ]
  },
  {
   "cell_type": "markdown",
   "metadata": {},
   "source": [
    "# qs 15"
   ]
  },
  {
   "cell_type": "markdown",
   "metadata": {},
   "source": [
    "- when a method is defined the first parameter refers to the instance of the class not the class itself\n",
    "- self is used to bind the instance of the class to the instance method"
   ]
  },
  {
   "cell_type": "markdown",
   "metadata": {},
   "source": [
    "# qs 16"
   ]
  },
  {
   "cell_type": "markdown",
   "metadata": {},
   "source": [
    "- in python we prevent a class from having multiple instances by using singleton desing pattern\n"
   ]
  },
  {
   "cell_type": "code",
   "execution_count": null,
   "metadata": {},
   "outputs": [],
   "source": [
    "class Singleton:\n",
    "    _instance = None\n",
    "\n",
    "    def __new__(cls, *args, **kwargs):\n",
    "        if not cls._instance:\n",
    "            cls._instance = super(Singleton, cls).__new__(cls, *args, **kwargs)\n",
    "        return cls._instance\n",
    "    "
   ]
  },
  {
   "cell_type": "markdown",
   "metadata": {},
   "source": [
    "# qs 17"
   ]
  },
  {
   "cell_type": "code",
   "execution_count": 2,
   "metadata": {},
   "outputs": [
    {
     "name": "stdout",
     "output_type": "stream",
     "text": [
      "['math', 'physics', 'chemistry', 'economics', 'sociology']\n"
     ]
    }
   ],
   "source": [
    "class Student:\n",
    "    def __init__(self, subjects):\n",
    "        self.subjects = subjects\n",
    "\n",
    "student1 = Student([\"math\", \"physics\", \"chemistry\", \"economics\", \"sociology\"])\n",
    "\n",
    "print(student1.subjects)"
   ]
  },
  {
   "cell_type": "markdown",
   "metadata": {},
   "source": [
    "# qs 18"
   ]
  },
  {
   "cell_type": "markdown",
   "metadata": {},
   "source": [
    "- `__del__` method is used to perform any cleanup operations that might be required before the object is destroyed by the garbage collectors like closing database connections or file handlers\n",
    "- it can perform any cleanup operations that were not completed in the constructor"
   ]
  },
  {
   "cell_type": "markdown",
   "metadata": {},
   "source": [
    "# qs 19 : constuctor chaining"
   ]
  },
  {
   "cell_type": "markdown",
   "metadata": {},
   "source": [
    "- one constructor calls another\n",
    "- python doesn't allow constructor chaining as in two `__init__` methods can not be defined"
   ]
  },
  {
   "cell_type": "code",
   "execution_count": null,
   "metadata": {},
   "outputs": [],
   "source": [
    "class MyClass:\n",
    "    def __init__(self, size=8):\n",
    "        self.buffer = [1] * size\n"
   ]
  },
  {
   "cell_type": "markdown",
   "metadata": {},
   "source": [
    "# qs 20"
   ]
  },
  {
   "cell_type": "code",
   "execution_count": 5,
   "metadata": {},
   "outputs": [
    {
     "name": "stdout",
     "output_type": "stream",
     "text": [
      "the make of the car is LXi and the model is Alto\n"
     ]
    }
   ],
   "source": [
    "class Car:\n",
    "    def __init__(self, make, model):\n",
    "        self.make = make\n",
    "        self.model = model\n",
    "\n",
    "    def display(self):\n",
    "        return f\"the make of the car is {self.make} and the model is {self.model}\"\n",
    "    \n",
    "car1 = Car(\"LXi\", \"Alto\")\n",
    "print(car1.display())"
   ]
  },
  {
   "cell_type": "markdown",
   "metadata": {},
   "source": [
    "# Inheritance"
   ]
  },
  {
   "cell_type": "markdown",
   "metadata": {},
   "source": [
    "## 1"
   ]
  },
  {
   "cell_type": "markdown",
   "metadata": {},
   "source": [
    "- inheritance is a fundamental concept in object oriented programming\n",
    "- it allows a class to inherit properties and behaviour from another class\n",
    "- it is significant as it alows: code reusability, less develoopment and maintenance costs"
   ]
  },
  {
   "cell_type": "markdown",
   "metadata": {},
   "source": [
    "## 2"
   ]
  },
  {
   "cell_type": "markdown",
   "metadata": {},
   "source": [
    "- single inheritance : is when a child class inherits from only one parent class\n",
    "- multiple inheritance : is when a child class inherits from two or more parent classes"
   ]
  },
  {
   "cell_type": "code",
   "execution_count": 1,
   "metadata": {},
   "outputs": [
    {
     "name": "stdout",
     "output_type": "stream",
     "text": [
      "John is a Professor\n",
      "8\n"
     ]
    }
   ],
   "source": [
    "\n",
    "# single inheritance\n",
    "class Person:\n",
    "    def __init__(self, name, age):\n",
    "        self.name = name\n",
    "        self.age = age\n",
    "\n",
    "class Professor(Person):\n",
    "    def isProfessor(self):\n",
    "        return f\"{self.name} is a Professor\"\n",
    "    \n",
    "sir = Professor(\"John\", 38)\n",
    "print(sir.isProfessor())\n",
    "\n",
    "# multiple inheritance\n",
    "class superClass1():\n",
    "    num1 = 3\n",
    "\n",
    "class superClass2():\n",
    "    num2 = 5\n",
    "\n",
    "class subClass(superClass1, superClass2):\n",
    "    def addition(self):\n",
    "        return self.num1+self.num2\n",
    "\n",
    "obj = subClass()\n",
    "print(obj.addition())"
   ]
  },
  {
   "cell_type": "markdown",
   "metadata": {},
   "source": [
    "## 3"
   ]
  },
  {
   "cell_type": "code",
   "execution_count": 3,
   "metadata": {},
   "outputs": [],
   "source": [
    "class Vehicle:\n",
    "    def __init__(self, colour, speed):\n",
    "        self.colour = colour\n",
    "        self.speed = speed\n",
    "\n",
    "class Car(Vehicle):\n",
    "    def __init__(self,colour, speed, brand):\n",
    "        super().__init__(colour, speed)\n",
    "        self.brand = brand\n",
    "\n",
    "car1 = Car(\"Neon\", 300, \"Lamborghini\")"
   ]
  },
  {
   "cell_type": "markdown",
   "metadata": {},
   "source": [
    "## 4"
   ]
  },
  {
   "cell_type": "markdown",
   "metadata": {},
   "source": [
    "- method overriding is the ability of a programming language that allows a subclass or child class to provide a specific implementation of a method that is already provided by one of its superclasses or parent classes."
   ]
  },
  {
   "cell_type": "code",
   "execution_count": 6,
   "metadata": {},
   "outputs": [
    {
     "name": "stdout",
     "output_type": "stream",
     "text": [
      "Inside Parent\n",
      "Inside Child\n"
     ]
    }
   ],
   "source": [
    "class Parent:\n",
    "    def __init__(self):\n",
    "        self.value = \"Inside Parent\"\n",
    "\n",
    "    def display(self):\n",
    "        print(self.value)\n",
    "\n",
    "class Child(Parent):\n",
    "    def __init__(self):\n",
    "        self.value = \"Inside Child\"\n",
    "\n",
    "    def display(self):\n",
    "        print(self.value)\n",
    "\n",
    "obj1 = Parent()\n",
    "obj2 = Child()\n",
    "\n",
    "obj1.display()\n",
    "obj2.display()"
   ]
  },
  {
   "cell_type": "markdown",
   "metadata": {},
   "source": [
    "## 5"
   ]
  },
  {
   "cell_type": "markdown",
   "metadata": {},
   "source": [
    "- we can access the methods and attributes of a parent class from a child class by using inheritance and super() function"
   ]
  },
  {
   "cell_type": "code",
   "execution_count": 8,
   "metadata": {},
   "outputs": [
    {
     "name": "stdout",
     "output_type": "stream",
     "text": [
      "Hello, Alice!\n",
      "You are 10 years old\n"
     ]
    }
   ],
   "source": [
    "import logging \n",
    "\n",
    "logging.basicConfig(filename = \"oops_assignment_2.log\", level = logging.DEBUG)\n",
    "\n",
    "\n",
    "\n",
    "class Parent:\n",
    "    def __init__(self,name):\n",
    "        self.name = name\n",
    "\n",
    "    def say_hello(self):\n",
    "        print(f\"Hello, {self.name}!\")\n",
    "\n",
    "class Child(Parent):\n",
    "    def __init__(self, name, age):\n",
    "        super().__init__(name)\n",
    "        self.age = age\n",
    "\n",
    "    def say_hello(self):\n",
    "        super().say_hello()\n",
    "        print(f\"You are {self.age} years old\")\n",
    "\n",
    "try:\n",
    "    child = Child(\"Alice\", 10)\n",
    "    child.say_hello()\n",
    "except Exception as e:\n",
    "    logging.exception(\"an error occured: \")"
   ]
  },
  {
   "cell_type": "markdown",
   "metadata": {},
   "source": [
    "## 6"
   ]
  },
  {
   "cell_type": "markdown",
   "metadata": {},
   "source": [
    "- `super()` is a built in function that returns a temporary object of the superclass\n",
    "- it is used in inheritance when a method is overrideen in subclass and we want to call the method of the parent class "
   ]
  },
  {
   "cell_type": "code",
   "execution_count": null,
   "metadata": {},
   "outputs": [
    {
     "name": "stdout",
     "output_type": "stream",
     "text": [
      "Hello, Alice!\n",
      "You are 10 years old\n"
     ]
    }
   ],
   "source": [
    "import logging \n",
    "\n",
    "logging.basicConfig(filename = \"oops_assignment_2.log\", level = logging.DEBUG)\n",
    "\n",
    "\n",
    "\n",
    "class Parent:\n",
    "    def __init__(self,name):\n",
    "        self.name = name\n",
    "\n",
    "    def say_hello(self):\n",
    "        print(f\"Hello, {self.name}!\")\n",
    "\n",
    "class Child(Parent):\n",
    "    def __init__(self, name, age):\n",
    "        super().__init__(name)\n",
    "        self.age = age\n",
    "\n",
    "    def say_hello(self):\n",
    "        super().say_hello()\n",
    "        print(f\"You are {self.age} years old\")\n",
    "\n",
    "try:\n",
    "    child = Child(\"Alice\", 10)\n",
    "    child.say_hello()\n",
    "except Exception as e:\n",
    "    logging.exception(\"an error occured: \")"
   ]
  },
  {
   "cell_type": "markdown",
   "metadata": {},
   "source": [
    "## 7"
   ]
  },
  {
   "cell_type": "code",
   "execution_count": 13,
   "metadata": {},
   "outputs": [
    {
     "name": "stdout",
     "output_type": "stream",
     "text": [
      "Meow!\n"
     ]
    }
   ],
   "source": [
    "import logging\n",
    "logging.basicConfig(filename = \"oops_assignment_2.log\", level = logging.DEBUG)\n",
    "\n",
    "class Animal:\n",
    "    def speak(self):\n",
    "        pass\n",
    "    \n",
    "class Dog(Animal):\n",
    "    def speak(self):\n",
    "        return \"Woof!\"\n",
    "    \n",
    "class Cat(Animal):\n",
    "    def speak(self):\n",
    "        return \"Meow!\"\n",
    "\n",
    "try:\n",
    "    animal1 = Cat()\n",
    "    print(animal1.speak())\n",
    "except Exception as e:\n",
    "    logging.exception(\"an error!\")"
   ]
  },
  {
   "cell_type": "markdown",
   "metadata": {},
   "source": [
    "## 8"
   ]
  },
  {
   "cell_type": "markdown",
   "metadata": {},
   "source": [
    "- in python `isinstance()` is a bulit-in function that returns True if an object is an instance of a particular class or its superclass\n",
    "- we pass two arguments: the object and the class or tuple of classes"
   ]
  },
  {
   "cell_type": "code",
   "execution_count": 14,
   "metadata": {},
   "outputs": [
    {
     "name": "stdout",
     "output_type": "stream",
     "text": [
      "True\n",
      "True\n",
      "False\n"
     ]
    }
   ],
   "source": [
    "class Animal:\n",
    "    pass\n",
    "\n",
    "class Dog(Animal):\n",
    "    pass\n",
    "\n",
    "my_dog = Dog()\n",
    "\n",
    "print(isinstance(my_dog, Dog))\n",
    "print(isinstance(my_dog, Animal))\n",
    "print(isinstance(my_dog, str))"
   ]
  },
  {
   "cell_type": "markdown",
   "metadata": {},
   "source": [
    "## 9"
   ]
  },
  {
   "cell_type": "markdown",
   "metadata": {},
   "source": [
    "- similar to `isinstance()` , `issubclass()` is used to check whether a class is a subclass of another class"
   ]
  },
  {
   "cell_type": "code",
   "execution_count": 15,
   "metadata": {},
   "outputs": [
    {
     "name": "stdout",
     "output_type": "stream",
     "text": [
      "True\n",
      "False\n"
     ]
    }
   ],
   "source": [
    "class Animal:\n",
    "    pass\n",
    "\n",
    "class Dog(Animal):\n",
    "    pass\n",
    "\n",
    "print(issubclass(Dog, Animal))\n",
    "print(issubclass(Dog, str))"
   ]
  },
  {
   "cell_type": "markdown",
   "metadata": {},
   "source": [
    "## 10"
   ]
  },
  {
   "cell_type": "markdown",
   "metadata": {},
   "source": [
    "- constructors can be inherited in child classes just like any other method\n",
    "- whenever a child class is created it first looks for an `__init__` constructor up the hierarchy class\n"
   ]
  },
  {
   "cell_type": "code",
   "execution_count": null,
   "metadata": {},
   "outputs": [],
   "source": [
    "class Animal:\n",
    "    def __init__(self, name):\n",
    "        self.name = name\n",
    "\n",
    "class Dog(Animal):\n",
    "    def __init__(self, name, breed):\n",
    "        super().__init__(name)\n",
    "        self.breed = breed\n",
    "\n",
    "my_dog = Dog(\"Fido\", \"Golden Retriever\")\n",
    "print(my_dog.name)\n",
    "print(my_dog.breed)\n"
   ]
  },
  {
   "cell_type": "markdown",
   "metadata": {},
   "source": [
    "## 11"
   ]
  },
  {
   "cell_type": "code",
   "execution_count": 3,
   "metadata": {},
   "outputs": [
    {
     "name": "stdout",
     "output_type": "stream",
     "text": [
      "the area of my circle is 78.53981633974483\n",
      "The area of my rectangle is 50\n"
     ]
    }
   ],
   "source": [
    "import math\n",
    "\n",
    "class Shape:\n",
    "    def area(self):\n",
    "        pass\n",
    "\n",
    "class Circle:\n",
    "    def __init__(self, radius):\n",
    "        self.radius = radius\n",
    "\n",
    "    def area(self):\n",
    "        return math.pi * self.radius ** 2\n",
    "\n",
    "class Rectangle:\n",
    "    def __init__(self, length, width):\n",
    "        self. length = length\n",
    "        self. width = width\n",
    "\n",
    "    def area(self):\n",
    "        return self.length * self.width\n",
    "    \n",
    "my_circle = Circle (5)\n",
    "my_rectangle =Rectangle(10, 5)\n",
    "\n",
    "print(f\"the area of my circle is {my_circle.area()}\")\n",
    "print(f\"The area of my rectangle is {my_rectangle.area()}\")"
   ]
  },
  {
   "cell_type": "markdown",
   "metadata": {},
   "source": [
    "## 12"
   ]
  },
  {
   "cell_type": "markdown",
   "metadata": {},
   "source": [
    "- ABC is like a blueprint for a class, it tells us what methods a class should have without actually creating any object\n",
    "- other classes inherit ABC to make sure that all the subclasses have the same method implemented"
   ]
  },
  {
   "cell_type": "code",
   "execution_count": 4,
   "metadata": {},
   "outputs": [
    {
     "name": "stdout",
     "output_type": "stream",
     "text": [
      "The area of my circle is 78.53981633974483.\n",
      "The area of my rectangle is 12.\n"
     ]
    }
   ],
   "source": [
    "import abc\n",
    "\n",
    "class Shape(abc.ABC):\n",
    "    @abc.abstractmethod\n",
    "    def area(self):\n",
    "        pass\n",
    "\n",
    "class Circle(Shape):\n",
    "    def __init__(self, radius):\n",
    "        self.radius = radius\n",
    "\n",
    "    def area(self):\n",
    "        return math.pi * self.radius ** 2\n",
    "\n",
    "class Rectangle(Shape):\n",
    "    def __init__(self, length, width):\n",
    "        self.length = length\n",
    "        self.width = width\n",
    "\n",
    "    def area(self):\n",
    "        return self.length * self.width\n",
    "\n",
    "my_circle = Circle(5)\n",
    "my_rectangle = Rectangle(3, 4)\n",
    "\n",
    "print(f\"The area of my circle is {my_circle.area()}.\")\n",
    "print(f\"The area of my rectangle is {my_rectangle.area()}.\")"
   ]
  },
  {
   "cell_type": "markdown",
   "metadata": {},
   "source": [
    "## 13"
   ]
  },
  {
   "cell_type": "markdown",
   "metadata": {},
   "source": [
    "- by using the private access modifier\n",
    "- private methods and attributes are not accessible from outside class even child classes"
   ]
  },
  {
   "cell_type": "code",
   "execution_count": 5,
   "metadata": {},
   "outputs": [
    {
     "ename": "AttributeError",
     "evalue": "'Child' object has no attribute '_Child__private_method'",
     "output_type": "error",
     "traceback": [
      "\u001b[1;31m---------------------------------------------------------------------------\u001b[0m",
      "\u001b[1;31mAttributeError\u001b[0m                            Traceback (most recent call last)",
      "\u001b[1;32mc:\\Users\\user\\Desktop\\ds\\Python\\oops_assignment_2.ipynb Cell 82\u001b[0m line \u001b[0;36m2\n\u001b[0;32m     <a href='vscode-notebook-cell:/c%3A/Users/user/Desktop/ds/Python/oops_assignment_2.ipynb#Y144sZmlsZQ%3D%3D?line=17'>18</a>\u001b[0m child \u001b[39m=\u001b[39m Child()\n\u001b[0;32m     <a href='vscode-notebook-cell:/c%3A/Users/user/Desktop/ds/Python/oops_assignment_2.ipynb#Y144sZmlsZQ%3D%3D?line=18'>19</a>\u001b[0m child\u001b[39m.\u001b[39mmodify_attribute(\u001b[39m100\u001b[39m)\n\u001b[1;32m---> <a href='vscode-notebook-cell:/c%3A/Users/user/Desktop/ds/Python/oops_assignment_2.ipynb#Y144sZmlsZQ%3D%3D?line=19'>20</a>\u001b[0m child\u001b[39m.\u001b[39;49mcall_method()\n",
      "\u001b[1;32mc:\\Users\\user\\Desktop\\ds\\Python\\oops_assignment_2.ipynb Cell 82\u001b[0m line \u001b[0;36m1\n\u001b[0;32m     <a href='vscode-notebook-cell:/c%3A/Users/user/Desktop/ds/Python/oops_assignment_2.ipynb#Y144sZmlsZQ%3D%3D?line=14'>15</a>\u001b[0m \u001b[39mdef\u001b[39;00m \u001b[39mcall_method\u001b[39m(\u001b[39mself\u001b[39m):\n\u001b[1;32m---> <a href='vscode-notebook-cell:/c%3A/Users/user/Desktop/ds/Python/oops_assignment_2.ipynb#Y144sZmlsZQ%3D%3D?line=15'>16</a>\u001b[0m     \u001b[39mself\u001b[39;49m\u001b[39m.\u001b[39;49m__private_method()\n",
      "\u001b[1;31mAttributeError\u001b[0m: 'Child' object has no attribute '_Child__private_method'"
     ]
    }
   ],
   "source": [
    "class Parent:\n",
    "    def __init__(self):\n",
    "        self.__private_attribute = 42\n",
    "\n",
    "    def __private_method(self):\n",
    "        print(\"this is a private method\")\n",
    "\n",
    "class Child(Parent):\n",
    "    def __init__(self):\n",
    "        super().__init__()\n",
    "\n",
    "    def modify_attribute(self, value):\n",
    "        self.__private_attribute = value\n",
    "\n",
    "    def call_method(self):\n",
    "        self.__private_method()\n",
    "\n",
    "child = Child()\n",
    "child.modify_attribute(100)\n",
    "child.call_method()"
   ]
  },
  {
   "cell_type": "markdown",
   "metadata": {},
   "source": [
    "## 14"
   ]
  },
  {
   "cell_type": "code",
   "execution_count": 6,
   "metadata": {},
   "outputs": [
    {
     "data": {
      "text/plain": [
       "' the salary of Ashok Panda is 3600000 in Statistics department'"
      ]
     },
     "execution_count": 6,
     "metadata": {},
     "output_type": "execute_result"
    }
   ],
   "source": [
    "class Employee:\n",
    "    def __init__(self, name, salary):\n",
    "        self.name = name\n",
    "        self.salary = salary\n",
    "\n",
    "class Manager(Employee):\n",
    "    def __init__(self, name, salary, department):\n",
    "        super().__init__(name, salary)\n",
    "        self.department = department\n",
    "\n",
    "    def display(self):\n",
    "        return f\" the salary of {self.name} is {self.salary} in {self.department} department\"\n",
    "    \n",
    "employee1 = Manager(\"Ashok Panda\", 3600000, \"Statistics\")\n",
    "employee1.display()"
   ]
  },
  {
   "cell_type": "markdown",
   "metadata": {},
   "source": [
    "## 15"
   ]
  },
  {
   "cell_type": "markdown",
   "metadata": {},
   "source": [
    "- method overloading is about redefining a method again in the same class but with different parameters to do a different task\n",
    "- method overriding is about rewriting a method of the same name in a child class \n",
    "- method overloading is not supported in python"
   ]
  },
  {
   "cell_type": "markdown",
   "metadata": {},
   "source": [
    "## 16"
   ]
  },
  {
   "cell_type": "markdown",
   "metadata": {},
   "source": [
    "- __init__() is used to initialize instance parameters for a class, it is also called a constructor\n",
    "- it is utilized in a child class through inheritance and `super()` method's use"
   ]
  },
  {
   "cell_type": "markdown",
   "metadata": {},
   "source": [
    "## 17"
   ]
  },
  {
   "cell_type": "code",
   "execution_count": 7,
   "metadata": {},
   "outputs": [
    {
     "name": "stdout",
     "output_type": "stream",
     "text": [
      "the eagle is soaring high in the sky!\n",
      "the sparrow is fitting about in the trees\n"
     ]
    }
   ],
   "source": [
    "class Bird:\n",
    "    def fly(self):\n",
    "        pass\n",
    "\n",
    "class Eagle(Bird):\n",
    "    def fly(self):\n",
    "        print(\"the eagle is soaring high in the sky!\")\n",
    "\n",
    "class Sparrow(Bird):\n",
    "    def fly(self):\n",
    "        print(\"the sparrow is fitting about in the trees\")\n",
    "\n",
    "my_eagle = Eagle()\n",
    "my_sparrow = Sparrow()\n",
    "\n",
    "my_eagle.fly()\n",
    "my_sparrow.fly()"
   ]
  },
  {
   "cell_type": "markdown",
   "metadata": {},
   "source": [
    "## 18"
   ]
  },
  {
   "cell_type": "markdown",
   "metadata": {},
   "source": [
    "- when a diamond shpaed inheritance hierarcy is created it can lead to conflicts when the subclass tries to call a method that is defined in both of its parent classes\n",
    "- python addresses this problem using the method resolution order algorithm which defines a clear method lookup order to avoid ambiguity"
   ]
  },
  {
   "cell_type": "code",
   "execution_count": 9,
   "metadata": {},
   "outputs": [
    {
     "name": "stdout",
     "output_type": "stream",
     "text": [
      "method C\n"
     ]
    }
   ],
   "source": [
    "class A:\n",
    "    def something(self):\n",
    "        print(\"method A\")\n",
    "\n",
    "class B(A):\n",
    "    pass\n",
    "\n",
    "class C(A):\n",
    "    def something(self):\n",
    "        print(\"method C\")\n",
    "\n",
    "class D(B,C):\n",
    "    pass\n",
    "\n",
    "obj = D()\n",
    "obj.something()"
   ]
  },
  {
   "cell_type": "markdown",
   "metadata": {},
   "source": [
    "## 19 : is-a , has-a relationship "
   ]
  },
  {
   "cell_type": "markdown",
   "metadata": {},
   "source": [
    "- is a uses inheritance\n",
    "- has a uses composition"
   ]
  },
  {
   "cell_type": "code",
   "execution_count": 11,
   "metadata": {},
   "outputs": [
    {
     "name": "stdout",
     "output_type": "stream",
     "text": [
      "Woof! My name is Fido\n"
     ]
    }
   ],
   "source": [
    "# is a relationship\n",
    "\n",
    "class Animal:\n",
    "    def __init__(self, name):\n",
    "        self.name = name\n",
    "\n",
    "    def speak(self):\n",
    "        pass\n",
    "\n",
    "class Dog(Animal):\n",
    "    def speak(self):\n",
    "        print(f\"Woof! My name is {self.name}\")\n",
    "\n",
    "dog = Dog(\"Fido\")\n",
    "dog.speak()"
   ]
  },
  {
   "cell_type": "code",
   "execution_count": 13,
   "metadata": {},
   "outputs": [
    {
     "name": "stdout",
     "output_type": "stream",
     "text": [
      "Toyota\n",
      "2.5L\n",
      "203\n"
     ]
    }
   ],
   "source": [
    "# has a relationship\n",
    "\n",
    "class Engine:\n",
    "    def __init__(self, make, model, horsepower):\n",
    "        self.make = make\n",
    "        self.model = model\n",
    "        self.horsepower = horsepower\n",
    "    \n",
    "class Car:\n",
    "    def __init__(self, make, model, year, engine):\n",
    "        self.make = make\n",
    "        self.model = model\n",
    "        self.year = year\n",
    "        self.engine = engine\n",
    "\n",
    "car = Car(\"Toyota\", \"Camry\", 2023, Engine(\"Toyota\", \"2.5L\", 203))\n",
    "\n",
    "print(car.engine.make)\n",
    "print(car.engine.model)\n",
    "print(car.engine.horsepower)"
   ]
  },
  {
   "cell_type": "markdown",
   "metadata": {},
   "source": [
    "## 20"
   ]
  },
  {
   "cell_type": "code",
   "execution_count": 21,
   "metadata": {},
   "outputs": [
    {
     "data": {
      "text/plain": [
       "'Mathematics'"
      ]
     },
     "execution_count": 21,
     "metadata": {},
     "output_type": "execute_result"
    }
   ],
   "source": [
    "class Person:\n",
    "    def __init__(self, name, email):\n",
    "        self.name = name \n",
    "        self.email = email\n",
    "    \n",
    "    def get_name(self):\n",
    "        return self.name\n",
    "    \n",
    "    def get_email(self):\n",
    "        return self.email\n",
    "    \n",
    "class Student(Person):\n",
    "    def __init__(self, name, email, major):\n",
    "        super().__init__(name, email)\n",
    "        self.major = major\n",
    "\n",
    "    def get_major(self):\n",
    "        return self.major\n",
    "\n",
    "class Professor(Person):\n",
    "    def __init__(self, name, email, course):\n",
    "        super().__init__(name, email)\n",
    "        self.course= course\n",
    "    \n",
    "    def get_course(self):\n",
    "        return self.course\n",
    "    \n",
    "\n",
    "\n",
    "teacher = Professor(\"Dr. John Doe\", \"john.doe@example.com\", \"Mathematics\")\n",
    "teacher.get_course()"
   ]
  },
  {
   "cell_type": "code",
   "execution_count": 23,
   "metadata": {},
   "outputs": [
    {
     "data": {
      "text/plain": [
       "'Computer Science'"
      ]
     },
     "execution_count": 23,
     "metadata": {},
     "output_type": "execute_result"
    }
   ],
   "source": [
    "student = Student(\"Alice Smith\", \"alice.smith@example.com\", \"Computer Science\")\n",
    "student.get_major()"
   ]
  },
  {
   "cell_type": "markdown",
   "metadata": {},
   "source": [
    "# Encapsulation"
   ]
  },
  {
   "cell_type": "markdown",
   "metadata": {},
   "source": [
    "## 1"
   ]
  },
  {
   "cell_type": "markdown",
   "metadata": {},
   "source": [
    "- bundling of data and methods together into a single unit\n",
    "- unit is known as class\n",
    "- encapsulation allows us to hide internal implementation of a class from the outside world and to control how the data and methods of the class are accessed and modified\n",
    "- it promotes modularity\n",
    "- it protects data from accidental modification"
   ]
  },
  {
   "cell_type": "markdown",
   "metadata": {},
   "source": [
    "## 2"
   ]
  },
  {
   "cell_type": "markdown",
   "metadata": {},
   "source": [
    "- data hiding : protect code or data from getting accessed by outside code\n",
    "-- achieved by declaring instance variables of a class as private\n",
    "\n",
    "- access control : to allow outside access to the instance variables, public methods called getters and setters are defined"
   ]
  },
  {
   "cell_type": "markdown",
   "metadata": {},
   "source": [
    "## 3"
   ]
  },
  {
   "cell_type": "code",
   "execution_count": 1,
   "metadata": {},
   "outputs": [
    {
     "name": "stdout",
     "output_type": "stream",
     "text": [
      "Name:  John\n",
      "Salary:  5000\n"
     ]
    }
   ],
   "source": [
    "class Employee:\n",
    "   \n",
    "    def __init__(self, name, salary):\n",
    "        self._name = name  \n",
    "        self.__salary = salary  \n",
    "\n",
    "    # public method to access private member\n",
    "    def getSalary(self):\n",
    "        return self.__salary\n",
    "\n",
    "    # public method to access protected member\n",
    "    def getName(self):\n",
    "        return self._name\n",
    "\n",
    "# creating object of the class\n",
    "emp = Employee('John', 5000)\n",
    "\n",
    "# accessing data through public methods\n",
    "print(\"Name: \", emp.getName())\n",
    "print(\"Salary: \", emp.getSalary())"
   ]
  },
  {
   "cell_type": "markdown",
   "metadata": {},
   "source": [
    "## 4"
   ]
  },
  {
   "cell_type": "markdown",
   "metadata": {},
   "source": [
    "- public memebers can be accessed from any part of the code\n",
    "- protected members can be accessed from only the class and subclasses\n",
    "- private memebers can only be accessed from the class"
   ]
  },
  {
   "cell_type": "code",
   "execution_count": null,
   "metadata": {},
   "outputs": [],
   "source": [
    "class Student:\n",
    "    def __init__(self, name, age):\n",
    "        self.name = name \n",
    "        self.age = age  \n",
    "\n",
    "\n",
    "class Student:\n",
    "    def __init__(self, name, age):\n",
    "        self._name = name  # protected instance attribute\n",
    "        self._age = age  # protected instance attribute\n",
    "\n",
    "class Student:\n",
    "    def __init__(self, name, age):\n",
    "        self.__name = name  # private instance attribute\n",
    "        self.__age = age  # private instance attribute"
   ]
  },
  {
   "cell_type": "markdown",
   "metadata": {},
   "source": [
    "## 5"
   ]
  },
  {
   "cell_type": "code",
   "execution_count": 2,
   "metadata": {},
   "outputs": [],
   "source": [
    "class Person:\n",
    "    def __init__(self, name):\n",
    "        self.__name = name\n",
    "\n",
    "    def getPerson(self):\n",
    "        return self.__name\n",
    "    \n",
    "    def setPerson(self, name):\n",
    "        self.__name = name"
   ]
  },
  {
   "cell_type": "markdown",
   "metadata": {},
   "source": [
    "## 6"
   ]
  },
  {
   "cell_type": "markdown",
   "metadata": {},
   "source": [
    "- getter returns the attribute\n",
    "- setter allows you to set the instances"
   ]
  },
  {
   "cell_type": "code",
   "execution_count": 3,
   "metadata": {},
   "outputs": [],
   "source": [
    "class Person:\n",
    "    def __init__(self, name, age):\n",
    "        self._name = name\n",
    "        self._age = age\n",
    "\n",
    "    @property\n",
    "    def name(self):\n",
    "        return self._name\n",
    "\n",
    "    @name.setter\n",
    "    def name(self, new_name):\n",
    "        if isinstance(new_name, str):\n",
    "            self._name = new_name\n",
    "        else:\n",
    "            raise TypeError(\"Name must be a string.\")\n",
    "        \n",
    "    @property\n",
    "    def age(self):\n",
    "        return self._age\n",
    "    \n",
    "    @age.setter\n",
    "    def age(self, new_age):\n",
    "        if isinstance(new_age, int) and new_age >=0:\n",
    "            self._age = new_age\n",
    "        else:\n",
    "            raise TypeError(\"age must be a non negative integer\")\n",
    "        \n"
   ]
  },
  {
   "cell_type": "code",
   "execution_count": 4,
   "metadata": {},
   "outputs": [],
   "source": [
    "person = Person(\"Alice\", 25)\n",
    "name = person.name"
   ]
  },
  {
   "cell_type": "markdown",
   "metadata": {},
   "source": [
    "## 7"
   ]
  },
  {
   "cell_type": "markdown",
   "metadata": {},
   "source": [
    "- in python when we use `self.__variable` it doesn't make that variable truly private unlike other languages\n",
    "- so to access the private variable outside the class we use `_ClassName__privateVariable` \n",
    "- this process of discouraging the variables use outside the particular class is called name mangling\n",
    "- This mechanism helps to protect the object’s internal state by preventing direct access to its attributes. It’s a way to enforce encapsulation in Python, as it restricts direct access to attributes that are intended to be private to a class\n",
    "- even if it is not true encapsulation"
   ]
  },
  {
   "cell_type": "markdown",
   "metadata": {},
   "source": [
    "## 8"
   ]
  },
  {
   "cell_type": "code",
   "execution_count": 2,
   "metadata": {},
   "outputs": [
    {
     "data": {
      "text/plain": [
       "'the account no. SX6789 has balance: 29000'"
      ]
     },
     "execution_count": 2,
     "metadata": {},
     "output_type": "execute_result"
    }
   ],
   "source": [
    "class BankAccount:\n",
    "    def __init__(self, a, b):\n",
    "        self.__balance = a\n",
    "        self.__account_number= b\n",
    "    \n",
    "    def Deposit(self,n):\n",
    "        self.n = n\n",
    "        if n<0:\n",
    "            return \"please enter a valid number\"\n",
    "        else:\n",
    "            self.__balance = self.__balance + self.n \n",
    "        \n",
    "    def Withdrawing(self, n):\n",
    "        self.n = n\n",
    "        if n<0 and n>self.__balance:\n",
    "            return \"please enter a valid number\"\n",
    "        else:\n",
    "            self.__balance = self.__balance - self.n\n",
    "\n",
    "    def Display(self):\n",
    "        return f\"the account no. {self.__account_number} has balance: {self.__balance}\"\n",
    "\n",
    "acc1 = BankAccount(25000, \"SX6789\")\n",
    "acc1.Deposit(5000)\n",
    "acc1.Withdrawing(1000)\n",
    "acc1.Display()\n"
   ]
  },
  {
   "cell_type": "markdown",
   "metadata": {},
   "source": [
    "## 9"
   ]
  },
  {
   "cell_type": "markdown",
   "metadata": {},
   "source": [
    "- encapsulation helps in organizing code into distinct, independent units\n",
    "- increased security with data hiding\n",
    "- "
   ]
  },
  {
   "cell_type": "markdown",
   "metadata": {},
   "source": [
    "## 10"
   ]
  },
  {
   "cell_type": "markdown",
   "metadata": {},
   "source": [
    "- private attributes `self.___attribute` are accessed outside of its own class by a process known as name mangling\n",
    "- becuase python doesn't inherently support true private attributes we can use name mangling\n",
    "- name mangling is `_className__privateAttribute`\n",
    "- but we can also achieve the same using a method inside the class"
   ]
  },
  {
   "cell_type": "code",
   "execution_count": 1,
   "metadata": {},
   "outputs": [
    {
     "name": "stdout",
     "output_type": "stream",
     "text": [
      "10\n",
      "10\n"
     ]
    }
   ],
   "source": [
    "class MyClass:\n",
    "    def __init__(self):\n",
    "        self.__privateAttribute = 10\n",
    "\n",
    "    def accessPrivateAttribute(self):\n",
    "        return self.__privateAttribute\n",
    "\n",
    "obj = MyClass()\n",
    "\n",
    "print(obj.accessPrivateAttribute()) # accessing the private attribute using a method\n",
    "\n",
    "print(obj._MyClass__privateAttribute) # accessing the private attribute using name mangling\n",
    "\n",
    "\n",
    "\n"
   ]
  },
  {
   "cell_type": "markdown",
   "metadata": {},
   "source": [
    "## 11"
   ]
  },
  {
   "cell_type": "code",
   "execution_count": 2,
   "metadata": {},
   "outputs": [],
   "source": [
    "class Person:\n",
    "    def __init__(self, name, age):\n",
    "        self.__name = name\n",
    "        self.__age = age\n",
    "    \n",
    "    def get_name(self):\n",
    "        return self.__name\n",
    "\n",
    "    def get_age(self):\n",
    "        return self.__age\n",
    "\n",
    "class Student(Person):\n",
    "    def __init__(self, name, age, studentID):\n",
    "        super().__init__(name, age)\n",
    "        self.__studentID = studentID\n",
    "\n",
    "    def get_studentID(self):\n",
    "        return self.__studentID\n",
    "\n",
    "class Teacher(Person):\n",
    "    def __init__(self, name, age, teacherID):\n",
    "        super().__init__(name, age)\n",
    "        self.__teacherID = teacherID\n",
    "    \n",
    "    def get_teacherID(self):\n",
    "        return self.__teacherID\n",
    "\n",
    "class Course:\n",
    "    def __init__(self, course_name, teacher):\n",
    "        self.__course_name = course_name\n",
    "        self.__teacher = teacher\n",
    "        self.__students = []\n",
    "\n",
    "    def addStudent(self, student):\n",
    "        self.__students.append(student)\n",
    "\n",
    "    def get_course_name(self):\n",
    "        self.__course_name\n",
    "\n",
    "    def get_teacher(self):\n",
    "        return self.__teacher\n",
    "\n",
    "    def get_students(self):\n",
    "        return self.__students\n",
    "\n",
    "\n"
   ]
  },
  {
   "cell_type": "markdown",
   "metadata": {},
   "source": [
    "## 12"
   ]
  },
  {
   "cell_type": "markdown",
   "metadata": {},
   "source": [
    "- the whole point of encapsulation is to implement ways to access and modify private attributes\n",
    "- whether we use explicitly programmer defined methods or `@property` decorator for it is of the matter"
   ]
  },
  {
   "cell_type": "code",
   "execution_count": 9,
   "metadata": {},
   "outputs": [
    {
     "name": "stdout",
     "output_type": "stream",
     "text": [
      "attribute value can not be negative\n"
     ]
    }
   ],
   "source": [
    "class myClass:\n",
    "    def __init__(self):\n",
    "        self.__attribute = 0\n",
    "\n",
    "    @property\n",
    "    def attribute(self):\n",
    "        return self.__attribute\n",
    "    \n",
    "    @attribute.setter\n",
    "    def attribute(self, value):\n",
    "        if value<0:\n",
    "            raise ValueError(\"attribute value can not be negative\")\n",
    "        self.__attribute = value\n",
    "\n",
    "obj1 = myClass()\n",
    "obj1.attribute = 10\n",
    "try :\n",
    "    obj1.attribute = -5\n",
    "    \n",
    "except ValueError as e:\n",
    "    print(e)"
   ]
  },
  {
   "cell_type": "markdown",
   "metadata": {},
   "source": [
    "## 13"
   ]
  },
  {
   "cell_type": "markdown",
   "metadata": {},
   "source": [
    "- data hiding is a key aspect of the prinicple of encapsulation\n",
    "- it involves making the data members of a class private so that they can't be directly accessed from outside the class\n",
    "- access to these data members is contolled through public methods of the class\n",
    "- it's importance lies in to preserve the integrity of the object and prevent unauthorized access or modification "
   ]
  },
  {
   "cell_type": "markdown",
   "metadata": {},
   "source": [
    "## 14"
   ]
  },
  {
   "cell_type": "code",
   "execution_count": 13,
   "metadata": {},
   "outputs": [
    {
     "name": "stdout",
     "output_type": "stream",
     "text": [
      "yearly salary of all employess for this year is: 360000.0\n"
     ]
    }
   ],
   "source": [
    "class Employee:\n",
    "    def __init__(self, salary, employeeID):\n",
    "        self.__salary = salary\n",
    "        self.__employeeID = employeeID\n",
    "\n",
    "    def yearlyBonuses(self):\n",
    "        return f\"yearly salary of all employess for this year is: {0.3 * self.__salary}\"\n",
    "\n",
    "emp1=Employee(1200000, \"XR3214B\")\n",
    "print(emp1.yearlyBonuses())\n",
    "    \n",
    "\n"
   ]
  },
  {
   "cell_type": "markdown",
   "metadata": {},
   "source": [
    "## 15"
   ]
  },
  {
   "cell_type": "markdown",
   "metadata": {},
   "source": [
    "- accessors and mutators are also known as getters and setters\n",
    "- accessors allow read access to private attributes\n",
    "- mutators allow write access to private attributes"
   ]
  },
  {
   "cell_type": "markdown",
   "metadata": {},
   "source": [
    "## 16"
   ]
  },
  {
   "cell_type": "markdown",
   "metadata": {},
   "source": [
    "- encapsulation requires creating additional methods for each attribute which can increase the size of the codebase\n",
    "- the use of accessors and mutators add an extra layer of method calls, which can lead to performance overload, however this is often negligible and often the benfits outweigh them\n",
    "- as python doesn't truly support private methods we can still access these so called private attributes given the know how"
   ]
  },
  {
   "cell_type": "markdown",
   "metadata": {},
   "source": [
    "## 17"
   ]
  },
  {
   "cell_type": "code",
   "execution_count": 15,
   "metadata": {},
   "outputs": [
    {
     "name": "stdout",
     "output_type": "stream",
     "text": [
      "Cofert Leene\n",
      "Lord of the Milfs\n"
     ]
    }
   ],
   "source": [
    "class LibSys:\n",
    "    def __init__(self, title, author, availability_status):\n",
    "        self.__title = title\n",
    "        self.__author = author\n",
    "        self.__availability_status = availability_status\n",
    "\n",
    "    def getTitle(self):\n",
    "        return self.__title\n",
    "    \n",
    "    def getAuthor(self):\n",
    "        return self.__author\n",
    "    def getStatus(self):\n",
    "        return self.__availability_status\n",
    "    \n",
    "book1 = LibSys(\"Lord of the Milfs\", \"FK Coupling\", \"Available to Rent\")\n",
    "book2 = LibSys(\"A Song of C and DD\", \"Cofert Leene\", \"Not Available\")\n",
    "\n",
    "print(book2.getAuthor())\n",
    "print(book1.getTitle())"
   ]
  },
  {
   "cell_type": "markdown",
   "metadata": {},
   "source": [
    "## 18"
   ]
  },
  {
   "cell_type": "markdown",
   "metadata": {},
   "source": [
    "- encapsulation protects the privacy of a variable that is sensitive to the function of the program\n",
    "- the methods that are designed to call the variables and set the variables make it modular"
   ]
  },
  {
   "cell_type": "markdown",
   "metadata": {},
   "source": [
    "## 19"
   ]
  },
  {
   "cell_type": "markdown",
   "metadata": {},
   "source": [
    "- hiding information is important to protect the health of a variable"
   ]
  },
  {
   "cell_type": "markdown",
   "metadata": {},
   "source": [
    "## 20"
   ]
  },
  {
   "cell_type": "code",
   "execution_count": 5,
   "metadata": {},
   "outputs": [
    {
     "name": "stdout",
     "output_type": "stream",
     "text": [
      "Jyoti\n"
     ]
    }
   ],
   "source": [
    "class Customer:\n",
    "    def __init__(self, name, address, contact):\n",
    "        self.__name = name\n",
    "        self.__address = address\n",
    "        self.__contact = contact\n",
    "\n",
    "    @property\n",
    "    def Name(self):\n",
    "        return self.__name\n",
    "    \n",
    "    @Name.setter\n",
    "    def Name(self, name):\n",
    "        self.__name = name\n",
    "\n",
    "obj1 = Customer(\"Pranay\", \"33 HN Road\", \"91245678\")\n",
    "\n",
    "try:\n",
    "    obj1.Name = \"Jyoti\"\n",
    "    print(obj1.Name)\n",
    "except Exception as e:\n",
    "    print(e)"
   ]
  },
  {
   "cell_type": "markdown",
   "metadata": {},
   "source": [
    "# Polymorphism"
   ]
  },
  {
   "cell_type": "markdown",
   "metadata": {},
   "source": [
    "## 1"
   ]
  },
  {
   "cell_type": "markdown",
   "metadata": {},
   "source": [
    "- the same method will be called on different objects and the method will behave differently depending on the type of object\n",
    "- polymorphism allows us to write code that is more flexible and reusable\n",
    "- it makes our code more human readable and easier to understand"
   ]
  },
  {
   "cell_type": "markdown",
   "metadata": {},
   "source": [
    "## 2"
   ]
  },
  {
   "cell_type": "markdown",
   "metadata": {},
   "source": [
    "- compile time polymorphism is a type of polymorphism that is resolved by the compiler at compile time, this means that the compiler decides which methods are to be called based on types of arguments that are passed to it\n",
    "- runtime polymorphism is resolved at runtime, the actual type of object \n",
    "- python supports runtime polymorphism through a technique called method overriding"
   ]
  },
  {
   "cell_type": "markdown",
   "metadata": {},
   "source": [
    "## 3"
   ]
  },
  {
   "cell_type": "code",
   "execution_count": 27,
   "metadata": {},
   "outputs": [
    {
     "name": "stdout",
     "output_type": "stream",
     "text": [
      "78.53981633974483\n",
      "9\n",
      "10.0\n"
     ]
    }
   ],
   "source": [
    "from abc import ABC, abstractclassmethod\n",
    "import math\n",
    "\n",
    "class Shapes(ABC):\n",
    "    @abstractclassmethod\n",
    "    def calculate_area(self):\n",
    "        pass\n",
    "\n",
    "class circle(Shapes):\n",
    "    def calculate_area(self, r):\n",
    "        return math.pi * (r**2)\n",
    "    \n",
    "class Square(Shapes):\n",
    "    def calculate_area(self, a):\n",
    "        return a**2\n",
    "    \n",
    "class triangle(Shapes):\n",
    "    def calculate_area(self, b, h):\n",
    "        return 1/2 * b * h\n",
    "    \n",
    "circle1 = circle()\n",
    "print(circle1.calculate_area(5))\n",
    "\n",
    "square1 = Square()\n",
    "print(square1.calculate_area(3))\n",
    "\n",
    "\n",
    "triangle1 = triangle()\n",
    "print(triangle1.calculate_area(4,5))"
   ]
  },
  {
   "cell_type": "markdown",
   "metadata": {},
   "source": [
    "## 4"
   ]
  },
  {
   "cell_type": "markdown",
   "metadata": {},
   "source": [
    "- method overriding is the process of rewriting a method with new implementation for a subclass"
   ]
  },
  {
   "cell_type": "code",
   "execution_count": 29,
   "metadata": {},
   "outputs": [
    {
     "name": "stdout",
     "output_type": "stream",
     "text": [
      "method in subclass 1\n",
      "method in subclass 2\n"
     ]
    }
   ],
   "source": [
    "class SuperClass():\n",
    "    def MethodInSuperClass(self):\n",
    "        pass\n",
    "\n",
    "class SubClass1(SuperClass):\n",
    "    def MethodInSubClass1(self):\n",
    "        return \"method in subclass 1\"\n",
    "    \n",
    "class SubClass2(SuperClass):\n",
    "    def MethodInSubClass2(self):\n",
    "        return \"method in subclass 2\"\n",
    "    \n",
    "obj1 = SubClass1()\n",
    "print(obj1.MethodInSubClass1())\n",
    "\n",
    "obj2 = SubClass2()\n",
    "print(obj2.MethodInSubClass2())"
   ]
  },
  {
   "cell_type": "markdown",
   "metadata": {},
   "source": [
    "## 5"
   ]
  },
  {
   "cell_type": "markdown",
   "metadata": {},
   "source": [
    "- python doesn't support method overloading like java or c++, as we can only use the latest defined method\n",
    "- but within the same class redefining a method with new or different parameters is called as method overloading in python"
   ]
  },
  {
   "cell_type": "code",
   "execution_count": null,
   "metadata": {},
   "outputs": [],
   "source": [
    "# example of polymorphism (method overriding)\n",
    "\n",
    "from abc import ABC, abstractmethod\n",
    "\n",
    "class Shape(ABC):\n",
    "    @abstractmethod\n",
    "    def calculate_area(self):\n",
    "        pass\n",
    "\n",
    "class Circle(Shape):\n",
    "    def __init__(self, radius):\n",
    "        self.radius = radius\n",
    "\n",
    "    def calculate_area(self):\n",
    "        return 3.14 * self.radius * self.radius\n",
    "\n",
    "class Square(Shape):\n",
    "    def __init__(self, side):\n",
    "        self.side = side\n",
    "\n",
    "    def calculate_area(self):\n",
    "        return self.side * self.side\n"
   ]
  },
  {
   "cell_type": "code",
   "execution_count": 31,
   "metadata": {},
   "outputs": [
    {
     "name": "stdout",
     "output_type": "stream",
     "text": [
      "11\n",
      "HiNamastey\n"
     ]
    }
   ],
   "source": [
    "# example of method ovarloading\n",
    "\n",
    "def add (datatype, *args):\n",
    "    if datatype == \"int\":\n",
    "        answer = 0\n",
    "\n",
    "    if datatype == \"str\":\n",
    "        answer = \"\"\n",
    "    \n",
    "    for x in args:\n",
    "        answer = answer + x\n",
    "    print(answer)\n",
    "\n",
    "add(\"int\", 5 , 6)\n",
    "add(\"str\", \"Hi\", \"Namastey\")"
   ]
  },
  {
   "cell_type": "markdown",
   "metadata": {},
   "source": [
    "## 6"
   ]
  },
  {
   "cell_type": "code",
   "execution_count": 33,
   "metadata": {},
   "outputs": [
    {
     "name": "stdout",
     "output_type": "stream",
     "text": [
      "Woof! Woof!\n",
      "Meow!\n",
      "Chirp!\n"
     ]
    }
   ],
   "source": [
    "from abc import ABC, abstractclassmethod\n",
    "\n",
    "class Animal(ABC):\n",
    "    @abstractclassmethod\n",
    "\n",
    "    def speak(self):\n",
    "        pass\n",
    "\n",
    "class Dog(Animal):\n",
    "    def speak(self):\n",
    "        return \"Woof! Woof!\"\n",
    "    \n",
    "class Cat(Animal):\n",
    "    def speak(self):\n",
    "        return \"Meow!\"\n",
    "    \n",
    "class Bird(Animal):\n",
    "    def speak(self):\n",
    "        return \"Chirp!\"\n",
    "    \n",
    "obj1 = Dog()\n",
    "print(obj1.speak())\n",
    "\n",
    "obj2 = Cat()\n",
    "print(obj2.speak())\n",
    "\n",
    "obj3 = Bird()\n",
    "print(obj3.speak())"
   ]
  },
  {
   "cell_type": "markdown",
   "metadata": {},
   "source": [
    "## 7"
   ]
  },
  {
   "cell_type": "markdown",
   "metadata": {},
   "source": [
    "- abstract methods are essential to polymorphism as without a proper interface for the implementation the program could suffer\n",
    "- and without abstract classes there is no abstract method\n",
    "- we create abstract classes and methods by using the `abc` module and `@abstractclassmethod` decorator along with `ABC` superclass"
   ]
  },
  {
   "cell_type": "code",
   "execution_count": null,
   "metadata": {},
   "outputs": [
    {
     "name": "stdout",
     "output_type": "stream",
     "text": [
      "Woof! Woof!\n",
      "Meow!\n",
      "Chirp!\n"
     ]
    }
   ],
   "source": [
    "from abc import ABC, abstractclassmethod\n",
    "\n",
    "class Animal(ABC):\n",
    "    @abstractclassmethod\n",
    "\n",
    "    def speak(self):\n",
    "        pass\n",
    "\n",
    "class Dog(Animal):\n",
    "    def speak(self):\n",
    "        return \"Woof! Woof!\"\n",
    "    \n",
    "class Cat(Animal):\n",
    "    def speak(self):\n",
    "        return \"Meow!\"\n",
    "    \n",
    "class Bird(Animal):\n",
    "    def speak(self):\n",
    "        return \"Chirp!\"\n",
    "    \n",
    "obj1 = Dog()\n",
    "print(obj1.speak())\n",
    "\n",
    "obj2 = Cat()\n",
    "print(obj2.speak())\n",
    "\n",
    "obj3 = Bird()\n",
    "print(obj3.speak())"
   ]
  },
  {
   "cell_type": "markdown",
   "metadata": {},
   "source": [
    "## 8"
   ]
  },
  {
   "cell_type": "code",
   "execution_count": 36,
   "metadata": {},
   "outputs": [
    {
     "name": "stdout",
     "output_type": "stream",
     "text": [
      "Vrooooom!!!!\n",
      "Whooshss\n",
      "Tahththathathatajta\n"
     ]
    }
   ],
   "source": [
    "from abc import ABC, abstractclassmethod\n",
    "\n",
    "class VehicleSys(ABC):\n",
    "    @abstractclassmethod\n",
    "\n",
    "    def start(self):\n",
    "        pass\n",
    "\n",
    "class Car(VehicleSys):\n",
    "    def start(self):\n",
    "        return \"Vrooooom!!!!\"\n",
    "\n",
    "class Bicycle(VehicleSys):\n",
    "    def start(self):\n",
    "        return \"Whooshss\"\n",
    "\n",
    "class Boat(VehicleSys):\n",
    "    def start(self):\n",
    "        return \"Tahththathathatajta\"\n",
    "\n",
    "obj1 = Car()\n",
    "obj2 = Bicycle()\n",
    "obj3 = Boat()\n",
    "\n",
    "print(obj1.start())\n",
    "print(obj2.start())\n",
    "print(obj3.start())"
   ]
  },
  {
   "cell_type": "markdown",
   "metadata": {},
   "source": [
    "## 9"
   ]
  },
  {
   "cell_type": "markdown",
   "metadata": {},
   "source": [
    "- both are useful in checking the validity of the relationship of an object or class with its superclass so that polymorphism can be implemented"
   ]
  },
  {
   "cell_type": "code",
   "execution_count": 38,
   "metadata": {},
   "outputs": [
    {
     "name": "stdout",
     "output_type": "stream",
     "text": [
      "True\n",
      "True\n"
     ]
    }
   ],
   "source": [
    "class Animal:\n",
    "    pass\n",
    "\n",
    "class Dog(Animal):\n",
    "    pass\n",
    "\n",
    "\n",
    "dog = Dog()\n",
    "\n",
    "print(isinstance(dog, Animal))\n",
    "print(issubclass(Dog, Animal))"
   ]
  },
  {
   "cell_type": "markdown",
   "metadata": {},
   "source": [
    "# 10"
   ]
  },
  {
   "cell_type": "markdown",
   "metadata": {},
   "source": [
    "- `@abstractmethod` is used as an interface to provide the desing of the systme a anchor so that the implementing classes do not steer too far away"
   ]
  },
  {
   "cell_type": "code",
   "execution_count": 40,
   "metadata": {},
   "outputs": [],
   "source": [
    "from abc import ABC, abstractmethod\n",
    "\n",
    "class AbstractClassExample(ABC):\n",
    "    @abstractmethod\n",
    "    def do_something(self):\n",
    "        pass\n",
    "\n",
    "class ImplementingClass(AbstractClassExample):\n",
    "    def do_something(self):\n",
    "        return 1+2\n",
    "\n"
   ]
  },
  {
   "cell_type": "markdown",
   "metadata": {},
   "source": [
    "# 11"
   ]
  },
  {
   "cell_type": "code",
   "execution_count": 41,
   "metadata": {},
   "outputs": [],
   "source": [
    "from abc import ABC, abstractmethod\n",
    "\n",
    "class Shape(ABC):\n",
    "    @abstractmethod\n",
    "    def calculate_area(self):\n",
    "        pass\n",
    "\n",
    "class Circle(Shape):\n",
    "    def __init__(self, radius):\n",
    "        self.radius = radius\n",
    "\n",
    "    def calculate_area(self):\n",
    "        return 3.14 * self.radius * self.radius\n",
    "\n",
    "class Square(Shape):\n",
    "    def __init__(self, side):\n",
    "        self.side = side\n",
    "\n",
    "    def calculate_area(self):\n",
    "        return self.side * self.side\n",
    "    \n",
    "class Triangle(Shape):\n",
    "    def __init__(self, base, height):\n",
    "        self.base = base\n",
    "        self.height = height\n",
    "    \n",
    "    def calculate_area(self):\n",
    "        return 0.5 * self.base *self. height"
   ]
  },
  {
   "cell_type": "markdown",
   "metadata": {},
   "source": [
    "## 12"
   ]
  },
  {
   "cell_type": "markdown",
   "metadata": {},
   "source": [
    "- polymorphism makes code modular\n",
    "- it makes code more reusable\n",
    "- maintainable\n",
    "- makes it more flexible to grow to large size"
   ]
  },
  {
   "cell_type": "markdown",
   "metadata": {},
   "source": [
    "## 13"
   ]
  },
  {
   "cell_type": "markdown",
   "metadata": {},
   "source": [
    "- `super()` is used when we want to actually use the parent class method which is supposed to be overridden"
   ]
  },
  {
   "cell_type": "code",
   "execution_count": 42,
   "metadata": {},
   "outputs": [
    {
     "name": "stdout",
     "output_type": "stream",
     "text": [
      "this is how an animal sounds\n"
     ]
    },
    {
     "data": {
      "text/plain": [
       "'Woof!'"
      ]
     },
     "execution_count": 42,
     "metadata": {},
     "output_type": "execute_result"
    }
   ],
   "source": [
    "class Animal:\n",
    "    def sound(self):\n",
    "        return \"this is how an animal sounds\"\n",
    "\n",
    "class Dog(Animal):\n",
    "    def sound(self):\n",
    "        print(super().sound())\n",
    "        return \"Woof!\"\n",
    "    \n",
    "obj1 = Dog()\n",
    "obj1.sound()"
   ]
  },
  {
   "cell_type": "markdown",
   "metadata": {},
   "source": [
    "## 14"
   ]
  },
  {
   "cell_type": "code",
   "execution_count": null,
   "metadata": {},
   "outputs": [],
   "source": [
    "class Account:\n",
    "    def __init__(self, account_number, balance):\n",
    "        self.account_number = account_number\n",
    "        self.balance = balance\n",
    "\n",
    "    def withdraw(self, amount):\n",
    "        if amount > self.balance:\n",
    "            print(\"Insufficient balance!\")\n",
    "        else:\n",
    "            self.balance -= amount\n",
    "            print(f\"Withdrew {amount}. New balance is {self.balance}\")\n",
    "\n",
    "class SavingsAccount(Account):\n",
    "    def __init__(self, account_number, balance, interest_rate):\n",
    "        super().__init__(account_number, balance)\n",
    "        self.interest_rate = interest_rate\n",
    "\n",
    "class CheckingAccount(Account):\n",
    "    def __init__(self, account_number, balance, overdraft_limit):\n",
    "        super().__init__(account_number, balance)\n",
    "        self.overdraft_limit = overdraft_limit\n",
    "\n",
    "    def withdraw(self, amount):\n",
    "        if amount > self.balance + self.overdraft_limit:\n",
    "            print(\"Overdraft limit exceeded!\")\n",
    "        else:\n",
    "            self.balance -= amount\n",
    "            print(f\"Withdrew {amount}. New balance is {self.balance}\")\n",
    "\n",
    "class CreditCardAccount(Account):\n",
    "    def __init__(self, account_number, balance, credit_limit):\n",
    "        super().__init__(account_number, balance)\n",
    "        self.credit_limit = credit_limit\n",
    "\n",
    "    def withdraw(self, amount):\n",
    "        if amount > self.balance + self.credit_limit:\n",
    "            print(\"Credit limit exceeded!\")\n",
    "        else:\n",
    "            self.balance -= amount\n",
    "            print(f\"Withdrew {amount}. New balance is {self.balance}\")\n"
   ]
  },
  {
   "cell_type": "markdown",
   "metadata": {},
   "source": [
    "## 15"
   ]
  },
  {
   "cell_type": "markdown",
   "metadata": {},
   "source": [
    "- operator overloading is a feature where the same operator has different meaning based on the context\n",
    "- it is a way of implementing polymorphism"
   ]
  },
  {
   "cell_type": "code",
   "execution_count": 7,
   "metadata": {},
   "outputs": [
    {
     "name": "stdout",
     "output_type": "stream",
     "text": [
      "<__main__.Vector object at 0x000001CA2A735ED0>\n"
     ]
    }
   ],
   "source": [
    "# `+`\n",
    "class Vector:\n",
    "    def __init__(self, x, y):\n",
    "        self.x = x\n",
    "        self.y = y\n",
    "\n",
    "    def __add__(self, other):\n",
    "        return Vector(self.x + other.x, self.y + other.y)\n",
    "\n",
    "v1 = Vector(2,4)\n",
    "v2 = Vector(3,7)\n",
    "v3 = v1 + v2\n",
    "print(v3)"
   ]
  },
  {
   "cell_type": "code",
   "execution_count": 10,
   "metadata": {},
   "outputs": [
    {
     "name": "stdout",
     "output_type": "stream",
     "text": [
      "<__main__.Complex object at 0x000001CA2A72F810>\n"
     ]
    }
   ],
   "source": [
    "# `*`\n",
    "\n",
    "class Complex:\n",
    "    def __init__(self, real, img):\n",
    "        self.real  = real\n",
    "        self.img = img\n",
    "    \n",
    "    def __mul__(self, other):\n",
    "        real_part = self.real * other.real - self.img * other.img\n",
    "        img_part = self.img * other.real + self.real * other.img\n",
    "        return Complex(real_part, img_part)\n",
    "\n",
    "c1 = Complex(1, 2)\n",
    "c2 = Complex(3,4)\n",
    "c3 = c1 * c2\n",
    "print(c3)"
   ]
  },
  {
   "cell_type": "markdown",
   "metadata": {},
   "source": [
    "## 16"
   ]
  },
  {
   "cell_type": "markdown",
   "metadata": {},
   "source": [
    "- as the decision to run the method of the child class is taken at run time we call it dynamic programming"
   ]
  },
  {
   "cell_type": "code",
   "execution_count": 11,
   "metadata": {},
   "outputs": [
    {
     "name": "stdout",
     "output_type": "stream",
     "text": [
      "Woof!\n",
      "Meow!\n"
     ]
    }
   ],
   "source": [
    "class Animal:\n",
    "    def speak(self):\n",
    "        pass\n",
    "\n",
    "class Dog(Animal):\n",
    "    def speak(self):\n",
    "        return \"Woof!\"\n",
    "\n",
    "class Cat(Animal):\n",
    "    def speak(self):\n",
    "        return \"Meow!\"\n",
    "\n",
    "def animal_speak(Animal):\n",
    "    print(Animal.speak())\n",
    "\n",
    "dog = Dog()\n",
    "cat = Cat()\n",
    "\n",
    "animal_speak(dog)  # Outputs: Woof!\n",
    "animal_speak(cat)  # Outputs: Meow!\n"
   ]
  },
  {
   "cell_type": "markdown",
   "metadata": {},
   "source": [
    "## 17"
   ]
  },
  {
   "cell_type": "code",
   "execution_count": null,
   "metadata": {},
   "outputs": [],
   "source": [
    "class Employee:\n",
    "    def __init__(self, name, base_salary):\n",
    "        self.name = name\n",
    "        self.base_salary = base_salary\n",
    "\n",
    "    def calculate_salary(self):\n",
    "        return self.base_salary\n",
    "\n",
    "class Manager(Employee):\n",
    "    def __init__(self, name, base_salary, bonus):\n",
    "        super().__init__(name, base_salary)\n",
    "        self.bonus = bonus\n",
    "\n",
    "    def calculate_salary(self):\n",
    "        return self.base_salary + self.bonus\n",
    "\n",
    "class Developer(Employee):\n",
    "    def __init__(self, name, base_salary, overtime_hours):\n",
    "        super().__init__(name, base_salary)\n",
    "        self.overtime_hours = overtime_hours\n",
    "\n",
    "    def calculate_salary(self):\n",
    "        return self.base_salary + (self.overtime_hours * 20)\n",
    "\n",
    "class Designer(Employee):\n",
    "    def __init__(self, name, base_salary, completed_projects):\n",
    "        super().__init__(name, base_salary)\n",
    "        self.completed_projects = completed_projects\n",
    "\n",
    "    def calculate_salary(self):\n",
    "        return self.base_salary + (self.completed_projects * 50)\n"
   ]
  },
  {
   "cell_type": "markdown",
   "metadata": {},
   "source": [
    "## 18"
   ]
  },
  {
   "cell_type": "markdown",
   "metadata": {},
   "source": [
    "- function pointers are a concept from c++ and C\n",
    "- where a variable points to the memeory address of a function\n",
    "- in Python we don't deal with memory addresses directly, instead we use the fact that functions are first class objects"
   ]
  },
  {
   "cell_type": "code",
   "execution_count": 12,
   "metadata": {},
   "outputs": [
    {
     "name": "stdout",
     "output_type": "stream",
     "text": [
      "HELLO\n",
      "hello\n"
     ]
    }
   ],
   "source": [
    "def shout(text):\n",
    "    return text.upper()\n",
    "\n",
    "def whisper(text):\n",
    "    return text.lower()\n",
    "\n",
    "def greet(style, text):\n",
    "    return style(text)\n",
    "\n",
    "# here we are using the functions shout and whisper as first class objects and passing them into greet function\n",
    "\n",
    "print(greet(shout, \"Hello\"))\n",
    "print(greet(whisper, \"Hello\"))"
   ]
  },
  {
   "cell_type": "markdown",
   "metadata": {},
   "source": [
    "## 19"
   ]
  },
  {
   "cell_type": "markdown",
   "metadata": {},
   "source": [
    "- both are contracts but abstract classes can also provide a default implementation"
   ]
  },
  {
   "cell_type": "markdown",
   "metadata": {},
   "source": [
    "## 20"
   ]
  },
  {
   "cell_type": "code",
   "execution_count": 15,
   "metadata": {},
   "outputs": [
    {
     "name": "stdout",
     "output_type": "stream",
     "text": [
      "Rat is eating.\n",
      "CUckoo is sleeping with its head tucked under its wing.\n",
      "Lizard is hissing.\n"
     ]
    }
   ],
   "source": [
    "class Animal:\n",
    "    def __init__(self, name):\n",
    "        self.name = name\n",
    "\n",
    "    def eat(self):\n",
    "        pass\n",
    "\n",
    "    def sleep(self):\n",
    "        pass\n",
    "\n",
    "    def make_sound(self):\n",
    "        pass\n",
    "\n",
    "class Mammal(Animal):\n",
    "    def eat(self):\n",
    "        return f\"{self.name} is eating.\"\n",
    "\n",
    "    def sleep(self):\n",
    "        return f\"{self.name} is sleeping.\"\n",
    "\n",
    "    def make_sound(self):\n",
    "        return f\"{self.name} is making a sound.\"\n",
    "\n",
    "class Bird(Animal):\n",
    "    def eat(self):\n",
    "        return f\"{self.name} is pecking at its food.\"\n",
    "\n",
    "    def sleep(self):\n",
    "        return f\"{self.name} is sleeping with its head tucked under its wing.\"\n",
    "\n",
    "    def make_sound(self):\n",
    "        return f\"{self.name} is chirping.\"\n",
    "\n",
    "class Reptile(Animal):\n",
    "    def eat(self):\n",
    "        return f\"{self.name} is snapping at its food.\"\n",
    "\n",
    "    def sleep(self):\n",
    "        return f\"{self.name} is sleeping in the sun.\"\n",
    "\n",
    "    def make_sound(self):\n",
    "        return f\"{self.name} is hissing.\"\n",
    "\n",
    "obj1 = Mammal(\"Rat\")\n",
    "obj2 = Bird(\"CUckoo\")\n",
    "obj3 = Reptile(\"Lizard\")\n",
    "\n",
    "print(obj1.eat())\n",
    "print(obj2.sleep())\n",
    "print(obj3.make_sound())"
   ]
  },
  {
   "cell_type": "markdown",
   "metadata": {},
   "source": [
    "# Abstraction"
   ]
  },
  {
   "cell_type": "markdown",
   "metadata": {},
   "source": [
    "## 1"
   ]
  },
  {
   "cell_type": "markdown",
   "metadata": {},
   "source": [
    "- abstraction is used to hide away the implementation details and focus on the functionality\n",
    "- it enables us to write more modular, reusable and understandable code"
   ]
  },
  {
   "cell_type": "markdown",
   "metadata": {},
   "source": [
    "## 2"
   ]
  },
  {
   "cell_type": "markdown",
   "metadata": {},
   "source": [
    "- definitely improves code organization\n",
    "- it reduces accidental complexity, like not having to write machine code everytime we programme\n",
    "- abstraction is only useful when it reduces complexity of having to write a piece of code a zillion times if not it becomes redundant and increases complexity"
   ]
  },
  {
   "cell_type": "markdown",
   "metadata": {},
   "source": [
    "## 3"
   ]
  },
  {
   "cell_type": "code",
   "execution_count": 11,
   "metadata": {},
   "outputs": [
    {
     "name": "stdout",
     "output_type": "stream",
     "text": [
      "the area of the circle is 78.54 square units\n",
      "the area of the rectangle is 28.00 square units\n"
     ]
    }
   ],
   "source": [
    "from abc import ABC, abstractmethod\n",
    "\n",
    "import math\n",
    "\n",
    "class Shape(ABC):\n",
    "    @abstractmethod\n",
    "    def calculate_area(self):\n",
    "        pass\n",
    "\n",
    "class Circle(Shape):\n",
    "    def __init__(self, radius):\n",
    "        self.radius = radius\n",
    "\n",
    "    def calculate_area(self):\n",
    "        return math.pi * (self.radius **2)\n",
    "    \n",
    "class Rectangle(Shape):\n",
    "    def __init__(self, width, height):\n",
    "        self.width = width\n",
    "        self.height = height\n",
    "    \n",
    "    def calculate_area(self):\n",
    "        return self.width * self.height\n",
    "\n",
    "\n",
    "circle = Circle(5)\n",
    "print(f\"the area of the circle is {circle.calculate_area():.2f} square units\")\n",
    "\n",
    "rectangle = Rectangle(4,7)\n",
    "print(f\"the area of the rectangle is {rectangle.calculate_area():.2f} square units\")"
   ]
  },
  {
   "cell_type": "markdown",
   "metadata": {},
   "source": [
    "## 4"
   ]
  },
  {
   "cell_type": "markdown",
   "metadata": {},
   "source": [
    "- abstract classes are those classes which contain one or more abstract methods\n",
    "- abstract methods do not contain any implemntation\n",
    "- subclasses of this abstract class are expected to provide an implementation for these abstract method\n",
    "- abstract classes are supposed to be inherited and their methods overridden\n",
    "- python provides `abc` module to define Abstract Base Classes (ABC) \n",
    "- we use `ABC` metaclass and `@abstractmethod` decorator to define abstract base class"
   ]
  },
  {
   "cell_type": "code",
   "execution_count": 12,
   "metadata": {},
   "outputs": [
    {
     "name": "stdout",
     "output_type": "stream",
     "text": [
      "Parent's implementation\n",
      "child's implementation\n"
     ]
    }
   ],
   "source": [
    "from abc import ABC, abstractmethod\n",
    "\n",
    "class Parent(ABC):\n",
    "    @abstractmethod\n",
    "    def do_something(self):\n",
    "        print(\"Parent's implementation\")\n",
    "\n",
    "class Child(Parent):\n",
    "    def do_something(self):\n",
    "        super().do_something()\n",
    "        print(\"child's implementation\")\n",
    "\n",
    "c = Child()\n",
    "c.do_something()"
   ]
  },
  {
   "cell_type": "markdown",
   "metadata": {},
   "source": [
    "## 5"
   ]
  },
  {
   "cell_type": "markdown",
   "metadata": {},
   "source": [
    "- abstract classes can not be instantiated \n",
    "- they are used to provide a base class with a common functionality that you want to be shared across classes\n",
    "- abstract classes can enforce rules for child classes\n",
    "- as we use contstructors for instance variables we use abstract classes for classes"
   ]
  },
  {
   "cell_type": "markdown",
   "metadata": {},
   "source": [
    "## 6"
   ]
  },
  {
   "cell_type": "code",
   "execution_count": 19,
   "metadata": {},
   "outputs": [
    {
     "name": "stdout",
     "output_type": "stream",
     "text": [
      "deposited 5000\n",
      "withdrew 2000\n",
      "your balance is : 3000\n"
     ]
    }
   ],
   "source": [
    "class BankAccount:\n",
    "    def __init__(self):\n",
    "        self.__balance = 0 #private variable\n",
    "    def deposit(self, amount):\n",
    "        if amount > 0:\n",
    "            self.__balance += amount\n",
    "            print(f\"deposited {amount}\")\n",
    "        else:\n",
    "            print(\"invalid deposit amount\")\n",
    "    def withdraw(self, amount):\n",
    "        if amount>0 and amount <= self.__balance:\n",
    "            self.__balance -= amount\n",
    "            print(f\"withdrew {amount}\")\n",
    "        else:\n",
    "            print(\"invalid withdrawl amount\") \n",
    "    def check_balance(self):\n",
    "        print(f\"your balance is : {self.__balance}\")\n",
    "\n",
    "account = BankAccount()\n",
    "account.deposit(5000)\n",
    "account.withdraw(2000)\n",
    "account.check_balance()"
   ]
  },
  {
   "cell_type": "markdown",
   "metadata": {},
   "source": [
    "## 7 : abstract base classes vs interface"
   ]
  },
  {
   "cell_type": "markdown",
   "metadata": {},
   "source": [
    "- an ABC is typically used when some common features are shared by all objects\n",
    "- while an interface is used when all the features are implemented differently for different objects\n",
    "- interfaces in python are more of a design pattern and their enforcement depends on the programmer's discipline\n",
    "- interface is like a contract that the class has to implement\n",
    "- interface has only members declaration\n",
    "- implicitly every member of an interface is public and abstract\n",
    "- interface provides full abstraction where as abstract classes provide partial abstraction with access modifiers"
   ]
  },
  {
   "cell_type": "markdown",
   "metadata": {},
   "source": [
    "## 8"
   ]
  },
  {
   "cell_type": "code",
   "execution_count": 20,
   "metadata": {},
   "outputs": [
    {
     "name": "stdout",
     "output_type": "stream",
     "text": [
      "the dog is eating.\n",
      "the cat is eating\n",
      "the dog is sleeping\n",
      "the cat is sleeping\n"
     ]
    }
   ],
   "source": [
    "from abc import ABC, abstractmethod\n",
    "\n",
    "class Animal(ABC):\n",
    "    @abstractmethod\n",
    "    def eat(self):\n",
    "        pass\n",
    "\n",
    "    @abstractmethod\n",
    "    def sleep(self):\n",
    "        pass\n",
    "\n",
    "class Dog(Animal):\n",
    "    def eat(self):\n",
    "        print(\"the dog is eating.\")\n",
    "\n",
    "    def sleep(self):\n",
    "        print(\"the dog is sleeping\")\n",
    "\n",
    "class Cat(Animal):\n",
    "    def eat(self):\n",
    "        print(\"the cat is eating\")\n",
    "\n",
    "    def sleep(self):\n",
    "        print(\"the cat is sleeping\")\n",
    "\n",
    "\n",
    "animal1=Dog()\n",
    "animal2 = Cat()\n",
    "\n",
    "animal1.eat()\n",
    "animal2.eat()\n",
    "animal1.sleep()\n",
    "animal2.sleep()"
   ]
  },
  {
   "cell_type": "markdown",
   "metadata": {},
   "source": [
    "## 9"
   ]
  },
  {
   "cell_type": "markdown",
   "metadata": {},
   "source": [
    "- the internal workings of the system is encapsulated within the class and a simple interface using methods is provided to interact with the system"
   ]
  },
  {
   "cell_type": "code",
   "execution_count": 21,
   "metadata": {},
   "outputs": [],
   "source": [
    "class CoffeeMachine:\n",
    "    def __init__(self):\n",
    "        self.__water_level = 0\n",
    "\n",
    "    def add_water(self, quantity):\n",
    "        self.__water_level += quantity\n",
    "\n",
    "    def brew_coffee(self):\n",
    "        if self.__water_level > 0:\n",
    "            self.__water_level -= 1\n",
    "            print(\"Brewing coffee...\")\n",
    "        else:\n",
    "            print(\"Please add water!\")\n",
    "\n",
    "    def check_water_level(self):\n",
    "        print(f\"Water level: {self.__water_level}\")\n"
   ]
  },
  {
   "cell_type": "markdown",
   "metadata": {},
   "source": [
    "## 10"
   ]
  },
  {
   "cell_type": "markdown",
   "metadata": {},
   "source": [
    "- abstract methods provide a structure for the implementing (non-abstract) methods\n",
    "- they enforce a contract that the subclasses must fill\n",
    "- this helps subclasses from deviating too far from expected behaviour"
   ]
  },
  {
   "cell_type": "markdown",
   "metadata": {},
   "source": [
    "# 11"
   ]
  },
  {
   "cell_type": "code",
   "execution_count": 22,
   "metadata": {},
   "outputs": [
    {
     "name": "stdout",
     "output_type": "stream",
     "text": [
      "car started\n",
      "car stopped\n",
      "bike started\n",
      "bike stopped\n"
     ]
    }
   ],
   "source": [
    "from abc import ABC, abstractmethod\n",
    "\n",
    "class Vehicle:\n",
    "    @abstractmethod\n",
    "    def start(self):\n",
    "        pass\n",
    "\n",
    "    @abstractmethod\n",
    "    def stop(self):\n",
    "        pass\n",
    "\n",
    "class Bike:\n",
    "    def start(self):\n",
    "        print(\"bike started\")\n",
    "\n",
    "    def stop(self):\n",
    "        print(\"bike stopped\")\n",
    "\n",
    "class Car:\n",
    "    def start(self):\n",
    "        print(\"car started\")\n",
    "    \n",
    "    def stop(self):\n",
    "        print(\"car stopped\")\n",
    "\n",
    "car = Car()\n",
    "bike = Bike()\n",
    "\n",
    "car.start()\n",
    "car.stop()\n",
    "bike.start()\n",
    "bike.stop()"
   ]
  },
  {
   "cell_type": "markdown",
   "metadata": {},
   "source": [
    "## 12"
   ]
  },
  {
   "cell_type": "markdown",
   "metadata": {},
   "source": [
    "- properties are used to wrap methods so that methods become accessible just like attributes"
   ]
  },
  {
   "cell_type": "code",
   "execution_count": 23,
   "metadata": {},
   "outputs": [
    {
     "name": "stdout",
     "output_type": "stream",
     "text": [
      "concrete property\n"
     ]
    }
   ],
   "source": [
    "from abc import ABC, abstractmethod\n",
    "\n",
    "class AbstractClassExample(ABC):\n",
    "    @property\n",
    "    @abstractmethod\n",
    "\n",
    "    def value(self):\n",
    "        return \"should never get here\"\n",
    "    \n",
    "class ImplementationClass(AbstractClassExample):\n",
    "    @property\n",
    "    def value(self):\n",
    "        return \"concrete property\"\n",
    "\n",
    "cls = ImplementationClass()\n",
    "print(cls.value)"
   ]
  },
  {
   "cell_type": "markdown",
   "metadata": {},
   "source": [
    "## 13"
   ]
  },
  {
   "cell_type": "code",
   "execution_count": 16,
   "metadata": {},
   "outputs": [],
   "source": [
    "from abc import ABC, abstractmethod\n",
    "\n",
    "class Employee(ABC):\n",
    "    def __init__(self, name, base_salary):\n",
    "        self.name = name\n",
    "        self.base_salary = base_salary\n",
    "\n",
    "    @abstractmethod\n",
    "    def get_salary(self):\n",
    "        pass\n",
    "\n",
    "class Manager(Employee):\n",
    "    def __init__(self, name, base_salary, bonus):\n",
    "        super().__init__(name, base_salary)\n",
    "        self.bonus = bonus\n",
    "\n",
    "    def get_salary(self):\n",
    "        return self.base_salary + self.bonus\n",
    "    \n",
    "class Developer(Employee):\n",
    "    def __init__(self, name, base_salary, overtime_hours):\n",
    "        super().__init__(name, base_salary)\n",
    "        self.overtime_hours = overtime_hours\n",
    "\n",
    "    def get_salary(self):\n",
    "        return self.base_salary + (self.overtime_hours * 20)\n",
    "    \n",
    "class Designer(Employee):\n",
    "    def __init__(self, name, base_salary, completed_projects):\n",
    "        super().__init__(name, base_salary)\n",
    "        self.completed_projects = completed_projects\n",
    "\n",
    "    def get_salary(self):\n",
    "        return self.base_salary + (self.completed_projects * 50)"
   ]
  },
  {
   "cell_type": "markdown",
   "metadata": {},
   "source": [
    "## 14"
   ]
  },
  {
   "cell_type": "markdown",
   "metadata": {},
   "source": [
    "- abstract classes provide a template for all the subclasses on how to implement the concrete methods\n",
    "- abstract classes can not be instantiated"
   ]
  },
  {
   "cell_type": "markdown",
   "metadata": {},
   "source": [
    "## 15"
   ]
  },
  {
   "cell_type": "markdown",
   "metadata": {},
   "source": [
    "- abstract data type is a theoretical model for data and operations that can be performed on that data\n",
    "- ADTs are important in achieving abstraction in python because they allow us to think about data and operations independently of how they are implemented\n",
    "- ADTs (lists, dictionaries, sets, queues, stacks) are implemented in python using different data structures such as arrays, linkedlists and hash tables\n",
    "- we use the list ADT to create a list of numbers. We can then add, access, remove, and print elements of the list without having to worry about the underlying implementation details"
   ]
  },
  {
   "cell_type": "markdown",
   "metadata": {},
   "source": [
    "## 16"
   ]
  },
  {
   "cell_type": "code",
   "execution_count": null,
   "metadata": {},
   "outputs": [],
   "source": [
    "from abc import ABC, abstractmethod\n",
    "\n",
    "class Computer(ABC):\n",
    "    @abstractmethod\n",
    "    def power_on(self):\n",
    "        pass\n",
    "\n",
    "    @abstractmethod\n",
    "    def shutdown(self):\n",
    "        pass\n",
    "\n",
    "class Desktop(Computer):\n",
    "    def power_on(self):\n",
    "        return \"Desktop is powering on...\"\n",
    "\n",
    "    def shutdown(self):\n",
    "        return \"Desktop is shutting down...\"\n",
    "\n",
    "class Laptop(Computer):\n",
    "    def power_on(self):\n",
    "        return \"Laptop is powering on...\"\n",
    "\n",
    "    def shutdown(self):\n",
    "        return \"Laptop is shutting down...\"\n"
   ]
  },
  {
   "cell_type": "markdown",
   "metadata": {},
   "source": [
    "## 17"
   ]
  },
  {
   "cell_type": "markdown",
   "metadata": {},
   "source": [
    "- abstraction helps us to focus on the essentials of complex software systems\n",
    "- increases modularity\n",
    "- improved maintainability"
   ]
  },
  {
   "cell_type": "markdown",
   "metadata": {},
   "source": [
    "## 18"
   ]
  },
  {
   "cell_type": "markdown",
   "metadata": {},
   "source": [
    "- abstraction helps us increases reusability by creating reusable components e.g. create an abstract data type to represent a list of data\n",
    "- increases modularity by creating modules that are independent of each other\n",
    "- using functions, classes and modules are great examples of using abstraction\n"
   ]
  },
  {
   "cell_type": "markdown",
   "metadata": {},
   "source": [
    "## 19"
   ]
  },
  {
   "cell_type": "code",
   "execution_count": null,
   "metadata": {},
   "outputs": [],
   "source": [
    "from abc import ABC, abstractmethod\n",
    "\n",
    "class Book:\n",
    "    def __init__(self, isbn, title, author):\n",
    "        self.isbn = isbn\n",
    "        self.title = title\n",
    "        self.author = author\n",
    "\n",
    "class LibrarySystem(ABC):\n",
    "    @abstractmethod\n",
    "    def add_book(self, book):\n",
    "        \"\"\"Adds a book to the library system.\"\"\"\n",
    "        pass\n",
    "\n",
    "    @abstractmethod\n",
    "    def borrow_book(self, isbn):\n",
    "        \"\"\"Borrows a book from the library system.\"\"\"\n",
    "        pass\n",
    "\n",
    "class ConcreteLibrarySystem(LibrarySystem):\n",
    "    def __init__(self):\n",
    "        self.books = {}\n",
    "\n",
    "    def add_book(self, book):\n",
    "        \"\"\"Adds a book to the library system.\"\"\"\n",
    "        self.books[book.isbn] = book\n",
    "\n",
    "    def borrow_book(self, isbn):\n",
    "        \"\"\"Borrows a book from the library system.\"\"\"\n",
    "        if isbn in self.books:\n",
    "            return self.books.pop(isbn)\n",
    "        else:\n",
    "            print(\"The book is not available in the library system.\")\n"
   ]
  },
  {
   "cell_type": "markdown",
   "metadata": {},
   "source": [
    "## 20"
   ]
  },
  {
   "cell_type": "markdown",
   "metadata": {},
   "source": [
    "- The purpose of method abstraction and abstract base classes is to provide an interface for other classes.\n",
    "- When other classes inherit from this abstract base class and implement the abstract methods, they’re providing their own forms of behavior. This is polymorphism in action."
   ]
  },
  {
   "cell_type": "markdown",
   "metadata": {},
   "source": [
    "# Composition"
   ]
  },
  {
   "cell_type": "markdown",
   "metadata": {},
   "source": [
    "## 1"
   ]
  },
  {
   "cell_type": "markdown",
   "metadata": {},
   "source": [
    "- to create new objects by combining existing objects"
   ]
  },
  {
   "cell_type": "code",
   "execution_count": 24,
   "metadata": {},
   "outputs": [],
   "source": [
    "class Engine:\n",
    "    def __init__(self, type):\n",
    "        self.type = type\n",
    "\n",
    "class Wheel:\n",
    "    def __init__(self, size):\n",
    "        self.size\n",
    "\n",
    "class Car:\n",
    "    def __init__(self, engine_type, wheel_size):\n",
    "        self.engine = Engine(engine_type)\n",
    "        self.wheel = Wheel(wheel_size)\n",
    "\n"
   ]
  },
  {
   "cell_type": "markdown",
   "metadata": {},
   "source": [
    "## 2"
   ]
  },
  {
   "cell_type": "markdown",
   "metadata": {},
   "source": [
    "- inheritance: when a child class inherits methods and attributes from its parent class\n",
    "-- inheritance creates an \"is-a\" relationship of objects i.e a car is a vehicle\n",
    "- composition contains instances of other classes that implement the desired functionality\n",
    "-- composition creates a \"has-a\" relationship of objects i.e a car has a steering wheel"
   ]
  },
  {
   "cell_type": "code",
   "execution_count": 1,
   "metadata": {},
   "outputs": [
    {
     "name": "stdout",
     "output_type": "stream",
     "text": [
      "it eats\n",
      "it sings\n"
     ]
    }
   ],
   "source": [
    "# inheritance implementation\n",
    "\n",
    "class Animal:\n",
    "    def eat(self):\n",
    "        print(\"it eats\")\n",
    "class Bird(Animal):\n",
    "    def sing(self):\n",
    "        print(\"it sings\")\n",
    "\n",
    "cuckoo = Bird()\n",
    "cuckoo.eat()\n",
    "cuckoo.sing()"
   ]
  },
  {
   "cell_type": "code",
   "execution_count": 2,
   "metadata": {},
   "outputs": [
    {
     "data": {
      "text/plain": [
       "<__main__.Employee at 0x1f57f7b4810>"
      ]
     },
     "execution_count": 2,
     "metadata": {},
     "output_type": "execute_result"
    }
   ],
   "source": [
    "# composition implementation\n",
    "\n",
    "class Salary:\n",
    "    def __init__(self):\n",
    "        ''' '''\n",
    "class Employee:\n",
    "    def __init__(self, salary):\n",
    "        self.salary = salary\n",
    "    \n",
    "Employee(salary = Salary())"
   ]
  },
  {
   "cell_type": "markdown",
   "metadata": {},
   "source": [
    "## 3"
   ]
  },
  {
   "cell_type": "code",
   "execution_count": 8,
   "metadata": {},
   "outputs": [],
   "source": [
    "class Author:\n",
    "    def __init__(self, name, birthdate):\n",
    "        self.name = name\n",
    "        self.birthdate = birthdate\n",
    "\n",
    "class Book:\n",
    "    def __init__(self, title):\n",
    "        self.author = Author(\"JK Lovling\",\"10 Oct 2025\")\n",
    "        self.title = title\n",
    "\n",
    "bittersweet = Book(\"Harry Looter\")"
   ]
  },
  {
   "cell_type": "markdown",
   "metadata": {},
   "source": [
    "## 4"
   ]
  },
  {
   "cell_type": "markdown",
   "metadata": {},
   "source": [
    "- greater flexibility\n",
    "- reduced complexity\n",
    "- improved maintainability\n",
    "- avoiding problems associated with inheritance such as the diamond problem"
   ]
  },
  {
   "cell_type": "markdown",
   "metadata": {},
   "source": [
    "## 5"
   ]
  },
  {
   "cell_type": "code",
   "execution_count": 9,
   "metadata": {},
   "outputs": [],
   "source": [
    "class Engine:\n",
    "    pass\n",
    "\n",
    "class Wheel:\n",
    "    pass\n",
    "\n",
    "class Seat:\n",
    "    pass\n",
    "\n",
    "class Steering:\n",
    "    pass\n",
    "\n",
    "class Car:\n",
    "    def __init__(self):\n",
    "        self.engine = Engine()\n",
    "        self.wheel = Wheel()\n",
    "        self.seat = Seat()\n",
    "        self.steering = Steering()\n",
    "\n"
   ]
  },
  {
   "cell_type": "markdown",
   "metadata": {},
   "source": [
    "## 6"
   ]
  },
  {
   "cell_type": "code",
   "execution_count": 10,
   "metadata": {},
   "outputs": [],
   "source": [
    "class Playlist:\n",
    "    pass\n",
    "\n",
    "class Song:\n",
    "    pass\n",
    "\n",
    "class MPS:\n",
    "    def __init__(self):\n",
    "        self.playlist = Playlist()\n",
    "        self.song = Song()"
   ]
  },
  {
   "cell_type": "markdown",
   "metadata": {},
   "source": [
    "## 7"
   ]
  },
  {
   "cell_type": "code",
   "execution_count": 1,
   "metadata": {},
   "outputs": [
    {
     "name": "stdout",
     "output_type": "stream",
     "text": [
      "engine started\n"
     ]
    }
   ],
   "source": [
    "class Engine:\n",
    "    def start(self):\n",
    "        print(\"engine started\")\n",
    "\n",
    "    def stop(self):\n",
    "        print(\"engine stopped\")\n",
    "\n",
    "class Car:\n",
    "    def __init__(self):\n",
    "        self.engine = Engine()\n",
    "\n",
    "    def startcar(self):\n",
    "        self.engine.start()\n",
    "\n",
    "car = Car()\n",
    "car.startcar()"
   ]
  },
  {
   "cell_type": "markdown",
   "metadata": {},
   "source": [
    "## 8\n"
   ]
  },
  {
   "cell_type": "code",
   "execution_count": 2,
   "metadata": {},
   "outputs": [],
   "source": [
    "class CPU:\n",
    "    pass\n",
    "\n",
    "class RAM:\n",
    "    pass\n",
    "\n",
    "class StorageDevices:\n",
    "    pass\n",
    "\n",
    "class ComputerSystem:\n",
    "    def __init__(self):\n",
    "        self.CPU = CPU()\n",
    "        self.RAM = RAM()\n",
    "        self.StorageDevices = StorageDevices()\n",
    "\n",
    "\n"
   ]
  },
  {
   "cell_type": "markdown",
   "metadata": {},
   "source": [
    "## 9"
   ]
  },
  {
   "cell_type": "markdown",
   "metadata": {},
   "source": [
    "- this is analogous to subclass deferring requests to parent classes"
   ]
  },
  {
   "cell_type": "code",
   "execution_count": 4,
   "metadata": {},
   "outputs": [
    {
     "name": "stdout",
     "output_type": "stream",
     "text": [
      "engine started\n"
     ]
    }
   ],
   "source": [
    "class Engine:\n",
    "    def start(self):\n",
    "        print(\"engine started\")\n",
    "\n",
    "class Car:\n",
    "    def __init__(self):\n",
    "        self.engine = Engine()\n",
    "\n",
    "    def startCar(self):\n",
    "        self.engine.start() # delegating the task to engine class' object start\n",
    "\n",
    "car = Car()\n",
    "car.startCar()"
   ]
  },
  {
   "cell_type": "markdown",
   "metadata": {},
   "source": [
    "## 10"
   ]
  },
  {
   "cell_type": "code",
   "execution_count": 5,
   "metadata": {},
   "outputs": [],
   "source": [
    "class Engine:\n",
    "    pass\n",
    "\n",
    "class Transmission:\n",
    "    pass\n",
    "\n",
    "class Wheels:\n",
    "    pass\n",
    "\n",
    "class Car:\n",
    "    def __init__(self):\n",
    "        self.engine = Engine()\n",
    "        self.transmission = Transmission()\n",
    "        self.wheels = Wheels()\n"
   ]
  },
  {
   "cell_type": "markdown",
   "metadata": {},
   "source": [
    "## 11"
   ]
  },
  {
   "cell_type": "code",
   "execution_count": 9,
   "metadata": {},
   "outputs": [
    {
     "name": "stdout",
     "output_type": "stream",
     "text": [
      "engine started\n",
      "gear changed to drive\n",
      "engine stopped\n"
     ]
    }
   ],
   "source": [
    "class Engine:\n",
    "    def start(self):\n",
    "        self.__status = \"on\"\n",
    "        print(\"engine started\")\n",
    "    \n",
    "    def stop(self):\n",
    "        self.__status = \"off\"\n",
    "        print(\"engine stopped\")\n",
    "\n",
    "class Wheels:\n",
    "    def rotate(self):\n",
    "        self.__rotation = \"rotating\"\n",
    "\n",
    "class Transmission:\n",
    "    def changeGear(self, gear):\n",
    "        self.__gear = gear\n",
    "        print(f\"gear changed to {gear}\")\n",
    "\n",
    "class Car:\n",
    "        \n",
    "    def start_car (self):\n",
    "        self.__engine = Engine()\n",
    "        self.__wheels = Wheels()\n",
    "        self.__transmission = Transmission()\n",
    "        self.__engine.start()\n",
    "        self.__wheels.rotate()\n",
    "        self.__transmission.changeGear(\"drive\")\n",
    "\n",
    "    def stop_car(self):\n",
    "        self.__engine.stop()\n",
    "\n",
    "car = Car()\n",
    "car.start_car()\n",
    "car.stop_car()"
   ]
  },
  {
   "cell_type": "markdown",
   "metadata": {},
   "source": [
    "## 12"
   ]
  },
  {
   "cell_type": "code",
   "execution_count": 10,
   "metadata": {},
   "outputs": [],
   "source": [
    "class Students:\n",
    "    pass\n",
    "\n",
    "class Instructors:\n",
    "    pass\n",
    "\n",
    "class CourseMaterials:\n",
    "    pass\n",
    "\n",
    "class UniversityCourse:\n",
    "    def __init__(self):\n",
    "        self.student = Students()\n",
    "        self.instructor = Instructors()\n",
    "        self.course_material = CourseMaterials()\n"
   ]
  },
  {
   "cell_type": "markdown",
   "metadata": {},
   "source": [
    "# 13"
   ]
  },
  {
   "cell_type": "markdown",
   "metadata": {},
   "source": [
    "- as a software system grows composition can lead to increased complexity which will make it harder to understand and manage\n",
    "- composition can lead to tight coupling and any changes to one object will lead to changes in all the composed objects which will make it harder to update the system\n",
    "- each composed object adds a level of indirection, which can lead to performance overhead\n",
    "- it can be chalenging to design interaction b/w composed objects\n",
    "- system and application integration issues"
   ]
  },
  {
   "cell_type": "markdown",
   "metadata": {},
   "source": [
    "# 14"
   ]
  },
  {
   "cell_type": "code",
   "execution_count": 12,
   "metadata": {},
   "outputs": [
    {
     "name": "stdout",
     "output_type": "stream",
     "text": [
      "prepare dish\n",
      "bring the ingredients\n"
     ]
    }
   ],
   "source": [
    "class Menus:\n",
    "    pass\n",
    "\n",
    "class Dishes:\n",
    "    def dish_list(self):\n",
    "        print (\"prepare dish\")\n",
    "\n",
    "class Ingredients:\n",
    "    def ingredient_list(self):\n",
    "        print(\"bring the ingredients\")\n",
    "\n",
    "class ResturantMS:\n",
    "    def __init__(self):\n",
    "        self.menu = Menus()\n",
    "        self.dishes = Dishes()\n",
    "        self.ingredients = Ingredients()\n",
    "\n",
    "    def Order(self):\n",
    "        self.dishes.dish_list()\n",
    "        self.ingredients.ingredient_list()\n",
    "\n",
    "customer1 = ResturantMS()\n",
    "customer1.Order()"
   ]
  },
  {
   "cell_type": "markdown",
   "metadata": {},
   "source": [
    "## 15"
   ]
  },
  {
   "cell_type": "markdown",
   "metadata": {},
   "source": [
    "- each component class in composition can encapsulate its own behaviour and data\n",
    "- component classes can be reused"
   ]
  },
  {
   "cell_type": "markdown",
   "metadata": {},
   "source": [
    "## 16"
   ]
  },
  {
   "cell_type": "code",
   "execution_count": null,
   "metadata": {},
   "outputs": [],
   "source": [
    "class Weapon:\n",
    "    def __init__(self, name, damage):\n",
    "        self.name = name\n",
    "        self.damage = damage\n",
    "\n",
    "class Armor:\n",
    "    def __init__(self, name, defense):\n",
    "        self.name = name\n",
    "        self.defense = defense\n",
    "\n",
    "class Inventory:\n",
    "    def __init__(self):\n",
    "        self.items = []\n",
    "\n",
    "    def add_item(self, item):\n",
    "        self.items.append(item)\n",
    "\n",
    "class GameCharacter:\n",
    "    def __init__(self, name, weapon, armor):\n",
    "        self.name = name\n",
    "        self.weapon = weapon\n",
    "        self.armor = armor\n",
    "        self.inventory = Inventory()\n",
    "\n",
    "    def pick_up_item(self, item):\n",
    "        self.inventory.add_item(item)\n"
   ]
  },
  {
   "cell_type": "markdown",
   "metadata": {},
   "source": [
    "## 17"
   ]
  },
  {
   "cell_type": "code",
   "execution_count": null,
   "metadata": {},
   "outputs": [],
   "source": [
    "class Book:\n",
    "    def __init__(self, title):\n",
    "        self.title = title\n",
    "\n",
    "class Library:\n",
    "    def __init__(self):\n",
    "        self.books = []\n",
    "\n",
    "    def add_book(self, book):\n",
    "        self.books.append(book)\n"
   ]
  },
  {
   "cell_type": "markdown",
   "metadata": {},
   "source": [
    "In this example, the Library class has a list of Book instances. This is an aggregation relationship, because the Book instances could exist independently of the Library instance."
   ]
  },
  {
   "cell_type": "markdown",
   "metadata": {},
   "source": [
    "## 18"
   ]
  },
  {
   "cell_type": "code",
   "execution_count": null,
   "metadata": {},
   "outputs": [],
   "source": [
    "class Furniture:\n",
    "    def __init__(self, name):\n",
    "        self.name = name\n",
    "\n",
    "class Appliance:\n",
    "    def __init__(self, name):\n",
    "        self.name = name\n",
    "\n",
    "class Room:\n",
    "    def __init__(self, name):\n",
    "        self.name = name\n",
    "        self.furniture = []\n",
    "        self.appliances = []\n",
    "\n",
    "    def add_furniture(self, furniture):\n",
    "        self.furniture.append(furniture)\n",
    "\n",
    "    def add_appliance(self, appliance):\n",
    "        self.appliances.append(appliance)\n",
    "\n",
    "class House:\n",
    "    def __init__(self, address):\n",
    "        self.address = address\n",
    "        self.rooms = []\n",
    "\n",
    "    def add_room(self, room):\n",
    "        self.rooms.append(room)\n"
   ]
  },
  {
   "cell_type": "markdown",
   "metadata": {},
   "source": [
    "## 19"
   ]
  },
  {
   "cell_type": "code",
   "execution_count": null,
   "metadata": {},
   "outputs": [],
   "source": [
    "class Engine:\n",
    "    def __init__(self, type):\n",
    "        self.type = type\n",
    "\n",
    "class Car:\n",
    "    def __init__(self, engine):\n",
    "        self.engine = engine\n",
    "\n",
    "# Create a car with a petrol engine\n",
    "petrol_engine = Engine(\"Petrol\")\n",
    "car = Car(petrol_engine)\n",
    "\n",
    "# Replace the petrol engine with a diesel engine at runtime\n",
    "diesel_engine = Engine(\"Diesel\")\n",
    "car.engine = diesel_engine\n"
   ]
  },
  {
   "cell_type": "markdown",
   "metadata": {},
   "source": [
    "## 20"
   ]
  },
  {
   "cell_type": "code",
   "execution_count": null,
   "metadata": {},
   "outputs": [],
   "source": [
    "class Comment:\n",
    "    def __init__(self, user, text):\n",
    "        self.user = user\n",
    "        self.text = text\n",
    "\n",
    "class Post:\n",
    "    def __init__(self, user, text):\n",
    "        self.user = user\n",
    "        self.text = text\n",
    "        self.comments = []\n",
    "\n",
    "    def add_comment(self, comment):\n",
    "        self.comments.append(comment)\n",
    "\n",
    "class User:\n",
    "    def __init__(self, name):\n",
    "        self.name = name\n",
    "        self.posts = []\n",
    "\n",
    "    def add_post(self, post):\n",
    "        self.posts.append(post)\n"
   ]
  }
 ],
 "metadata": {
  "kernelspec": {
   "display_name": "Python 3",
   "language": "python",
   "name": "python3"
  },
  "language_info": {
   "codemirror_mode": {
    "name": "ipython",
    "version": 3
   },
   "file_extension": ".py",
   "mimetype": "text/x-python",
   "name": "python",
   "nbconvert_exporter": "python",
   "pygments_lexer": "ipython3",
   "version": "3.11.4"
  }
 },
 "nbformat": 4,
 "nbformat_minor": 2
}
