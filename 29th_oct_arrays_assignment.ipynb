{
 "cells": [
  {
   "cell_type": "markdown",
   "metadata": {},
   "source": [
    "# 1"
   ]
  },
  {
   "cell_type": "code",
   "execution_count": 7,
   "metadata": {},
   "outputs": [],
   "source": [
    "import logging\n",
    "\n",
    "logger = logging.getLogger(__name__)\n",
    "\n",
    "logger.setLevel(logging.ERROR)\n",
    "\n",
    "handler = logging.StreamHandler()\n",
    "error_handler = logging.FileHandler(\"errors.log\")\n",
    "\n",
    "handler.setLevel(logging.ERROR)\n",
    "error_handler.setLevel(logging.ERROR)\n",
    "\n",
    "formatter = logging.Formatter(\"%(asctim)s- %(name)s - %(levelname)s - %(message)s\")\n",
    "handler.setFormatter(formatter)\n",
    "error_handler.setFormatter(formatter)\n",
    "\n",
    "logger.addHandler(handler)\n",
    "logger.addHandler(error_handler)\n",
    "\n"
   ]
  },
  {
   "cell_type": "code",
   "execution_count": 8,
   "metadata": {},
   "outputs": [
    {
     "name": "stdout",
     "output_type": "stream",
     "text": [
      "True\n"
     ]
    }
   ],
   "source": [
    "def duplicates(arr):\n",
    "    return len(arr) != len(set(arr))\n",
    "    logger.debug(f\"checking the array for duplicates\")\n",
    "\n",
    "\n",
    "try:\n",
    "    arr = [1,2,4,2,5,9]\n",
    "    print(duplicates(arr))\n",
    "except Exception as e:\n",
    "    print(e)"
   ]
  },
  {
   "cell_type": "markdown",
   "metadata": {},
   "source": [
    "# 2"
   ]
  },
  {
   "cell_type": "code",
   "execution_count": 16,
   "metadata": {},
   "outputs": [
    {
     "name": "stdout",
     "output_type": "stream",
     "text": [
      "[5, 6, 7, 1, 2, 3, 4]\n"
     ]
    }
   ],
   "source": [
    "def rotateArray(arr, k):\n",
    "    k = k% len(arr) # to handle cases where k is greater than lenght of array\n",
    "    logger.debug(f\"test string\")\n",
    "    return arr[-k:]+arr[:-k]\n",
    "\n",
    "try:\n",
    "    arr = [1,2,3,4,5,6,7]\n",
    "    k = 3\n",
    "    print(rotateArray(arr, k))\n",
    "except Exception as e:\n",
    "    print(e)"
   ]
  },
  {
   "cell_type": "markdown",
   "metadata": {},
   "source": [
    "# 3"
   ]
  },
  {
   "cell_type": "code",
   "execution_count": 17,
   "metadata": {},
   "outputs": [
    {
     "name": "stdout",
     "output_type": "stream",
     "text": [
      "[12, 9, 7, 5, 4, 2]\n"
     ]
    }
   ],
   "source": [
    "def ReverseArray(arr):\n",
    "    logger.debug(\"test string1\")\n",
    "    return arr[::-1]\n",
    "\n",
    "try:\n",
    "    arr = [2,4,5,7,9,12]\n",
    "    print(ReverseArray(arr))\n",
    "except Exception as e:\n",
    "    print(e)"
   ]
  },
  {
   "cell_type": "markdown",
   "metadata": {},
   "source": [
    "# 4"
   ]
  },
  {
   "cell_type": "code",
   "execution_count": 18,
   "metadata": {},
   "outputs": [
    {
     "name": "stdout",
     "output_type": "stream",
     "text": [
      "20\n"
     ]
    }
   ],
   "source": [
    "def MaxElement(arr):\n",
    "    logger.debug(\"test string2\")\n",
    "    return max(arr)\n",
    "\n",
    "try:\n",
    "    arr = [10, 5, 20, 8, 15]\n",
    "    print(MaxElement(arr))\n",
    "except Exception as e:\n",
    "    print(e)"
   ]
  },
  {
   "cell_type": "markdown",
   "metadata": {},
   "source": [
    "# 5"
   ]
  },
  {
   "cell_type": "code",
   "execution_count": 19,
   "metadata": {},
   "outputs": [
    {
     "name": "stdout",
     "output_type": "stream",
     "text": [
      "[1, 2, 3, 4, 5]\n"
     ]
    }
   ],
   "source": [
    "def SortedNoDuplicates(arr):\n",
    "    return sorted(set(arr))\n",
    "\n",
    "try:\n",
    "    arr = [1,1,2,2,2,3,3,4,4,5,5]\n",
    "    print(SortedNoDuplicates(arr))\n",
    "except Exception as e:\n",
    "    print(e)"
   ]
  }
 ],
 "metadata": {
  "kernelspec": {
   "display_name": "Python 3",
   "language": "python",
   "name": "python3"
  },
  "language_info": {
   "codemirror_mode": {
    "name": "ipython",
    "version": 3
   },
   "file_extension": ".py",
   "mimetype": "text/x-python",
   "name": "python",
   "nbconvert_exporter": "python",
   "pygments_lexer": "ipython3",
   "version": "3.11.4"
  }
 },
 "nbformat": 4,
 "nbformat_minor": 2
}
