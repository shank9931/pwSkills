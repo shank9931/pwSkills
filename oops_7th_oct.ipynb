{
 "cells": [
  {
   "cell_type": "code",
   "execution_count": 1,
   "id": "fef1683a-faa4-4d27-a0a6-7a742e512e9b",
   "metadata": {},
   "outputs": [
    {
     "name": "stdout",
     "output_type": "stream",
     "text": [
      "53500\n"
     ]
    }
   ],
   "source": [
    "# Problem 1\n",
    "\n",
    "class BankAccount:\n",
    "    def __init__(self, account_number, name, balance):\n",
    "        self.account_number = account_number\n",
    "        self.name = name\n",
    "        self.balance = balance\n",
    "    def deposit(self, amount):\n",
    "        self.balance += amount\n",
    "        return self.balance\n",
    "    def withdraw(self, amount):\n",
    "        if amount>self.balance:\n",
    "            print(\"insufficient balance!\")\n",
    "            return\n",
    "        self.balance=self.balance-amount\n",
    "        return self.balance\n",
    "    \n",
    "account = BankAccount(\"986134671745212\",\"Madhusudan Hota\",50000)\n",
    "account.deposit(5600)\n",
    "account.withdraw(2100)\n",
    "print(account.balance)\n",
    "        "
   ]
  },
  {
   "cell_type": "code",
   "execution_count": 3,
   "id": "5027b85b",
   "metadata": {},
   "outputs": [
    {
     "name": "stdout",
     "output_type": "stream",
     "text": [
      "employee ID: 4569\n",
      "Name: Johnny Singh\n",
      "salary: 450000\n",
      "yearly bonus: 45000.0\n"
     ]
    }
   ],
   "source": [
    "# Problem 2\n",
    "\n",
    "class CompnayEmployee:\n",
    "    def __init__(self, id, name, salary):\n",
    "        self.id = id\n",
    "        self.name = name\n",
    "        self.salary = salary\n",
    "    def yearly_bonus(self):\n",
    "        return self.salary*0.10\n",
    "    def display_details(self):\n",
    "        print(f\"employee ID: {self.id}\")\n",
    "        print(f\"Name: {self.name}\")\n",
    "        print(f\"salary: {self.salary}\")\n",
    "        print(f\"yearly bonus: {self.yearly_bonus()}\")\n",
    "\n",
    "employee = CompnayEmployee(\"4569\",\"Johnny Singh\",450000)\n",
    "\n",
    "employee.display_details()"
   ]
  },
  {
   "cell_type": "code",
   "execution_count": 5,
   "id": "73258ffa",
   "metadata": {},
   "outputs": [
    {
     "name": "stdout",
     "output_type": "stream",
     "text": [
      "available vehicles for rent: \n",
      "car\n",
      "bike\n",
      "van\n",
      "car has been rented\n",
      "available vehicles for rent: \n",
      "bike\n",
      "van\n"
     ]
    }
   ],
   "source": [
    "# Problem 3\n",
    "\n",
    "class RentalCompany:\n",
    "    def __init__(self):\n",
    "        self.available_vehicles = [\"car\",\"bike\",\"van\"]\n",
    "\n",
    "    def rent_vehicle(self,vehicle):\n",
    "        if vehicle in self.available_vehicles:\n",
    "            self.available_vehicles.remove(vehicle)\n",
    "            print(f\"{vehicle} has been rented\")\n",
    "        else:\n",
    "            print(f\"sorry, {vehicle} is not available for rent\")\n",
    "\n",
    "    def return_vehicle(self,vehicle):\n",
    "        self.available_vehicles.append(vehicle)\n",
    "        print(f\"{vehicle} has been returned\")\n",
    "\n",
    "    def display_available_vehicles(self):\n",
    "        print(\"available vehicles for rent: \")\n",
    "        for vehicle in self.available_vehicles:\n",
    "            print(vehicle)\n",
    "    \n",
    "rental_system = RentalCompany()\n",
    "rental_system.display_available_vehicles()\n",
    "rental_system.rent_vehicle(\"car\")\n",
    "rental_system.display_available_vehicles()\n"
   ]
  },
  {
   "cell_type": "code",
   "execution_count": 8,
   "id": "d8b2dc82",
   "metadata": {},
   "outputs": [
    {
     "name": "stdout",
     "output_type": "stream",
     "text": [
      "available books for rent: \n",
      "game of thrones\n",
      "harry potter\n",
      "lord of the rings\n",
      "twilight\n",
      "this game of thrones has been borrowed\n",
      "available books for rent: \n",
      "harry potter\n",
      "lord of the rings\n",
      "twilight\n"
     ]
    }
   ],
   "source": [
    "# Problem 4\n",
    "\n",
    "class LibaraySystem:\n",
    "    def __init__(self):\n",
    "        self.available_books = [\"game of thrones\",\"harry potter\", \"lord of the rings\",\"twilight\"]\n",
    "    \n",
    "    def borrow_book(self,book):\n",
    "        if book in self.available_books:\n",
    "            self.available_books.remove(book)\n",
    "            print(f\"this {book} has been borrowed\")\n",
    "        else:\n",
    "            print(f\"sorry! this {book} is not available for rent\")\n",
    "\n",
    "    def display(self):\n",
    "        print(\"available books for rent: \")\n",
    "        for book in self.available_books:\n",
    "            print(book)\n",
    "\n",
    "library_system = LibaraySystem()\n",
    "library_system.display()\n",
    "library_system.borrow_book(\"game of thrones\")\n",
    "library_system.display()"
   ]
  },
  {
   "cell_type": "code",
   "execution_count": 14,
   "id": "411d4ae3",
   "metadata": {},
   "outputs": [
    {
     "name": "stdout",
     "output_type": "stream",
     "text": [
      "available products in the inventory: \n",
      "pens\n",
      "books\n",
      "notebooks\n",
      "pencils\n",
      "crayons\n",
      "glues\n",
      "bottles are not available to send to the market\n",
      "available products in the inventory: \n",
      "pens\n",
      "books\n",
      "notebooks\n",
      "pencils\n",
      "crayons\n",
      "glues\n"
     ]
    }
   ],
   "source": [
    "# Problem 5\n",
    "\n",
    "class ProductInventory:\n",
    "    def __init__(self):\n",
    "        self.available_products = [\"pens\",\"books\",\"notebooks\",\"pencils\",\"crayons\",\"glues\"]\n",
    "\n",
    "    def order_products(self,product):\n",
    "        if product in self.available_products:\n",
    "            self.available_products.remove(product)\n",
    "            print(f\"{product} have been caled to the market\")\n",
    "        else:\n",
    "            print(f\"{product} are not available to send to the market\")\n",
    "\n",
    "    def display(self):\n",
    "        print(\"available products in the inventory: \")\n",
    "        for product in self.available_products:\n",
    "            print(product)\n",
    "\n",
    "inventory_management = ProductInventory()\n",
    "inventory_management.display()\n",
    "inventory_management.order_products(\"bottles\")\n",
    "inventory_management.display()"
   ]
  },
  {
   "cell_type": "code",
   "execution_count": 23,
   "id": "3d316240",
   "metadata": {},
   "outputs": [
    {
     "name": "stdout",
     "output_type": "stream",
     "text": [
      "the area of the rectangle is:  30\n",
      "the perimeter of the rectangle is:  22\n"
     ]
    }
   ],
   "source": [
    "# Problem 6\n",
    "\n",
    "class Rectangle:\n",
    "    def __init__(self,length,width):\n",
    "        self.length = length\n",
    "        self.width = width\n",
    "\n",
    "    def area(self):\n",
    "        return  (self.length) * (self.width)\n",
    "    \n",
    "    def perimeter(self):\n",
    "        return  self.length * 2 + self.width * 2\n",
    "    \n",
    "my_square = Rectangle(5,6)\n",
    "print(\"the area of the rectangle is: \", my_square.area())\n",
    "print(\"the perimeter of the rectangle is: \", my_square.perimeter())"
   ]
  },
  {
   "cell_type": "code",
   "execution_count": 24,
   "id": "91c566b4",
   "metadata": {},
   "outputs": [
    {
     "name": "stdout",
     "output_type": "stream",
     "text": [
      "student id: 1\n",
      "name: John Woo\n",
      "grades: [85, 96, 91, 83]\n",
      "average grade: 88.75\n"
     ]
    }
   ],
   "source": [
    "# Problem 7\n",
    "\n",
    "class StudentManagement:\n",
    "    def __init__(self,ID,name,grades):\n",
    "        self.ID = ID\n",
    "        self.name = name\n",
    "        self.grades = grades\n",
    "\n",
    "    def calculate_average_grades(self):\n",
    "        return sum(self.grades)/ len(self.grades)\n",
    "    \n",
    "    def display(self):\n",
    "        print(f\"student id: {self.ID}\")\n",
    "        print(f\"name: {self.name}\")\n",
    "        print(f\"grades: {self.grades}\")\n",
    "        print(f\"average grade: {self.calculate_average_grades()}\")\n",
    "\n",
    "student1 = StudentManagement(1,\"John Woo\",[85,96,91,83])\n",
    "student1.display()"
   ]
  },
  {
   "cell_type": "code",
   "execution_count": 25,
   "id": "a2a50b12",
   "metadata": {},
   "outputs": [
    {
     "name": "stdout",
     "output_type": "stream",
     "text": [
      "email sent from john@example.com to jane@example.com with subject: Meeting Reminder\n"
     ]
    }
   ],
   "source": [
    "# Problem 8\n",
    "\n",
    "class Email:\n",
    "    def __init__(self, sender, recipient, subject):\n",
    "        self.sender = sender\n",
    "        self.recipient = recipient\n",
    "        self.subject = subject\n",
    "\n",
    "    def send_email(self):\n",
    "        print(f\"email sent from {self.sender} to {self.recipient} with subject: {self.subject}\")\n",
    "\n",
    "email1 = Email(\"john@example.com\", \"jane@example.com\", \"Meeting Reminder\")\n",
    "email1.send_email()\n"
   ]
  },
  {
   "cell_type": "code",
   "execution_count": 26,
   "id": "582774ed",
   "metadata": {},
   "outputs": [
    {
     "name": "stdout",
     "output_type": "stream",
     "text": [
      "I love Luddi!\n",
      "My bong is long!xD\n"
     ]
    }
   ],
   "source": [
    "# Problem 9\n",
    "\n",
    "class Profile:\n",
    "    def __init__(self,username):\n",
    "        self.username = username\n",
    "        self.posts = []\n",
    "\n",
    "    def add_post(self,post):\n",
    "        self.posts.append(post)\n",
    "\n",
    "    def display_post(self):\n",
    "        for post in self.posts:\n",
    "            print(post)\n",
    "\n",
    "profile1 = Profile(\"Honny Jins\")\n",
    "profile1.add_post(\"I love Luddi!\")\n",
    "profile1.add_post(\"My bong is long!xD\")\n",
    "profile1.display_post()\n"
   ]
  },
  {
   "cell_type": "code",
   "execution_count": 28,
   "id": "06c79521",
   "metadata": {},
   "outputs": [
    {
     "name": "stdout",
     "output_type": "stream",
     "text": [
      "pending tasks: \n",
      "Buy groceries\n",
      "Finish project\n",
      "task Buy groceries marked as completed.\n",
      "pending tasks: \n",
      "Finish project\n"
     ]
    }
   ],
   "source": [
    "# Problem 10\n",
    "class Task:\n",
    "    def __init__(self,name,due_date):\n",
    "        self.name = name\n",
    "        self.due_date = due_date\n",
    "        self.completed = False\n",
    "\n",
    "class ToDoList:\n",
    "    def __init__(self):\n",
    "        self.tasks = []\n",
    "\n",
    "    def add_task (self,name,due_date):\n",
    "        task = Task(name,due_date)\n",
    "        self.tasks.append(task)\n",
    "    \n",
    "    def mark_task_as_completed(self,name):\n",
    "        for task in self.tasks:\n",
    "            if task.name == name:\n",
    "                task.completed = True\n",
    "                return f\"task {name} marked as completed.\"\n",
    "        return f\"no taks found with the {name} name\"\n",
    "    \n",
    "    def display_pending_tasks(self):\n",
    "        pending_tasks = [task.name for task in self.tasks if not task.completed]\n",
    "        if pending_tasks:\n",
    "            print(\"pending tasks: \")\n",
    "            for task in pending_tasks:\n",
    "                print(task)\n",
    "        else:\n",
    "            print(\"no pending tasks.\")\n",
    "\n",
    "todo_list = ToDoList()\n",
    "todo_list.add_task(\"Buy groceries\", \"2023-10-20\")\n",
    "todo_list.add_task(\"Finish project\", \"2023-10-25\")\n",
    "todo_list.display_pending_tasks()\n",
    "print(todo_list.mark_task_as_completed(\"Buy groceries\"))\n",
    "todo_list.display_pending_tasks()\n"
   ]
  },
  {
   "cell_type": "code",
   "execution_count": null,
   "id": "421bae53",
   "metadata": {},
   "outputs": [],
   "source": []
  }
 ],
 "metadata": {
  "kernelspec": {
   "display_name": "Python 3 (ipykernel)",
   "language": "python",
   "name": "python3"
  },
  "language_info": {
   "codemirror_mode": {
    "name": "ipython",
    "version": 3
   },
   "file_extension": ".py",
   "mimetype": "text/x-python",
   "name": "python",
   "nbconvert_exporter": "python",
   "pygments_lexer": "ipython3",
   "version": "3.11.4"
  }
 },
 "nbformat": 4,
 "nbformat_minor": 5
}
