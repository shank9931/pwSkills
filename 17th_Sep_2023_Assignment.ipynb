{
 "cells": [
  {
   "cell_type": "code",
   "execution_count": null,
   "metadata": {},
   "outputs": [],
   "source": [
    "# topic 1 : For loop"
   ]
  },
  {
   "cell_type": "code",
   "execution_count": 11,
   "metadata": {},
   "outputs": [
    {
     "name": "stdout",
     "output_type": "stream",
     "text": [
      "1 2 3 4 5 6 7 8 9 10 "
     ]
    }
   ],
   "source": [
    "# qs1:\n",
    "\n",
    "try: \n",
    "    def p ():\n",
    "        for i in range(1,11):\n",
    "            print (i,end=\" \")\n",
    "    p()\n",
    "except:\n",
    "    pass"
   ]
  },
  {
   "cell_type": "markdown",
   "metadata": {},
   "source": [
    "# qs 2:\n",
    "\n",
    "- a for loop is used when the number of iterations is already known\n",
    "- a while loop is used when the number of iterations is unknown"
   ]
  },
  {
   "cell_type": "code",
   "execution_count": 4,
   "metadata": {},
   "outputs": [
    {
     "name": "stdout",
     "output_type": "stream",
     "text": [
      "5050\n"
     ]
    }
   ],
   "source": [
    "# qs 3\n",
    "\n",
    "try:\n",
    "    def sum():\n",
    "        su = 0\n",
    "        for i in range(1,101):\n",
    "            su = su+i\n",
    "        return su\n",
    "    print(sum())\n",
    "except:\n",
    "    pass"
   ]
  },
  {
   "cell_type": "code",
   "execution_count": 10,
   "metadata": {},
   "outputs": [
    {
     "name": "stdout",
     "output_type": "stream",
     "text": [
      "1 2 3 4 5 6 "
     ]
    }
   ],
   "source": [
    "# qs 4\n",
    "\n",
    "lis1 = [1,2,3,4,5,6]\n",
    "for i in lis1:\n",
    "    print(i,end=\" \")\n",
    "\n"
   ]
  },
  {
   "cell_type": "code",
   "execution_count": 7,
   "metadata": {},
   "outputs": [
    {
     "name": "stdout",
     "output_type": "stream",
     "text": [
      "720\n"
     ]
    }
   ],
   "source": [
    "# qs 5\n",
    "lis1 = [1,2,3,4,5,6]\n",
    "pr = 1\n",
    "for i in lis1:\n",
    "    pr = pr*i\n",
    "print(pr)\n",
    "\n"
   ]
  },
  {
   "cell_type": "code",
   "execution_count": 9,
   "metadata": {},
   "outputs": [
    {
     "name": "stdout",
     "output_type": "stream",
     "text": [
      "2 4 6 8 10 12 14 16 18 20 "
     ]
    }
   ],
   "source": [
    "# qs 6\n",
    "\n",
    "for i in range(1,21):\n",
    "    if i%2==0:\n",
    "        print(i,end=\" \")\n"
   ]
  },
  {
   "cell_type": "code",
   "execution_count": 13,
   "metadata": {},
   "outputs": [
    {
     "name": "stdout",
     "output_type": "stream",
     "text": [
      "24\n"
     ]
    }
   ],
   "source": [
    "# qs 7\n",
    "def factorial(n):\n",
    "    fac = 1\n",
    "    for i in range(1,n+1):\n",
    "        fac = fac *i\n",
    "    return fac\n",
    "\n",
    "print(factorial(4))"
   ]
  },
  {
   "cell_type": "code",
   "execution_count": 19,
   "metadata": {},
   "outputs": [
    {
     "name": "stdout",
     "output_type": "stream",
     "text": [
      "p r o r a j u l i z a t i o n "
     ]
    }
   ],
   "source": [
    "# qs 8 \n",
    "\n",
    "st1 = \"prorajulization\"\n",
    "li1 = list(st1)\n",
    "for i in li1:\n",
    "    print(i,end=\" \")\n"
   ]
  },
  {
   "cell_type": "code",
   "execution_count": 20,
   "metadata": {},
   "outputs": [
    {
     "name": "stdout",
     "output_type": "stream",
     "text": [
      "[24, 38, 10, 25, 34, 17, 10, 12, 17, 12]\n",
      "biggest number is:  38\n"
     ]
    }
   ],
   "source": [
    "# qs9\n",
    "import random\n",
    "\n",
    "li1 = []\n",
    "n = 10\n",
    "for i in range(n):\n",
    "    li1.append(random.randint(1,39))\n",
    "print(li1)\n",
    "\n",
    "bgn = li1[0]\n",
    "for i in li1:\n",
    "    if i>bgn:\n",
    "        bgn=i\n",
    "\n",
    "print(\"biggest number is: \",bgn)"
   ]
  },
  {
   "cell_type": "code",
   "execution_count": 24,
   "metadata": {},
   "outputs": [
    {
     "name": "stdout",
     "output_type": "stream",
     "text": [
      "0\n",
      "1\n",
      "1\n",
      "2\n",
      "3\n",
      "None "
     ]
    }
   ],
   "source": [
    "# qs 10\n",
    "\n",
    "def fib(n):\n",
    "    a = 0\n",
    "    b = 1\n",
    "    if n == 1:\n",
    "        print(a)\n",
    "    else:\n",
    "        print(a)\n",
    "        print(b)\n",
    "        for i in range(2,n):\n",
    "            c = a+b\n",
    "            a = b\n",
    "            b = c\n",
    "            print(c)\n",
    "\n",
    "fib(5)"
   ]
  },
  {
   "cell_type": "code",
   "execution_count": 27,
   "metadata": {},
   "outputs": [
    {
     "name": "stdout",
     "output_type": "stream",
     "text": [
      "6\n"
     ]
    }
   ],
   "source": [
    "# qs 11\n",
    "str1 = \"alkdjfksAAOOjklfsa\"\n",
    "counter = 0\n",
    "for i in str1:\n",
    "    if i.lower() in [\"a\",\"e\",\"i\",\"o\",\"u\"]:\n",
    "        counter +=1\n",
    "\n",
    "print(counter)"
   ]
  },
  {
   "cell_type": "code",
   "execution_count": 1,
   "metadata": {},
   "outputs": [
    {
     "name": "stdout",
     "output_type": "stream",
     "text": [
      "9X1=9\n",
      "9X2=18\n",
      "9X3=27\n",
      "9X4=36\n",
      "9X5=45\n",
      "9X6=54\n",
      "9X7=63\n",
      "9X8=72\n",
      "9X9=81\n",
      "9X10=90\n"
     ]
    }
   ],
   "source": [
    "# qs 12\n",
    "\n",
    "def mut(n):\n",
    "    for i in range(1,11):\n",
    "        print(f\"{n}X{i}={n*i}\")\n",
    "\n",
    "mut(9)"
   ]
  },
  {
   "cell_type": "code",
   "execution_count": 7,
   "metadata": {},
   "outputs": [
    {
     "name": "stdout",
     "output_type": "stream",
     "text": [
      "[6, 5, 4, 3, 2, 1]\n"
     ]
    }
   ],
   "source": [
    "# qs 13\n",
    "\n",
    "def rev(l1):\n",
    "    l2=[]\n",
    "    for i in range(len(l1)-1,-1,-1):\n",
    "        l2.append(l1[i])\n",
    "    print(l2)\n",
    "\n",
    "rev([1,2,3,4,5,6])"
   ]
  },
  {
   "cell_type": "code",
   "execution_count": 9,
   "metadata": {},
   "outputs": [
    {
     "name": "stdout",
     "output_type": "stream",
     "text": [
      "[3, 4]\n"
     ]
    }
   ],
   "source": [
    "# qs 14\n",
    "l1 = [1,2,3,4]\n",
    "l2 = [3,4,5]\n",
    "l3 = []\n",
    "\n",
    "v = lambda l1,l2: [i for i in l1 if i in l2]\n",
    "\n",
    "print(v(l1,l2))"
   ]
  },
  {
   "cell_type": "code",
   "execution_count": 12,
   "metadata": {},
   "outputs": [
    {
     "name": "stdout",
     "output_type": "stream",
     "text": [
      "key: key, value: value\n",
      "key: s1, value: 12\n",
      "key: s2, value: 324\n"
     ]
    }
   ],
   "source": [
    "# qs 15\n",
    "\n",
    "my_dict = {'key': 'value','s1':'12','s2':'324'}\n",
    "for i,j in my_dict.items():\n",
    "    print(f\"key: {i}, value: {j}\")"
   ]
  },
  {
   "cell_type": "code",
   "execution_count": 15,
   "metadata": {},
   "outputs": [
    {
     "name": "stdout",
     "output_type": "stream",
     "text": [
      "gcd of 16 and 32 is: 16\n"
     ]
    }
   ],
   "source": [
    "# qs 16\n",
    "\n",
    "x = 32\n",
    "y = 16\n",
    "\n",
    "if x>y:\n",
    "    x,y = y,x\n",
    "for i in range(1,x+1):\n",
    "    if x%i == 0 and y%i == 0:\n",
    "        gcd = i\n",
    "\n",
    "print(\"gcd of\",x,\"and\",y,\"is:\",gcd)"
   ]
  },
  {
   "cell_type": "code",
   "execution_count": 17,
   "metadata": {},
   "outputs": [
    {
     "name": "stdout",
     "output_type": "stream",
     "text": [
      "the string is not a pallindrome\n"
     ]
    }
   ],
   "source": [
    "# qs 17\n",
    "\n",
    "s1 = \"sapoan\"\n",
    "\n",
    "if s1 == s1[::-1]:\n",
    "    print(\"the string is a pallindrome\")\n",
    "else:\n",
    "    print(\"the string is not a pallindrome\")"
   ]
  },
  {
   "cell_type": "code",
   "execution_count": 19,
   "metadata": {},
   "outputs": [
    {
     "name": "stdout",
     "output_type": "stream",
     "text": [
      "[1, 2, 3, 4, 5, 234]\n"
     ]
    }
   ],
   "source": [
    "# qs 18 \n",
    "\n",
    "lis1 = [1,2,3,4,5,3,5,234,5,4,1]\n",
    "lis2 = []\n",
    "\n",
    "for i in lis1:\n",
    "    if i not in lis2:\n",
    "        lis2.append(i)\n",
    "\n",
    "print(lis2)"
   ]
  },
  {
   "cell_type": "code",
   "execution_count": 20,
   "metadata": {},
   "outputs": [
    {
     "name": "stdout",
     "output_type": "stream",
     "text": [
      "9\n"
     ]
    }
   ],
   "source": [
    "# qs 19\n",
    "str1 = \"My name is Sashank and I am very cool.\"\n",
    "ls1 = str1.split(\" \")\n",
    "print(len(ls1))"
   ]
  },
  {
   "cell_type": "code",
   "execution_count": 21,
   "metadata": {},
   "outputs": [
    {
     "data": {
      "text/plain": [
       "625"
      ]
     },
     "execution_count": 21,
     "metadata": {},
     "output_type": "execute_result"
    }
   ],
   "source": [
    "# qs 20\n",
    "\n",
    "def sum (n):\n",
    "    sm=0\n",
    "    for i in range (1,n+1):\n",
    "        if i%2!=0:\n",
    "            sm=sm+i\n",
    "    return sm\n",
    "\n",
    "sum(50)"
   ]
  },
  {
   "cell_type": "code",
   "execution_count": 22,
   "metadata": {},
   "outputs": [
    {
     "name": "stdout",
     "output_type": "stream",
     "text": [
      "it is a leap year\n"
     ]
    }
   ],
   "source": [
    "# qs 21\n",
    "def lpyr (n):\n",
    "    if n%4==0: \n",
    "        print(\"it is a leap year\")\n",
    "    else:\n",
    "        print('it is not a leap year')\n",
    "\n",
    "lpyr(2020)"
   ]
  },
  {
   "cell_type": "code",
   "execution_count": 23,
   "metadata": {},
   "outputs": [
    {
     "name": "stdout",
     "output_type": "stream",
     "text": [
      "25.0\n"
     ]
    }
   ],
   "source": [
    "# qs 22\n",
    "\n",
    "import math\n",
    "\n",
    "print(math.sqrt(625))"
   ]
  },
  {
   "cell_type": "code",
   "execution_count": 6,
   "metadata": {},
   "outputs": [
    {
     "name": "stdout",
     "output_type": "stream",
     "text": [
      "the LCM is 280\n"
     ]
    }
   ],
   "source": [
    "# qs 23\n",
    "\n",
    "try:\n",
    "    def LCM(*args):\n",
    "        greater = max(args)\n",
    "\n",
    "        while True:\n",
    "            if all(greater%num==0 for num in args):\n",
    "                lcm = greater\n",
    "                break\n",
    "            greater +=1\n",
    "        return lcm\n",
    "    numbers = list(map(int,input(\"enter the numbers: \").split()))\n",
    "    print(\"the LCM is\", LCM(*numbers))\n",
    "except:\n",
    "    pass"
   ]
  },
  {
   "cell_type": "code",
   "execution_count": null,
   "metadata": {},
   "outputs": [],
   "source": [
    "# topic 2 : if else"
   ]
  },
  {
   "cell_type": "code",
   "execution_count": 7,
   "metadata": {},
   "outputs": [
    {
     "data": {
      "text/plain": [
       "'number is negative'"
      ]
     },
     "execution_count": 7,
     "metadata": {},
     "output_type": "execute_result"
    }
   ],
   "source": [
    "# qs 1\n",
    "\n",
    "try:\n",
    "    def check(a):\n",
    "        if a>0:\n",
    "            return \"number is positive\"\n",
    "        elif a == 0:\n",
    "            return \"number is zero\"\n",
    "        else:\n",
    "            return \"number is negative\"\n",
    "except:\n",
    "    pass\n",
    "\n",
    "check(-3)\n"
   ]
  },
  {
   "cell_type": "code",
   "execution_count": 8,
   "metadata": {},
   "outputs": [
    {
     "data": {
      "text/plain": [
       "'number is even'"
      ]
     },
     "execution_count": 8,
     "metadata": {},
     "output_type": "execute_result"
    }
   ],
   "source": [
    "# qs 2\n",
    "\n",
    "try:\n",
    "    def checker(a):\n",
    "        if a%2==0:\n",
    "            return \"number is even\"\n",
    "        else:\n",
    "            return \"number is odd\"\n",
    "except:\n",
    "    pass\n",
    "\n",
    "checker(24)"
   ]
  },
  {
   "cell_type": "code",
   "execution_count": 14,
   "metadata": {},
   "outputs": [
    {
     "name": "stdout",
     "output_type": "stream",
     "text": [
      "25 is positive\n",
      "25 is odd\n"
     ]
    }
   ],
   "source": [
    "# qs 3\n",
    "\n",
    "def checkker(a):\n",
    "    if a>0:\n",
    "        yield f\"{a} is positive\"\n",
    "        if a%2==0:\n",
    "            yield f\"{a} is even\"\n",
    "        else:\n",
    "            yield f\"{a} is odd\"\n",
    "    else:\n",
    "        yield f\"{a} is not positive\"\n",
    "    \n",
    "\n",
    "i = checkker(25)\n",
    "for j in i:\n",
    "    print(j)"
   ]
  },
  {
   "cell_type": "code",
   "execution_count": 15,
   "metadata": {},
   "outputs": [
    {
     "data": {
      "text/plain": [
       "76"
      ]
     },
     "execution_count": 15,
     "metadata": {},
     "output_type": "execute_result"
    }
   ],
   "source": [
    "# qs 4\n",
    "\n",
    "def largest(a,b,c):\n",
    "    if a>b and a>c:\n",
    "        large = a\n",
    "    elif b>c and b>a:\n",
    "        large = b\n",
    "    else:\n",
    "        large = c\n",
    "    return large\n",
    "\n",
    "largest(25,1,76)"
   ]
  },
  {
   "cell_type": "code",
   "execution_count": 16,
   "metadata": {},
   "outputs": [
    {
     "data": {
      "text/plain": [
       "43"
      ]
     },
     "execution_count": 16,
     "metadata": {},
     "output_type": "execute_result"
    }
   ],
   "source": [
    "# qs 5\n",
    "\n",
    "def absol(a):\n",
    "    if a >= 0:\n",
    "        return a\n",
    "    else:\n",
    "        return -a\n",
    "    \n",
    "absol(-43)"
   ]
  },
  {
   "cell_type": "code",
   "execution_count": 17,
   "metadata": {},
   "outputs": [
    {
     "data": {
      "text/plain": [
       "'char is a consonant'"
      ]
     },
     "execution_count": 17,
     "metadata": {},
     "output_type": "execute_result"
    }
   ],
   "source": [
    "# qs 6\n",
    "\n",
    "def vowabs(a):\n",
    "    if a in [\"a\",\"e\",\"i\",\"o\",\"u\",\"A\",\"E\",\"I\",\"O\",\"U\"]:\n",
    "        return \"char is a vowel\"\n",
    "    else:\n",
    "        return \"char is a consonant\"\n",
    "    \n",
    "vowabs(\"k\")"
   ]
  },
  {
   "cell_type": "code",
   "execution_count": 18,
   "metadata": {},
   "outputs": [
    {
     "data": {
      "text/plain": [
       "'you are eligible to vote!'"
      ]
     },
     "execution_count": 18,
     "metadata": {},
     "output_type": "execute_result"
    }
   ],
   "source": [
    "# qs 7\n",
    "\n",
    "def voting(a):\n",
    "    if a >=18:\n",
    "        return \"you are eligible to vote!\"\n",
    "    else:\n",
    "        return \"you are not eligible to vote!\"\n",
    "    \n",
    "a = int(input(\"enter your age: \"))\n",
    "voting(a)"
   ]
  },
  {
   "cell_type": "code",
   "execution_count": 21,
   "metadata": {},
   "outputs": [
    {
     "data": {
      "text/plain": [
       "('the discount amount is: ', 20.0, '%')"
      ]
     },
     "execution_count": 21,
     "metadata": {},
     "output_type": "execute_result"
    }
   ],
   "source": [
    "# qs 8\n",
    "\n",
    "def disc(cart):\n",
    "    \n",
    "    if 1000>cart>100:\n",
    "        discount = 0.15\n",
    "    elif 5000>cart>=1000:\n",
    "        discount = 0.20\n",
    "    elif cart>5000:\n",
    "        discount = 0.25\n",
    "    else:\n",
    "        discount = 0.0\n",
    "\n",
    "   \n",
    "    return \"the discount amount is: \", (discount*100), \"%\"\n",
    "\n",
    "\n",
    "cart = int(input(\"please enter the final bill amount: \"))\n",
    "disc(cart)"
   ]
  },
  {
   "cell_type": "code",
   "execution_count": 22,
   "metadata": {},
   "outputs": [
    {
     "data": {
      "text/plain": [
       "'the number is out of range'"
      ]
     },
     "execution_count": 22,
     "metadata": {},
     "output_type": "execute_result"
    }
   ],
   "source": [
    "# qs 9\n",
    "\n",
    "def rangeCheck(a):\n",
    "    if 10>=a>0:\n",
    "        return \"the number is within range\"\n",
    "    else:\n",
    "        return \"the number is out of range\"\n",
    "\n",
    "a = int(input(\"please enter the number: \"))    \n",
    "rangeCheck(a)"
   ]
  },
  {
   "cell_type": "code",
   "execution_count": null,
   "metadata": {},
   "outputs": [],
   "source": [
    "# qs 10\n",
    "\n",
    "# take user input\n",
    "student_score = int(input(\"give me the studnet's score: \"))\n",
    "\n",
    "#define a grading variable\n",
    "grade = \"\"\n",
    "\n",
    "# define grading criterias\n",
    "if student_score >= 90 and student_score<=100: \n",
    "    grade=\"A\"\n",
    "elif student_score>=70 and student_score<=89:\n",
    "    grade=\"B\"\n",
    "elif student_score<=69 and student_score>=33:\n",
    "    grade=\"C\"\n",
    "elif student_score > 100:\n",
    "    grade = \"undefined! please enter valid score less than or equal to 100\"\n",
    "else:\n",
    "    grade=\"F\"\n",
    "# displaying the result\n",
    "if grade == \"F\":\n",
    "    print(\"you have failed the test\")\n",
    "else:\n",
    "    print(\"your grade is: \", grade)"
   ]
  },
  {
   "cell_type": "code",
   "execution_count": 23,
   "metadata": {},
   "outputs": [
    {
     "data": {
      "text/plain": [
       "'the string is empty'"
      ]
     },
     "execution_count": 23,
     "metadata": {},
     "output_type": "execute_result"
    }
   ],
   "source": [
    "# qs 11\n",
    "\n",
    "def strCheck(a):\n",
    "    if len(a) == 0:\n",
    "        return \"the string is empty\"\n",
    "    else:\n",
    "        return \"the string is not empty\"\n",
    "\n",
    "b = \"\"\n",
    "strCheck(b)"
   ]
  },
  {
   "cell_type": "code",
   "execution_count": 25,
   "metadata": {},
   "outputs": [
    {
     "name": "stdout",
     "output_type": "stream",
     "text": [
      "the triangle is of type:  scalene\n"
     ]
    }
   ],
   "source": [
    "# qs 12\n",
    "\n",
    "def triangle(side1,side2,side3):\n",
    "\n",
    "    # first we check if the sides make a valid triangle\n",
    "    if side1+side2>side3 and side2+side3>side1 and side3+side1>side2:\n",
    "    \n",
    "        #check the type of triangle\n",
    "        if side1==side2==side3:\n",
    "            triangle_type = \"equilateral\"\n",
    "        elif side1 == side2 or side2 == side3 or side3 == side1:\n",
    "            triangle_type = \"isosceles\"\n",
    "        else:\n",
    "            triangle_type = \"scalene\"\n",
    "            \n",
    "        # print the result\n",
    "        print(\"the triangle is of type: \", triangle_type)\n",
    "\n",
    "    else:\n",
    "        print(\"the triangle is not valid\")\n",
    "\n",
    "side1, side2, side3 = map(int, input(\"enter 3 sides of a triangle with spaces in between: \").split())\n",
    "\n",
    "triangle(side1,side2,side3)"
   ]
  },
  {
   "cell_type": "code",
   "execution_count": 26,
   "metadata": {},
   "outputs": [
    {
     "name": "stdout",
     "output_type": "stream",
     "text": [
      "your day for your given number is:  friday\n"
     ]
    }
   ],
   "source": [
    "# qs 13\n",
    "\n",
    "\n",
    "def weekDay(a):\n",
    "\n",
    "    # define the use case\n",
    "    days = [\"monday\", \"tuesday\", \"wednesday\", \"thursday\", \"friday\", \"saturday\", \"sunday\"]\n",
    "\n",
    "    # display the output\n",
    "    if 1<=user_input<=7:\n",
    "        print(\"your day for your given number is: \", days[user_input-1])\n",
    "    else:\n",
    "        print(\"invalid input! enter a valid number b/w 1 and 7\")\n",
    "\n",
    "# take user input\n",
    "user_input = int(input(\"give me a number: \"))\n",
    "\n",
    "weekDay(user_input)"
   ]
  },
  {
   "cell_type": "code",
   "execution_count": null,
   "metadata": {},
   "outputs": [],
   "source": [
    "# qs 14\n",
    "\n",
    "leap = lambda year: True if (year%4==0 and year%100!=0) or year% 400==0 else False\n",
    "print(leap(1900))"
   ]
  },
  {
   "cell_type": "code",
   "execution_count": 1,
   "metadata": {},
   "outputs": [
    {
     "ename": "AssertionError",
     "evalue": "the number must be positive",
     "output_type": "error",
     "traceback": [
      "\u001b[1;31m---------------------------------------------------------------------------\u001b[0m",
      "\u001b[1;31mAssertionError\u001b[0m                            Traceback (most recent call last)",
      "\u001b[1;32mc:\\Users\\user\\Downloads\\17th_Sep_2023_Assignment.ipynb Cell 40\u001b[0m line \u001b[0;36m1\n\u001b[0;32m     <a href='vscode-notebook-cell:/c%3A/Users/user/Downloads/17th_Sep_2023_Assignment.ipynb#X54sZmlsZQ%3D%3D?line=9'>10</a>\u001b[0m     \u001b[39melse\u001b[39;00m:\n\u001b[0;32m     <a href='vscode-notebook-cell:/c%3A/Users/user/Downloads/17th_Sep_2023_Assignment.ipynb#X54sZmlsZQ%3D%3D?line=10'>11</a>\u001b[0m         \u001b[39mprint\u001b[39m(\u001b[39m\"\u001b[39m\u001b[39mthe number is odd.\u001b[39m\u001b[39m\"\u001b[39m)\n\u001b[1;32m---> <a href='vscode-notebook-cell:/c%3A/Users/user/Downloads/17th_Sep_2023_Assignment.ipynb#X54sZmlsZQ%3D%3D?line=13'>14</a>\u001b[0m checkPositive(\u001b[39m-\u001b[39;49m\u001b[39m5\u001b[39;49m)\n",
      "\u001b[1;32mc:\\Users\\user\\Downloads\\17th_Sep_2023_Assignment.ipynb Cell 40\u001b[0m line \u001b[0;36m6\n\u001b[0;32m      <a href='vscode-notebook-cell:/c%3A/Users/user/Downloads/17th_Sep_2023_Assignment.ipynb#X54sZmlsZQ%3D%3D?line=4'>5</a>\u001b[0m \u001b[39mdef\u001b[39;00m \u001b[39mcheckPositive\u001b[39m(n):\n\u001b[1;32m----> <a href='vscode-notebook-cell:/c%3A/Users/user/Downloads/17th_Sep_2023_Assignment.ipynb#X54sZmlsZQ%3D%3D?line=5'>6</a>\u001b[0m     \u001b[39massert\u001b[39;00m n\u001b[39m>\u001b[39m\u001b[39m0\u001b[39m, \u001b[39m\"\u001b[39m\u001b[39mthe number must be positive\u001b[39m\u001b[39m\"\u001b[39m\n\u001b[0;32m      <a href='vscode-notebook-cell:/c%3A/Users/user/Downloads/17th_Sep_2023_Assignment.ipynb#X54sZmlsZQ%3D%3D?line=7'>8</a>\u001b[0m     \u001b[39mif\u001b[39;00m n\u001b[39m%\u001b[39m\u001b[39m2\u001b[39m \u001b[39m==\u001b[39m \u001b[39m0\u001b[39m:\n\u001b[0;32m      <a href='vscode-notebook-cell:/c%3A/Users/user/Downloads/17th_Sep_2023_Assignment.ipynb#X54sZmlsZQ%3D%3D?line=8'>9</a>\u001b[0m         \u001b[39mprint\u001b[39m(\u001b[39m\"\u001b[39m\u001b[39mthe number is even.\u001b[39m\u001b[39m\"\u001b[39m)\n",
      "\u001b[1;31mAssertionError\u001b[0m: the number must be positive"
     ]
    }
   ],
   "source": [
    "# qs 15\n",
    "\n",
    "# The assert statement is used to check if a certian condition is met, if the condition is not met, then the program stops and throws and assertion error.\n",
    "\n",
    "def checkPositive(n):\n",
    "    assert n>0, \"the number must be positive\"\n",
    "\n",
    "    if n%2 == 0:\n",
    "        print(\"the number is even.\")\n",
    "    else:\n",
    "        print(\"the number is odd.\")\n",
    "\n",
    "\n",
    "checkPositive(-5)"
   ]
  },
  {
   "cell_type": "code",
   "execution_count": 2,
   "metadata": {},
   "outputs": [
    {
     "data": {
      "text/plain": [
       "'You are eligible for a senior citizen discount.'"
      ]
     },
     "execution_count": 2,
     "metadata": {},
     "output_type": "execute_result"
    }
   ],
   "source": [
    "# qs 16\n",
    "\n",
    "def seniorDisc(n):\n",
    "    if n >= 60:\n",
    "        return \"You are eligible for a senior citizen discount.\"\n",
    "    else:\n",
    "        return \"You are not a senior citizen.\"\n",
    "\n",
    "n = int(input(\"enter your age: \"))\n",
    "seniorDisc(n)"
   ]
  },
  {
   "cell_type": "code",
   "execution_count": 4,
   "metadata": {},
   "outputs": [
    {
     "name": "stdout",
     "output_type": "stream",
     "text": [
      "the character is uppercase\n"
     ]
    }
   ],
   "source": [
    "# qs 17\n",
    "\n",
    "\n",
    "\n",
    "def caseCheck(n):\n",
    "    if n.isupper():\n",
    "        print(\"the character is uppercase\")\n",
    "    elif n.islower():\n",
    "        print(\"the character is lowercase\")\n",
    "    else:\n",
    "        print('the character is neither uppercase nor lowercase')\n",
    "\n",
    "\n",
    "caseCheck(\"A\")"
   ]
  },
  {
   "cell_type": "code",
   "execution_count": null,
   "metadata": {},
   "outputs": [],
   "source": [
    "# qs 18\n",
    "\n",
    "import math\n",
    "# Input coefficients a, b, and c from the user\n",
    "a = float(input(\"Enter the coefficient a: \"))\n",
    "b = float(input(\"Enter the coefficient b: \"))\n",
    "c = float(input(\"Enter the coefficient c: \"))\n",
    "\n",
    "# Calculate the discriminant\n",
    "discriminant = b**2 - 4*a*c\n",
    "\n",
    "# Check if the discriminant is positive, negative, or zero\n",
    "if discriminant > 0:\n",
    "    # Two real and distinct roots\n",
    "    root1 = (-b + math.sqrt(discriminant)) / (2*a)\n",
    "    root2 = (-b - math.sqrt(discriminant)) / (2*a)\n",
    "    print(f\"The roots are real and distinct: {root1} and {root2}\")\n",
    "elif discriminant == 0:\n",
    "    # One real root (repeated)\n",
    "    root = -b / (2*a)\n",
    "    print(f\"The root is real and repeated: {root}\")\n",
    "else:\n",
    "    # Complex roots\n",
    "    real_part = -b / (2*a)\n",
    "    imaginary_part = math.sqrt(-discriminant) / (2*a)\n",
    "    root1 = complex(real_part, imaginary_part)\n",
    "    root2 = complex(real_part, -imaginary_part)\n",
    "    print(f\"The roots are complex: {root1} and {root2}\")"
   ]
  },
  {
   "cell_type": "code",
   "execution_count": 5,
   "metadata": {},
   "outputs": [
    {
     "data": {
      "text/plain": [
       "'the year is not a century year'"
      ]
     },
     "execution_count": 5,
     "metadata": {},
     "output_type": "execute_result"
    }
   ],
   "source": [
    "# qs 19\n",
    "\n",
    "def centuryCheck(n):\n",
    "    if n%100 == 0:\n",
    "        return \" the year is a century year\"\n",
    "    else:\n",
    "        return \"the year is not a century year\"\n",
    "\n",
    "centuryCheck(1745)"
   ]
  },
  {
   "cell_type": "code",
   "execution_count": 6,
   "metadata": {},
   "outputs": [
    {
     "name": "stdout",
     "output_type": "stream",
     "text": [
      "the number 25 is a perfect square\n"
     ]
    }
   ],
   "source": [
    "# qs 20\n",
    "\n",
    "import math\n",
    "\n",
    "def perfectSquare(n):\n",
    "    sqrt = math.sqrt(n)\n",
    "    if sqrt == int(sqrt):\n",
    "        print(f\"the number {n} is a perfect square\")\n",
    "    else:\n",
    "        print(f\"the number {n} is not a perfect square\")\n",
    "\n",
    "perfectSquare(25)"
   ]
  },
  {
   "cell_type": "code",
   "execution_count": null,
   "metadata": {},
   "outputs": [],
   "source": [
    "# qs 21\n",
    "\n",
    "# Continue : when the continue statement is encountered, the current iteration is ended immediately and the program goes back to start of the loop for the next iteration, skipping the rest of code inside the loop.\n",
    "\n",
    "for i in range(5):\n",
    "    if i ==2:\n",
    "        continue\n",
    "    print(i)  # here the output will be 0 1 3 4\n",
    "\n",
    "# break: used to terminate the loop prematurely if a certain condition is met\n",
    "\n",
    "for i in range(5):\n",
    "    if i ==2:\n",
    "        break\n",
    "    print(i) # here the output will be 0 1 only\n"
   ]
  },
  {
   "cell_type": "code",
   "execution_count": null,
   "metadata": {},
   "outputs": [],
   "source": [
    "# qs 22\n",
    "\n",
    "def BMI(height,weight):\n",
    "    bmi = (weight/height**2)\n",
    "    if bmi < 18.5:\n",
    "        print(\"you are underweight\")\n",
    "    elif 18.5<bmi<24.9:\n",
    "        print(\"you have a normal physique\")\n",
    "    elif 25.0<bmi<29.9:\n",
    "        print(\"you are overweight\")\n",
    "    else:\n",
    "        print(\"you are very very overweight\")\n",
    "\n",
    "height=float(input(\"give me your height in meters: \"))\n",
    "weight=float(input(\"give me your weight in kilograms: \"))\n",
    "\n",
    "BMI(height,weight)"
   ]
  },
  {
   "cell_type": "code",
   "execution_count": 9,
   "metadata": {},
   "outputs": [
    {
     "name": "stdout",
     "output_type": "stream",
     "text": [
      "[2, 4, 6]\n"
     ]
    }
   ],
   "source": [
    "# qs 23\n",
    "\n",
    "l1 = [1,2,3,4,5,6]\n",
    "\n",
    "def filterEvenOdd(n):\n",
    "    if n%2==0:\n",
    "        return True\n",
    "    else:\n",
    "        return False\n",
    "    \n",
    "filtered_list = filter(filterEvenOdd, l1)\n",
    "filtered_list = list(filtered_list)\n",
    "\n",
    "print(filtered_list)"
   ]
  },
  {
   "cell_type": "code",
   "execution_count": null,
   "metadata": {},
   "outputs": [],
   "source": [
    "# qs 24\n",
    "\n",
    "# take user input\n",
    "user_input = int(input(\"give me a number: \"))\n",
    "\n",
    "# test for prime\n",
    "if user_input < 2:\n",
    "    print(f\"{user_input} is not prime\")\n",
    "else: \n",
    "    is_prime = True\n",
    "\n",
    "    for i in range(2,int(user_input**0.5)+1):\n",
    "        if user_input%i==0:\n",
    "            is_prime = False\n",
    "            break\n",
    "    \n",
    "    if is_prime:\n",
    "        print(f\"{user_input} is a prime number\")\n",
    "    else:\n",
    "        print(f\"{user_input} is not a prime number\")"
   ]
  },
  {
   "cell_type": "code",
   "execution_count": null,
   "metadata": {},
   "outputs": [],
   "source": [
    "# topic 3: map\n"
   ]
  },
  {
   "cell_type": "code",
   "execution_count": 10,
   "metadata": {},
   "outputs": [
    {
     "name": "stdout",
     "output_type": "stream",
     "text": [
      "[1, 4, 9, 16, 25]\n"
     ]
    }
   ],
   "source": [
    "# qs 1:\n",
    "\n",
    "# the map function takes 2 arguments: a function and an iterable\n",
    "# it applies the given function to each item of the iterable\n",
    "# it returns a map object which is an interable itself\n",
    "# we can covert this map object into a list or tuple\n",
    "\n",
    "numbers = [1,2,3,4,5]\n",
    "\n",
    "def square(num):\n",
    "    return num**2\n",
    "\n",
    "squared = map(square,numbers)\n",
    "\n",
    "squared = list(squared)\n",
    "\n",
    "print(squared)\n"
   ]
  },
  {
   "cell_type": "code",
   "execution_count": 12,
   "metadata": {},
   "outputs": [
    {
     "name": "stdout",
     "output_type": "stream",
     "text": [
      "[1, 4, 9, 16, 25]\n"
     ]
    }
   ],
   "source": [
    "# qs 2\n",
    "\n",
    "numbers = [1,2,3,4,5]\n",
    "\n",
    "def square(num):\n",
    "    return num**2\n",
    "\n",
    "squared = map(square,numbers)\n",
    "\n",
    "squared = list(squared)\n",
    "\n",
    "print(squared)"
   ]
  },
  {
   "cell_type": "code",
   "execution_count": 11,
   "metadata": {},
   "outputs": [],
   "source": [
    "# qs 3\n",
    "\n",
    "# Both map and list comprehensions are tools to create lists\n",
    "# But map function creates a map object from a list using a function which has to be converted into a list later on\n",
    "# list comprehension is a compact way of creating lists using for loops and if conditions\n",
    "\n",
    "numbers = [1,2,3,4,5]\n",
    "\n",
    "def squares(n): return n**2\n",
    "squares_map = list(map(square,numbers))\n",
    "\n",
    "squares_lc = [x**2 for x in numbers]"
   ]
  },
  {
   "cell_type": "code",
   "execution_count": 14,
   "metadata": {},
   "outputs": [
    {
     "name": "stdout",
     "output_type": "stream",
     "text": [
      "['SAPAN', 'JAPAN', 'GHABAN', 'RATAN', 'MAHADEVAN']\n"
     ]
    }
   ],
   "source": [
    "# qs 4\n",
    "\n",
    "list_of_names = [\"sapan\",\"japan\",\"ghaban\",\"ratan\",\"mahadevan\"]\n",
    "\n",
    "def converter(n): return n.upper()\n",
    "\n",
    "uppercase_names_list = list(map(converter,list_of_names))\n",
    "\n",
    "print(uppercase_names_list)"
   ]
  },
  {
   "cell_type": "code",
   "execution_count": 18,
   "metadata": {},
   "outputs": [
    {
     "name": "stdout",
     "output_type": "stream",
     "text": [
      "[5, 5, 6, 5, 9]\n"
     ]
    }
   ],
   "source": [
    "# qs 5\n",
    "\n",
    "list_of_names = [\"sapan\",\"japan\",\"ghaban\",\"ratan\",\"mahadevan\"]\n",
    "\n",
    "def length_of_words(n): return len(n)\n",
    "\n",
    "length_of_words_list = list(map(length_of_words,list_of_names))\n",
    "\n",
    "print(length_of_words_list)"
   ]
  },
  {
   "cell_type": "code",
   "execution_count": 19,
   "metadata": {},
   "outputs": [
    {
     "name": "stdout",
     "output_type": "stream",
     "text": [
      "[11, 13, 15, 17, 19]\n"
     ]
    }
   ],
   "source": [
    "# qs 6\n",
    "\n",
    "l1 = [1,2,3,4,5]\n",
    "l2 = [10,11,12,13,14]\n",
    "\n",
    "def sum_of_lists(a,b): return a+b\n",
    "\n",
    "list_of_sum = list(map(sum_of_lists,l1,l2))\n",
    "\n",
    "print(list_of_sum)"
   ]
  },
  {
   "cell_type": "code",
   "execution_count": 25,
   "metadata": {},
   "outputs": [
    {
     "name": "stdout",
     "output_type": "stream",
     "text": [
      "[50.0, 53.599999999999994, 59.0, 60.8, 64.4, 68.0, 55.400000000000006]\n"
     ]
    }
   ],
   "source": [
    "# qs 7\n",
    "\n",
    "def celciusToFahrenheit(n):\n",
    "    return (n/5)*9+32\n",
    "\n",
    "c = list(map(int, input(\"please enter the temperatures in celcius with space in between: \").split()))\n",
    "\n",
    "\n",
    "list_of_temp = list(map(celciusToFahrenheit,c))\n",
    "\n",
    "print(list_of_temp)\n",
    "\n"
   ]
  },
  {
   "cell_type": "code",
   "execution_count": 28,
   "metadata": {},
   "outputs": [
    {
     "name": "stdout",
     "output_type": "stream",
     "text": [
      "[50, 53, 59, 60, 64, 68, 55]\n"
     ]
    }
   ],
   "source": [
    "# qs 8\n",
    "\n",
    "l1 = [50.0, 53.599999999999994, 59.0, 60.8, 64.4, 68.0, 55.400000000000006]\n",
    "\n",
    "def floatToInt(n):\n",
    "    return int(n)\n",
    "\n",
    "c = list(map(floatToInt,l1))\n",
    "\n",
    "print(c)"
   ]
  },
  {
   "cell_type": "code",
   "execution_count": null,
   "metadata": {},
   "outputs": [],
   "source": [
    "# topic 4 : reduce\n"
   ]
  },
  {
   "cell_type": "code",
   "execution_count": null,
   "metadata": {},
   "outputs": [],
   "source": [
    "# qs 1:\n",
    "\n",
    "from functools import reduce\n",
    "\n",
    "numbers = [1,2,3,4,5]\n",
    "\n",
    "def multiply(x,y):\n",
    "    return x*y\n",
    "\n",
    "result = reduce(multiply, numbers)\n",
    "\n",
    "print(result)\n",
    "\n",
    "# here the reduce() function applies the multiply() function to all elements of the numbers list in a cumulative way\n",
    "# that is: 1*2 then result *3 then result *4 and so on\n",
    "\n",
    "# it comes under the functools module "
   ]
  },
  {
   "cell_type": "code",
   "execution_count": 29,
   "metadata": {},
   "outputs": [
    {
     "name": "stdout",
     "output_type": "stream",
     "text": [
      "120\n"
     ]
    }
   ],
   "source": [
    "# qs 2\n",
    "\n",
    "from functools import reduce\n",
    "\n",
    "numbers = [1,2,3,4,5]\n",
    "\n",
    "def multiply(x,y):\n",
    "    return x*y\n",
    "\n",
    "result = reduce(multiply, numbers)\n",
    "\n",
    "print(result)"
   ]
  },
  {
   "cell_type": "code",
   "execution_count": 31,
   "metadata": {},
   "outputs": [
    {
     "name": "stdout",
     "output_type": "stream",
     "text": [
      "3453\n"
     ]
    }
   ],
   "source": [
    "# qs 3\n",
    "\n",
    "from functools import reduce\n",
    "\n",
    "numbers = [1,2,3453,23,23,16,5,7,152,7]\n",
    "\n",
    "def greatesNumb(a,b):\n",
    "    if a>b:\n",
    "        return a\n",
    "    elif a==b:\n",
    "        return a\n",
    "    else:\n",
    "        return b\n",
    "\n",
    "result = reduce(greatesNumb,numbers)\n",
    "\n",
    "print(result)"
   ]
  },
  {
   "cell_type": "code",
   "execution_count": 30,
   "metadata": {},
   "outputs": [
    {
     "name": "stdout",
     "output_type": "stream",
     "text": [
      "mynameiskhanandiamaterrorist\n"
     ]
    }
   ],
   "source": [
    "# qs 4\n",
    "\n",
    "from functools import reduce\n",
    "\n",
    "l1 = ['my',\"name\",\"is\",\"khan\",\"and\",\"i\",\"am\",\"a\" ,\"terrorist\"]\n",
    "\n",
    "def addStrings(a,b):\n",
    "    return a+b\n",
    "\n",
    "result = reduce(addStrings,l1)\n",
    "\n",
    "print(result)"
   ]
  },
  {
   "cell_type": "code",
   "execution_count": 32,
   "metadata": {},
   "outputs": [
    {
     "name": "stdout",
     "output_type": "stream",
     "text": [
      "24\n"
     ]
    }
   ],
   "source": [
    "# qs 5\n",
    "\n",
    "from functools import reduce\n",
    "\n",
    "n = int(input(\"enter a number: \"))\n",
    "l1 = range(1,n+1)\n",
    "\n",
    "def factorial(a,b):\n",
    "    return a*b\n",
    "\n",
    "result = reduce(factorial,l1)\n",
    "\n",
    "print(result)"
   ]
  },
  {
   "cell_type": "code",
   "execution_count": 33,
   "metadata": {},
   "outputs": [
    {
     "name": "stdout",
     "output_type": "stream",
     "text": [
      "12\n"
     ]
    }
   ],
   "source": [
    "# qs 6 \n",
    "\n",
    "from functools import reduce\n",
    "\n",
    "import math\n",
    "\n",
    "def find_gcd(x,y):\n",
    "    return math.gcd(x,y)\n",
    "\n",
    "numbers = [24,48,96,36]\n",
    "\n",
    "result = reduce(find_gcd,numbers)\n",
    "\n",
    "print(result)\n"
   ]
  },
  {
   "cell_type": "code",
   "execution_count": 37,
   "metadata": {},
   "outputs": [
    {
     "name": "stdout",
     "output_type": "stream",
     "text": [
      "6\n"
     ]
    }
   ],
   "source": [
    "# qs 7 \n",
    "\n",
    "from functools import reduce\n",
    "\n",
    "n = int(input(\"enter a number: \"))\n",
    "\n",
    "def sumOfDigits(n):\n",
    "    digits = list(map(int,str(n)))\n",
    "    return reduce(lambda x,y: x+y, digits)\n",
    "\n",
    "result = sumOfDigits(n)\n",
    "\n",
    "print(result)"
   ]
  },
  {
   "cell_type": "code",
   "execution_count": null,
   "metadata": {},
   "outputs": [],
   "source": [
    "# topic 5 : filter"
   ]
  },
  {
   "cell_type": "code",
   "execution_count": 39,
   "metadata": {},
   "outputs": [
    {
     "name": "stdout",
     "output_type": "stream",
     "text": [
      "[2, 4, 6]\n"
     ]
    }
   ],
   "source": [
    "# qs 1\n",
    "\n",
    "# the filter() function in python is used to construct an iterator from elements of an iterable for which a function returns True.\n",
    "\n",
    "numbers = [1,2,3,4,5,6]\n",
    "\n",
    "def isEven(n):\n",
    "    return n%2==0\n",
    "\n",
    "even_numbers = filter(isEven, numbers)\n",
    "\n",
    "even_numbers = list(even_numbers)\n",
    "\n",
    "print(even_numbers)"
   ]
  },
  {
   "cell_type": "code",
   "execution_count": null,
   "metadata": {},
   "outputs": [],
   "source": [
    "# qs 2\n",
    "\n",
    "numbers = [1,2,3,4,5,6]\n",
    "\n",
    "def isEven(n):\n",
    "    return n%2==0\n",
    "\n",
    "even_numbers = filter(isEven, numbers)\n",
    "\n",
    "even_numbers = list(even_numbers)\n",
    "\n",
    "print(even_numbers)"
   ]
  },
  {
   "cell_type": "code",
   "execution_count": 40,
   "metadata": {},
   "outputs": [
    {
     "name": "stdout",
     "output_type": "stream",
     "text": [
      "['sapan', 'sapna', 'simran', 'sean']\n"
     ]
    }
   ],
   "source": [
    "# qs 3\n",
    "\n",
    "names = [\"hari\",\"sapan\",\"nari\",\"sapna\",\"pari\",\"simran\",\"kareem\",\"sean\"]\n",
    "\n",
    "def startsWithS(n):\n",
    "    if n.startswith(\"s\"):\n",
    "        return n\n",
    "\n",
    "list_names = filter(startsWithS, names)\n",
    "\n",
    "list_names = list(list_names)\n",
    "\n",
    "print(list_names)"
   ]
  },
  {
   "cell_type": "code",
   "execution_count": 43,
   "metadata": {},
   "outputs": [
    {
     "name": "stdout",
     "output_type": "stream",
     "text": [
      "[2, 3, 5, 7]\n"
     ]
    }
   ],
   "source": [
    "# qs 4\n",
    "\n",
    "import sympy\n",
    "\n",
    "l1 = [1,2,3,4,5,6,7,8]\n",
    "\n",
    "def primeCheck(n):\n",
    "    if sympy.isprime(n):\n",
    "        return n\n",
    "    \n",
    "list_num = filter(primeCheck, l1)\n",
    "\n",
    "list_num = list(list_num)\n",
    "\n",
    "print(list_num)"
   ]
  },
  {
   "cell_type": "code",
   "execution_count": 44,
   "metadata": {},
   "outputs": [
    {
     "name": "stdout",
     "output_type": "stream",
     "text": [
      "[1, 2, 3]\n"
     ]
    }
   ],
   "source": [
    "# qs 5\n",
    "\n",
    "l1 = [1,None,2,None,3,None]\n",
    "\n",
    "def isNotNone(n):\n",
    "    if n is not None:\n",
    "        return n\n",
    "\n",
    "filtered_list = filter(isNotNone, l1)\n",
    "\n",
    "filtered_list = list(filtered_list)\n",
    "\n",
    "print(filtered_list)"
   ]
  },
  {
   "cell_type": "code",
   "execution_count": 46,
   "metadata": {},
   "outputs": [
    {
     "name": "stdout",
     "output_type": "stream",
     "text": [
      "['swapnil', 'malayalam', 'coimabtore', 'thiruanatapuram', 'mozambique', 'baghdad']\n"
     ]
    }
   ],
   "source": [
    "# qs 6\n",
    "\n",
    "l1 = [\"swapnil\",\"malayalam\",\"coimabtore\",\"thiruanatapuram\",\"sd\",\"mozambique\",\"baghdad\",\"puri\",\"on\"]\n",
    "\n",
    "def lengthCheck(n):\n",
    "    if len(n)>4:\n",
    "        return n\n",
    "\n",
    "filtered_list = filter(lengthCheck, l1)\n",
    "\n",
    "filtered_list = list(filtered_list)\n",
    "\n",
    "print(filtered_list)"
   ]
  },
  {
   "cell_type": "code",
   "execution_count": 47,
   "metadata": {},
   "outputs": [
    {
     "name": "stdout",
     "output_type": "stream",
     "text": [
      "[345, 35636, 2352, 756]\n"
     ]
    }
   ],
   "source": [
    "# qs 7\n",
    "\n",
    "l1 = [4,5,345,63,35636,34,7,2352,756,34,2,3,6,7]\n",
    "\n",
    "def valueCheck(n):\n",
    "    if n>100:\n",
    "        return n\n",
    "\n",
    "filtered_list = filter(valueCheck, l1)\n",
    "\n",
    "filtered_list = list(filtered_list)\n",
    "\n",
    "print(filtered_list)"
   ]
  },
  {
   "cell_type": "code",
   "execution_count": null,
   "metadata": {},
   "outputs": [],
   "source": [
    "# topic 6 : recursion"
   ]
  },
  {
   "cell_type": "code",
   "execution_count": null,
   "metadata": {},
   "outputs": [],
   "source": [
    "# qs 1\n",
    "\n",
    "# recursion means the process where the function calls itself as its subroutine.\n",
    "# the function will continue to call itself and repeat its behaviour until some condition is met to return a result\n",
    "\n",
    "# the points of differentiation are:\n",
    "# Base case: recursion requires a base case to stop but iteration typically uses a condition to stop iteration\n",
    "# memory: recursion can use more memory than iteration because it needs to remember each state of recursive call \n",
    "# speed: iteration can be faster than recursion as recursion involves more function calls"
   ]
  },
  {
   "cell_type": "code",
   "execution_count": 48,
   "metadata": {},
   "outputs": [
    {
     "data": {
      "text/plain": [
       "120"
      ]
     },
     "execution_count": 48,
     "metadata": {},
     "output_type": "execute_result"
    }
   ],
   "source": [
    "# qs 2\n",
    "\n",
    "def factorial(n):\n",
    "    if n ==1:\n",
    "        return n\n",
    "    else:\n",
    "        return n * factorial(n-1)\n",
    "    \n",
    "factorial(5)"
   ]
  },
  {
   "cell_type": "code",
   "execution_count": 51,
   "metadata": {},
   "outputs": [
    {
     "data": {
      "text/plain": [
       "5"
      ]
     },
     "execution_count": 51,
     "metadata": {},
     "output_type": "execute_result"
    }
   ],
   "source": [
    "# qs 3\n",
    "\n",
    "def fibonacci(n):\n",
    "    if n<=0:\n",
    "        return \"input should be a positive integer\"\n",
    "    elif n==1:\n",
    "        return 0\n",
    "    elif n ==2:\n",
    "        return 1\n",
    "    else:\n",
    "        return fibonacci(n-1)+fibonacci(n-2)\n",
    "\n",
    "fibonacci(6)"
   ]
  },
  {
   "cell_type": "code",
   "execution_count": 52,
   "metadata": {},
   "outputs": [
    {
     "data": {
      "text/plain": [
       "38"
      ]
     },
     "execution_count": 52,
     "metadata": {},
     "output_type": "execute_result"
    }
   ],
   "source": [
    "# qs 4\n",
    "\n",
    "\n",
    "\n",
    "def sumElements(l1):\n",
    "    if len(l1)==0:\n",
    "        return 0\n",
    "    else:\n",
    "        return l1[0]+ sumElements(l1[1:])\n",
    "    \n",
    "sumElements([1,3,4,6,7,8,9])"
   ]
  },
  {
   "cell_type": "code",
   "execution_count": null,
   "metadata": {},
   "outputs": [],
   "source": [
    "# qs 5\n",
    "\n",
    "# to prevent a stack overflow error we need a base case which the function will eventually reach without making another recursive call"
   ]
  },
  {
   "cell_type": "code",
   "execution_count": 53,
   "metadata": {},
   "outputs": [
    {
     "data": {
      "text/plain": [
       "10"
      ]
     },
     "execution_count": 53,
     "metadata": {},
     "output_type": "execute_result"
    }
   ],
   "source": [
    "# qs 6\n",
    "\n",
    "def gcd (a,b):\n",
    "    if b== 0:\n",
    "        return a\n",
    "    else:\n",
    "        return gcd(b,a%b)\n",
    "\n",
    "gcd (10,20)"
   ]
  },
  {
   "cell_type": "code",
   "execution_count": 54,
   "metadata": {},
   "outputs": [
    {
     "data": {
      "text/plain": [
       "'napas'"
      ]
     },
     "execution_count": 54,
     "metadata": {},
     "output_type": "execute_result"
    }
   ],
   "source": [
    "# qs 7\n",
    "\n",
    "def reverseString(s):\n",
    "    if len(s)==0:\n",
    "        return s\n",
    "    else:\n",
    "        return reverseString(s[1:])+s[0]\n",
    "    \n",
    "reverseString(\"sapan\")"
   ]
  },
  {
   "cell_type": "code",
   "execution_count": 55,
   "metadata": {},
   "outputs": [
    {
     "data": {
      "text/plain": [
       "25"
      ]
     },
     "execution_count": 55,
     "metadata": {},
     "output_type": "execute_result"
    }
   ],
   "source": [
    "# qs 8\n",
    "\n",
    "def power(x,n):\n",
    "    if n ==0:\n",
    "        return 1\n",
    "    else:\n",
    "        return x * power(x,n-1)\n",
    "\n",
    "power(5,2)"
   ]
  },
  {
   "cell_type": "code",
   "execution_count": 57,
   "metadata": {},
   "outputs": [
    {
     "name": "stdout",
     "output_type": "stream",
     "text": [
      "sapan sapna saapn saanp sanpa sanap spaan spana spaan spana spnaa spnaa saapn saanp sapan sapna sanap sanpa snapa snaap snpaa snpaa snaap snapa aspan aspna asapn asanp asnpa asnap apsan apsna apasn apans apnsa apnas aaspn aasnp aapsn aapns aansp aanps anspa ansap anpsa anpas anasp anaps psaan psana psaan psana psnaa psnaa pasan pasna paasn paans pansa panas pasan pasna paasn paans pansa panas pnsaa pnsaa pnasa pnaas pnasa pnaas asapn asanp aspan aspna asnap asnpa aaspn aasnp aapsn aapns aansp aanps apsan apsna apasn apans apnsa apnas ansap anspa anasp anaps anpsa anpas nsapa nsaap nspaa nspaa nsaap nsapa naspa nasap napsa napas naasp naaps npsaa npsaa npasa npaas npasa npaas nasap naspa naasp naaps napsa napas "
     ]
    }
   ],
   "source": [
    "# qs 9\n",
    "\n",
    "\n",
    "def permute(s, answer=''):\n",
    "    if len(s) == 0:\n",
    "        print(answer, end=' ')\n",
    "        return\n",
    "    for i in range(len(s)):\n",
    "        ch = s[i]\n",
    "        left_substr = s[0:i]\n",
    "        right_substr = s[i+1:]\n",
    "        rest = left_substr + right_substr\n",
    "        permute(rest, answer + ch)\n",
    "\n",
    "permute(\"sapan\")"
   ]
  },
  {
   "cell_type": "code",
   "execution_count": 56,
   "metadata": {},
   "outputs": [
    {
     "data": {
      "text/plain": [
       "True"
      ]
     },
     "execution_count": 56,
     "metadata": {},
     "output_type": "execute_result"
    }
   ],
   "source": [
    "# qs 10\n",
    "\n",
    "def is_palindrome(s):\n",
    "    if len(s) < 2:\n",
    "        return True\n",
    "    elif s[0] != s[-1]:\n",
    "        return False\n",
    "    else:\n",
    "        return is_palindrome(s[1:-1])\n",
    "    \n",
    "is_palindrome(\"MALAYALAM\")"
   ]
  },
  {
   "cell_type": "code",
   "execution_count": 58,
   "metadata": {},
   "outputs": [
    {
     "data": {
      "text/plain": [
       "[[],\n",
       " [1],\n",
       " [2],\n",
       " [1, 2],\n",
       " [3],\n",
       " [1, 3],\n",
       " [2, 3],\n",
       " [1, 2, 3],\n",
       " [4],\n",
       " [1, 4],\n",
       " [2, 4],\n",
       " [1, 2, 4],\n",
       " [3, 4],\n",
       " [1, 3, 4],\n",
       " [2, 3, 4],\n",
       " [1, 2, 3, 4],\n",
       " [5],\n",
       " [1, 5],\n",
       " [2, 5],\n",
       " [1, 2, 5],\n",
       " [3, 5],\n",
       " [1, 3, 5],\n",
       " [2, 3, 5],\n",
       " [1, 2, 3, 5],\n",
       " [4, 5],\n",
       " [1, 4, 5],\n",
       " [2, 4, 5],\n",
       " [1, 2, 4, 5],\n",
       " [3, 4, 5],\n",
       " [1, 3, 4, 5],\n",
       " [2, 3, 4, 5],\n",
       " [1, 2, 3, 4, 5],\n",
       " [6],\n",
       " [1, 6],\n",
       " [2, 6],\n",
       " [1, 2, 6],\n",
       " [3, 6],\n",
       " [1, 3, 6],\n",
       " [2, 3, 6],\n",
       " [1, 2, 3, 6],\n",
       " [4, 6],\n",
       " [1, 4, 6],\n",
       " [2, 4, 6],\n",
       " [1, 2, 4, 6],\n",
       " [3, 4, 6],\n",
       " [1, 3, 4, 6],\n",
       " [2, 3, 4, 6],\n",
       " [1, 2, 3, 4, 6],\n",
       " [5, 6],\n",
       " [1, 5, 6],\n",
       " [2, 5, 6],\n",
       " [1, 2, 5, 6],\n",
       " [3, 5, 6],\n",
       " [1, 3, 5, 6],\n",
       " [2, 3, 5, 6],\n",
       " [1, 2, 3, 5, 6],\n",
       " [4, 5, 6],\n",
       " [1, 4, 5, 6],\n",
       " [2, 4, 5, 6],\n",
       " [1, 2, 4, 5, 6],\n",
       " [3, 4, 5, 6],\n",
       " [1, 3, 4, 5, 6],\n",
       " [2, 3, 4, 5, 6],\n",
       " [1, 2, 3, 4, 5, 6],\n",
       " [7],\n",
       " [1, 7],\n",
       " [2, 7],\n",
       " [1, 2, 7],\n",
       " [3, 7],\n",
       " [1, 3, 7],\n",
       " [2, 3, 7],\n",
       " [1, 2, 3, 7],\n",
       " [4, 7],\n",
       " [1, 4, 7],\n",
       " [2, 4, 7],\n",
       " [1, 2, 4, 7],\n",
       " [3, 4, 7],\n",
       " [1, 3, 4, 7],\n",
       " [2, 3, 4, 7],\n",
       " [1, 2, 3, 4, 7],\n",
       " [5, 7],\n",
       " [1, 5, 7],\n",
       " [2, 5, 7],\n",
       " [1, 2, 5, 7],\n",
       " [3, 5, 7],\n",
       " [1, 3, 5, 7],\n",
       " [2, 3, 5, 7],\n",
       " [1, 2, 3, 5, 7],\n",
       " [4, 5, 7],\n",
       " [1, 4, 5, 7],\n",
       " [2, 4, 5, 7],\n",
       " [1, 2, 4, 5, 7],\n",
       " [3, 4, 5, 7],\n",
       " [1, 3, 4, 5, 7],\n",
       " [2, 3, 4, 5, 7],\n",
       " [1, 2, 3, 4, 5, 7],\n",
       " [6, 7],\n",
       " [1, 6, 7],\n",
       " [2, 6, 7],\n",
       " [1, 2, 6, 7],\n",
       " [3, 6, 7],\n",
       " [1, 3, 6, 7],\n",
       " [2, 3, 6, 7],\n",
       " [1, 2, 3, 6, 7],\n",
       " [4, 6, 7],\n",
       " [1, 4, 6, 7],\n",
       " [2, 4, 6, 7],\n",
       " [1, 2, 4, 6, 7],\n",
       " [3, 4, 6, 7],\n",
       " [1, 3, 4, 6, 7],\n",
       " [2, 3, 4, 6, 7],\n",
       " [1, 2, 3, 4, 6, 7],\n",
       " [5, 6, 7],\n",
       " [1, 5, 6, 7],\n",
       " [2, 5, 6, 7],\n",
       " [1, 2, 5, 6, 7],\n",
       " [3, 5, 6, 7],\n",
       " [1, 3, 5, 6, 7],\n",
       " [2, 3, 5, 6, 7],\n",
       " [1, 2, 3, 5, 6, 7],\n",
       " [4, 5, 6, 7],\n",
       " [1, 4, 5, 6, 7],\n",
       " [2, 4, 5, 6, 7],\n",
       " [1, 2, 4, 5, 6, 7],\n",
       " [3, 4, 5, 6, 7],\n",
       " [1, 3, 4, 5, 6, 7],\n",
       " [2, 3, 4, 5, 6, 7],\n",
       " [1, 2, 3, 4, 5, 6, 7],\n",
       " [8],\n",
       " [1, 8],\n",
       " [2, 8],\n",
       " [1, 2, 8],\n",
       " [3, 8],\n",
       " [1, 3, 8],\n",
       " [2, 3, 8],\n",
       " [1, 2, 3, 8],\n",
       " [4, 8],\n",
       " [1, 4, 8],\n",
       " [2, 4, 8],\n",
       " [1, 2, 4, 8],\n",
       " [3, 4, 8],\n",
       " [1, 3, 4, 8],\n",
       " [2, 3, 4, 8],\n",
       " [1, 2, 3, 4, 8],\n",
       " [5, 8],\n",
       " [1, 5, 8],\n",
       " [2, 5, 8],\n",
       " [1, 2, 5, 8],\n",
       " [3, 5, 8],\n",
       " [1, 3, 5, 8],\n",
       " [2, 3, 5, 8],\n",
       " [1, 2, 3, 5, 8],\n",
       " [4, 5, 8],\n",
       " [1, 4, 5, 8],\n",
       " [2, 4, 5, 8],\n",
       " [1, 2, 4, 5, 8],\n",
       " [3, 4, 5, 8],\n",
       " [1, 3, 4, 5, 8],\n",
       " [2, 3, 4, 5, 8],\n",
       " [1, 2, 3, 4, 5, 8],\n",
       " [6, 8],\n",
       " [1, 6, 8],\n",
       " [2, 6, 8],\n",
       " [1, 2, 6, 8],\n",
       " [3, 6, 8],\n",
       " [1, 3, 6, 8],\n",
       " [2, 3, 6, 8],\n",
       " [1, 2, 3, 6, 8],\n",
       " [4, 6, 8],\n",
       " [1, 4, 6, 8],\n",
       " [2, 4, 6, 8],\n",
       " [1, 2, 4, 6, 8],\n",
       " [3, 4, 6, 8],\n",
       " [1, 3, 4, 6, 8],\n",
       " [2, 3, 4, 6, 8],\n",
       " [1, 2, 3, 4, 6, 8],\n",
       " [5, 6, 8],\n",
       " [1, 5, 6, 8],\n",
       " [2, 5, 6, 8],\n",
       " [1, 2, 5, 6, 8],\n",
       " [3, 5, 6, 8],\n",
       " [1, 3, 5, 6, 8],\n",
       " [2, 3, 5, 6, 8],\n",
       " [1, 2, 3, 5, 6, 8],\n",
       " [4, 5, 6, 8],\n",
       " [1, 4, 5, 6, 8],\n",
       " [2, 4, 5, 6, 8],\n",
       " [1, 2, 4, 5, 6, 8],\n",
       " [3, 4, 5, 6, 8],\n",
       " [1, 3, 4, 5, 6, 8],\n",
       " [2, 3, 4, 5, 6, 8],\n",
       " [1, 2, 3, 4, 5, 6, 8],\n",
       " [7, 8],\n",
       " [1, 7, 8],\n",
       " [2, 7, 8],\n",
       " [1, 2, 7, 8],\n",
       " [3, 7, 8],\n",
       " [1, 3, 7, 8],\n",
       " [2, 3, 7, 8],\n",
       " [1, 2, 3, 7, 8],\n",
       " [4, 7, 8],\n",
       " [1, 4, 7, 8],\n",
       " [2, 4, 7, 8],\n",
       " [1, 2, 4, 7, 8],\n",
       " [3, 4, 7, 8],\n",
       " [1, 3, 4, 7, 8],\n",
       " [2, 3, 4, 7, 8],\n",
       " [1, 2, 3, 4, 7, 8],\n",
       " [5, 7, 8],\n",
       " [1, 5, 7, 8],\n",
       " [2, 5, 7, 8],\n",
       " [1, 2, 5, 7, 8],\n",
       " [3, 5, 7, 8],\n",
       " [1, 3, 5, 7, 8],\n",
       " [2, 3, 5, 7, 8],\n",
       " [1, 2, 3, 5, 7, 8],\n",
       " [4, 5, 7, 8],\n",
       " [1, 4, 5, 7, 8],\n",
       " [2, 4, 5, 7, 8],\n",
       " [1, 2, 4, 5, 7, 8],\n",
       " [3, 4, 5, 7, 8],\n",
       " [1, 3, 4, 5, 7, 8],\n",
       " [2, 3, 4, 5, 7, 8],\n",
       " [1, 2, 3, 4, 5, 7, 8],\n",
       " [6, 7, 8],\n",
       " [1, 6, 7, 8],\n",
       " [2, 6, 7, 8],\n",
       " [1, 2, 6, 7, 8],\n",
       " [3, 6, 7, 8],\n",
       " [1, 3, 6, 7, 8],\n",
       " [2, 3, 6, 7, 8],\n",
       " [1, 2, 3, 6, 7, 8],\n",
       " [4, 6, 7, 8],\n",
       " [1, 4, 6, 7, 8],\n",
       " [2, 4, 6, 7, 8],\n",
       " [1, 2, 4, 6, 7, 8],\n",
       " [3, 4, 6, 7, 8],\n",
       " [1, 3, 4, 6, 7, 8],\n",
       " [2, 3, 4, 6, 7, 8],\n",
       " [1, 2, 3, 4, 6, 7, 8],\n",
       " [5, 6, 7, 8],\n",
       " [1, 5, 6, 7, 8],\n",
       " [2, 5, 6, 7, 8],\n",
       " [1, 2, 5, 6, 7, 8],\n",
       " [3, 5, 6, 7, 8],\n",
       " [1, 3, 5, 6, 7, 8],\n",
       " [2, 3, 5, 6, 7, 8],\n",
       " [1, 2, 3, 5, 6, 7, 8],\n",
       " [4, 5, 6, 7, 8],\n",
       " [1, 4, 5, 6, 7, 8],\n",
       " [2, 4, 5, 6, 7, 8],\n",
       " [1, 2, 4, 5, 6, 7, 8],\n",
       " [3, 4, 5, 6, 7, 8],\n",
       " [1, 3, 4, 5, 6, 7, 8],\n",
       " [2, 3, 4, 5, 6, 7, 8],\n",
       " [1, 2, 3, 4, 5, 6, 7, 8],\n",
       " [9],\n",
       " [1, 9],\n",
       " [2, 9],\n",
       " [1, 2, 9],\n",
       " [3, 9],\n",
       " [1, 3, 9],\n",
       " [2, 3, 9],\n",
       " [1, 2, 3, 9],\n",
       " [4, 9],\n",
       " [1, 4, 9],\n",
       " [2, 4, 9],\n",
       " [1, 2, 4, 9],\n",
       " [3, 4, 9],\n",
       " [1, 3, 4, 9],\n",
       " [2, 3, 4, 9],\n",
       " [1, 2, 3, 4, 9],\n",
       " [5, 9],\n",
       " [1, 5, 9],\n",
       " [2, 5, 9],\n",
       " [1, 2, 5, 9],\n",
       " [3, 5, 9],\n",
       " [1, 3, 5, 9],\n",
       " [2, 3, 5, 9],\n",
       " [1, 2, 3, 5, 9],\n",
       " [4, 5, 9],\n",
       " [1, 4, 5, 9],\n",
       " [2, 4, 5, 9],\n",
       " [1, 2, 4, 5, 9],\n",
       " [3, 4, 5, 9],\n",
       " [1, 3, 4, 5, 9],\n",
       " [2, 3, 4, 5, 9],\n",
       " [1, 2, 3, 4, 5, 9],\n",
       " [6, 9],\n",
       " [1, 6, 9],\n",
       " [2, 6, 9],\n",
       " [1, 2, 6, 9],\n",
       " [3, 6, 9],\n",
       " [1, 3, 6, 9],\n",
       " [2, 3, 6, 9],\n",
       " [1, 2, 3, 6, 9],\n",
       " [4, 6, 9],\n",
       " [1, 4, 6, 9],\n",
       " [2, 4, 6, 9],\n",
       " [1, 2, 4, 6, 9],\n",
       " [3, 4, 6, 9],\n",
       " [1, 3, 4, 6, 9],\n",
       " [2, 3, 4, 6, 9],\n",
       " [1, 2, 3, 4, 6, 9],\n",
       " [5, 6, 9],\n",
       " [1, 5, 6, 9],\n",
       " [2, 5, 6, 9],\n",
       " [1, 2, 5, 6, 9],\n",
       " [3, 5, 6, 9],\n",
       " [1, 3, 5, 6, 9],\n",
       " [2, 3, 5, 6, 9],\n",
       " [1, 2, 3, 5, 6, 9],\n",
       " [4, 5, 6, 9],\n",
       " [1, 4, 5, 6, 9],\n",
       " [2, 4, 5, 6, 9],\n",
       " [1, 2, 4, 5, 6, 9],\n",
       " [3, 4, 5, 6, 9],\n",
       " [1, 3, 4, 5, 6, 9],\n",
       " [2, 3, 4, 5, 6, 9],\n",
       " [1, 2, 3, 4, 5, 6, 9],\n",
       " [7, 9],\n",
       " [1, 7, 9],\n",
       " [2, 7, 9],\n",
       " [1, 2, 7, 9],\n",
       " [3, 7, 9],\n",
       " [1, 3, 7, 9],\n",
       " [2, 3, 7, 9],\n",
       " [1, 2, 3, 7, 9],\n",
       " [4, 7, 9],\n",
       " [1, 4, 7, 9],\n",
       " [2, 4, 7, 9],\n",
       " [1, 2, 4, 7, 9],\n",
       " [3, 4, 7, 9],\n",
       " [1, 3, 4, 7, 9],\n",
       " [2, 3, 4, 7, 9],\n",
       " [1, 2, 3, 4, 7, 9],\n",
       " [5, 7, 9],\n",
       " [1, 5, 7, 9],\n",
       " [2, 5, 7, 9],\n",
       " [1, 2, 5, 7, 9],\n",
       " [3, 5, 7, 9],\n",
       " [1, 3, 5, 7, 9],\n",
       " [2, 3, 5, 7, 9],\n",
       " [1, 2, 3, 5, 7, 9],\n",
       " [4, 5, 7, 9],\n",
       " [1, 4, 5, 7, 9],\n",
       " [2, 4, 5, 7, 9],\n",
       " [1, 2, 4, 5, 7, 9],\n",
       " [3, 4, 5, 7, 9],\n",
       " [1, 3, 4, 5, 7, 9],\n",
       " [2, 3, 4, 5, 7, 9],\n",
       " [1, 2, 3, 4, 5, 7, 9],\n",
       " [6, 7, 9],\n",
       " [1, 6, 7, 9],\n",
       " [2, 6, 7, 9],\n",
       " [1, 2, 6, 7, 9],\n",
       " [3, 6, 7, 9],\n",
       " [1, 3, 6, 7, 9],\n",
       " [2, 3, 6, 7, 9],\n",
       " [1, 2, 3, 6, 7, 9],\n",
       " [4, 6, 7, 9],\n",
       " [1, 4, 6, 7, 9],\n",
       " [2, 4, 6, 7, 9],\n",
       " [1, 2, 4, 6, 7, 9],\n",
       " [3, 4, 6, 7, 9],\n",
       " [1, 3, 4, 6, 7, 9],\n",
       " [2, 3, 4, 6, 7, 9],\n",
       " [1, 2, 3, 4, 6, 7, 9],\n",
       " [5, 6, 7, 9],\n",
       " [1, 5, 6, 7, 9],\n",
       " [2, 5, 6, 7, 9],\n",
       " [1, 2, 5, 6, 7, 9],\n",
       " [3, 5, 6, 7, 9],\n",
       " [1, 3, 5, 6, 7, 9],\n",
       " [2, 3, 5, 6, 7, 9],\n",
       " [1, 2, 3, 5, 6, 7, 9],\n",
       " [4, 5, 6, 7, 9],\n",
       " [1, 4, 5, 6, 7, 9],\n",
       " [2, 4, 5, 6, 7, 9],\n",
       " [1, 2, 4, 5, 6, 7, 9],\n",
       " [3, 4, 5, 6, 7, 9],\n",
       " [1, 3, 4, 5, 6, 7, 9],\n",
       " [2, 3, 4, 5, 6, 7, 9],\n",
       " [1, 2, 3, 4, 5, 6, 7, 9],\n",
       " [8, 9],\n",
       " [1, 8, 9],\n",
       " [2, 8, 9],\n",
       " [1, 2, 8, 9],\n",
       " [3, 8, 9],\n",
       " [1, 3, 8, 9],\n",
       " [2, 3, 8, 9],\n",
       " [1, 2, 3, 8, 9],\n",
       " [4, 8, 9],\n",
       " [1, 4, 8, 9],\n",
       " [2, 4, 8, 9],\n",
       " [1, 2, 4, 8, 9],\n",
       " [3, 4, 8, 9],\n",
       " [1, 3, 4, 8, 9],\n",
       " [2, 3, 4, 8, 9],\n",
       " [1, 2, 3, 4, 8, 9],\n",
       " [5, 8, 9],\n",
       " [1, 5, 8, 9],\n",
       " [2, 5, 8, 9],\n",
       " [1, 2, 5, 8, 9],\n",
       " [3, 5, 8, 9],\n",
       " [1, 3, 5, 8, 9],\n",
       " [2, 3, 5, 8, 9],\n",
       " [1, 2, 3, 5, 8, 9],\n",
       " [4, 5, 8, 9],\n",
       " [1, 4, 5, 8, 9],\n",
       " [2, 4, 5, 8, 9],\n",
       " [1, 2, 4, 5, 8, 9],\n",
       " [3, 4, 5, 8, 9],\n",
       " [1, 3, 4, 5, 8, 9],\n",
       " [2, 3, 4, 5, 8, 9],\n",
       " [1, 2, 3, 4, 5, 8, 9],\n",
       " [6, 8, 9],\n",
       " [1, 6, 8, 9],\n",
       " [2, 6, 8, 9],\n",
       " [1, 2, 6, 8, 9],\n",
       " [3, 6, 8, 9],\n",
       " [1, 3, 6, 8, 9],\n",
       " [2, 3, 6, 8, 9],\n",
       " [1, 2, 3, 6, 8, 9],\n",
       " [4, 6, 8, 9],\n",
       " [1, 4, 6, 8, 9],\n",
       " [2, 4, 6, 8, 9],\n",
       " [1, 2, 4, 6, 8, 9],\n",
       " [3, 4, 6, 8, 9],\n",
       " [1, 3, 4, 6, 8, 9],\n",
       " [2, 3, 4, 6, 8, 9],\n",
       " [1, 2, 3, 4, 6, 8, 9],\n",
       " [5, 6, 8, 9],\n",
       " [1, 5, 6, 8, 9],\n",
       " [2, 5, 6, 8, 9],\n",
       " [1, 2, 5, 6, 8, 9],\n",
       " [3, 5, 6, 8, 9],\n",
       " [1, 3, 5, 6, 8, 9],\n",
       " [2, 3, 5, 6, 8, 9],\n",
       " [1, 2, 3, 5, 6, 8, 9],\n",
       " [4, 5, 6, 8, 9],\n",
       " [1, 4, 5, 6, 8, 9],\n",
       " [2, 4, 5, 6, 8, 9],\n",
       " [1, 2, 4, 5, 6, 8, 9],\n",
       " [3, 4, 5, 6, 8, 9],\n",
       " [1, 3, 4, 5, 6, 8, 9],\n",
       " [2, 3, 4, 5, 6, 8, 9],\n",
       " [1, 2, 3, 4, 5, 6, 8, 9],\n",
       " [7, 8, 9],\n",
       " [1, 7, 8, 9],\n",
       " [2, 7, 8, 9],\n",
       " [1, 2, 7, 8, 9],\n",
       " [3, 7, 8, 9],\n",
       " [1, 3, 7, 8, 9],\n",
       " [2, 3, 7, 8, 9],\n",
       " [1, 2, 3, 7, 8, 9],\n",
       " [4, 7, 8, 9],\n",
       " [1, 4, 7, 8, 9],\n",
       " [2, 4, 7, 8, 9],\n",
       " [1, 2, 4, 7, 8, 9],\n",
       " [3, 4, 7, 8, 9],\n",
       " [1, 3, 4, 7, 8, 9],\n",
       " [2, 3, 4, 7, 8, 9],\n",
       " [1, 2, 3, 4, 7, 8, 9],\n",
       " [5, 7, 8, 9],\n",
       " [1, 5, 7, 8, 9],\n",
       " [2, 5, 7, 8, 9],\n",
       " [1, 2, 5, 7, 8, 9],\n",
       " [3, 5, 7, 8, 9],\n",
       " [1, 3, 5, 7, 8, 9],\n",
       " [2, 3, 5, 7, 8, 9],\n",
       " [1, 2, 3, 5, 7, 8, 9],\n",
       " [4, 5, 7, 8, 9],\n",
       " [1, 4, 5, 7, 8, 9],\n",
       " [2, 4, 5, 7, 8, 9],\n",
       " [1, 2, 4, 5, 7, 8, 9],\n",
       " [3, 4, 5, 7, 8, 9],\n",
       " [1, 3, 4, 5, 7, 8, 9],\n",
       " [2, 3, 4, 5, 7, 8, 9],\n",
       " [1, 2, 3, 4, 5, 7, 8, 9],\n",
       " [6, 7, 8, 9],\n",
       " [1, 6, 7, 8, 9],\n",
       " [2, 6, 7, 8, 9],\n",
       " [1, 2, 6, 7, 8, 9],\n",
       " [3, 6, 7, 8, 9],\n",
       " [1, 3, 6, 7, 8, 9],\n",
       " [2, 3, 6, 7, 8, 9],\n",
       " [1, 2, 3, 6, 7, 8, 9],\n",
       " [4, 6, 7, 8, 9],\n",
       " [1, 4, 6, 7, 8, 9],\n",
       " [2, 4, 6, 7, 8, 9],\n",
       " [1, 2, 4, 6, 7, 8, 9],\n",
       " [3, 4, 6, 7, 8, 9],\n",
       " [1, 3, 4, 6, 7, 8, 9],\n",
       " [2, 3, 4, 6, 7, 8, 9],\n",
       " [1, 2, 3, 4, 6, 7, 8, 9],\n",
       " [5, 6, 7, 8, 9],\n",
       " [1, 5, 6, 7, 8, 9],\n",
       " [2, 5, 6, 7, 8, 9],\n",
       " [1, 2, 5, 6, 7, 8, 9],\n",
       " [3, 5, 6, 7, 8, 9],\n",
       " [1, 3, 5, 6, 7, 8, 9],\n",
       " [2, 3, 5, 6, 7, 8, 9],\n",
       " [1, 2, 3, 5, 6, 7, 8, 9],\n",
       " [4, 5, 6, 7, 8, 9],\n",
       " [1, 4, 5, 6, 7, 8, 9],\n",
       " [2, 4, 5, 6, 7, 8, 9],\n",
       " [1, 2, 4, 5, 6, 7, 8, 9],\n",
       " [3, 4, 5, 6, 7, 8, 9],\n",
       " [1, 3, 4, 5, 6, 7, 8, 9],\n",
       " [2, 3, 4, 5, 6, 7, 8, 9],\n",
       " [1, 2, 3, 4, 5, 6, 7, 8, 9]]"
      ]
     },
     "execution_count": 58,
     "metadata": {},
     "output_type": "execute_result"
    }
   ],
   "source": [
    "# qs 11\n",
    "\n",
    "def combinations(lst):\n",
    "    if lst == []:\n",
    "        return [[]]\n",
    "    else:\n",
    "        smaller = combinations(lst[:-1])\n",
    "        extra = lst[-1:]\n",
    "        new_combinations = []\n",
    "        for small in smaller:\n",
    "            new_combinations.append(small+extra)\n",
    "        \n",
    "        return smaller+new_combinations\n",
    "    \n",
    "\n",
    "combinations([1,2,3,4,5,6,7,8,9])"
   ]
  },
  {
   "cell_type": "markdown",
   "metadata": {},
   "source": [
    "# Topic 7 : Basics of functions"
   ]
  },
  {
   "cell_type": "markdown",
   "metadata": {},
   "source": [
    "\n",
    "\n",
    "## 1. What is function in python and why is it used?\n",
    "    * A function is a group of instructions placed under a name so that it is reusable in different sections of a program. \n",
    "    * It saves time as we do not have to write the same set of instructions again and again, we can instead just call for it with different inputs as required.\n",
    "\n"
   ]
  },
  {
   "cell_type": "markdown",
   "metadata": {},
   "source": [
    "## 2. How do you define a function in python? Example:"
   ]
  },
  {
   "cell_type": "code",
   "execution_count": null,
   "metadata": {},
   "outputs": [],
   "source": [
    "\n",
    "\n",
    "    # The general syntax of defining a function is:\n",
    "\n",
    "    def functionName (input_argument1,input_argument2,..):\n",
    "        # body of instructions\n",
    "\n",
    "    \n",
    "    # Example:\n",
    "    \n",
    "    def sum(a,b):\n",
    "        return a + b\n",
    "\n"
   ]
  },
  {
   "cell_type": "markdown",
   "metadata": {},
   "source": [
    "## 3. Explain the difference b/w function definition and a function call."
   ]
  },
  {
   "cell_type": "code",
   "execution_count": null,
   "metadata": {},
   "outputs": [],
   "source": [
    "\n",
    "\n",
    "    #The function definition is used to define a set of instruction under a name for the first time. E.g.\n",
    "    \n",
    "    def sum(a,b):\n",
    "        return a + b\n",
    "    \n",
    "    \n",
    "    # The function call is used to run those set of instructions at different places of the program as many times as necessary. E.g.\n",
    "    \n",
    "    sum(4,5)\n",
    "    "
   ]
  },
  {
   "cell_type": "markdown",
   "metadata": {},
   "source": [
    "## 4. Write a Python program that defines a function to calculate the sum of two numbers and then calls the function."
   ]
  },
  {
   "cell_type": "code",
   "execution_count": null,
   "metadata": {},
   "outputs": [],
   "source": [
    "\n",
    "    \n",
    "    \n",
    "    def sum(a,b):\n",
    "        return a + b\n",
    "    \n",
    "    sum(4,5)"
   ]
  },
  {
   "cell_type": "markdown",
   "metadata": {},
   "source": [
    "## 5. What is a function signature, and what information does it typically include?\n",
    "    * A function signature is used to illustrate a function's skeleton thorugh which a function can be invoked or called.\n",
    "    * It generally includes the function name, its arguments."
   ]
  },
  {
   "cell_type": "markdown",
   "metadata": {},
   "source": [
    "## 6. Create a python function that takes two arguments and returns their product."
   ]
  },
  {
   "cell_type": "code",
   "execution_count": null,
   "metadata": {},
   "outputs": [],
   "source": [
    "\n",
    "   \n",
    "def multip(a,b):\n",
    "    return a*b\n",
    "\n",
    "multip(4,6)\n",
    " "
   ]
  },
  {
   "cell_type": "markdown",
   "metadata": {},
   "source": [
    "# Topic 8 : function parameters and arguments"
   ]
  },
  {
   "cell_type": "markdown",
   "metadata": {},
   "source": [
    "## 1. Explain the concept of formal parameters and actual arguments in python function.\n",
    "    * Formal parameter is what you define your function with to take as inputs when the function is called. \n",
    "    e.g. `def function1(formal_parameter1,formal_parameter2):`\n",
    "    * Actual arguments are the realtime inputs that are passed into the function for the set of instructions to operate on and give an output of, at the time of invoking the function.\n",
    "    e.g. ` function1(4,6)`"
   ]
  },
  {
   "cell_type": "markdown",
   "metadata": {},
   "source": [
    "\n",
    "## 2. Write a python program that defines a function with default argument values."
   ]
  },
  {
   "cell_type": "code",
   "execution_count": null,
   "metadata": {},
   "outputs": [],
   "source": [
    "\n",
    "\n",
    "    def power (num,exp=2):\n",
    "        return num**exp\n",
    "\n",
    "    print(power(5))\n",
    "    print(power(5,3))\n",
    "\n",
    "    \n",
    "   # Here the `exp` has a default argument value of 2. As in the first case without a default argument value the function used the default argument value. But as seen in the 2nd case if we actually use an argument it uses the given to compute the output."
   ]
  },
  {
   "cell_type": "markdown",
   "metadata": {},
   "source": [
    "## 3. How do you use keyword arguments in python function calls? provide an example."
   ]
  },
  {
   "cell_type": "code",
   "execution_count": 59,
   "metadata": {},
   "outputs": [
    {
     "name": "stdout",
     "output_type": "stream",
     "text": [
      "Good morning, Alice!\n",
      "Good evening, Bob!\n",
      "Hello, Charlie!\n"
     ]
    }
   ],
   "source": [
    "\n",
    "\n",
    "def greet(name, greeting=\"Hello\"):\n",
    "    print(f\"{greeting}, {name}!\")\n",
    "\n",
    "# Call the function using keyword arguments\n",
    "greet(name=\"Alice\", greeting=\"Good morning\")\n",
    "greet(greeting=\"Good evening\", name=\"Bob\")\n",
    "greet(name=\"Charlie\")\n",
    "\n"
   ]
  },
  {
   "cell_type": "markdown",
   "metadata": {},
   "source": [
    "## 4. function that accepts a variable number of arguments and calculates their sum"
   ]
  },
  {
   "cell_type": "code",
   "execution_count": 60,
   "metadata": {},
   "outputs": [
    {
     "data": {
      "text/plain": [
       "655"
      ]
     },
     "execution_count": 60,
     "metadata": {},
     "output_type": "execute_result"
    }
   ],
   "source": [
    "\n",
    "\n",
    "def sumOfElements(*args):\n",
    "    return sum(args)\n",
    "\n",
    "sumOfElements(2,5,645,3)"
   ]
  },
  {
   "cell_type": "markdown",
   "metadata": {},
   "source": [
    "## 5. What is the purpose of the `*args` and `**kwargs` syntax in function parameter lists?\n",
    "\n",
    "- `*args` and `**kwargs `are special syntaxes in function definitions that allow the function to accept a variable number of arguments.\n",
    "\n",
    "- `*args` is used to pass a variable number of non-keyworded arguments to a function.\n",
    "\n",
    "- ` *args` is used to pass a variable number of non-keyworded arguments to a function."
   ]
  },
  {
   "cell_type": "markdown",
   "metadata": {},
   "source": [
    "# topic 9 : return values and scoping"
   ]
  },
  {
   "cell_type": "markdown",
   "metadata": {},
   "source": [
    "## 9.1 : describe the role of the `return` statement in python functions and provide examples\n",
    "\n",
    "- the return statement ends the execution of the function and specifies what value the function should return"
   ]
  },
  {
   "cell_type": "code",
   "execution_count": null,
   "metadata": {},
   "outputs": [],
   "source": [
    "#\n",
    "def greet(name):\n",
    "    print(f\"hello, {name}!\")\n",
    "\n",
    "greet(\"Alice\")"
   ]
  },
  {
   "cell_type": "markdown",
   "metadata": {},
   "source": [
    "## 9.2. Concept of scope of variable\n",
    "\n",
    "- it refers to the part of code where a variable can be accessed or is visible\n",
    "- local variables: a variable declared inside a function, can only be accessed inside the function\n",
    "- global variables: a variable declared outside of all functions, can be accessed anywhere"
   ]
  },
  {
   "cell_type": "markdown",
   "metadata": {},
   "source": [
    "## 9.3 : Write a Python program that demonstrates the use of global variables within functions."
   ]
  },
  {
   "cell_type": "code",
   "execution_count": 5,
   "metadata": {},
   "outputs": [
    {
     "name": "stdout",
     "output_type": "stream",
     "text": [
      "I'm global\n"
     ]
    }
   ],
   "source": [
    "\n",
    "\n",
    "global_var = \"I'm global\"\n",
    "\n",
    "def my_function():\n",
    "    print(global_var)\n",
    "\n",
    "my_function()  "
   ]
  },
  {
   "cell_type": "markdown",
   "metadata": {},
   "source": [
    "## 9.4: Factorial of a number"
   ]
  },
  {
   "cell_type": "code",
   "execution_count": 6,
   "metadata": {},
   "outputs": [
    {
     "name": "stdout",
     "output_type": "stream",
     "text": [
      "120\n"
     ]
    }
   ],
   "source": [
    "def factorial(n):\n",
    "    if n == 0:\n",
    "        return 1\n",
    "    else:\n",
    "        return n * factorial(n-1)\n",
    "\n",
    "\n",
    "print(factorial(5))"
   ]
  },
  {
   "cell_type": "markdown",
   "metadata": {},
   "source": [
    "## 9.5: How can you access variables defined outside a function from within the function?\n",
    "- by calling for global variables like below"
   ]
  },
  {
   "cell_type": "code",
   "execution_count": null,
   "metadata": {},
   "outputs": [],
   "source": [
    "\n",
    "global_var = \"I'm global\"\n",
    "\n",
    "def my_function():\n",
    "    print(global_var)\n",
    "\n",
    "my_function()  "
   ]
  },
  {
   "cell_type": "markdown",
   "metadata": {},
   "source": [
    "# topic 10 : lambda functions and higher order functions"
   ]
  },
  {
   "cell_type": "markdown",
   "metadata": {},
   "source": [
    "## 10.1 : What are lambda functions in Python, and when are they typically used?\n",
    "\n",
    "- small anonymous functions defined using `lambda` keyword\n",
    "- can be defined in a single line of code\n",
    "- they can take any number of arguments but can have only one expression\n",
    "- typically used with `map()`, `filter()`, `reduce()` when we do not want to define a full name function\n"
   ]
  },
  {
   "cell_type": "markdown",
   "metadata": {},
   "source": [
    "## 10.2 : Write a Python program that uses lambda functions to sort a list of tuples based on the second element.\n"
   ]
  },
  {
   "cell_type": "code",
   "execution_count": 2,
   "metadata": {},
   "outputs": [
    {
     "name": "stdout",
     "output_type": "stream",
     "text": [
      "[(5, 'v'), (4, 'w'), (3, 'x'), (2, 'y'), (1, 'z')]\n"
     ]
    }
   ],
   "source": [
    "\n",
    "tuples = [(1, 'z'), (2, 'y'), (3, 'x'), (4, 'w'), (5, 'v')]\n",
    "\n",
    "sorted_tuples = sorted(tuples, key = lambda x: x[1])\n",
    "\n",
    "print(sorted_tuples)"
   ]
  },
  {
   "cell_type": "markdown",
   "metadata": {},
   "source": [
    "## 10.3 : Explain the concept of higher-order functions in Python, and provide an example\n",
    "\n",
    "- Higher order functions are those that can accept other functions as arguments and/or return functions as results"
   ]
  },
  {
   "cell_type": "code",
   "execution_count": 3,
   "metadata": {},
   "outputs": [
    {
     "name": "stdout",
     "output_type": "stream",
     "text": [
      "HELLO WORLD!\n"
     ]
    }
   ],
   "source": [
    "def greet(func):\n",
    "    return func(\"hello world!\")\n",
    "\n",
    "def shout(text):\n",
    "    return text.upper()\n",
    "\n",
    "print(greet(shout))"
   ]
  },
  {
   "cell_type": "markdown",
   "metadata": {},
   "source": [
    "## 10.4 : Create a Python function that takes a list of numbers and a function as arguments, applying the function to each element in the list.\n",
    "\n"
   ]
  },
  {
   "cell_type": "code",
   "execution_count": 4,
   "metadata": {},
   "outputs": [
    {
     "name": "stdout",
     "output_type": "stream",
     "text": [
      "[1, 4, 9, 16, 25]\n"
     ]
    }
   ],
   "source": [
    "\n",
    "def apply_to_list(function, my_list):\n",
    "    return [function(x) for x in my_list]\n",
    "\n",
    "numbers = [1,2,3,4,5]\n",
    "\n",
    "print(apply_to_list(lambda x: x**2, numbers))\n"
   ]
  },
  {
   "cell_type": "markdown",
   "metadata": {},
   "source": [
    "# topic 11: built in functions"
   ]
  },
  {
   "cell_type": "markdown",
   "metadata": {},
   "source": [
    "## 11.1 : Role of in-built functions like `len()`, `max()` and `min()`\n",
    "\n",
    "- `len()` returns the number of items in an object or the number of characters in a string\n",
    "- `max()` returns the largest item in an iterable or the smallest of two or more arguments\n",
    "- `min()` returns the smallest item in an iterable or the smallest of two or more arguments\n"
   ]
  },
  {
   "cell_type": "markdown",
   "metadata": {},
   "source": [
    "## 11.2. : `map()` function"
   ]
  },
  {
   "cell_type": "code",
   "execution_count": null,
   "metadata": {},
   "outputs": [],
   "source": [
    "l1 = [1,2,3,4,5]\n",
    "l2 = [10,11,12,13,14]\n",
    "\n",
    "def sum_of_lists(a,b): return a+b\n",
    "\n",
    "list_of_sum = list(map(sum_of_lists,l1,l2))\n",
    "\n",
    "print(list_of_sum)"
   ]
  },
  {
   "cell_type": "markdown",
   "metadata": {},
   "source": [
    "## 11.3 : How does the `filter()` function work in Python, and when would you use it?\n",
    "\n",
    "- it takes two arguments, a function and an iterable\n",
    "- it filters the iterable based on the function\n",
    "- it is a convinient way of doing the operation without writing a for loop"
   ]
  },
  {
   "cell_type": "markdown",
   "metadata": {},
   "source": [
    "## 11.4 : Create a Python program that uses the `reduce()` function to find the product of all elements in a list."
   ]
  },
  {
   "cell_type": "code",
   "execution_count": 1,
   "metadata": {},
   "outputs": [
    {
     "name": "stdout",
     "output_type": "stream",
     "text": [
      "720\n"
     ]
    }
   ],
   "source": [
    "# \n",
    "from functools import reduce\n",
    "\n",
    "numbers = [1,2,3,4,5,6]\n",
    "\n",
    "product = reduce(lambda x,y: x*y, numbers)\n",
    "\n",
    "print(product)\n"
   ]
  },
  {
   "cell_type": "markdown",
   "metadata": {},
   "source": [
    "# topic 12 : function documentation and best practices"
   ]
  },
  {
   "cell_type": "markdown",
   "metadata": {},
   "source": [
    "## 12. 1. Explain the purpose of docstrings and how to write them\n",
    "\n",
    "- Docstrings are shorthand notations for documentation strings.\n",
    "- They are used to document python modules, functions or methods along with classes as well.\n",
    "- This provides a convinient way for programmers to describe what a piece of code does within the environment."
   ]
  },
  {
   "cell_type": "code",
   "execution_count": null,
   "metadata": {},
   "outputs": [],
   "source": [
    "# Module Level Docstring:\n",
    "\"\"\"\n",
    "This is a module level docstring\n",
    "\"\"\"\n",
    "\n",
    "# Class Level Docstring:\n",
    "class MyClass:\n",
    "    \"\"\"This is a class level docstring\n",
    "    \"\"\"\n",
    "\n",
    "# Function or method level docstring:\n",
    "def my_function():\n",
    "    \"\"\"This is a function level docstring\n",
    "    \"\"\""
   ]
  },
  {
   "cell_type": "markdown",
   "metadata": {},
   "source": [
    "## 12. 2. Best practices for naming functions and variables in python, including naming conventions and guidelines\n",
    "\n",
    "- the goal is readability and maintenance\n",
    "- descriptive names: `calculate_average()` is better than `calc_avg()`\n",
    "- avoiding python keywords and using lowercase with underscore instead of space\n",
    "- starting function names with verbs `get_name()` or `calculate_sum()`\n",
    "- name based on values e.g. `name` for a single value but `names` for a list of values\n",
    "- constants should be uppercase `MAX_SIZE`\n",
    "- camelcase for class names: `MyClass`\n",
    "- avoid single character names like `i` and `x`, instead `user` and `digit`\n",
    "- using self-explanatory boolean names: `is_visible`, `has_key`, `can_run`"
   ]
  }
 ],
 "metadata": {
  "kernelspec": {
   "display_name": "Python 3",
   "language": "python",
   "name": "python3"
  },
  "language_info": {
   "codemirror_mode": {
    "name": "ipython",
    "version": 3
   },
   "file_extension": ".py",
   "mimetype": "text/x-python",
   "name": "python",
   "nbconvert_exporter": "python",
   "pygments_lexer": "ipython3",
   "version": "3.11.4"
  },
  "orig_nbformat": 4
 },
 "nbformat": 4,
 "nbformat_minor": 2
}
