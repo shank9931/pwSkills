{
 "cells": [
  {
   "cell_type": "code",
   "execution_count": null,
   "metadata": {},
   "outputs": [],
   "source": [
    "# qs 1"
   ]
  },
  {
   "cell_type": "markdown",
   "metadata": {},
   "source": [
    "- The puzzle starts with the disks stacked on one rod in order of decreasing size.\n",
    "- The objective of the puzzle is to move the entire stack to another rod, obeying the following rules:\n",
    "\n",
    "1. Only one disk can be moved at a time.\n",
    "2. Each move consists of taking the upper disk from one of the stacks and placing it on top of another stack or on an empty rod.\n",
    "3. No disk may be placed on top of a smaller disk.\n",
    "\n",
    "The recursive algorithm for solving the Tower of Hanoi puzzle is as follows:\n",
    "\n",
    "1. Move the top n-1 disks from the source rod to an auxiliary rod.\n",
    "2. Move the nth disk from the source rod to the target rod.\n",
    "3. Move the n-1 disks from the auxiliary rod to the target rod."
   ]
  },
  {
   "cell_type": "code",
   "execution_count": 1,
   "metadata": {},
   "outputs": [
    {
     "name": "stdout",
     "output_type": "stream",
     "text": [
      "Move disk 1 from rod 1 to rod 3\n",
      "Move disk 2 from rod 1 to rod 2\n",
      "Move disk 1 from rod 3 to rod 2\n",
      "Move disk 3 from rod 1 to rod 3\n",
      "Move disk 1 from rod 2 to rod 1\n",
      "Move disk 2 from rod 2 to rod 3\n",
      "Move disk 1 from rod 1 to rod 3\n"
     ]
    }
   ],
   "source": [
    "def TowerOfHanoi(n , source, target, auxiliary):\n",
    "    if n==1:\n",
    "        print(\"Move disk 1 from rod\",source,\"to rod\",target)\n",
    "        return\n",
    "    TowerOfHanoi(n-1, source, auxiliary, target)\n",
    "    print(\"Move disk\",n,\"from rod\",source,\"to rod\",target)\n",
    "    TowerOfHanoi(n-1, auxiliary, target, source)\n",
    "\n",
    "TowerOfHanoi(3,1,3,2)"
   ]
  },
  {
   "cell_type": "code",
   "execution_count": null,
   "metadata": {},
   "outputs": [],
   "source": [
    "# qs 2"
   ]
  },
  {
   "cell_type": "markdown",
   "metadata": {},
   "source": [
    "1. If the first string is empty, the only option is to insert all characters of the second string into the first. So return n.\n",
    "\n",
    "2. If the second string is empty, the only option is to remove all characters of the first string. So return m.\n",
    "\n",
    "3. If the last characters of the two strings are the same, ignore the last characters and get the count for the remaining strings. So we recur for lengths m-1 and n-1.\n",
    "\n",
    "4. If the last characters are not the same, consider all three operations (replace, remove, insert) on the last character of the first string and recur for the remaining string. Take the minimum count of these three operations."
   ]
  },
  {
   "cell_type": "code",
   "execution_count": 2,
   "metadata": {},
   "outputs": [
    {
     "data": {
      "text/plain": [
       "3"
      ]
     },
     "execution_count": 2,
     "metadata": {},
     "output_type": "execute_result"
    }
   ],
   "source": [
    "def edit_distance(str1, str2, m , n):\n",
    "    # If first string is empty, the only option is to\n",
    "    # insert all characters of second string into first\n",
    "    if m==0:\n",
    "         return n\n",
    " \n",
    "    # If second string is empty, the only option is to\n",
    "    # remove all characters of first string\n",
    "    if n==0:\n",
    "        return m\n",
    " \n",
    "    # If last characters of two strings are same, ignore\n",
    "    # last characters and get count for remaining strings.\n",
    "    if str1[m-1]==str2[n-1]:\n",
    "        return edit_distance(str1,str2,m-1,n-1)\n",
    " \n",
    "    # If last characters are not same, consider all three\n",
    "    # operations on last character of first string, recursively\n",
    "    # compute minimum cost for all three operations and take\n",
    "    # minimum of three values.\n",
    "    return 1 + min(edit_distance(str1, str2, m, n-1),    # Insert\n",
    "                   edit_distance(str1, str2, m-1, n),    # Remove\n",
    "                   edit_distance(str1, str2, m-1, n-1)   # Replace\n",
    "                   )\n",
    "\n",
    "edit_distance(\"horse\",\"ros\",5,3)"
   ]
  },
  {
   "cell_type": "code",
   "execution_count": null,
   "metadata": {},
   "outputs": [],
   "source": [
    "# qs 3"
   ]
  },
  {
   "cell_type": "code",
   "execution_count": 3,
   "metadata": {},
   "outputs": [
    {
     "name": "stdout",
     "output_type": "stream",
     "text": [
      "22\n"
     ]
    }
   ],
   "source": [
    "def find_max(arr, n):\n",
    "    # If the array has only one element, return it\n",
    "    if n == 1:\n",
    "        return arr[0]\n",
    "    else:\n",
    "        # Recursively find the maximum of the rest of the array\n",
    "        max_val = find_max(arr[1:], n - 1)\n",
    "        # Compare the maximum of the rest of the array with the first element\n",
    "        if arr[0] > max_val:\n",
    "            return arr[0]\n",
    "        else:\n",
    "            return max_val\n",
    "\n",
    "# Test the function\n",
    "arr = [13, 1, -3, 22, 5]\n",
    "print(find_max(arr, len(arr)))"
   ]
  },
  {
   "cell_type": "code",
   "execution_count": null,
   "metadata": {},
   "outputs": [],
   "source": [
    "# qs 4"
   ]
  },
  {
   "cell_type": "code",
   "execution_count": 4,
   "metadata": {},
   "outputs": [
    {
     "name": "stdout",
     "output_type": "stream",
     "text": [
      "120\n"
     ]
    }
   ],
   "source": [
    "def find_sum(arr, n):\n",
    "    # If the array has only one element, return it\n",
    "    if n == 1:\n",
    "        return arr[0]\n",
    "    else:\n",
    "        # Recursively find the sum of the rest of the array and add the first element\n",
    "        return arr[0] + find_sum(arr[1:], n - 1)\n",
    "\n",
    "# Test the function\n",
    "arr = [92, 23, 15, -20, 10]\n",
    "print(find_sum(arr, len(arr)))\n"
   ]
  },
  {
   "cell_type": "code",
   "execution_count": null,
   "metadata": {},
   "outputs": [],
   "source": [
    "# qs 5"
   ]
  },
  {
   "cell_type": "code",
   "execution_count": 5,
   "metadata": {},
   "outputs": [
    {
     "data": {
      "text/plain": [
       "True"
      ]
     },
     "execution_count": 5,
     "metadata": {},
     "output_type": "execute_result"
    }
   ],
   "source": [
    "def power(x, n):\n",
    "    if n == 0:\n",
    "        return 1\n",
    "    else:\n",
    "        return x * power(x, n - 1)\n",
    "\n",
    "def order(x):\n",
    "    if x == 0:\n",
    "        return 0\n",
    "    else:\n",
    "        return 1 + order(x // 10)\n",
    "\n",
    "def is_armstrong(n, x, num):\n",
    "    if n == 0:\n",
    "        return num == x\n",
    "    else:\n",
    "        digit = n % 10\n",
    "        return is_armstrong(n // 10, x, num + power(digit, order(x)))\n",
    "\n",
    "def check_armstrong(x):\n",
    "    return is_armstrong(x, x, 0)\n",
    "\n",
    "\n",
    "check_armstrong(153)"
   ]
  }
 ],
 "metadata": {
  "kernelspec": {
   "display_name": "Python 3",
   "language": "python",
   "name": "python3"
  },
  "language_info": {
   "codemirror_mode": {
    "name": "ipython",
    "version": 3
   },
   "file_extension": ".py",
   "mimetype": "text/x-python",
   "name": "python",
   "nbconvert_exporter": "python",
   "pygments_lexer": "ipython3",
   "version": "3.11.4"
  }
 },
 "nbformat": 4,
 "nbformat_minor": 2
}
